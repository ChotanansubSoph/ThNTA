{
  "cells": [
    {
      "cell_type": "markdown",
      "metadata": {
        "id": "7hyP0ENtMBXe"
      },
      "source": [
        "# 🌐 ThaiCoNet : Thai Co-occurrence Network Analysis (Pipeline)"
      ]
    },
    {
      "cell_type": "markdown",
      "metadata": {
        "id": "YoM1WUocVTq4"
      },
      "source": [
        "### 💡 About this notebook"
      ]
    },
    {
      "cell_type": "markdown",
      "metadata": {
        "id": "fIQxNntvCfz0"
      },
      "source": [
        "**[Access Project Repository (Github)](https://github.com/ChotanansubSoph/ThNTA)**\n",
        "\n"
      ]
    },
    {
      "cell_type": "markdown",
      "metadata": {
        "id": "LHlGa5IW7XoQ"
      },
      "source": [
        "🧑🏻‍💻 **Notebook Contributor**\n",
        "\n",
        "\n",
        "*   Chotanansub Sophaken\n",
        "*   Kantapong Vongpanich\n",
        "\n",
        "**Department of Computer Eningeering, Engineering Faculty**\n",
        "\n",
        "*King Mongkut’s University of Technology Thonburi (KMUTT)*\n",
        "\n",
        "*Junior Science Talent Project and Siam Commercial Bank Scholarship (JSTP-SCB Scholarship)*\n",
        "\n",
        "---\n",
        "\n"
      ]
    },
    {
      "cell_type": "markdown",
      "metadata": {
        "id": "svSvi0jVCS4V"
      },
      "source": [
        "Approach reference:\n",
        "\n",
        "* *A. Takhom, D. Leenoi, C. Sophaken, P. Boonkwan, and T. Supnithi, “An Approach of Network Analysis Enhancing Knowledge Extraction in Thai Newspapers Contexts,” J. Intell. Informatics Smart Technol., vol. 6, no. October 2021, pp. 19–24, 2021 [Acess](https://jiist.aiat.or.th/assets/uploads/1635853027829tBupD1635602106085fdegH39.pdf)*\n",
        "\n",
        "* Sophaken, C., Vongpanich, K., Takhom, A., Boonkwan, P., & Supnithi, T. (2023). Unsupervised Detection of Domain Switching in Thai Multidisciplinary Online News. IIAI Letters on Informatics and Interdisciplinary Research, 3. [Access](https://iaiai.org/letters/index.php/liir/article/view/77/50)"
      ]
    },
    {
      "cell_type": "markdown",
      "metadata": {
        "id": "i24UbKCMUOYs"
      },
      "source": [
        "🎓 Acknowledgement\n",
        "* Dr. Akkharawoot TakhomDepartment of Electrical and Computer Engineering\n",
        "Thammasat University"
      ]
    },
    {
      "cell_type": "markdown",
      "metadata": {
        "id": "NrFZelkYVWIX"
      },
      "source": [
        "### ⚙️ Tools & Resorces Preparation"
      ]
    },
    {
      "cell_type": "markdown",
      "metadata": {
        "id": "vl76iryjU3Va"
      },
      "source": [
        "Library & Module Installation"
      ]
    },
    {
      "cell_type": "markdown",
      "metadata": {
        "id": "IuOPqC6eEh7a"
      },
      "source": [
        "\n",
        "\n",
        "* Run the code once.\n",
        "* If you encounter any errors during the initial execution it may be due to factors such as dependencies or system configurations. To address any encountered errors, simply restart the runtime or kernel. Afterward, run the code cell again to ensure a successful execution.\n",
        "\n"
      ]
    },
    {
      "cell_type": "code",
      "execution_count": 1,
      "metadata": {
        "colab": {
          "base_uri": "https://localhost:8080/"
        },
        "id": "p1lzOz2OMtvl",
        "outputId": "2c92762e-9f40-4b76-cf70-f120d1164fa4"
      },
      "outputs": [
        {
          "output_type": "stream",
          "name": "stdout",
          "text": [
            "Requirement already satisfied: setuptools in /usr/local/lib/python3.10/dist-packages (68.0.0)\n",
            "Requirement already satisfied: wheel in /usr/local/lib/python3.10/dist-packages (0.40.0)\n",
            "Reading package lists...\n",
            "Building dependency tree...\n",
            "Reading state information...\n",
            "pkg-config is already the newest version (0.29.1-0ubuntu4).\n",
            "graphviz is already the newest version (2.42.2-3build2).\n",
            "libgraphviz-dev is already the newest version (2.42.2-3build2).\n",
            "0 upgraded, 0 newly installed, 0 to remove and 13 not upgraded.\n"
          ]
        }
      ],
      "source": [
        "!pip install --upgrade setuptools wheel\n",
        "\n",
        "!pip install tltk==1.6.8 -q\n",
        "!pip install pythainlp==4.0.2 -q\n",
        "\n",
        "!pip install pyvis==0.1.9 -q\n",
        "!apt-get install -y graphviz libgraphviz-dev pkg-config -q #Fix ERROR: Failed building wheel for pygraphviz\n",
        "!pip install pygraphviz==1.7 -q"
      ]
    },
    {
      "cell_type": "markdown",
      "metadata": {
        "id": "4bS_VdiSUxTl"
      },
      "source": [
        "Resources prepararion"
      ]
    },
    {
      "cell_type": "code",
      "execution_count": 2,
      "metadata": {
        "id": "oJlEqMe9UXHL"
      },
      "outputs": [],
      "source": [
        "#sample data\n",
        "!wget https://github.com/ChotanansubSoph/ThNTA/raw/main/resources/sample_data/thai_electronic_news_2022.csv -q"
      ]
    },
    {
      "cell_type": "markdown",
      "metadata": {
        "id": "aw72-icaVEHZ"
      },
      "source": [
        "Library preparation"
      ]
    },
    {
      "cell_type": "code",
      "execution_count": 3,
      "metadata": {
        "colab": {
          "base_uri": "https://localhost:8080/"
        },
        "id": "dFKNRUo4M6HP",
        "outputId": "b989b488-3ef8-453a-8578-99eb26c37596"
      },
      "outputs": [
        {
          "output_type": "stream",
          "name": "stderr",
          "text": [
            "[nltk_data] Downloading package punkt to /root/nltk_data...\n",
            "[nltk_data]   Package punkt is already up-to-date!\n"
          ]
        }
      ],
      "source": [
        "#Data manipulation\n",
        "import pandas as pd\n",
        "import numpy as np\n",
        "\n",
        "#NLP\n",
        "import nltk\n",
        "from nltk import FreqDist, bigrams\n",
        "from operator import itemgetter\n",
        "from nltk.tokenize import word_tokenize as term_tokenize\n",
        "nltk.download('punkt')\n",
        "import tltk\n",
        "from pythainlp import word_tokenize,  pos_tag\n",
        "from pythainlp.corpus.common import thai_stopwords as pythainlp_stopwords\n",
        "\n",
        "#Graph Visulazation\n",
        "import networkx as nx\n",
        "from pyvis.network import Network\n",
        "from IPython.display import display, HTML\n",
        "\n",
        "#Add-on\n",
        "from tqdm.notebook import tqdm_notebook as tqdm\n",
        "from operator import itemgetter\n",
        "import re"
      ]
    },
    {
      "cell_type": "markdown",
      "metadata": {
        "id": "ZXC6zQeoVMPX"
      },
      "source": [
        "### Data Preprocessing"
      ]
    },
    {
      "cell_type": "code",
      "execution_count": 4,
      "metadata": {
        "id": "vrgp_bEE0THS"
      },
      "outputs": [],
      "source": [
        "########## String operation ##########\n",
        "def isEnglish(s):\n",
        "  return all(ord(char) < 128 for char in s)\n",
        "\n",
        "\n",
        "########## List Manipulation ##########\n",
        "def flatten_nested_list(nested_list):\n",
        "  flattened_list = [item for sublist in nested_list for item in sublist]\n",
        "  return flattened_list\n",
        "\n",
        "\n",
        "######### DataFrame Manipulation #######\n",
        "def convert_dataframe_to_paired_tuples(df):\n",
        "    return list(zip(df.iloc[:, 0].tolist(), df.iloc[:, 1].tolist()))"
      ]
    },
    {
      "cell_type": "code",
      "execution_count": 5,
      "metadata": {
        "id": "13JMUAbXMvM2"
      },
      "outputs": [],
      "source": [
        "########## Stopwords ##########\n",
        "def read_stopwords(file_path : str) ->list:\n",
        "  with open(file_path, 'r', encoding='utf-8') as file:\n",
        "      lines = file.readlines()\n",
        "  stopwords = [line.strip() for line in lines]\n",
        "  return stopwords\n",
        "\n",
        "########## Tokenization ##########\n",
        "\n",
        "def tltk_tokenize_pos(text): #Primaly Tokenizer\n",
        "  result = flatten_nested_list(tltk.nlp.pos_tag(text))\n",
        "  return result\n",
        "\n",
        "\n",
        "def pythainlp_tokenize_pos(text): #Secondary Tokenizer\n",
        "  wordList= word_tokenize(text, keep_whitespace=False)\n",
        "  posList = pos_tag(wordList,corpus='pud')\n",
        "  return posList\n",
        "\n",
        "\n",
        "def TNC_extract_tltk_pos_pairs(result): #Inactivated\n",
        "    word_pos_pairs = []\n",
        "    pattern = r'<w tran=\"(.*?)\" POS=\"(.*?)\">(.*?)</w>'\n",
        "    matches = re.findall(pattern, result)\n",
        "\n",
        "    for match in matches:\n",
        "        word_pos_pairs.append((match[2], match[1]))\n",
        "\n",
        "    return word_pos_pairs\n",
        "\n",
        "def TNC_tokenize_pos_ner_(text): #Inactivated\n",
        "  result = []\n",
        "  for partial_text in text.split(\" \"):\n",
        "    partial_text = partial_text.replace(\")\",\" \").replace(\"(\",\" \")\n",
        "    result += tltk.nlp.TNC_tag(partial_text,POS=\"Y\")\n",
        "  return tltk.nlp.ner(TNC_extract_tltk_pos_pairs(result))\n",
        "\n",
        "\n",
        "########## Term Frequency ##########\n",
        "def count_word_frequency(data):\n",
        "    words = [word for sublist in data for word in sublist]\n",
        "    tokens = term_tokenize(\" \".join(words))\n",
        "    freq_dist = FreqDist(tokens)\n",
        "    return freq_dist\n",
        "\n"
      ]
    },
    {
      "cell_type": "markdown",
      "metadata": {
        "id": "DivqqP4z41S0"
      },
      "source": [
        "### Text preprocess"
      ]
    },
    {
      "cell_type": "code",
      "execution_count": 6,
      "metadata": {
        "id": "o_F--DzDYTPA"
      },
      "outputs": [],
      "source": [
        "def text_preprocess(text: str, stopwords=set(),tokenizer=\"tltk\", pos_target=None) -> list:\n",
        "    term_pairs = list()\n",
        "    if tokenizer == \"tltk\":\n",
        "      if pos_target is None: pos_target = {\"NOUN\", \"VERB\",\"PROPN\"}\n",
        "      term_pairs = tltk_tokenize_pos(text)\n",
        "\n",
        "    elif tokenizer == \"pythainlp\":\n",
        "      if pos_target is None: pos_target = {\"NOUN\",\"VERB\"}\n",
        "      term_pairs = pythainlp_tokenize_pos(text)\n",
        "\n",
        "    regex = re.compile('[@_!#$%^&*()<>?/\\|}{~:.]')\n",
        "\n",
        "    preprocessed_terms = [term for term, pos in term_pairs\n",
        "              if pos in pos_target\n",
        "              and term not in stopwords\n",
        "              and not isEnglish(term)\n",
        "              and regex.search(term) is None\n",
        "              and \"\\xa0\" not in term]\n",
        "\n",
        "    return  preprocessed_terms\n",
        "\n",
        "\n",
        "def feed_preprocess(docs: list, stopwords = None, tokenizer=\"tltk\", pos_target=None) -> list:\n",
        "    preprocessed_docs = []\n",
        "    if stopwords is None:\n",
        "      stopwords = pythainlp_stopwords()\n",
        "\n",
        "    for text in tqdm(docs):\n",
        "        proprocessed_terms = text_preprocess(\n",
        "            text=text,\n",
        "            stopwords=stopwords,\n",
        "            tokenizer=tokenizer,\n",
        "            pos_target=pos_target)\n",
        "        preprocessed_docs.append(proprocessed_terms)\n",
        "\n",
        "    return preprocessed_docs"
      ]
    },
    {
      "cell_type": "markdown",
      "metadata": {
        "id": "oVo47ASqSs3J"
      },
      "source": [
        "Tokenization & Term Filtering"
      ]
    },
    {
      "cell_type": "code",
      "execution_count": 7,
      "metadata": {
        "colab": {
          "base_uri": "https://localhost:8080/",
          "height": 423
        },
        "id": "UR-qwbCYSwEa",
        "outputId": "1cd17b12-d652-475e-9124-5ab19f3bde61"
      },
      "outputs": [
        {
          "output_type": "execute_result",
          "data": {
            "text/plain": [
              "       domain                                            content\n",
              "0     politic  กรมราชทัณฑ์ ชี้แจง ต่อข้อสงสัย กรณีการนำตัวนาย...\n",
              "1     politic  พลเอก ประยุทธ์ จันทร์โอชา นายกรัฐมนตรีและรัฐมน...\n",
              "2     politic  นางสาวคุ้มเกล้า ส่งสมบูรณ์ ทนายความศูนย์ทนายคว...\n",
              "3     politic  วันที่ (1 พฤษภาคม 2564) เวลา 11.00 น. นายสิธิช...\n",
              "4     politic  ด่านคัดกรองคนเข้าเมืองยะลา ยกระดับคุมเข้ม ป้อง...\n",
              "...       ...                                                ...\n",
              "8976  culture  สำนักงานวัฒนธรรมจังหวัดสตูล ลงพื้นที่จัดเก็บข้...\n",
              "8977  culture  จังหวัดศรีสะเกษ โดย พช.ห้วยทับทัน จัดกิจกรรมเอ...\n",
              "8978  culture  นายชีวันธร พิศพนาวัน จากโครงการ U2T ตำบลห้วยห้...\n",
              "8979  culture  วันนี้ (24 พ.ย. 64) ที่ หอประชุม 100 ปี โรงเรี...\n",
              "8980  culture  นางพวงคำ ทองทั่ว วัฒนธรรมจังหวัดยโสธร เปิดเผยว...\n",
              "\n",
              "[8981 rows x 2 columns]"
            ],
            "text/html": [
              "\n",
              "  <div id=\"df-41b3f7c7-6b6c-420e-ba20-bc71f5179fb9\">\n",
              "    <div class=\"colab-df-container\">\n",
              "      <div>\n",
              "<style scoped>\n",
              "    .dataframe tbody tr th:only-of-type {\n",
              "        vertical-align: middle;\n",
              "    }\n",
              "\n",
              "    .dataframe tbody tr th {\n",
              "        vertical-align: top;\n",
              "    }\n",
              "\n",
              "    .dataframe thead th {\n",
              "        text-align: right;\n",
              "    }\n",
              "</style>\n",
              "<table border=\"1\" class=\"dataframe\">\n",
              "  <thead>\n",
              "    <tr style=\"text-align: right;\">\n",
              "      <th></th>\n",
              "      <th>domain</th>\n",
              "      <th>content</th>\n",
              "    </tr>\n",
              "  </thead>\n",
              "  <tbody>\n",
              "    <tr>\n",
              "      <th>0</th>\n",
              "      <td>politic</td>\n",
              "      <td>กรมราชทัณฑ์ ชี้แจง ต่อข้อสงสัย กรณีการนำตัวนาย...</td>\n",
              "    </tr>\n",
              "    <tr>\n",
              "      <th>1</th>\n",
              "      <td>politic</td>\n",
              "      <td>พลเอก ประยุทธ์ จันทร์โอชา นายกรัฐมนตรีและรัฐมน...</td>\n",
              "    </tr>\n",
              "    <tr>\n",
              "      <th>2</th>\n",
              "      <td>politic</td>\n",
              "      <td>นางสาวคุ้มเกล้า ส่งสมบูรณ์ ทนายความศูนย์ทนายคว...</td>\n",
              "    </tr>\n",
              "    <tr>\n",
              "      <th>3</th>\n",
              "      <td>politic</td>\n",
              "      <td>วันที่ (1 พฤษภาคม 2564) เวลา 11.00 น. นายสิธิช...</td>\n",
              "    </tr>\n",
              "    <tr>\n",
              "      <th>4</th>\n",
              "      <td>politic</td>\n",
              "      <td>ด่านคัดกรองคนเข้าเมืองยะลา ยกระดับคุมเข้ม ป้อง...</td>\n",
              "    </tr>\n",
              "    <tr>\n",
              "      <th>...</th>\n",
              "      <td>...</td>\n",
              "      <td>...</td>\n",
              "    </tr>\n",
              "    <tr>\n",
              "      <th>8976</th>\n",
              "      <td>culture</td>\n",
              "      <td>สำนักงานวัฒนธรรมจังหวัดสตูล ลงพื้นที่จัดเก็บข้...</td>\n",
              "    </tr>\n",
              "    <tr>\n",
              "      <th>8977</th>\n",
              "      <td>culture</td>\n",
              "      <td>จังหวัดศรีสะเกษ โดย พช.ห้วยทับทัน จัดกิจกรรมเอ...</td>\n",
              "    </tr>\n",
              "    <tr>\n",
              "      <th>8978</th>\n",
              "      <td>culture</td>\n",
              "      <td>นายชีวันธร พิศพนาวัน จากโครงการ U2T ตำบลห้วยห้...</td>\n",
              "    </tr>\n",
              "    <tr>\n",
              "      <th>8979</th>\n",
              "      <td>culture</td>\n",
              "      <td>วันนี้ (24 พ.ย. 64) ที่ หอประชุม 100 ปี โรงเรี...</td>\n",
              "    </tr>\n",
              "    <tr>\n",
              "      <th>8980</th>\n",
              "      <td>culture</td>\n",
              "      <td>นางพวงคำ ทองทั่ว วัฒนธรรมจังหวัดยโสธร เปิดเผยว...</td>\n",
              "    </tr>\n",
              "  </tbody>\n",
              "</table>\n",
              "<p>8981 rows × 2 columns</p>\n",
              "</div>\n",
              "      <button class=\"colab-df-convert\" onclick=\"convertToInteractive('df-41b3f7c7-6b6c-420e-ba20-bc71f5179fb9')\"\n",
              "              title=\"Convert this dataframe to an interactive table.\"\n",
              "              style=\"display:none;\">\n",
              "        \n",
              "  <svg xmlns=\"http://www.w3.org/2000/svg\" height=\"24px\"viewBox=\"0 0 24 24\"\n",
              "       width=\"24px\">\n",
              "    <path d=\"M0 0h24v24H0V0z\" fill=\"none\"/>\n",
              "    <path d=\"M18.56 5.44l.94 2.06.94-2.06 2.06-.94-2.06-.94-.94-2.06-.94 2.06-2.06.94zm-11 1L8.5 8.5l.94-2.06 2.06-.94-2.06-.94L8.5 2.5l-.94 2.06-2.06.94zm10 10l.94 2.06.94-2.06 2.06-.94-2.06-.94-.94-2.06-.94 2.06-2.06.94z\"/><path d=\"M17.41 7.96l-1.37-1.37c-.4-.4-.92-.59-1.43-.59-.52 0-1.04.2-1.43.59L10.3 9.45l-7.72 7.72c-.78.78-.78 2.05 0 2.83L4 21.41c.39.39.9.59 1.41.59.51 0 1.02-.2 1.41-.59l7.78-7.78 2.81-2.81c.8-.78.8-2.07 0-2.86zM5.41 20L4 18.59l7.72-7.72 1.47 1.35L5.41 20z\"/>\n",
              "  </svg>\n",
              "      </button>\n",
              "      \n",
              "  <style>\n",
              "    .colab-df-container {\n",
              "      display:flex;\n",
              "      flex-wrap:wrap;\n",
              "      gap: 12px;\n",
              "    }\n",
              "\n",
              "    .colab-df-convert {\n",
              "      background-color: #E8F0FE;\n",
              "      border: none;\n",
              "      border-radius: 50%;\n",
              "      cursor: pointer;\n",
              "      display: none;\n",
              "      fill: #1967D2;\n",
              "      height: 32px;\n",
              "      padding: 0 0 0 0;\n",
              "      width: 32px;\n",
              "    }\n",
              "\n",
              "    .colab-df-convert:hover {\n",
              "      background-color: #E2EBFA;\n",
              "      box-shadow: 0px 1px 2px rgba(60, 64, 67, 0.3), 0px 1px 3px 1px rgba(60, 64, 67, 0.15);\n",
              "      fill: #174EA6;\n",
              "    }\n",
              "\n",
              "    [theme=dark] .colab-df-convert {\n",
              "      background-color: #3B4455;\n",
              "      fill: #D2E3FC;\n",
              "    }\n",
              "\n",
              "    [theme=dark] .colab-df-convert:hover {\n",
              "      background-color: #434B5C;\n",
              "      box-shadow: 0px 1px 3px 1px rgba(0, 0, 0, 0.15);\n",
              "      filter: drop-shadow(0px 1px 2px rgba(0, 0, 0, 0.3));\n",
              "      fill: #FFFFFF;\n",
              "    }\n",
              "  </style>\n",
              "\n",
              "      <script>\n",
              "        const buttonEl =\n",
              "          document.querySelector('#df-41b3f7c7-6b6c-420e-ba20-bc71f5179fb9 button.colab-df-convert');\n",
              "        buttonEl.style.display =\n",
              "          google.colab.kernel.accessAllowed ? 'block' : 'none';\n",
              "\n",
              "        async function convertToInteractive(key) {\n",
              "          const element = document.querySelector('#df-41b3f7c7-6b6c-420e-ba20-bc71f5179fb9');\n",
              "          const dataTable =\n",
              "            await google.colab.kernel.invokeFunction('convertToInteractive',\n",
              "                                                     [key], {});\n",
              "          if (!dataTable) return;\n",
              "\n",
              "          const docLinkHtml = 'Like what you see? Visit the ' +\n",
              "            '<a target=\"_blank\" href=https://colab.research.google.com/notebooks/data_table.ipynb>data table notebook</a>'\n",
              "            + ' to learn more about interactive tables.';\n",
              "          element.innerHTML = '';\n",
              "          dataTable['output_type'] = 'display_data';\n",
              "          await google.colab.output.renderOutput(dataTable, element);\n",
              "          const docLink = document.createElement('div');\n",
              "          docLink.innerHTML = docLinkHtml;\n",
              "          element.appendChild(docLink);\n",
              "        }\n",
              "      </script>\n",
              "    </div>\n",
              "  </div>\n",
              "  "
            ]
          },
          "metadata": {},
          "execution_count": 7
        }
      ],
      "source": [
        "news_df = pd.read_csv(\"thai_electronic_news_2022.csv\")\n",
        "news_df"
      ]
    },
    {
      "cell_type": "code",
      "execution_count": 8,
      "metadata": {
        "colab": {
          "base_uri": "https://localhost:8080/",
          "height": 49,
          "referenced_widgets": [
            "a0cb6ee4e50b41c3adf70c3fb93b63a1",
            "732d8c4cf50e487b8ba2b25efa4fc7b8",
            "4658b0da1cf7483b88099eaf824780f6",
            "6a3603fa0b4d4dbf87f154cafabab557",
            "f67f0692cacd4e84a33d8c1a6a1ce0a4",
            "c6ca72f2b0a94c92b016753619c226d7",
            "55f2f432b6c44302aec95a51da592b5b",
            "7418299b7961488e9698610134862f32",
            "24351c9443c94468bfbef4ee5ccc0a77",
            "7cea1c2a6ff346aa98e4af2dbb6e8acf",
            "2de81c7134f94a5da879f42166081c4c"
          ]
        },
        "id": "LvT9e4CBWKPf",
        "outputId": "82581c9d-f9cf-444a-e619-a68018d39b0c"
      },
      "outputs": [
        {
          "output_type": "display_data",
          "data": {
            "text/plain": [
              "  0%|          | 0/8981 [00:00<?, ?it/s]"
            ],
            "application/vnd.jupyter.widget-view+json": {
              "version_major": 2,
              "version_minor": 0,
              "model_id": "a0cb6ee4e50b41c3adf70c3fb93b63a1"
            }
          },
          "metadata": {}
        }
      ],
      "source": [
        "tokenized_data = feed_preprocess(news_df[\"content\"],tokenizer=\"pythainlp\") #approximate time ~5 min"
      ]
    },
    {
      "cell_type": "code",
      "execution_count": 9,
      "metadata": {
        "id": "tbS7SwvTSN2S"
      },
      "outputs": [],
      "source": [
        "tokenized_freq = count_word_frequency(tokenized_data) # for EDA"
      ]
    },
    {
      "cell_type": "code",
      "execution_count": 10,
      "metadata": {
        "colab": {
          "base_uri": "https://localhost:8080/"
        },
        "id": "cdnuvYIG-cfa",
        "outputId": "5d911fc2-cb8b-43d9-9113-6e0bdcf259e2"
      },
      "outputs": [
        {
          "output_type": "execute_result",
          "data": {
            "text/plain": [
              "FreqDist({'จังหวัด': 24739, 'พื้นที่': 14963, 'ประชาชน': 10335, 'จำนวน': 8712, 'วันที่': 7387, 'คน': 7186, 'เมือง': 6323, 'น้ำ': 6274, 'ปี': 6232, 'อำเภอ': 6179, ...})"
            ]
          },
          "metadata": {},
          "execution_count": 10
        }
      ],
      "source": [
        "tokenized_freq"
      ]
    },
    {
      "cell_type": "markdown",
      "metadata": {
        "id": "uzU38MX4Gi7B"
      },
      "source": [
        "generate bag of co-occurence terminology"
      ]
    },
    {
      "cell_type": "code",
      "execution_count": 11,
      "metadata": {
        "id": "PhaEdGxdAHHf"
      },
      "outputs": [],
      "source": [
        "def generate_bigram_freq(term_list)->list:\n",
        "    bigram_list = []\n",
        "\n",
        "    for word_list in term_list:\n",
        "        try:\n",
        "            bigrams_list = list(bigrams(word_list))\n",
        "            bigram_list.extend(bigrams_list)\n",
        "        except:\n",
        "            continue\n",
        "\n",
        "    frequency_dist = FreqDist(bigram_list)\n",
        "    bigram_freq = sorted(frequency_dist.items(), key=itemgetter(1), reverse=True)\n",
        "\n",
        "    return bigram_freq"
      ]
    },
    {
      "cell_type": "code",
      "execution_count": 12,
      "metadata": {
        "id": "XFjSKJQgAN0t"
      },
      "outputs": [],
      "source": [
        "cooc_freqs = generate_bigram_freq(tokenized_data)"
      ]
    },
    {
      "cell_type": "code",
      "execution_count": 13,
      "metadata": {
        "colab": {
          "base_uri": "https://localhost:8080/"
        },
        "id": "ojspPwhU_Kk5",
        "outputId": "c474261c-9b9e-46f5-bd4e-4bf59dc75044"
      },
      "outputs": [
        {
          "output_type": "execute_result",
          "data": {
            "text/plain": [
              "[(('สำนักข่าว', 'กรมประชาสัมพันธ์'), 5803),\n",
              " (('พื้นที่', 'จังหวัด'), 1576),\n",
              " (('จำนวน', 'คน'), 1282),\n",
              " (('สถานการณ์', 'แพร่ระบาด'), 1161),\n",
              " (('อายุ', 'ปี'), 1137),\n",
              " (('หัวหน้า', 'ส่วนราชการ'), 1123),\n",
              " (('การแข่งขัน', 'กีฬา'), 1122),\n",
              " (('จังหวัด', 'ตรัง'), 1110),\n",
              " (('แพร่ระบาด', 'โรค'), 1107),\n",
              " (('โรคติดเชื้อ', 'นา'), 1054)]"
            ]
          },
          "metadata": {},
          "execution_count": 13
        }
      ],
      "source": [
        "cooc_freqs[:10]"
      ]
    },
    {
      "cell_type": "code",
      "execution_count": 26,
      "metadata": {
        "id": "0D902xEqAeXS"
      },
      "outputs": [],
      "source": [
        "def bgs_filter_extreme(bgs_list, min_percent=0.05, max_percent=0.8):\n",
        "  result = list()\n",
        "  bgs_list = sorted(bgs_list, key=itemgetter(1), reverse=True)\n",
        "  most_freq = bgs_list[0][1]\n",
        "  max_freq = most_freq * max_percent\n",
        "  min_freq = most_freq * min_percent\n",
        "\n",
        "  result = [(pair, count) for pair, count in bgs_list if min_freq <= count <= max_freq and pair[0] != pair[1]]\n",
        "  return result"
      ]
    },
    {
      "cell_type": "code",
      "execution_count": 27,
      "metadata": {
        "id": "hXA8qTjK--5-"
      },
      "outputs": [],
      "source": [
        "filtered_cooc = bgs_filter_extreme(cooc_freqs)"
      ]
    },
    {
      "cell_type": "code",
      "execution_count": 28,
      "metadata": {
        "colab": {
          "base_uri": "https://localhost:8080/"
        },
        "id": "Tt2muhYU_QbF",
        "outputId": "599b01cf-98b8-40ba-e469-d4c415eeee63"
      },
      "outputs": [
        {
          "output_type": "execute_result",
          "data": {
            "text/plain": [
              "[(('พื้นที่', 'จังหวัด'), 1576),\n",
              " (('จำนวน', 'คน'), 1282),\n",
              " (('สถานการณ์', 'แพร่ระบาด'), 1161),\n",
              " (('อายุ', 'ปี'), 1137),\n",
              " (('หัวหน้า', 'ส่วนราชการ'), 1123),\n",
              " (('การแข่งขัน', 'กีฬา'), 1122),\n",
              " (('จังหวัด', 'ตรัง'), 1110),\n",
              " (('แพร่ระบาด', 'โรค'), 1107),\n",
              " (('โรคติดเชื้อ', 'นา'), 1054),\n",
              " (('จังหวัด', 'ศรีสะเกษ'), 1032)]"
            ]
          },
          "metadata": {},
          "execution_count": 28
        }
      ],
      "source": [
        "filtered_cooc[:10]"
      ]
    },
    {
      "cell_type": "markdown",
      "metadata": {
        "id": "qlNOc8j0CoRP"
      },
      "source": [
        "## Visualization"
      ]
    },
    {
      "cell_type": "code",
      "execution_count": 29,
      "metadata": {
        "id": "d8Gy2WLSC5Tz"
      },
      "outputs": [],
      "source": [
        "def visualize_cooccurrence(data):\n",
        "    net = Network(height=\"800px\", width=\"100%\", notebook=True)\n",
        "\n",
        "    # Create a dictionary to store the degree of each node\n",
        "    node_degrees = {}\n",
        "\n",
        "    for pair, freq in data:\n",
        "        term1, term2 = pair\n",
        "\n",
        "        # Update the degree of term1\n",
        "        node_degrees[term1] = node_degrees.get(term1, 0) + 1\n",
        "\n",
        "        # Update the degree of term2\n",
        "        node_degrees[term2] = node_degrees.get(term2, 0) + 1\n",
        "\n",
        "    # Add nodes and set their size based on the degree\n",
        "    for node, degree in node_degrees.items():\n",
        "        net.add_node(node, color=\"lightblue\", size=min(degree * 10, 80))\n",
        "\n",
        "    # Add edges\n",
        "    for pair, freq in data:\n",
        "        term1, term2 = pair\n",
        "        net.add_edge(term1, term2, value=freq, color=\"orange\")\n",
        "\n",
        "    net.show(\"cooccurrence.html\")\n",
        "\n",
        "visualize_cooccurrence(filtered_cooc)"
      ]
    },
    {
      "cell_type": "code",
      "execution_count": 30,
      "metadata": {
        "colab": {
          "base_uri": "https://localhost:8080/",
          "height": 857
        },
        "id": "YZvZAxbAFwPj",
        "outputId": "7aa65cf3-4d3c-4ed2-8326-6855b85655a5"
      },
      "outputs": [
        {
          "output_type": "display_data",
          "data": {
            "text/plain": [
              "<IPython.core.display.HTML object>"
            ],
            "text/html": [
              "<html>\n",
              "<head>\n",
              "<link rel=\"stylesheet\" href=\"https://cdnjs.cloudflare.com/ajax/libs/vis/4.16.1/vis.css\" type=\"text/css\" />\n",
              "<script type=\"text/javascript\" src=\"https://cdnjs.cloudflare.com/ajax/libs/vis/4.16.1/vis-network.min.js\"> </script>\n",
              "<center>\n",
              "<h1></h1>\n",
              "</center>\n",
              "\n",
              "<!-- <link rel=\"stylesheet\" href=\"../node_modules/vis/dist/vis.min.css\" type=\"text/css\" />\n",
              "<script type=\"text/javascript\" src=\"../node_modules/vis/dist/vis.js\"> </script>-->\n",
              "\n",
              "<style type=\"text/css\">\n",
              "\n",
              "        #mynetwork {\n",
              "            width: 100%;\n",
              "            height: 800px;\n",
              "            background-color: #ffffff;\n",
              "            border: 1px solid lightgray;\n",
              "            position: relative;\n",
              "            float: left;\n",
              "        }\n",
              "\n",
              "        \n",
              "        #loadingBar {\n",
              "            position:absolute;\n",
              "            top:0px;\n",
              "            left:0px;\n",
              "            width: 100%;\n",
              "            height: 800px;\n",
              "            background-color:rgba(200,200,200,0.8);\n",
              "            -webkit-transition: all 0.5s ease;\n",
              "            -moz-transition: all 0.5s ease;\n",
              "            -ms-transition: all 0.5s ease;\n",
              "            -o-transition: all 0.5s ease;\n",
              "            transition: all 0.5s ease;\n",
              "            opacity:1;\n",
              "        }\n",
              "\n",
              "        #bar {\n",
              "            position:absolute;\n",
              "            top:0px;\n",
              "            left:0px;\n",
              "            width:20px;\n",
              "            height:20px;\n",
              "            margin:auto auto auto auto;\n",
              "            border-radius:11px;\n",
              "            border:2px solid rgba(30,30,30,0.05);\n",
              "            background: rgb(0, 173, 246); /* Old browsers */\n",
              "            box-shadow: 2px 0px 4px rgba(0,0,0,0.4);\n",
              "        }\n",
              "\n",
              "        #border {\n",
              "            position:absolute;\n",
              "            top:10px;\n",
              "            left:10px;\n",
              "            width:500px;\n",
              "            height:23px;\n",
              "            margin:auto auto auto auto;\n",
              "            box-shadow: 0px 0px 4px rgba(0,0,0,0.2);\n",
              "            border-radius:10px;\n",
              "        }\n",
              "\n",
              "        #text {\n",
              "            position:absolute;\n",
              "            top:8px;\n",
              "            left:530px;\n",
              "            width:30px;\n",
              "            height:50px;\n",
              "            margin:auto auto auto auto;\n",
              "            font-size:22px;\n",
              "            color: #000000;\n",
              "        }\n",
              "\n",
              "        div.outerBorder {\n",
              "            position:relative;\n",
              "            top:400px;\n",
              "            width:600px;\n",
              "            height:44px;\n",
              "            margin:auto auto auto auto;\n",
              "            border:8px solid rgba(0,0,0,0.1);\n",
              "            background: rgb(252,252,252); /* Old browsers */\n",
              "            background: -moz-linear-gradient(top,  rgba(252,252,252,1) 0%, rgba(237,237,237,1) 100%); /* FF3.6+ */\n",
              "            background: -webkit-gradient(linear, left top, left bottom, color-stop(0%,rgba(252,252,252,1)), color-stop(100%,rgba(237,237,237,1))); /* Chrome,Safari4+ */\n",
              "            background: -webkit-linear-gradient(top,  rgba(252,252,252,1) 0%,rgba(237,237,237,1) 100%); /* Chrome10+,Safari5.1+ */\n",
              "            background: -o-linear-gradient(top,  rgba(252,252,252,1) 0%,rgba(237,237,237,1) 100%); /* Opera 11.10+ */\n",
              "            background: -ms-linear-gradient(top,  rgba(252,252,252,1) 0%,rgba(237,237,237,1) 100%); /* IE10+ */\n",
              "            background: linear-gradient(to bottom,  rgba(252,252,252,1) 0%,rgba(237,237,237,1) 100%); /* W3C */\n",
              "            filter: progid:DXImageTransform.Microsoft.gradient( startColorstr='#fcfcfc', endColorstr='#ededed',GradientType=0 ); /* IE6-9 */\n",
              "            border-radius:72px;\n",
              "            box-shadow: 0px 0px 10px rgba(0,0,0,0.2);\n",
              "        }\n",
              "        \n",
              "\n",
              "        \n",
              "\n",
              "        \n",
              "</style>\n",
              "\n",
              "</head>\n",
              "\n",
              "<body>\n",
              "<div id = \"mynetwork\"></div>\n",
              "\n",
              "<div id=\"loadingBar\">\n",
              "    <div class=\"outerBorder\">\n",
              "        <div id=\"text\">0%</div>\n",
              "        <div id=\"border\">\n",
              "            <div id=\"bar\"></div>\n",
              "        </div>\n",
              "    </div>\n",
              "</div>\n",
              "\n",
              "\n",
              "<script type=\"text/javascript\">\n",
              "\n",
              "    // initialize global variables.\n",
              "    var edges;\n",
              "    var nodes;\n",
              "    var network; \n",
              "    var container;\n",
              "    var options, data;\n",
              "\n",
              "    \n",
              "    // This method is responsible for drawing the graph, returns the drawn network\n",
              "    function drawGraph() {\n",
              "        var container = document.getElementById('mynetwork');\n",
              "        \n",
              "        \n",
              "\n",
              "        // parsing and collecting nodes and edges from the python\n",
              "        nodes = new vis.DataSet([{\"color\": \"lightblue\", \"id\": \"\\u0e1e\\u0e37\\u0e49\\u0e19\\u0e17\\u0e35\\u0e48\", \"label\": \"\\u0e1e\\u0e37\\u0e49\\u0e19\\u0e17\\u0e35\\u0e48\", \"shape\": \"dot\", \"size\": 70}, {\"color\": \"lightblue\", \"id\": \"\\u0e08\\u0e31\\u0e07\\u0e2b\\u0e27\\u0e31\\u0e14\", \"label\": \"\\u0e08\\u0e31\\u0e07\\u0e2b\\u0e27\\u0e31\\u0e14\", \"shape\": \"dot\", \"size\": 80}, {\"color\": \"lightblue\", \"id\": \"\\u0e08\\u0e33\\u0e19\\u0e27\\u0e19\", \"label\": \"\\u0e08\\u0e33\\u0e19\\u0e27\\u0e19\", \"shape\": \"dot\", \"size\": 30}, {\"color\": \"lightblue\", \"id\": \"\\u0e04\\u0e19\", \"label\": \"\\u0e04\\u0e19\", \"shape\": \"dot\", \"size\": 30}, {\"color\": \"lightblue\", \"id\": \"\\u0e2a\\u0e16\\u0e32\\u0e19\\u0e01\\u0e32\\u0e23\\u0e13\\u0e4c\", \"label\": \"\\u0e2a\\u0e16\\u0e32\\u0e19\\u0e01\\u0e32\\u0e23\\u0e13\\u0e4c\", \"shape\": \"dot\", \"size\": 50}, {\"color\": \"lightblue\", \"id\": \"\\u0e41\\u0e1e\\u0e23\\u0e48\\u0e23\\u0e30\\u0e1a\\u0e32\\u0e14\", \"label\": \"\\u0e41\\u0e1e\\u0e23\\u0e48\\u0e23\\u0e30\\u0e1a\\u0e32\\u0e14\", \"shape\": \"dot\", \"size\": 30}, {\"color\": \"lightblue\", \"id\": \"\\u0e2d\\u0e32\\u0e22\\u0e38\", \"label\": \"\\u0e2d\\u0e32\\u0e22\\u0e38\", \"shape\": \"dot\", \"size\": 10}, {\"color\": \"lightblue\", \"id\": \"\\u0e1b\\u0e35\", \"label\": \"\\u0e1b\\u0e35\", \"shape\": \"dot\", \"size\": 30}, {\"color\": \"lightblue\", \"id\": \"\\u0e2b\\u0e31\\u0e27\\u0e2b\\u0e19\\u0e49\\u0e32\", \"label\": \"\\u0e2b\\u0e31\\u0e27\\u0e2b\\u0e19\\u0e49\\u0e32\", \"shape\": \"dot\", \"size\": 20}, {\"color\": \"lightblue\", \"id\": \"\\u0e2a\\u0e48\\u0e27\\u0e19\\u0e23\\u0e32\\u0e0a\\u0e01\\u0e32\\u0e23\", \"label\": \"\\u0e2a\\u0e48\\u0e27\\u0e19\\u0e23\\u0e32\\u0e0a\\u0e01\\u0e32\\u0e23\", \"shape\": \"dot\", \"size\": 10}, {\"color\": \"lightblue\", \"id\": \"\\u0e01\\u0e32\\u0e23\\u0e41\\u0e02\\u0e48\\u0e07\\u0e02\\u0e31\\u0e19\", \"label\": \"\\u0e01\\u0e32\\u0e23\\u0e41\\u0e02\\u0e48\\u0e07\\u0e02\\u0e31\\u0e19\", \"shape\": \"dot\", \"size\": 20}, {\"color\": \"lightblue\", \"id\": \"\\u0e01\\u0e35\\u0e2c\\u0e32\", \"label\": \"\\u0e01\\u0e35\\u0e2c\\u0e32\", \"shape\": \"dot\", \"size\": 40}, {\"color\": \"lightblue\", \"id\": \"\\u0e15\\u0e23\\u0e31\\u0e07\", \"label\": \"\\u0e15\\u0e23\\u0e31\\u0e07\", \"shape\": \"dot\", \"size\": 10}, {\"color\": \"lightblue\", \"id\": \"\\u0e42\\u0e23\\u0e04\", \"label\": \"\\u0e42\\u0e23\\u0e04\", \"shape\": \"dot\", \"size\": 50}, {\"color\": \"lightblue\", \"id\": \"\\u0e42\\u0e23\\u0e04\\u0e15\\u0e34\\u0e14\\u0e40\\u0e0a\\u0e37\\u0e49\\u0e2d\", \"label\": \"\\u0e42\\u0e23\\u0e04\\u0e15\\u0e34\\u0e14\\u0e40\\u0e0a\\u0e37\\u0e49\\u0e2d\", \"shape\": \"dot\", \"size\": 20}, {\"color\": \"lightblue\", \"id\": \"\\u0e19\\u0e32\", \"label\": \"\\u0e19\\u0e32\", \"shape\": \"dot\", \"size\": 10}, {\"color\": \"lightblue\", \"id\": \"\\u0e28\\u0e23\\u0e35\\u0e2a\\u0e30\\u0e40\\u0e01\\u0e29\", \"label\": \"\\u0e28\\u0e23\\u0e35\\u0e2a\\u0e30\\u0e40\\u0e01\\u0e29\", \"shape\": \"dot\", \"size\": 20}, {\"color\": \"lightblue\", \"id\": \"\\u0e27\\u0e31\\u0e19\\u0e17\\u0e35\\u0e48\", \"label\": \"\\u0e27\\u0e31\\u0e19\\u0e17\\u0e35\\u0e48\", \"shape\": \"dot\", \"size\": 80}, {\"color\": \"lightblue\", \"id\": \"\\u0e40\\u0e21\\u0e29\\u0e32\\u0e22\\u0e19\", \"label\": \"\\u0e40\\u0e21\\u0e29\\u0e32\\u0e22\\u0e19\", \"shape\": \"dot\", \"size\": 10}, {\"color\": \"lightblue\", \"id\": \"\\u0e1b\\u0e23\\u0e30\\u0e0a\\u0e32\\u0e0a\\u0e19\", \"label\": \"\\u0e1b\\u0e23\\u0e30\\u0e0a\\u0e32\\u0e0a\\u0e19\", \"shape\": \"dot\", \"size\": 30}, {\"color\": \"lightblue\", \"id\": \"\\u0e2b\\u0e21\\u0e39\\u0e48\", \"label\": \"\\u0e2b\\u0e21\\u0e39\\u0e48\", \"shape\": \"dot\", \"size\": 10}, {\"color\": \"lightblue\", \"id\": \"\\u0e15\\u0e33\\u0e1a\\u0e25\", \"label\": \"\\u0e15\\u0e33\\u0e1a\\u0e25\", \"shape\": \"dot\", \"size\": 30}, {\"color\": \"lightblue\", \"id\": \"\\u0e15\\u0e34\\u0e14\\u0e40\\u0e0a\\u0e37\\u0e49\\u0e2d\", \"label\": \"\\u0e15\\u0e34\\u0e14\\u0e40\\u0e0a\\u0e37\\u0e49\\u0e2d\", \"shape\": \"dot\", \"size\": 40}, {\"color\": \"lightblue\", \"id\": \"\\u0e42\\u0e04\\u0e27\\u0e34\\u0e14\", \"label\": \"\\u0e42\\u0e04\\u0e27\\u0e34\\u0e14\", \"shape\": \"dot\", \"size\": 40}, {\"color\": \"lightblue\", \"id\": \"\\u0e40\\u0e1d\\u0e49\\u0e32\", \"label\": \"\\u0e40\\u0e1d\\u0e49\\u0e32\", \"shape\": \"dot\", \"size\": 10}, {\"color\": \"lightblue\", \"id\": \"\\u0e23\\u0e30\\u0e27\\u0e31\\u0e07\", \"label\": \"\\u0e23\\u0e30\\u0e27\\u0e31\\u0e07\", \"shape\": \"dot\", \"size\": 10}, {\"color\": \"lightblue\", \"id\": \"\\u0e1b\\u0e23\\u0e30\\u0e18\\u0e32\\u0e19\", \"label\": \"\\u0e1b\\u0e23\\u0e30\\u0e18\\u0e32\\u0e19\", \"shape\": \"dot\", \"size\": 30}, {\"color\": \"lightblue\", \"id\": \"\\u0e1e\\u0e34\\u0e18\\u0e35\", \"label\": \"\\u0e1e\\u0e34\\u0e18\\u0e35\", \"shape\": \"dot\", \"size\": 10}, {\"color\": \"lightblue\", \"id\": \"\\u0e1a\\u0e32\\u0e17\", \"label\": \"\\u0e1a\\u0e32\\u0e17\", \"shape\": \"dot\", \"size\": 50}, {\"color\": \"lightblue\", \"id\": \"\\u0e2a\\u0e21\\u0e40\\u0e14\\u0e47\\u0e08\", \"label\": \"\\u0e2a\\u0e21\\u0e40\\u0e14\\u0e47\\u0e08\", \"shape\": \"dot\", \"size\": 40}, {\"color\": \"lightblue\", \"id\": \"\\u0e40\\u0e21\\u0e37\\u0e2d\\u0e07\", \"label\": \"\\u0e40\\u0e21\\u0e37\\u0e2d\\u0e07\", \"shape\": \"dot\", \"size\": 20}, {\"color\": \"lightblue\", \"id\": \"\\u0e1e\\u0e24\\u0e28\\u0e08\\u0e34\\u0e01\\u0e32\\u0e22\\u0e19\", \"label\": \"\\u0e1e\\u0e24\\u0e28\\u0e08\\u0e34\\u0e01\\u0e32\\u0e22\\u0e19\", \"shape\": \"dot\", \"size\": 10}, {\"color\": \"lightblue\", \"id\": \"\\u0e1e\\u0e23\\u0e30\", \"label\": \"\\u0e1e\\u0e23\\u0e30\", \"shape\": \"dot\", \"size\": 30}, {\"color\": \"lightblue\", \"id\": \"\\u0e23\\u0e31\\u0e10\\u0e21\\u0e19\\u0e15\\u0e23\\u0e35\", \"label\": \"\\u0e23\\u0e31\\u0e10\\u0e21\\u0e19\\u0e15\\u0e23\\u0e35\", \"shape\": \"dot\", \"size\": 10}, {\"color\": \"lightblue\", \"id\": \"\\u0e27\\u0e48\\u0e32\\u0e01\\u0e32\\u0e23\", \"label\": \"\\u0e27\\u0e48\\u0e32\\u0e01\\u0e32\\u0e23\", \"shape\": \"dot\", \"size\": 10}, {\"color\": \"lightblue\", \"id\": \"\\u0e1e\\u0e35\\u0e48\\u0e19\\u0e49\\u0e2d\\u0e07\", \"label\": \"\\u0e1e\\u0e35\\u0e48\\u0e19\\u0e49\\u0e2d\\u0e07\", \"shape\": \"dot\", \"size\": 10}, {\"color\": \"lightblue\", \"id\": \"\\u0e1d\\u0e19\", \"label\": \"\\u0e1d\\u0e19\", \"shape\": \"dot\", \"size\": 10}, {\"color\": \"lightblue\", \"id\": \"\\u0e15\\u0e01\\u0e2b\\u0e19\\u0e31\\u0e01\", \"label\": \"\\u0e15\\u0e01\\u0e2b\\u0e19\\u0e31\\u0e01\", \"shape\": \"dot\", \"size\": 10}, {\"color\": \"lightblue\", \"id\": \"\\u0e40\\u0e15\\u0e23\\u0e35\\u0e22\\u0e21\", \"label\": \"\\u0e40\\u0e15\\u0e23\\u0e35\\u0e22\\u0e21\", \"shape\": \"dot\", \"size\": 10}, {\"color\": \"lightblue\", \"id\": \"\\u0e04\\u0e27\\u0e32\\u0e21\\u0e1e\\u0e23\\u0e49\\u0e2d\\u0e21\", \"label\": \"\\u0e04\\u0e27\\u0e32\\u0e21\\u0e1e\\u0e23\\u0e49\\u0e2d\\u0e21\", \"shape\": \"dot\", \"size\": 10}, {\"color\": \"lightblue\", \"id\": \"\\u0e25\\u0e33\\u0e1e\\u0e39\\u0e19\", \"label\": \"\\u0e25\\u0e33\\u0e1e\\u0e39\\u0e19\", \"shape\": \"dot\", \"size\": 10}, {\"color\": \"lightblue\", \"id\": \"\\u0e04\\u0e31\\u0e14\", \"label\": \"\\u0e04\\u0e31\\u0e14\", \"shape\": \"dot\", \"size\": 10}, {\"color\": \"lightblue\", \"id\": \"\\u0e01\\u0e23\\u0e2d\\u0e07\", \"label\": \"\\u0e01\\u0e23\\u0e2d\\u0e07\", \"shape\": \"dot\", \"size\": 10}, {\"color\": \"lightblue\", \"id\": \"\\u0e22\\u0e30\\u0e25\\u0e32\", \"label\": \"\\u0e22\\u0e30\\u0e25\\u0e32\", \"shape\": \"dot\", \"size\": 10}, {\"color\": \"lightblue\", \"id\": \"\\u0e1b\\u0e23\\u0e30\\u0e0a\\u0e32\\u0e2a\\u0e31\\u0e21\\u0e1e\\u0e31\\u0e19\\u0e18\\u0e4c\", \"label\": \"\\u0e1b\\u0e23\\u0e30\\u0e0a\\u0e32\\u0e2a\\u0e31\\u0e21\\u0e1e\\u0e31\\u0e19\\u0e18\\u0e4c\", \"shape\": \"dot\", \"size\": 20}, {\"color\": \"lightblue\", \"id\": \"\\u0e2a\\u0e32\\u0e18\\u0e32\\u0e23\\u0e13\\u0e2a\\u0e38\\u0e02\", \"label\": \"\\u0e2a\\u0e32\\u0e18\\u0e32\\u0e23\\u0e13\\u0e2a\\u0e38\\u0e02\", \"shape\": \"dot\", \"size\": 30}, {\"color\": \"lightblue\", \"id\": \"\\u0e23\\u0e30\\u0e1a\\u0e32\\u0e22\", \"label\": \"\\u0e23\\u0e30\\u0e1a\\u0e32\\u0e22\", \"shape\": \"dot\", \"size\": 10}, {\"color\": \"lightblue\", \"id\": \"\\u0e19\\u0e49\\u0e33\", \"label\": \"\\u0e19\\u0e49\\u0e33\", \"shape\": \"dot\", \"size\": 40}, {\"color\": \"lightblue\", \"id\": \"\\u0e0a\\u0e32\\u0e22\\u0e41\\u0e14\\u0e19\", \"label\": \"\\u0e0a\\u0e32\\u0e22\\u0e41\\u0e14\\u0e19\", \"shape\": \"dot\", \"size\": 20}, {\"color\": \"lightblue\", \"id\": \"\\u0e15\\u0e34\\u0e14\\u0e15\\u0e32\\u0e21\", \"label\": \"\\u0e15\\u0e34\\u0e14\\u0e15\\u0e32\\u0e21\", \"shape\": \"dot\", \"size\": 10}, {\"color\": \"lightblue\", \"id\": \"\\u0e28\\u0e34\", \"label\": \"\\u0e28\\u0e34\", \"shape\": \"dot\", \"size\": 10}, {\"color\": \"lightblue\", \"id\": \"\\u0e23\\u0e34\", \"label\": \"\\u0e23\\u0e34\", \"shape\": \"dot\", \"size\": 10}, {\"color\": \"lightblue\", \"id\": \"\\u0e01\\u0e32\\u0e0a\\u0e32\\u0e14\", \"label\": \"\\u0e01\\u0e32\\u0e0a\\u0e32\\u0e14\", \"shape\": \"dot\", \"size\": 20}, {\"color\": \"lightblue\", \"id\": \"\\u0e1b\\u0e23\\u0e34\\u0e21\\u0e32\\u0e13\", \"label\": \"\\u0e1b\\u0e23\\u0e34\\u0e21\\u0e32\\u0e13\", \"shape\": \"dot\", \"size\": 10}, {\"color\": \"lightblue\", \"id\": \"\\u0e2a\\u0e15\\u0e39\\u0e25\", \"label\": \"\\u0e2a\\u0e15\\u0e39\\u0e25\", \"shape\": \"dot\", \"size\": 10}, {\"color\": \"lightblue\", \"id\": \"\\u0e1e\\u0e32\\u0e13\\u0e34\\u0e0a\\u0e22\\u0e4c\", \"label\": \"\\u0e1e\\u0e32\\u0e13\\u0e34\\u0e0a\\u0e22\\u0e4c\", \"shape\": \"dot\", \"size\": 20}, {\"color\": \"lightblue\", \"id\": \"\\u0e2a\\u0e32\\u0e18\\u0e32\\u0e23\\u0e13\\u0e20\\u0e31\\u0e22\", \"label\": \"\\u0e2a\\u0e32\\u0e18\\u0e32\\u0e23\\u0e13\\u0e20\\u0e31\\u0e22\", \"shape\": \"dot\", \"size\": 30}, {\"color\": \"lightblue\", \"id\": \"\\u0e2a\\u0e21\\u0e32\\u0e04\\u0e21\", \"label\": \"\\u0e2a\\u0e21\\u0e32\\u0e04\\u0e21\", \"shape\": \"dot\", \"size\": 20}, {\"color\": \"lightblue\", \"id\": \"\\u0e20\\u0e32\\u0e04\\u0e43\\u0e15\\u0e49\", \"label\": \"\\u0e20\\u0e32\\u0e04\\u0e43\\u0e15\\u0e49\", \"shape\": \"dot\", \"size\": 10}, {\"color\": \"lightblue\", \"id\": \"\\u0e1e\\u0e24\\u0e29\\u0e20\\u0e32\\u0e04\\u0e21\", \"label\": \"\\u0e1e\\u0e24\\u0e29\\u0e20\\u0e32\\u0e04\\u0e21\", \"shape\": \"dot\", \"size\": 10}, {\"color\": \"lightblue\", \"id\": \"\\u0e2a\\u0e07\\u0e02\\u0e25\\u0e32\", \"label\": \"\\u0e2a\\u0e07\\u0e02\\u0e25\\u0e32\", \"shape\": \"dot\", \"size\": 10}, {\"color\": \"lightblue\", \"id\": \"\\u0e25\\u0e33\\u0e1b\\u0e32\\u0e07\", \"label\": \"\\u0e25\\u0e33\\u0e1b\\u0e32\\u0e07\", \"shape\": \"dot\", \"size\": 10}, {\"color\": \"lightblue\", \"id\": \"\\u0e1a\\u0e23\\u0e23\\u0e40\\u0e17\\u0e32\", \"label\": \"\\u0e1a\\u0e23\\u0e23\\u0e40\\u0e17\\u0e32\", \"shape\": \"dot\", \"size\": 30}, {\"color\": \"lightblue\", \"id\": \"\\u0e21\\u0e35\\u0e19\\u0e32\\u0e04\\u0e21\", \"label\": \"\\u0e21\\u0e35\\u0e19\\u0e32\\u0e04\\u0e21\", \"shape\": \"dot\", \"size\": 10}, {\"color\": \"lightblue\", \"id\": \"\\u0e23\\u0e31\\u0e01\\u0e29\\u0e32\", \"label\": \"\\u0e23\\u0e31\\u0e01\\u0e29\\u0e32\", \"shape\": \"dot\", \"size\": 10}, {\"color\": \"lightblue\", \"id\": \"\\u0e2b\\u0e32\\u0e22\", \"label\": \"\\u0e2b\\u0e32\\u0e22\", \"shape\": \"dot\", \"size\": 10}, {\"color\": \"lightblue\", \"id\": \"\\u0e09\\u0e35\\u0e14\\u0e27\\u0e31\\u0e04\\u0e0b\\u0e35\\u0e19\", \"label\": \"\\u0e09\\u0e35\\u0e14\\u0e27\\u0e31\\u0e04\\u0e0b\\u0e35\\u0e19\", \"shape\": \"dot\", \"size\": 30}, {\"color\": \"lightblue\", \"id\": \"\\u0e2a\\u0e38\\u0e1e\\u0e23\\u0e23\\u0e13\\u0e1a\\u0e38\\u0e23\\u0e35\", \"label\": \"\\u0e2a\\u0e38\\u0e1e\\u0e23\\u0e23\\u0e13\\u0e1a\\u0e38\\u0e23\\u0e35\", \"shape\": \"dot\", \"size\": 10}, {\"color\": \"lightblue\", \"id\": \"\\u0e2a\\u0e38\\u0e23\\u0e34\\u0e19\\u0e17\\u0e23\\u0e4c\", \"label\": \"\\u0e2a\\u0e38\\u0e23\\u0e34\\u0e19\\u0e17\\u0e23\\u0e4c\", \"shape\": \"dot\", \"size\": 10}, {\"color\": \"lightblue\", \"id\": \"\\u0e01\\u0e32\\u0e23\\u0e1b\\u0e23\\u0e30\\u0e0a\\u0e38\\u0e21\", \"label\": \"\\u0e01\\u0e32\\u0e23\\u0e1b\\u0e23\\u0e30\\u0e0a\\u0e38\\u0e21\", \"shape\": \"dot\", \"size\": 10}, {\"color\": \"lightblue\", \"id\": \"\\u0e01\\u0e38\\u0e21\\u0e20\\u0e32\\u0e1e\\u0e31\\u0e19\\u0e18\\u0e4c\", \"label\": \"\\u0e01\\u0e38\\u0e21\\u0e20\\u0e32\\u0e1e\\u0e31\\u0e19\\u0e18\\u0e4c\", \"shape\": \"dot\", \"size\": 10}, {\"color\": \"lightblue\", \"id\": \"\\u0e2a\\u0e23\\u0e49\\u0e32\\u0e07\", \"label\": \"\\u0e2a\\u0e23\\u0e49\\u0e32\\u0e07\", \"shape\": \"dot\", \"size\": 10}, {\"color\": \"lightblue\", \"id\": \"\\u0e23\\u0e32\\u0e22\\u0e44\\u0e14\\u0e49\", \"label\": \"\\u0e23\\u0e32\\u0e22\\u0e44\\u0e14\\u0e49\", \"shape\": \"dot\", \"size\": 10}, {\"color\": \"lightblue\", \"id\": \"\\u0e21\\u0e38\\u0e01\\u0e14\\u0e32\\u0e2b\\u0e32\\u0e23\", \"label\": \"\\u0e21\\u0e38\\u0e01\\u0e14\\u0e32\\u0e2b\\u0e32\\u0e23\", \"shape\": \"dot\", \"size\": 10}, {\"color\": \"lightblue\", \"id\": \"\\u0e2a\\u0e33\\u0e19\\u0e31\\u0e01\\u0e07\\u0e32\\u0e19\", \"label\": \"\\u0e2a\\u0e33\\u0e19\\u0e31\\u0e01\\u0e07\\u0e32\\u0e19\", \"shape\": \"dot\", \"size\": 60}, {\"color\": \"lightblue\", \"id\": \"\\u0e1c\\u0e39\\u0e49\\u0e40\\u0e2a\\u0e35\\u0e22\\u0e0a\\u0e35\\u0e27\\u0e34\\u0e15\", \"label\": \"\\u0e1c\\u0e39\\u0e49\\u0e40\\u0e2a\\u0e35\\u0e22\\u0e0a\\u0e35\\u0e27\\u0e34\\u0e15\", \"shape\": \"dot\", \"size\": 10}, {\"color\": \"lightblue\", \"id\": \"\\u0e27\\u0e31\\u0e12\\u0e19\\u0e18\\u0e23\\u0e23\\u0e21\", \"label\": \"\\u0e27\\u0e31\\u0e12\\u0e19\\u0e18\\u0e23\\u0e23\\u0e21\", \"shape\": \"dot\", \"size\": 10}, {\"color\": \"lightblue\", \"id\": \"\\u0e08\\u0e33\\u0e2b\\u0e19\\u0e48\\u0e32\\u0e22\", \"label\": \"\\u0e08\\u0e33\\u0e2b\\u0e19\\u0e48\\u0e32\\u0e22\", \"shape\": \"dot\", \"size\": 10}, {\"color\": \"lightblue\", \"id\": \"\\u0e2a\\u0e34\\u0e19\\u0e04\\u0e49\\u0e32\", \"label\": \"\\u0e2a\\u0e34\\u0e19\\u0e04\\u0e49\\u0e32\", \"shape\": \"dot\", \"size\": 20}, {\"color\": \"lightblue\", \"id\": \"\\u0e40\\u0e2a\\u0e35\\u0e48\\u0e22\\u0e07\", \"label\": \"\\u0e40\\u0e2a\\u0e35\\u0e48\\u0e22\\u0e07\", \"shape\": \"dot\", \"size\": 10}, {\"color\": \"lightblue\", \"id\": \"\\u0e2a\\u0e38\\u0e23\\u0e32\\u0e29\\u0e0e\\u0e23\\u0e4c\\u0e18\\u0e32\\u0e19\\u0e35\", \"label\": \"\\u0e2a\\u0e38\\u0e23\\u0e32\\u0e29\\u0e0e\\u0e23\\u0e4c\\u0e18\\u0e32\\u0e19\\u0e35\", \"shape\": \"dot\", \"size\": 10}, {\"color\": \"lightblue\", \"id\": \"\\u0e0a\\u0e48\\u0e27\\u0e22\\u0e40\\u0e2b\\u0e25\\u0e37\\u0e2d\", \"label\": \"\\u0e0a\\u0e48\\u0e27\\u0e22\\u0e40\\u0e2b\\u0e25\\u0e37\\u0e2d\", \"shape\": \"dot\", \"size\": 20}, {\"color\": \"lightblue\", \"id\": \"\\u0e1c\\u0e39\\u0e49\\u0e27\\u0e48\\u0e32\\u0e23\\u0e32\\u0e0a\\u0e01\\u0e32\\u0e23\\u0e08\\u0e31\\u0e07\\u0e2b\\u0e27\\u0e31\\u0e14\", \"label\": \"\\u0e1c\\u0e39\\u0e49\\u0e27\\u0e48\\u0e32\\u0e23\\u0e32\\u0e0a\\u0e01\\u0e32\\u0e23\\u0e08\\u0e31\\u0e07\\u0e2b\\u0e27\\u0e31\\u0e14\", \"shape\": \"dot\", \"size\": 30}, {\"color\": \"lightblue\", \"id\": \"\\u0e23\\u0e32\\u0e0a\", \"label\": \"\\u0e23\\u0e32\\u0e0a\", \"shape\": \"dot\", \"size\": 10}, {\"color\": \"lightblue\", \"id\": \"\\u0e0a\\u0e31\\u0e22\\u0e19\\u0e32\\u0e17\", \"label\": \"\\u0e0a\\u0e31\\u0e22\\u0e19\\u0e32\\u0e17\", \"shape\": \"dot\", \"size\": 10}, {\"color\": \"lightblue\", \"id\": \"\\u0e01\\u0e33\\u0e19\\u0e31\\u0e19\", \"label\": \"\\u0e01\\u0e33\\u0e19\\u0e31\\u0e19\", \"shape\": \"dot\", \"size\": 10}, {\"color\": \"lightblue\", \"id\": \"\\u0e1c\\u0e39\\u0e49\\u0e43\\u0e2b\\u0e0d\\u0e48\\u0e1a\\u0e49\\u0e32\\u0e19\", \"label\": \"\\u0e1c\\u0e39\\u0e49\\u0e43\\u0e2b\\u0e0d\\u0e48\\u0e1a\\u0e49\\u0e32\\u0e19\", \"shape\": \"dot\", \"size\": 10}, {\"color\": \"lightblue\", \"id\": \"\\u0e22\\u0e2d\\u0e14\", \"label\": \"\\u0e22\\u0e2d\\u0e14\", \"shape\": \"dot\", \"size\": 30}, {\"color\": \"lightblue\", \"id\": \"\\u0e2b\\u0e21\\u0e39\\u0e48\\u0e1a\\u0e49\\u0e32\\u0e19\", \"label\": \"\\u0e2b\\u0e21\\u0e39\\u0e48\\u0e1a\\u0e49\\u0e32\\u0e19\", \"shape\": \"dot\", \"size\": 10}, {\"color\": \"lightblue\", \"id\": \"\\u0e01\\u0e2d\\u0e07\\u0e17\\u0e38\\u0e19\", \"label\": \"\\u0e01\\u0e2d\\u0e07\\u0e17\\u0e38\\u0e19\", \"shape\": \"dot\", \"size\": 10}, {\"color\": \"lightblue\", \"id\": \"\\u0e1e\\u0e31\\u0e12\\u0e19\\u0e32\", \"label\": \"\\u0e1e\\u0e31\\u0e12\\u0e19\\u0e32\", \"shape\": \"dot\", \"size\": 10}, {\"color\": \"lightblue\", \"id\": \"\\u0e1c\\u0e39\\u0e49\\u0e2d\\u0e33\\u0e19\\u0e27\\u0e22\\u0e01\\u0e32\\u0e23\", \"label\": \"\\u0e1c\\u0e39\\u0e49\\u0e2d\\u0e33\\u0e19\\u0e27\\u0e22\\u0e01\\u0e32\\u0e23\", \"shape\": \"dot\", \"size\": 10}, {\"color\": \"lightblue\", \"id\": \"\\u0e04\\u0e27\\u0e32\\u0e21\\u0e40\\u0e14\\u0e37\\u0e2d\\u0e14\\u0e23\\u0e49\\u0e2d\\u0e19\", \"label\": \"\\u0e04\\u0e27\\u0e32\\u0e21\\u0e40\\u0e14\\u0e37\\u0e2d\\u0e14\\u0e23\\u0e49\\u0e2d\\u0e19\", \"shape\": \"dot\", \"size\": 10}, {\"color\": \"lightblue\", \"id\": \"\\u0e1b\\u0e49\\u0e2d\\u0e07\\u0e01\\u0e31\\u0e19\", \"label\": \"\\u0e1b\\u0e49\\u0e2d\\u0e07\\u0e01\\u0e31\\u0e19\", \"shape\": \"dot\", \"size\": 30}, {\"color\": \"lightblue\", \"id\": \"\\u0e01\\u0e23\\u0e01\\u0e0e\\u0e32\\u0e04\\u0e21\", \"label\": \"\\u0e01\\u0e23\\u0e01\\u0e0e\\u0e32\\u0e04\\u0e21\", \"shape\": \"dot\", \"size\": 10}, {\"color\": \"lightblue\", \"id\": \"\\u0e04\\u0e27\\u0e1a\\u0e04\\u0e38\\u0e21\", \"label\": \"\\u0e04\\u0e27\\u0e1a\\u0e04\\u0e38\\u0e21\", \"shape\": \"dot\", \"size\": 10}, {\"color\": \"lightblue\", \"id\": \"\\u0e18\\u0e31\\u0e19\\u0e27\\u0e32\\u0e04\\u0e21\", \"label\": \"\\u0e18\\u0e31\\u0e19\\u0e27\\u0e32\\u0e04\\u0e21\", \"shape\": \"dot\", \"size\": 10}, {\"color\": \"lightblue\", \"id\": \"\\u0e40\\u0e02\\u0e49\\u0e32\\u0e23\\u0e48\\u0e27\\u0e21\", \"label\": \"\\u0e40\\u0e02\\u0e49\\u0e32\\u0e23\\u0e48\\u0e27\\u0e21\", \"shape\": \"dot\", \"size\": 20}, {\"color\": \"lightblue\", \"id\": \"\\u0e40\\u0e0a\\u0e37\\u0e49\\u0e2d\", \"label\": \"\\u0e40\\u0e0a\\u0e37\\u0e49\\u0e2d\", \"shape\": \"dot\", \"size\": 20}, {\"color\": \"lightblue\", \"id\": \"\\u0e01\\u0e34\\u0e42\\u0e25\\u0e01\\u0e23\\u0e31\\u0e21\", \"label\": \"\\u0e01\\u0e34\\u0e42\\u0e25\\u0e01\\u0e23\\u0e31\\u0e21\", \"shape\": \"dot\", \"size\": 10}, {\"color\": \"lightblue\", \"id\": \"\\u0e15\\u0e23\\u0e27\\u0e08\", \"label\": \"\\u0e15\\u0e23\\u0e27\\u0e08\", \"shape\": \"dot\", \"size\": 20}, {\"color\": \"lightblue\", \"id\": \"\\u0e40\\u0e22\\u0e35\\u0e48\\u0e22\\u0e21\", \"label\": \"\\u0e40\\u0e22\\u0e35\\u0e48\\u0e22\\u0e21\", \"shape\": \"dot\", \"size\": 10}, {\"color\": \"lightblue\", \"id\": \"\\u0e20\\u0e39\\u0e40\\u0e01\\u0e47\\u0e15\", \"label\": \"\\u0e20\\u0e39\\u0e40\\u0e01\\u0e47\\u0e15\", \"shape\": \"dot\", \"size\": 10}, {\"color\": \"lightblue\", \"id\": \"\\u0e17\\u0e23\\u0e31\\u0e1e\\u0e22\\u0e32\\u0e01\\u0e23\\u0e18\\u0e23\\u0e23\\u0e21\\u0e0a\\u0e32\\u0e15\\u0e34\", \"label\": \"\\u0e17\\u0e23\\u0e31\\u0e1e\\u0e22\\u0e32\\u0e01\\u0e23\\u0e18\\u0e23\\u0e23\\u0e21\\u0e0a\\u0e32\\u0e15\\u0e34\", \"shape\": \"dot\", \"size\": 10}, {\"color\": \"lightblue\", \"id\": \"\\u0e2a\\u0e34\\u0e48\\u0e07\\u0e41\\u0e27\\u0e14\\u0e25\\u0e49\\u0e2d\\u0e21\", \"label\": \"\\u0e2a\\u0e34\\u0e48\\u0e07\\u0e41\\u0e27\\u0e14\\u0e25\\u0e49\\u0e2d\\u0e21\", \"shape\": \"dot\", \"size\": 10}, {\"color\": \"lightblue\", \"id\": \"\\u0e01\\u0e31\\u0e19\\u0e22\\u0e32\\u0e22\\u0e19\", \"label\": \"\\u0e01\\u0e31\\u0e19\\u0e22\\u0e32\\u0e22\\u0e19\", \"shape\": \"dot\", \"size\": 10}, {\"color\": \"lightblue\", \"id\": \"\\u0e23\\u0e32\\u0e22\\u0e07\\u0e32\\u0e19\", \"label\": \"\\u0e23\\u0e32\\u0e22\\u0e07\\u0e32\\u0e19\", \"shape\": \"dot\", \"size\": 10}, {\"color\": \"lightblue\", \"id\": \"\\u0e1e\\u0e23\\u0e30\\u0e40\\u0e08\\u0e49\\u0e32\\u0e2d\\u0e22\\u0e39\\u0e48\\u0e2b\\u0e31\\u0e27\", \"label\": \"\\u0e1e\\u0e23\\u0e30\\u0e40\\u0e08\\u0e49\\u0e32\\u0e2d\\u0e22\\u0e39\\u0e48\\u0e2b\\u0e31\\u0e27\", \"shape\": \"dot\", \"size\": 10}, {\"color\": \"lightblue\", \"id\": \"\\u0e15\\u0e23\\u0e32\\u0e14\", \"label\": \"\\u0e15\\u0e23\\u0e32\\u0e14\", \"shape\": \"dot\", \"size\": 10}, {\"color\": \"lightblue\", \"id\": \"\\u0e19\\u0e32\\u0e22\\u0e01\", \"label\": \"\\u0e19\\u0e32\\u0e22\\u0e01\", \"shape\": \"dot\", \"size\": 20}, {\"color\": \"lightblue\", \"id\": \"\\u0e1f\\u0e49\\u0e32\", \"label\": \"\\u0e1f\\u0e49\\u0e32\", \"shape\": \"dot\", \"size\": 20}, {\"color\": \"lightblue\", \"id\": \"\\u0e15\\u0e23\\u0e27\\u0e08\\u0e2b\\u0e32\", \"label\": \"\\u0e15\\u0e23\\u0e27\\u0e08\\u0e2b\\u0e32\", \"shape\": \"dot\", \"size\": 10}, {\"color\": \"lightblue\", \"id\": \"\\u0e1b\\u0e31\\u0e15\\u0e15\\u0e32\\u0e19\\u0e35\", \"label\": \"\\u0e1b\\u0e31\\u0e15\\u0e15\\u0e32\\u0e19\\u0e35\", \"shape\": \"dot\", \"size\": 10}, {\"color\": \"lightblue\", \"id\": \"\\u0e1e\\u0e23\\u0e30\\u0e1e\\u0e38\\u0e17\\u0e18\", \"label\": \"\\u0e1e\\u0e23\\u0e30\\u0e1e\\u0e38\\u0e17\\u0e18\", \"shape\": \"dot\", \"size\": 20}, {\"color\": \"lightblue\", \"id\": \"\\u0e08\\u0e38\\u0e2c\\u0e32\", \"label\": \"\\u0e08\\u0e38\\u0e2c\\u0e32\", \"shape\": \"dot\", \"size\": 20}, {\"color\": \"lightblue\", \"id\": \"\\u0e42\\u0e25\\u0e01\", \"label\": \"\\u0e42\\u0e25\\u0e01\", \"shape\": \"dot\", \"size\": 10}, {\"color\": \"lightblue\", \"id\": \"\\u0e22\\u0e42\\u0e2a\\u0e18\\u0e23\", \"label\": \"\\u0e22\\u0e42\\u0e2a\\u0e18\\u0e23\", \"shape\": \"dot\", \"size\": 10}, {\"color\": \"lightblue\", \"id\": \"\\u0e21\\u0e34\\u0e16\\u0e38\\u0e19\\u0e32\\u0e22\\u0e19\", \"label\": \"\\u0e21\\u0e34\\u0e16\\u0e38\\u0e19\\u0e32\\u0e22\\u0e19\", \"shape\": \"dot\", \"size\": 10}, {\"color\": \"lightblue\", \"id\": \"\\u0e1e\\u0e31\\u0e17\\u0e25\\u0e38\\u0e07\", \"label\": \"\\u0e1e\\u0e31\\u0e17\\u0e25\\u0e38\\u0e07\", \"shape\": \"dot\", \"size\": 10}, {\"color\": \"lightblue\", \"id\": \"\\u0e08\\u0e34\\u0e15\", \"label\": \"\\u0e08\\u0e34\\u0e15\", \"shape\": \"dot\", \"size\": 10}, {\"color\": \"lightblue\", \"id\": \"\\u0e2d\\u0e32\\u0e2a\\u0e32\", \"label\": \"\\u0e2d\\u0e32\\u0e2a\\u0e32\", \"shape\": \"dot\", \"size\": 10}, {\"color\": \"lightblue\", \"id\": \"\\u0e40\\u0e17\\u0e28\\u0e01\\u0e32\\u0e25\", \"label\": \"\\u0e40\\u0e17\\u0e28\\u0e01\\u0e32\\u0e25\", \"shape\": \"dot\", \"size\": 10}, {\"color\": \"lightblue\", \"id\": \"\\u0e2a\\u0e07\\u0e01\\u0e23\\u0e32\\u0e19\\u0e15\\u0e4c\", \"label\": \"\\u0e2a\\u0e07\\u0e01\\u0e23\\u0e32\\u0e19\\u0e15\\u0e4c\", \"shape\": \"dot\", \"size\": 10}, {\"color\": \"lightblue\", \"id\": \"\\u0e2d\\u0e33\\u0e40\\u0e20\\u0e2d\", \"label\": \"\\u0e2d\\u0e33\\u0e40\\u0e20\\u0e2d\", \"shape\": \"dot\", \"size\": 20}, {\"color\": \"lightblue\", \"id\": \"\\u0e01\\u0e34\\u0e19\", \"label\": \"\\u0e01\\u0e34\\u0e19\", \"shape\": \"dot\", \"size\": 10}, {\"color\": \"lightblue\", \"id\": \"\\u0e21\\u0e01\\u0e23\\u0e32\\u0e04\\u0e21\", \"label\": \"\\u0e21\\u0e01\\u0e23\\u0e32\\u0e04\\u0e21\", \"shape\": \"dot\", \"size\": 10}, {\"color\": \"lightblue\", \"id\": \"\\u0e1b\\u0e23\\u0e30\\u0e08\\u0e33\", \"label\": \"\\u0e1b\\u0e23\\u0e30\\u0e08\\u0e33\", \"shape\": \"dot\", \"size\": 10}, {\"color\": \"lightblue\", \"id\": \"\\u0e1b\\u0e35\\u0e07\\u0e1a\\u0e1b\\u0e23\\u0e30\\u0e21\\u0e32\\u0e13\", \"label\": \"\\u0e1b\\u0e35\\u0e07\\u0e1a\\u0e1b\\u0e23\\u0e30\\u0e21\\u0e32\\u0e13\", \"shape\": \"dot\", \"size\": 10}, {\"color\": \"lightblue\", \"id\": \"\\u0e41\\u0e1e\\u0e23\\u0e48\", \"label\": \"\\u0e41\\u0e1e\\u0e23\\u0e48\", \"shape\": \"dot\", \"size\": 10}, {\"color\": \"lightblue\", \"id\": \"\\u0e23\\u0e2d\\u0e07\", \"label\": \"\\u0e23\\u0e2d\\u0e07\", \"shape\": \"dot\", \"size\": 10}, {\"color\": \"lightblue\", \"id\": \"\\u0e19\\u0e04\\u0e23\\u0e1e\\u0e19\\u0e21\", \"label\": \"\\u0e19\\u0e04\\u0e23\\u0e1e\\u0e19\\u0e21\", \"shape\": \"dot\", \"size\": 10}, {\"color\": \"lightblue\", \"id\": \"\\u0e23\\u0e32\\u0e04\\u0e32\", \"label\": \"\\u0e23\\u0e32\\u0e04\\u0e32\", \"shape\": \"dot\", \"size\": 10}, {\"color\": \"lightblue\", \"id\": \"\\u0e41\\u0e19\\u0e27\", \"label\": \"\\u0e41\\u0e19\\u0e27\", \"shape\": \"dot\", \"size\": 10}, {\"color\": \"lightblue\", \"id\": \"\\u0e17\\u0e32\\u0e07\\u0e01\\u0e32\\u0e23\", \"label\": \"\\u0e17\\u0e32\\u0e07\\u0e01\\u0e32\\u0e23\", \"shape\": \"dot\", \"size\": 10}, {\"color\": \"lightblue\", \"id\": \"\\u0e0a\\u0e31\\u0e49\\u0e19\", \"label\": \"\\u0e0a\\u0e31\\u0e49\\u0e19\", \"shape\": \"dot\", \"size\": 10}, {\"color\": \"lightblue\", \"id\": \"\\u0e28\\u0e32\\u0e25\\u0e32\\u0e01\\u0e25\\u0e32\\u0e07\\u0e08\\u0e31\\u0e07\\u0e2b\\u0e27\\u0e31\\u0e14\", \"label\": \"\\u0e28\\u0e32\\u0e25\\u0e32\\u0e01\\u0e25\\u0e32\\u0e07\\u0e08\\u0e31\\u0e07\\u0e2b\\u0e27\\u0e31\\u0e14\", \"shape\": \"dot\", \"size\": 10}, {\"color\": \"lightblue\", \"id\": \"\\u0e1e\\u0e23\\u0e30\\u0e19\\u0e04\\u0e23\\u0e28\\u0e23\\u0e35\\u0e2d\\u0e22\\u0e38\\u0e18\\u0e22\\u0e32\", \"label\": \"\\u0e1e\\u0e23\\u0e30\\u0e19\\u0e04\\u0e23\\u0e28\\u0e23\\u0e35\\u0e2d\\u0e22\\u0e38\\u0e18\\u0e22\\u0e32\", \"shape\": \"dot\", \"size\": 10}, {\"color\": \"lightblue\", \"id\": \"\\u0e1b\\u0e28\\u0e38\\u0e2a\\u0e31\\u0e15\\u0e27\\u0e4c\", \"label\": \"\\u0e1b\\u0e28\\u0e38\\u0e2a\\u0e31\\u0e15\\u0e27\\u0e4c\", \"shape\": \"dot\", \"size\": 10}, {\"color\": \"lightblue\", \"id\": \"\\u0e40\\u0e02\\u0e15\", \"label\": \"\\u0e40\\u0e02\\u0e15\", \"shape\": \"dot\", \"size\": 10}, {\"color\": \"lightblue\", \"id\": \"\\u0e42\\u0e04\\u0e23\\u0e07\\u0e01\\u0e32\\u0e23\", \"label\": \"\\u0e42\\u0e04\\u0e23\\u0e07\\u0e01\\u0e32\\u0e23\", \"shape\": \"dot\", \"size\": 10}, {\"color\": \"lightblue\", \"id\": \"\\u0e23\\u0e30\\u0e1a\\u0e32\\u0e14\", \"label\": \"\\u0e23\\u0e30\\u0e1a\\u0e32\\u0e14\", \"shape\": \"dot\", \"size\": 10}, {\"color\": \"lightblue\", \"id\": \"\\u0e2a\\u0e48\\u0e07\\u0e40\\u0e2a\\u0e23\\u0e34\\u0e21\", \"label\": \"\\u0e2a\\u0e48\\u0e07\\u0e40\\u0e2a\\u0e23\\u0e34\\u0e21\", \"shape\": \"dot\", \"size\": 10}, {\"color\": \"lightblue\", \"id\": \"\\u0e01\\u0e32\\u0e23\\u0e17\\u0e48\\u0e2d\\u0e07\\u0e40\\u0e17\\u0e35\\u0e48\\u0e22\\u0e27\", \"label\": \"\\u0e01\\u0e32\\u0e23\\u0e17\\u0e48\\u0e2d\\u0e07\\u0e40\\u0e17\\u0e35\\u0e48\\u0e22\\u0e27\", \"shape\": \"dot\", \"size\": 10}, {\"color\": \"lightblue\", \"id\": \"\\u0e19\\u0e49\\u0e33\\u0e17\\u0e48\\u0e27\\u0e21\", \"label\": \"\\u0e19\\u0e49\\u0e33\\u0e17\\u0e48\\u0e27\\u0e21\", \"shape\": \"dot\", \"size\": 10}, {\"color\": \"lightblue\", \"id\": \"\\u0e02\\u0e31\\u0e07\", \"label\": \"\\u0e02\\u0e31\\u0e07\", \"shape\": \"dot\", \"size\": 10}, {\"color\": \"lightblue\", \"id\": \"\\u0e41\\u0e21\\u0e48\\u0e2e\\u0e48\\u0e2d\\u0e07\\u0e2a\\u0e2d\\u0e19\", \"label\": \"\\u0e41\\u0e21\\u0e48\\u0e2e\\u0e48\\u0e2d\\u0e07\\u0e2a\\u0e2d\\u0e19\", \"shape\": \"dot\", \"size\": 10}, {\"color\": \"lightblue\", \"id\": \"\\u0e19\\u0e23\\u0e32\\u0e18\\u0e34\\u0e27\\u0e32\\u0e2a\", \"label\": \"\\u0e19\\u0e23\\u0e32\\u0e18\\u0e34\\u0e27\\u0e32\\u0e2a\", \"shape\": \"dot\", \"size\": 10}, {\"color\": \"lightblue\", \"id\": \"\\u0e2a\\u0e30\\u0e2a\\u0e21\", \"label\": \"\\u0e2a\\u0e30\\u0e2a\\u0e21\", \"shape\": \"dot\", \"size\": 20}, {\"color\": \"lightblue\", \"id\": \"\\u0e08\\u0e38\\u0e14\", \"label\": \"\\u0e08\\u0e38\\u0e14\", \"shape\": \"dot\", \"size\": 10}, {\"color\": \"lightblue\", \"id\": \"\\u0e40\\u0e02\\u0e47\\u0e21\", \"label\": \"\\u0e40\\u0e02\\u0e47\\u0e21\", \"shape\": \"dot\", \"size\": 10}, {\"color\": \"lightblue\", \"id\": \"\\u0e40\\u0e01\\u0e29\\u0e15\\u0e23\", \"label\": \"\\u0e40\\u0e01\\u0e29\\u0e15\\u0e23\", \"shape\": \"dot\", \"size\": 20}, {\"color\": \"lightblue\", \"id\": \"\\u0e40\\u0e1e\\u0e0a\\u0e23\\u0e1a\\u0e39\\u0e23\\u0e13\\u0e4c\", \"label\": \"\\u0e40\\u0e1e\\u0e0a\\u0e23\\u0e1a\\u0e39\\u0e23\\u0e13\\u0e4c\", \"shape\": \"dot\", \"size\": 10}, {\"color\": \"lightblue\", \"id\": \"\\u0e21\\u0e32\\u0e15\\u0e23\", \"label\": \"\\u0e21\\u0e32\\u0e15\\u0e23\", \"shape\": \"dot\", \"size\": 10}, {\"color\": \"lightblue\", \"id\": \"\\u0e01\\u0e32\\u0e23\\u0e04\\u0e27\\u0e1a\\u0e04\\u0e38\\u0e21\", \"label\": \"\\u0e01\\u0e32\\u0e23\\u0e04\\u0e27\\u0e1a\\u0e04\\u0e38\\u0e21\", \"shape\": \"dot\", \"size\": 10}, {\"color\": \"lightblue\", \"id\": \"\\u0e19\\u0e32\\u0e22\\u0e41\\u0e1e\\u0e17\\u0e22\\u0e4c\", \"label\": \"\\u0e19\\u0e32\\u0e22\\u0e41\\u0e1e\\u0e17\\u0e22\\u0e4c\", \"shape\": \"dot\", \"size\": 10}, {\"color\": \"lightblue\", \"id\": \"\\u0e43\\u0e2b\\u0e49\\u0e01\\u0e32\\u0e23\", \"label\": \"\\u0e43\\u0e2b\\u0e49\\u0e01\\u0e32\\u0e23\", \"shape\": \"dot\", \"size\": 20}, {\"color\": \"lightblue\", \"id\": \"\\u0e16\\u0e38\\u0e07\", \"label\": \"\\u0e16\\u0e38\\u0e07\", \"shape\": \"dot\", \"size\": 10}, {\"color\": \"lightblue\", \"id\": \"\\u0e22\\u0e31\\u0e07\\u0e0a\\u0e35\\u0e1e\", \"label\": \"\\u0e22\\u0e31\\u0e07\\u0e0a\\u0e35\\u0e1e\", \"shape\": \"dot\", \"size\": 10}, {\"color\": \"lightblue\", \"id\": \"\\u0e40\\u0e08\\u0e49\\u0e32\\u0e2d\\u0e32\\u0e27\\u0e32\\u0e2a\", \"label\": \"\\u0e40\\u0e08\\u0e49\\u0e32\\u0e2d\\u0e32\\u0e27\\u0e32\\u0e2a\", \"shape\": \"dot\", \"size\": 10}, {\"color\": \"lightblue\", \"id\": \"\\u0e27\\u0e31\\u0e14\", \"label\": \"\\u0e27\\u0e31\\u0e14\", \"shape\": \"dot\", \"size\": 10}, {\"color\": \"lightblue\", \"id\": \"\\u0e15\\u0e49\\u0e2d\\u0e19\\u0e23\\u0e31\\u0e1a\", \"label\": \"\\u0e15\\u0e49\\u0e2d\\u0e19\\u0e23\\u0e31\\u0e1a\", \"shape\": \"dot\", \"size\": 10}, {\"color\": \"lightblue\", \"id\": \"\\u0e2d\\u0e38\\u0e1a\\u0e31\\u0e15\\u0e34\\u0e40\\u0e2b\\u0e15\\u0e38\", \"label\": \"\\u0e2d\\u0e38\\u0e1a\\u0e31\\u0e15\\u0e34\\u0e40\\u0e2b\\u0e15\\u0e38\", \"shape\": \"dot\", \"size\": 10}, {\"color\": \"lightblue\", \"id\": \"\\u0e16\\u0e19\\u0e19\", \"label\": \"\\u0e16\\u0e19\\u0e19\", \"shape\": \"dot\", \"size\": 10}, {\"color\": \"lightblue\", \"id\": \"\\u0e41\\u0e2b\\u0e48\\u0e07\\u0e0a\\u0e32\\u0e15\\u0e34\", \"label\": \"\\u0e41\\u0e2b\\u0e48\\u0e07\\u0e0a\\u0e32\\u0e15\\u0e34\", \"shape\": \"dot\", \"size\": 10}]);\n",
              "        edges = new vis.DataSet([{\"color\": \"orange\", \"from\": \"\\u0e1e\\u0e37\\u0e49\\u0e19\\u0e17\\u0e35\\u0e48\", \"to\": \"\\u0e08\\u0e31\\u0e07\\u0e2b\\u0e27\\u0e31\\u0e14\", \"value\": 1576}, {\"color\": \"orange\", \"from\": \"\\u0e08\\u0e33\\u0e19\\u0e27\\u0e19\", \"to\": \"\\u0e04\\u0e19\", \"value\": 1282}, {\"color\": \"orange\", \"from\": \"\\u0e2a\\u0e16\\u0e32\\u0e19\\u0e01\\u0e32\\u0e23\\u0e13\\u0e4c\", \"to\": \"\\u0e41\\u0e1e\\u0e23\\u0e48\\u0e23\\u0e30\\u0e1a\\u0e32\\u0e14\", \"value\": 1161}, {\"color\": \"orange\", \"from\": \"\\u0e2d\\u0e32\\u0e22\\u0e38\", \"to\": \"\\u0e1b\\u0e35\", \"value\": 1137}, {\"color\": \"orange\", \"from\": \"\\u0e2b\\u0e31\\u0e27\\u0e2b\\u0e19\\u0e49\\u0e32\", \"to\": \"\\u0e2a\\u0e48\\u0e27\\u0e19\\u0e23\\u0e32\\u0e0a\\u0e01\\u0e32\\u0e23\", \"value\": 1123}, {\"color\": \"orange\", \"from\": \"\\u0e01\\u0e32\\u0e23\\u0e41\\u0e02\\u0e48\\u0e07\\u0e02\\u0e31\\u0e19\", \"to\": \"\\u0e01\\u0e35\\u0e2c\\u0e32\", \"value\": 1122}, {\"color\": \"orange\", \"from\": \"\\u0e08\\u0e31\\u0e07\\u0e2b\\u0e27\\u0e31\\u0e14\", \"to\": \"\\u0e15\\u0e23\\u0e31\\u0e07\", \"value\": 1110}, {\"color\": \"orange\", \"from\": \"\\u0e41\\u0e1e\\u0e23\\u0e48\\u0e23\\u0e30\\u0e1a\\u0e32\\u0e14\", \"to\": \"\\u0e42\\u0e23\\u0e04\", \"value\": 1107}, {\"color\": \"orange\", \"from\": \"\\u0e42\\u0e23\\u0e04\\u0e15\\u0e34\\u0e14\\u0e40\\u0e0a\\u0e37\\u0e49\\u0e2d\", \"to\": \"\\u0e19\\u0e32\", \"value\": 1054}, {\"color\": \"orange\", \"from\": \"\\u0e08\\u0e31\\u0e07\\u0e2b\\u0e27\\u0e31\\u0e14\", \"to\": \"\\u0e28\\u0e23\\u0e35\\u0e2a\\u0e30\\u0e40\\u0e01\\u0e29\", \"value\": 1032}, {\"color\": \"orange\", \"from\": \"\\u0e27\\u0e31\\u0e19\\u0e17\\u0e35\\u0e48\", \"to\": \"\\u0e40\\u0e21\\u0e29\\u0e32\\u0e22\\u0e19\", \"value\": 995}, {\"color\": \"orange\", \"from\": \"\\u0e1b\\u0e23\\u0e30\\u0e0a\\u0e32\\u0e0a\\u0e19\", \"to\": \"\\u0e1e\\u0e37\\u0e49\\u0e19\\u0e17\\u0e35\\u0e48\", \"value\": 974}, {\"color\": \"orange\", \"from\": \"\\u0e2b\\u0e21\\u0e39\\u0e48\", \"to\": \"\\u0e15\\u0e33\\u0e1a\\u0e25\", \"value\": 971}, {\"color\": \"orange\", \"from\": \"\\u0e15\\u0e34\\u0e14\\u0e40\\u0e0a\\u0e37\\u0e49\\u0e2d\", \"to\": \"\\u0e42\\u0e04\\u0e27\\u0e34\\u0e14\", \"value\": 912}, {\"color\": \"orange\", \"from\": \"\\u0e40\\u0e1d\\u0e49\\u0e32\", \"to\": \"\\u0e23\\u0e30\\u0e27\\u0e31\\u0e07\", \"value\": 906}, {\"color\": \"orange\", \"from\": \"\\u0e41\\u0e1e\\u0e23\\u0e48\\u0e23\\u0e30\\u0e1a\\u0e32\\u0e14\", \"to\": \"\\u0e42\\u0e23\\u0e04\\u0e15\\u0e34\\u0e14\\u0e40\\u0e0a\\u0e37\\u0e49\\u0e2d\", \"value\": 905}, {\"color\": \"orange\", \"from\": \"\\u0e1b\\u0e23\\u0e30\\u0e18\\u0e32\\u0e19\", \"to\": \"\\u0e1e\\u0e34\\u0e18\\u0e35\", \"value\": 900}, {\"color\": \"orange\", \"from\": \"\\u0e1a\\u0e32\\u0e17\", \"to\": \"\\u0e2a\\u0e21\\u0e40\\u0e14\\u0e47\\u0e08\", \"value\": 868}, {\"color\": \"orange\", \"from\": \"\\u0e40\\u0e21\\u0e37\\u0e2d\\u0e07\", \"to\": \"\\u0e08\\u0e31\\u0e07\\u0e2b\\u0e27\\u0e31\\u0e14\", \"value\": 841}, {\"color\": \"orange\", \"from\": \"\\u0e27\\u0e31\\u0e19\\u0e17\\u0e35\\u0e48\", \"to\": \"\\u0e1e\\u0e24\\u0e28\\u0e08\\u0e34\\u0e01\\u0e32\\u0e22\\u0e19\", \"value\": 838}, {\"color\": \"orange\", \"from\": \"\\u0e1e\\u0e23\\u0e30\", \"to\": \"\\u0e1a\\u0e32\\u0e17\", \"value\": 825}, {\"color\": \"orange\", \"from\": \"\\u0e23\\u0e31\\u0e10\\u0e21\\u0e19\\u0e15\\u0e23\\u0e35\", \"to\": \"\\u0e27\\u0e48\\u0e32\\u0e01\\u0e32\\u0e23\", \"value\": 802}, {\"color\": \"orange\", \"from\": \"\\u0e1e\\u0e35\\u0e48\\u0e19\\u0e49\\u0e2d\\u0e07\", \"to\": \"\\u0e1b\\u0e23\\u0e30\\u0e0a\\u0e32\\u0e0a\\u0e19\", \"value\": 793}, {\"color\": \"orange\", \"from\": \"\\u0e1d\\u0e19\", \"to\": \"\\u0e15\\u0e01\\u0e2b\\u0e19\\u0e31\\u0e01\", \"value\": 682}, {\"color\": \"orange\", \"from\": \"\\u0e40\\u0e15\\u0e23\\u0e35\\u0e22\\u0e21\", \"to\": \"\\u0e04\\u0e27\\u0e32\\u0e21\\u0e1e\\u0e23\\u0e49\\u0e2d\\u0e21\", \"value\": 668}, {\"color\": \"orange\", \"from\": \"\\u0e08\\u0e31\\u0e07\\u0e2b\\u0e27\\u0e31\\u0e14\", \"to\": \"\\u0e25\\u0e33\\u0e1e\\u0e39\\u0e19\", \"value\": 654}, {\"color\": \"orange\", \"from\": \"\\u0e04\\u0e31\\u0e14\", \"to\": \"\\u0e01\\u0e23\\u0e2d\\u0e07\", \"value\": 651}, {\"color\": \"orange\", \"from\": \"\\u0e08\\u0e31\\u0e07\\u0e2b\\u0e27\\u0e31\\u0e14\", \"to\": \"\\u0e22\\u0e30\\u0e25\\u0e32\", \"value\": 637}, {\"color\": \"orange\", \"from\": \"\\u0e1b\\u0e23\\u0e30\\u0e0a\\u0e32\\u0e2a\\u0e31\\u0e21\\u0e1e\\u0e31\\u0e19\\u0e18\\u0e4c\", \"to\": \"\\u0e08\\u0e31\\u0e07\\u0e2b\\u0e27\\u0e31\\u0e14\", \"value\": 627}, {\"color\": \"orange\", \"from\": \"\\u0e2a\\u0e32\\u0e18\\u0e32\\u0e23\\u0e13\\u0e2a\\u0e38\\u0e02\", \"to\": \"\\u0e08\\u0e31\\u0e07\\u0e2b\\u0e27\\u0e31\\u0e14\", \"value\": 613}, {\"color\": \"orange\", \"from\": \"\\u0e23\\u0e30\\u0e1a\\u0e32\\u0e22\", \"to\": \"\\u0e19\\u0e49\\u0e33\", \"value\": 604}, {\"color\": \"orange\", \"from\": \"\\u0e08\\u0e31\\u0e07\\u0e2b\\u0e27\\u0e31\\u0e14\", \"to\": \"\\u0e0a\\u0e32\\u0e22\\u0e41\\u0e14\\u0e19\", \"value\": 598}, {\"color\": \"orange\", \"from\": \"\\u0e15\\u0e34\\u0e14\\u0e15\\u0e32\\u0e21\", \"to\": \"\\u0e2a\\u0e16\\u0e32\\u0e19\\u0e01\\u0e32\\u0e23\\u0e13\\u0e4c\", \"value\": 597}, {\"color\": \"orange\", \"from\": \"\\u0e28\\u0e34\", \"to\": \"\\u0e23\\u0e34\", \"value\": 591}, {\"color\": \"orange\", \"from\": \"\\u0e01\\u0e32\\u0e0a\\u0e32\\u0e14\", \"to\": \"\\u0e08\\u0e31\\u0e07\\u0e2b\\u0e27\\u0e31\\u0e14\", \"value\": 590}, {\"color\": \"orange\", \"from\": \"\\u0e1b\\u0e23\\u0e34\\u0e21\\u0e32\\u0e13\", \"to\": \"\\u0e19\\u0e49\\u0e33\", \"value\": 588}, {\"color\": \"orange\", \"from\": \"\\u0e2a\\u0e16\\u0e32\\u0e19\\u0e01\\u0e32\\u0e23\\u0e13\\u0e4c\", \"to\": \"\\u0e19\\u0e49\\u0e33\", \"value\": 577}, {\"color\": \"orange\", \"from\": \"\\u0e08\\u0e31\\u0e07\\u0e2b\\u0e27\\u0e31\\u0e14\", \"to\": \"\\u0e2a\\u0e15\\u0e39\\u0e25\", \"value\": 574}, {\"color\": \"orange\", \"from\": \"\\u0e1e\\u0e32\\u0e13\\u0e34\\u0e0a\\u0e22\\u0e4c\", \"to\": \"\\u0e08\\u0e31\\u0e07\\u0e2b\\u0e27\\u0e31\\u0e14\", \"value\": 568}, {\"color\": \"orange\", \"from\": \"\\u0e2a\\u0e32\\u0e18\\u0e32\\u0e23\\u0e13\\u0e20\\u0e31\\u0e22\", \"to\": \"\\u0e08\\u0e31\\u0e07\\u0e2b\\u0e27\\u0e31\\u0e14\", \"value\": 567}, {\"color\": \"orange\", \"from\": \"\\u0e2a\\u0e21\\u0e32\\u0e04\\u0e21\", \"to\": \"\\u0e01\\u0e35\\u0e2c\\u0e32\", \"value\": 561}, {\"color\": \"orange\", \"from\": \"\\u0e0a\\u0e32\\u0e22\\u0e41\\u0e14\\u0e19\", \"to\": \"\\u0e20\\u0e32\\u0e04\\u0e43\\u0e15\\u0e49\", \"value\": 559}, {\"color\": \"orange\", \"from\": \"\\u0e27\\u0e31\\u0e19\\u0e17\\u0e35\\u0e48\", \"to\": \"\\u0e1e\\u0e24\\u0e29\\u0e20\\u0e32\\u0e04\\u0e21\", \"value\": 552}, {\"color\": \"orange\", \"from\": \"\\u0e08\\u0e31\\u0e07\\u0e2b\\u0e27\\u0e31\\u0e14\", \"to\": \"\\u0e2a\\u0e07\\u0e02\\u0e25\\u0e32\", \"value\": 545}, {\"color\": \"orange\", \"from\": \"\\u0e08\\u0e31\\u0e07\\u0e2b\\u0e27\\u0e31\\u0e14\", \"to\": \"\\u0e25\\u0e33\\u0e1b\\u0e32\\u0e07\", \"value\": 545}, {\"color\": \"orange\", \"from\": \"\\u0e1a\\u0e23\\u0e23\\u0e40\\u0e17\\u0e32\", \"to\": \"\\u0e2a\\u0e32\\u0e18\\u0e32\\u0e23\\u0e13\\u0e20\\u0e31\\u0e22\", \"value\": 535}, {\"color\": \"orange\", \"from\": \"\\u0e27\\u0e31\\u0e19\\u0e17\\u0e35\\u0e48\", \"to\": \"\\u0e21\\u0e35\\u0e19\\u0e32\\u0e04\\u0e21\", \"value\": 524}, {\"color\": \"orange\", \"from\": \"\\u0e23\\u0e31\\u0e01\\u0e29\\u0e32\", \"to\": \"\\u0e2b\\u0e32\\u0e22\", \"value\": 513}, {\"color\": \"orange\", \"from\": \"\\u0e09\\u0e35\\u0e14\\u0e27\\u0e31\\u0e04\\u0e0b\\u0e35\\u0e19\", \"to\": \"\\u0e42\\u0e04\\u0e27\\u0e34\\u0e14\", \"value\": 497}, {\"color\": \"orange\", \"from\": \"\\u0e08\\u0e31\\u0e07\\u0e2b\\u0e27\\u0e31\\u0e14\", \"to\": \"\\u0e2a\\u0e38\\u0e1e\\u0e23\\u0e23\\u0e13\\u0e1a\\u0e38\\u0e23\\u0e35\", \"value\": 488}, {\"color\": \"orange\", \"from\": \"\\u0e08\\u0e31\\u0e07\\u0e2b\\u0e27\\u0e31\\u0e14\", \"to\": \"\\u0e2a\\u0e38\\u0e23\\u0e34\\u0e19\\u0e17\\u0e23\\u0e4c\", \"value\": 483}, {\"color\": \"orange\", \"from\": \"\\u0e1b\\u0e23\\u0e30\\u0e18\\u0e32\\u0e19\", \"to\": \"\\u0e01\\u0e32\\u0e23\\u0e1b\\u0e23\\u0e30\\u0e0a\\u0e38\\u0e21\", \"value\": 481}, {\"color\": \"orange\", \"from\": \"\\u0e27\\u0e31\\u0e19\\u0e17\\u0e35\\u0e48\", \"to\": \"\\u0e01\\u0e38\\u0e21\\u0e20\\u0e32\\u0e1e\\u0e31\\u0e19\\u0e18\\u0e4c\", \"value\": 478}, {\"color\": \"orange\", \"from\": \"\\u0e2a\\u0e23\\u0e49\\u0e32\\u0e07\", \"to\": \"\\u0e23\\u0e32\\u0e22\\u0e44\\u0e14\\u0e49\", \"value\": 465}, {\"color\": \"orange\", \"from\": \"\\u0e01\\u0e35\\u0e2c\\u0e32\", \"to\": \"\\u0e08\\u0e31\\u0e07\\u0e2b\\u0e27\\u0e31\\u0e14\", \"value\": 465}, {\"color\": \"orange\", \"from\": \"\\u0e08\\u0e31\\u0e07\\u0e2b\\u0e27\\u0e31\\u0e14\", \"to\": \"\\u0e21\\u0e38\\u0e01\\u0e14\\u0e32\\u0e2b\\u0e32\\u0e23\", \"value\": 455}, {\"color\": \"orange\", \"from\": \"\\u0e2a\\u0e33\\u0e19\\u0e31\\u0e01\\u0e07\\u0e32\\u0e19\", \"to\": \"\\u0e1b\\u0e23\\u0e30\\u0e0a\\u0e32\\u0e2a\\u0e31\\u0e21\\u0e1e\\u0e31\\u0e19\\u0e18\\u0e4c\", \"value\": 443}, {\"color\": \"orange\", \"from\": \"\\u0e1c\\u0e39\\u0e49\\u0e40\\u0e2a\\u0e35\\u0e22\\u0e0a\\u0e35\\u0e27\\u0e34\\u0e15\", \"to\": \"\\u0e04\\u0e19\", \"value\": 436}, {\"color\": \"orange\", \"from\": \"\\u0e2a\\u0e21\\u0e40\\u0e14\\u0e47\\u0e08\", \"to\": \"\\u0e1e\\u0e23\\u0e30\", \"value\": 423}, {\"color\": \"orange\", \"from\": \"\\u0e27\\u0e31\\u0e12\\u0e19\\u0e18\\u0e23\\u0e23\\u0e21\", \"to\": \"\\u0e08\\u0e31\\u0e07\\u0e2b\\u0e27\\u0e31\\u0e14\", \"value\": 422}, {\"color\": \"orange\", \"from\": \"\\u0e08\\u0e33\\u0e2b\\u0e19\\u0e48\\u0e32\\u0e22\", \"to\": \"\\u0e2a\\u0e34\\u0e19\\u0e04\\u0e49\\u0e32\", \"value\": 421}, {\"color\": \"orange\", \"from\": \"\\u0e1e\\u0e37\\u0e49\\u0e19\\u0e17\\u0e35\\u0e48\", \"to\": \"\\u0e40\\u0e2a\\u0e35\\u0e48\\u0e22\\u0e07\", \"value\": 418}, {\"color\": \"orange\", \"from\": \"\\u0e08\\u0e31\\u0e07\\u0e2b\\u0e27\\u0e31\\u0e14\", \"to\": \"\\u0e2a\\u0e38\\u0e23\\u0e32\\u0e29\\u0e0e\\u0e23\\u0e4c\\u0e18\\u0e32\\u0e19\\u0e35\", \"value\": 417}, {\"color\": \"orange\", \"from\": \"\\u0e0a\\u0e48\\u0e27\\u0e22\\u0e40\\u0e2b\\u0e25\\u0e37\\u0e2d\", \"to\": \"\\u0e1b\\u0e23\\u0e30\\u0e0a\\u0e32\\u0e0a\\u0e19\", \"value\": 410}, {\"color\": \"orange\", \"from\": \"\\u0e2a\\u0e16\\u0e32\\u0e19\\u0e01\\u0e32\\u0e23\\u0e13\\u0e4c\", \"to\": \"\\u0e42\\u0e04\\u0e27\\u0e34\\u0e14\", \"value\": 406}, {\"color\": \"orange\", \"from\": \"\\u0e1c\\u0e39\\u0e49\\u0e27\\u0e48\\u0e32\\u0e23\\u0e32\\u0e0a\\u0e01\\u0e32\\u0e23\\u0e08\\u0e31\\u0e07\\u0e2b\\u0e27\\u0e31\\u0e14\", \"to\": \"\\u0e1b\\u0e23\\u0e30\\u0e18\\u0e32\\u0e19\", \"value\": 404}, {\"color\": \"orange\", \"from\": \"\\u0e1e\\u0e23\\u0e30\", \"to\": \"\\u0e23\\u0e32\\u0e0a\", \"value\": 394}, {\"color\": \"orange\", \"from\": \"\\u0e08\\u0e31\\u0e07\\u0e2b\\u0e27\\u0e31\\u0e14\", \"to\": \"\\u0e0a\\u0e31\\u0e22\\u0e19\\u0e32\\u0e17\", \"value\": 392}, {\"color\": \"orange\", \"from\": \"\\u0e08\\u0e33\\u0e19\\u0e27\\u0e19\", \"to\": \"\\u0e1a\\u0e32\\u0e17\", \"value\": 390}, {\"color\": \"orange\", \"from\": \"\\u0e01\\u0e33\\u0e19\\u0e31\\u0e19\", \"to\": \"\\u0e1c\\u0e39\\u0e49\\u0e43\\u0e2b\\u0e0d\\u0e48\\u0e1a\\u0e49\\u0e32\\u0e19\", \"value\": 388}, {\"color\": \"orange\", \"from\": \"\\u0e22\\u0e2d\\u0e14\", \"to\": \"\\u0e15\\u0e34\\u0e14\\u0e40\\u0e0a\\u0e37\\u0e49\\u0e2d\", \"value\": 384}, {\"color\": \"orange\", \"from\": \"\\u0e15\\u0e33\\u0e1a\\u0e25\", \"to\": \"\\u0e2b\\u0e21\\u0e39\\u0e48\\u0e1a\\u0e49\\u0e32\\u0e19\", \"value\": 384}, {\"color\": \"orange\", \"from\": \"\\u0e01\\u0e2d\\u0e07\\u0e17\\u0e38\\u0e19\", \"to\": \"\\u0e1e\\u0e31\\u0e12\\u0e19\\u0e32\", \"value\": 384}, {\"color\": \"orange\", \"from\": \"\\u0e1c\\u0e39\\u0e49\\u0e2d\\u0e33\\u0e19\\u0e27\\u0e22\\u0e01\\u0e32\\u0e23\", \"to\": \"\\u0e2a\\u0e33\\u0e19\\u0e31\\u0e01\\u0e07\\u0e32\\u0e19\", \"value\": 381}, {\"color\": \"orange\", \"from\": \"\\u0e1e\\u0e37\\u0e49\\u0e19\\u0e17\\u0e35\\u0e48\", \"to\": \"\\u0e15\\u0e33\\u0e1a\\u0e25\", \"value\": 380}, {\"color\": \"orange\", \"from\": \"\\u0e1a\\u0e23\\u0e23\\u0e40\\u0e17\\u0e32\", \"to\": \"\\u0e04\\u0e27\\u0e32\\u0e21\\u0e40\\u0e14\\u0e37\\u0e2d\\u0e14\\u0e23\\u0e49\\u0e2d\\u0e19\", \"value\": 378}, {\"color\": \"orange\", \"from\": \"\\u0e08\\u0e33\\u0e19\\u0e27\\u0e19\", \"to\": \"\\u0e15\\u0e34\\u0e14\\u0e40\\u0e0a\\u0e37\\u0e49\\u0e2d\", \"value\": 376}, {\"color\": \"orange\", \"from\": \"\\u0e1b\\u0e49\\u0e2d\\u0e07\\u0e01\\u0e31\\u0e19\", \"to\": \"\\u0e42\\u0e23\\u0e04\", \"value\": 376}, {\"color\": \"orange\", \"from\": \"\\u0e27\\u0e31\\u0e19\\u0e17\\u0e35\\u0e48\", \"to\": \"\\u0e01\\u0e23\\u0e01\\u0e0e\\u0e32\\u0e04\\u0e21\", \"value\": 374}, {\"color\": \"orange\", \"from\": \"\\u0e04\\u0e27\\u0e1a\\u0e04\\u0e38\\u0e21\", \"to\": \"\\u0e42\\u0e23\\u0e04\", \"value\": 370}, {\"color\": \"orange\", \"from\": \"\\u0e27\\u0e31\\u0e19\\u0e17\\u0e35\\u0e48\", \"to\": \"\\u0e18\\u0e31\\u0e19\\u0e27\\u0e32\\u0e04\\u0e21\", \"value\": 370}, {\"color\": \"orange\", \"from\": \"\\u0e40\\u0e02\\u0e49\\u0e32\\u0e23\\u0e48\\u0e27\\u0e21\", \"to\": \"\\u0e01\\u0e32\\u0e23\\u0e41\\u0e02\\u0e48\\u0e07\\u0e02\\u0e31\\u0e19\", \"value\": 368}, {\"color\": \"orange\", \"from\": \"\\u0e40\\u0e0a\\u0e37\\u0e49\\u0e2d\", \"to\": \"\\u0e42\\u0e04\\u0e27\\u0e34\\u0e14\", \"value\": 365}, {\"color\": \"orange\", \"from\": \"\\u0e01\\u0e34\\u0e42\\u0e25\\u0e01\\u0e23\\u0e31\\u0e21\", \"to\": \"\\u0e1a\\u0e32\\u0e17\", \"value\": 361}, {\"color\": \"orange\", \"from\": \"\\u0e15\\u0e23\\u0e27\\u0e08\", \"to\": \"\\u0e40\\u0e22\\u0e35\\u0e48\\u0e22\\u0e21\", \"value\": 356}, {\"color\": \"orange\", \"from\": \"\\u0e08\\u0e31\\u0e07\\u0e2b\\u0e27\\u0e31\\u0e14\", \"to\": \"\\u0e20\\u0e39\\u0e40\\u0e01\\u0e47\\u0e15\", \"value\": 356}, {\"color\": \"orange\", \"from\": \"\\u0e2a\\u0e33\\u0e19\\u0e31\\u0e01\\u0e07\\u0e32\\u0e19\", \"to\": \"\\u0e2a\\u0e32\\u0e18\\u0e32\\u0e23\\u0e13\\u0e20\\u0e31\\u0e22\", \"value\": 356}, {\"color\": \"orange\", \"from\": \"\\u0e17\\u0e23\\u0e31\\u0e1e\\u0e22\\u0e32\\u0e01\\u0e23\\u0e18\\u0e23\\u0e23\\u0e21\\u0e0a\\u0e32\\u0e15\\u0e34\", \"to\": \"\\u0e2a\\u0e34\\u0e48\\u0e07\\u0e41\\u0e27\\u0e14\\u0e25\\u0e49\\u0e2d\\u0e21\", \"value\": 355}, {\"color\": \"orange\", \"from\": \"\\u0e27\\u0e31\\u0e19\\u0e17\\u0e35\\u0e48\", \"to\": \"\\u0e01\\u0e31\\u0e19\\u0e22\\u0e32\\u0e22\\u0e19\", \"value\": 355}, {\"color\": \"orange\", \"from\": \"\\u0e23\\u0e32\\u0e22\\u0e07\\u0e32\\u0e19\", \"to\": \"\\u0e2a\\u0e16\\u0e32\\u0e19\\u0e01\\u0e32\\u0e23\\u0e13\\u0e4c\", \"value\": 351}, {\"color\": \"orange\", \"from\": \"\\u0e2a\\u0e21\\u0e40\\u0e14\\u0e47\\u0e08\", \"to\": \"\\u0e1e\\u0e23\\u0e30\\u0e40\\u0e08\\u0e49\\u0e32\\u0e2d\\u0e22\\u0e39\\u0e48\\u0e2b\\u0e31\\u0e27\", \"value\": 349}, {\"color\": \"orange\", \"from\": \"\\u0e08\\u0e31\\u0e07\\u0e2b\\u0e27\\u0e31\\u0e14\", \"to\": \"\\u0e15\\u0e23\\u0e32\\u0e14\", \"value\": 347}, {\"color\": \"orange\", \"from\": \"\\u0e19\\u0e32\\u0e22\\u0e01\", \"to\": \"\\u0e01\\u0e32\\u0e0a\\u0e32\\u0e14\", \"value\": 347}, {\"color\": \"orange\", \"from\": \"\\u0e22\\u0e2d\\u0e14\", \"to\": \"\\u0e1f\\u0e49\\u0e32\", \"value\": 346}, {\"color\": \"orange\", \"from\": \"\\u0e15\\u0e23\\u0e27\\u0e08\\u0e2b\\u0e32\", \"to\": \"\\u0e40\\u0e0a\\u0e37\\u0e49\\u0e2d\", \"value\": 345}, {\"color\": \"orange\", \"from\": \"\\u0e08\\u0e31\\u0e07\\u0e2b\\u0e27\\u0e31\\u0e14\", \"to\": \"\\u0e1b\\u0e31\\u0e15\\u0e15\\u0e32\\u0e19\\u0e35\", \"value\": 345}, {\"color\": \"orange\", \"from\": \"\\u0e1e\\u0e23\\u0e30\\u0e1e\\u0e38\\u0e17\\u0e18\", \"to\": \"\\u0e22\\u0e2d\\u0e14\", \"value\": 344}, {\"color\": \"orange\", \"from\": \"\\u0e1f\\u0e49\\u0e32\", \"to\": \"\\u0e08\\u0e38\\u0e2c\\u0e32\", \"value\": 342}, {\"color\": \"orange\", \"from\": \"\\u0e08\\u0e38\\u0e2c\\u0e32\", \"to\": \"\\u0e42\\u0e25\\u0e01\", \"value\": 342}, {\"color\": \"orange\", \"from\": \"\\u0e08\\u0e31\\u0e07\\u0e2b\\u0e27\\u0e31\\u0e14\", \"to\": \"\\u0e22\\u0e42\\u0e2a\\u0e18\\u0e23\", \"value\": 341}, {\"color\": \"orange\", \"from\": \"\\u0e27\\u0e31\\u0e19\\u0e17\\u0e35\\u0e48\", \"to\": \"\\u0e21\\u0e34\\u0e16\\u0e38\\u0e19\\u0e32\\u0e22\\u0e19\", \"value\": 338}, {\"color\": \"orange\", \"from\": \"\\u0e08\\u0e31\\u0e07\\u0e2b\\u0e27\\u0e31\\u0e14\", \"to\": \"\\u0e1e\\u0e31\\u0e17\\u0e25\\u0e38\\u0e07\", \"value\": 338}, {\"color\": \"orange\", \"from\": \"\\u0e08\\u0e34\\u0e15\", \"to\": \"\\u0e2d\\u0e32\\u0e2a\\u0e32\", \"value\": 337}, {\"color\": \"orange\", \"from\": \"\\u0e40\\u0e17\\u0e28\\u0e01\\u0e32\\u0e25\", \"to\": \"\\u0e2a\\u0e07\\u0e01\\u0e23\\u0e32\\u0e19\\u0e15\\u0e4c\", \"value\": 337}, {\"color\": \"orange\", \"from\": \"\\u0e2a\\u0e21\\u0e40\\u0e14\\u0e47\\u0e08\", \"to\": \"\\u0e1e\\u0e23\\u0e30\\u0e1e\\u0e38\\u0e17\\u0e18\", \"value\": 337}, {\"color\": \"orange\", \"from\": \"\\u0e1e\\u0e37\\u0e49\\u0e19\\u0e17\\u0e35\\u0e48\", \"to\": \"\\u0e2d\\u0e33\\u0e40\\u0e20\\u0e2d\", \"value\": 335}, {\"color\": \"orange\", \"from\": \"\\u0e1c\\u0e39\\u0e49\\u0e27\\u0e48\\u0e32\\u0e23\\u0e32\\u0e0a\\u0e01\\u0e32\\u0e23\\u0e08\\u0e31\\u0e07\\u0e2b\\u0e27\\u0e31\\u0e14\", \"to\": \"\\u0e28\\u0e23\\u0e35\\u0e2a\\u0e30\\u0e40\\u0e01\\u0e29\", \"value\": 334}, {\"color\": \"orange\", \"from\": \"\\u0e42\\u0e23\\u0e04\", \"to\": \"\\u0e1b\\u0e35\", \"value\": 334}, {\"color\": \"orange\", \"from\": \"\\u0e1b\\u0e35\", \"to\": \"\\u0e01\\u0e34\\u0e19\", \"value\": 334}, {\"color\": \"orange\", \"from\": \"\\u0e27\\u0e31\\u0e19\\u0e17\\u0e35\\u0e48\", \"to\": \"\\u0e21\\u0e01\\u0e23\\u0e32\\u0e04\\u0e21\", \"value\": 332}, {\"color\": \"orange\", \"from\": \"\\u0e1b\\u0e49\\u0e2d\\u0e07\\u0e01\\u0e31\\u0e19\", \"to\": \"\\u0e1a\\u0e23\\u0e23\\u0e40\\u0e17\\u0e32\", \"value\": 330}, {\"color\": \"orange\", \"from\": \"\\u0e1b\\u0e23\\u0e30\\u0e08\\u0e33\", \"to\": \"\\u0e1b\\u0e35\\u0e07\\u0e1a\\u0e1b\\u0e23\\u0e30\\u0e21\\u0e32\\u0e13\", \"value\": 330}, {\"color\": \"orange\", \"from\": \"\\u0e08\\u0e31\\u0e07\\u0e2b\\u0e27\\u0e31\\u0e14\", \"to\": \"\\u0e41\\u0e1e\\u0e23\\u0e48\", \"value\": 329}, {\"color\": \"orange\", \"from\": \"\\u0e2a\\u0e33\\u0e19\\u0e31\\u0e01\\u0e07\\u0e32\\u0e19\", \"to\": \"\\u0e1e\\u0e32\\u0e13\\u0e34\\u0e0a\\u0e22\\u0e4c\", \"value\": 329}, {\"color\": \"orange\", \"from\": \"\\u0e23\\u0e2d\\u0e07\", \"to\": \"\\u0e1c\\u0e39\\u0e49\\u0e27\\u0e48\\u0e32\\u0e23\\u0e32\\u0e0a\\u0e01\\u0e32\\u0e23\\u0e08\\u0e31\\u0e07\\u0e2b\\u0e27\\u0e31\\u0e14\", \"value\": 326}, {\"color\": \"orange\", \"from\": \"\\u0e08\\u0e31\\u0e07\\u0e2b\\u0e27\\u0e31\\u0e14\", \"to\": \"\\u0e19\\u0e04\\u0e23\\u0e1e\\u0e19\\u0e21\", \"value\": 326}, {\"color\": \"orange\", \"from\": \"\\u0e23\\u0e32\\u0e04\\u0e32\", \"to\": \"\\u0e1a\\u0e32\\u0e17\", \"value\": 324}, {\"color\": \"orange\", \"from\": \"\\u0e41\\u0e19\\u0e27\", \"to\": \"\\u0e17\\u0e32\\u0e07\\u0e01\\u0e32\\u0e23\", \"value\": 322}, {\"color\": \"orange\", \"from\": \"\\u0e19\\u0e49\\u0e33\", \"to\": \"\\u0e1e\\u0e37\\u0e49\\u0e19\\u0e17\\u0e35\\u0e48\", \"value\": 322}, {\"color\": \"orange\", \"from\": \"\\u0e0a\\u0e31\\u0e49\\u0e19\", \"to\": \"\\u0e28\\u0e32\\u0e25\\u0e32\\u0e01\\u0e25\\u0e32\\u0e07\\u0e08\\u0e31\\u0e07\\u0e2b\\u0e27\\u0e31\\u0e14\", \"value\": 322}, {\"color\": \"orange\", \"from\": \"\\u0e19\\u0e32\\u0e22\\u0e01\", \"to\": \"\\u0e2a\\u0e21\\u0e32\\u0e04\\u0e21\", \"value\": 321}, {\"color\": \"orange\", \"from\": \"\\u0e2b\\u0e31\\u0e27\\u0e2b\\u0e19\\u0e49\\u0e32\", \"to\": \"\\u0e2a\\u0e33\\u0e19\\u0e31\\u0e01\\u0e07\\u0e32\\u0e19\", \"value\": 319}, {\"color\": \"orange\", \"from\": \"\\u0e08\\u0e31\\u0e07\\u0e2b\\u0e27\\u0e31\\u0e14\", \"to\": \"\\u0e1e\\u0e23\\u0e30\\u0e19\\u0e04\\u0e23\\u0e28\\u0e23\\u0e35\\u0e2d\\u0e22\\u0e38\\u0e18\\u0e22\\u0e32\", \"value\": 316}, {\"color\": \"orange\", \"from\": \"\\u0e1b\\u0e28\\u0e38\\u0e2a\\u0e31\\u0e15\\u0e27\\u0e4c\", \"to\": \"\\u0e08\\u0e31\\u0e07\\u0e2b\\u0e27\\u0e31\\u0e14\", \"value\": 315}, {\"color\": \"orange\", \"from\": \"\\u0e40\\u0e02\\u0e15\", \"to\": \"\\u0e1e\\u0e37\\u0e49\\u0e19\\u0e17\\u0e35\\u0e48\", \"value\": 314}, {\"color\": \"orange\", \"from\": \"\\u0e40\\u0e02\\u0e49\\u0e32\\u0e23\\u0e48\\u0e27\\u0e21\", \"to\": \"\\u0e42\\u0e04\\u0e23\\u0e07\\u0e01\\u0e32\\u0e23\", \"value\": 313}, {\"color\": \"orange\", \"from\": \"\\u0e23\\u0e30\\u0e1a\\u0e32\\u0e14\", \"to\": \"\\u0e42\\u0e23\\u0e04\", \"value\": 310}, {\"color\": \"orange\", \"from\": \"\\u0e2a\\u0e48\\u0e07\\u0e40\\u0e2a\\u0e23\\u0e34\\u0e21\", \"to\": \"\\u0e01\\u0e32\\u0e23\\u0e17\\u0e48\\u0e2d\\u0e07\\u0e40\\u0e17\\u0e35\\u0e48\\u0e22\\u0e27\", \"value\": 310}, {\"color\": \"orange\", \"from\": \"\\u0e19\\u0e49\\u0e33\\u0e17\\u0e48\\u0e27\\u0e21\", \"to\": \"\\u0e02\\u0e31\\u0e07\", \"value\": 310}, {\"color\": \"orange\", \"from\": \"\\u0e08\\u0e31\\u0e07\\u0e2b\\u0e27\\u0e31\\u0e14\", \"to\": \"\\u0e41\\u0e21\\u0e48\\u0e2e\\u0e48\\u0e2d\\u0e07\\u0e2a\\u0e2d\\u0e19\", \"value\": 308}, {\"color\": \"orange\", \"from\": \"\\u0e08\\u0e31\\u0e07\\u0e2b\\u0e27\\u0e31\\u0e14\", \"to\": \"\\u0e19\\u0e23\\u0e32\\u0e18\\u0e34\\u0e27\\u0e32\\u0e2a\", \"value\": 307}, {\"color\": \"orange\", \"from\": \"\\u0e15\\u0e34\\u0e14\\u0e40\\u0e0a\\u0e37\\u0e49\\u0e2d\", \"to\": \"\\u0e2a\\u0e30\\u0e2a\\u0e21\", \"value\": 306}, {\"color\": \"orange\", \"from\": \"\\u0e08\\u0e38\\u0e14\", \"to\": \"\\u0e15\\u0e23\\u0e27\\u0e08\", \"value\": 304}, {\"color\": \"orange\", \"from\": \"\\u0e2a\\u0e30\\u0e2a\\u0e21\", \"to\": \"\\u0e04\\u0e19\", \"value\": 304}, {\"color\": \"orange\", \"from\": \"\\u0e09\\u0e35\\u0e14\\u0e27\\u0e31\\u0e04\\u0e0b\\u0e35\\u0e19\", \"to\": \"\\u0e40\\u0e02\\u0e47\\u0e21\", \"value\": 304}, {\"color\": \"orange\", \"from\": \"\\u0e40\\u0e01\\u0e29\\u0e15\\u0e23\", \"to\": \"\\u0e08\\u0e31\\u0e07\\u0e2b\\u0e27\\u0e31\\u0e14\", \"value\": 303}, {\"color\": \"orange\", \"from\": \"\\u0e08\\u0e31\\u0e07\\u0e2b\\u0e27\\u0e31\\u0e14\", \"to\": \"\\u0e40\\u0e1e\\u0e0a\\u0e23\\u0e1a\\u0e39\\u0e23\\u0e13\\u0e4c\", \"value\": 302}, {\"color\": \"orange\", \"from\": \"\\u0e2a\\u0e33\\u0e19\\u0e31\\u0e01\\u0e07\\u0e32\\u0e19\", \"to\": \"\\u0e2a\\u0e32\\u0e18\\u0e32\\u0e23\\u0e13\\u0e2a\\u0e38\\u0e02\", \"value\": 302}, {\"color\": \"orange\", \"from\": \"\\u0e21\\u0e32\\u0e15\\u0e23\", \"to\": \"\\u0e01\\u0e32\\u0e23\\u0e04\\u0e27\\u0e1a\\u0e04\\u0e38\\u0e21\", \"value\": 301}, {\"color\": \"orange\", \"from\": \"\\u0e19\\u0e32\\u0e22\\u0e41\\u0e1e\\u0e17\\u0e22\\u0e4c\", \"to\": \"\\u0e2a\\u0e32\\u0e18\\u0e32\\u0e23\\u0e13\\u0e2a\\u0e38\\u0e02\", \"value\": 299}, {\"color\": \"orange\", \"from\": \"\\u0e43\\u0e2b\\u0e49\\u0e01\\u0e32\\u0e23\", \"to\": \"\\u0e0a\\u0e48\\u0e27\\u0e22\\u0e40\\u0e2b\\u0e25\\u0e37\\u0e2d\", \"value\": 299}, {\"color\": \"orange\", \"from\": \"\\u0e16\\u0e38\\u0e07\", \"to\": \"\\u0e22\\u0e31\\u0e07\\u0e0a\\u0e35\\u0e1e\", \"value\": 298}, {\"color\": \"orange\", \"from\": \"\\u0e2a\\u0e34\\u0e19\\u0e04\\u0e49\\u0e32\", \"to\": \"\\u0e40\\u0e01\\u0e29\\u0e15\\u0e23\", \"value\": 296}, {\"color\": \"orange\", \"from\": \"\\u0e2d\\u0e33\\u0e40\\u0e20\\u0e2d\", \"to\": \"\\u0e40\\u0e21\\u0e37\\u0e2d\\u0e07\", \"value\": 295}, {\"color\": \"orange\", \"from\": \"\\u0e40\\u0e08\\u0e49\\u0e32\\u0e2d\\u0e32\\u0e27\\u0e32\\u0e2a\", \"to\": \"\\u0e27\\u0e31\\u0e14\", \"value\": 295}, {\"color\": \"orange\", \"from\": \"\\u0e43\\u0e2b\\u0e49\\u0e01\\u0e32\\u0e23\", \"to\": \"\\u0e15\\u0e49\\u0e2d\\u0e19\\u0e23\\u0e31\\u0e1a\", \"value\": 293}, {\"color\": \"orange\", \"from\": \"\\u0e2d\\u0e38\\u0e1a\\u0e31\\u0e15\\u0e34\\u0e40\\u0e2b\\u0e15\\u0e38\", \"to\": \"\\u0e16\\u0e19\\u0e19\", \"value\": 292}, {\"color\": \"orange\", \"from\": \"\\u0e09\\u0e35\\u0e14\\u0e27\\u0e31\\u0e04\\u0e0b\\u0e35\\u0e19\", \"to\": \"\\u0e1b\\u0e49\\u0e2d\\u0e07\\u0e01\\u0e31\\u0e19\", \"value\": 291}, {\"color\": \"orange\", \"from\": \"\\u0e01\\u0e35\\u0e2c\\u0e32\", \"to\": \"\\u0e41\\u0e2b\\u0e48\\u0e07\\u0e0a\\u0e32\\u0e15\\u0e34\", \"value\": 291}]);\n",
              "\n",
              "        // adding nodes and edges to the graph\n",
              "        data = {nodes: nodes, edges: edges};\n",
              "\n",
              "        var options = {\n",
              "    \"configure\": {\n",
              "        \"enabled\": false\n",
              "    },\n",
              "    \"edges\": {\n",
              "        \"color\": {\n",
              "            \"inherit\": true\n",
              "        },\n",
              "        \"smooth\": {\n",
              "            \"enabled\": false,\n",
              "            \"type\": \"continuous\"\n",
              "        }\n",
              "    },\n",
              "    \"interaction\": {\n",
              "        \"dragNodes\": true,\n",
              "        \"hideEdgesOnDrag\": false,\n",
              "        \"hideNodesOnDrag\": false\n",
              "    },\n",
              "    \"physics\": {\n",
              "        \"enabled\": true,\n",
              "        \"stabilization\": {\n",
              "            \"enabled\": true,\n",
              "            \"fit\": true,\n",
              "            \"iterations\": 1000,\n",
              "            \"onlyDynamicEdges\": false,\n",
              "            \"updateInterval\": 50\n",
              "        }\n",
              "    }\n",
              "};\n",
              "        \n",
              "        \n",
              "\n",
              "        \n",
              "\n",
              "        network = new vis.Network(container, data, options);\n",
              "\t \n",
              "        \n",
              "\n",
              "\n",
              "        \n",
              "        network.on(\"stabilizationProgress\", function(params) {\n",
              "      \t\tdocument.getElementById('loadingBar').removeAttribute(\"style\");\n",
              "\t        var maxWidth = 496;\n",
              "\t        var minWidth = 20;\n",
              "\t        var widthFactor = params.iterations/params.total;\n",
              "\t        var width = Math.max(minWidth,maxWidth * widthFactor);\n",
              "\n",
              "\t        document.getElementById('bar').style.width = width + 'px';\n",
              "\t        document.getElementById('text').innerHTML = Math.round(widthFactor*100) + '%';\n",
              "\t    });\n",
              "\t    network.once(\"stabilizationIterationsDone\", function() {\n",
              "\t        document.getElementById('text').innerHTML = '100%';\n",
              "\t        document.getElementById('bar').style.width = '496px';\n",
              "\t        document.getElementById('loadingBar').style.opacity = 0;\n",
              "\t        // really clean the dom element\n",
              "\t        setTimeout(function () {document.getElementById('loadingBar').style.display = 'none';}, 500);\n",
              "\t    });\n",
              "        \n",
              "\n",
              "        return network;\n",
              "\n",
              "    }\n",
              "\n",
              "    drawGraph();\n",
              "\n",
              "</script>\n",
              "</body>\n",
              "</html>"
            ]
          },
          "metadata": {}
        }
      ],
      "source": [
        "display(HTML(\"cooccurrence.html\"))"
      ]
    }
  ],
  "metadata": {
    "colab": {
      "provenance": []
    },
    "kernelspec": {
      "display_name": "Python 3",
      "name": "python3"
    },
    "language_info": {
      "name": "python"
    },
    "widgets": {
      "application/vnd.jupyter.widget-state+json": {
        "a0cb6ee4e50b41c3adf70c3fb93b63a1": {
          "model_module": "@jupyter-widgets/controls",
          "model_name": "HBoxModel",
          "model_module_version": "1.5.0",
          "state": {
            "_dom_classes": [],
            "_model_module": "@jupyter-widgets/controls",
            "_model_module_version": "1.5.0",
            "_model_name": "HBoxModel",
            "_view_count": null,
            "_view_module": "@jupyter-widgets/controls",
            "_view_module_version": "1.5.0",
            "_view_name": "HBoxView",
            "box_style": "",
            "children": [
              "IPY_MODEL_732d8c4cf50e487b8ba2b25efa4fc7b8",
              "IPY_MODEL_4658b0da1cf7483b88099eaf824780f6",
              "IPY_MODEL_6a3603fa0b4d4dbf87f154cafabab557"
            ],
            "layout": "IPY_MODEL_f67f0692cacd4e84a33d8c1a6a1ce0a4"
          }
        },
        "732d8c4cf50e487b8ba2b25efa4fc7b8": {
          "model_module": "@jupyter-widgets/controls",
          "model_name": "HTMLModel",
          "model_module_version": "1.5.0",
          "state": {
            "_dom_classes": [],
            "_model_module": "@jupyter-widgets/controls",
            "_model_module_version": "1.5.0",
            "_model_name": "HTMLModel",
            "_view_count": null,
            "_view_module": "@jupyter-widgets/controls",
            "_view_module_version": "1.5.0",
            "_view_name": "HTMLView",
            "description": "",
            "description_tooltip": null,
            "layout": "IPY_MODEL_c6ca72f2b0a94c92b016753619c226d7",
            "placeholder": "​",
            "style": "IPY_MODEL_55f2f432b6c44302aec95a51da592b5b",
            "value": "100%"
          }
        },
        "4658b0da1cf7483b88099eaf824780f6": {
          "model_module": "@jupyter-widgets/controls",
          "model_name": "FloatProgressModel",
          "model_module_version": "1.5.0",
          "state": {
            "_dom_classes": [],
            "_model_module": "@jupyter-widgets/controls",
            "_model_module_version": "1.5.0",
            "_model_name": "FloatProgressModel",
            "_view_count": null,
            "_view_module": "@jupyter-widgets/controls",
            "_view_module_version": "1.5.0",
            "_view_name": "ProgressView",
            "bar_style": "success",
            "description": "",
            "description_tooltip": null,
            "layout": "IPY_MODEL_7418299b7961488e9698610134862f32",
            "max": 8981,
            "min": 0,
            "orientation": "horizontal",
            "style": "IPY_MODEL_24351c9443c94468bfbef4ee5ccc0a77",
            "value": 8981
          }
        },
        "6a3603fa0b4d4dbf87f154cafabab557": {
          "model_module": "@jupyter-widgets/controls",
          "model_name": "HTMLModel",
          "model_module_version": "1.5.0",
          "state": {
            "_dom_classes": [],
            "_model_module": "@jupyter-widgets/controls",
            "_model_module_version": "1.5.0",
            "_model_name": "HTMLModel",
            "_view_count": null,
            "_view_module": "@jupyter-widgets/controls",
            "_view_module_version": "1.5.0",
            "_view_name": "HTMLView",
            "description": "",
            "description_tooltip": null,
            "layout": "IPY_MODEL_7cea1c2a6ff346aa98e4af2dbb6e8acf",
            "placeholder": "​",
            "style": "IPY_MODEL_2de81c7134f94a5da879f42166081c4c",
            "value": " 8981/8981 [02:23&lt;00:00, 64.65it/s]"
          }
        },
        "f67f0692cacd4e84a33d8c1a6a1ce0a4": {
          "model_module": "@jupyter-widgets/base",
          "model_name": "LayoutModel",
          "model_module_version": "1.2.0",
          "state": {
            "_model_module": "@jupyter-widgets/base",
            "_model_module_version": "1.2.0",
            "_model_name": "LayoutModel",
            "_view_count": null,
            "_view_module": "@jupyter-widgets/base",
            "_view_module_version": "1.2.0",
            "_view_name": "LayoutView",
            "align_content": null,
            "align_items": null,
            "align_self": null,
            "border": null,
            "bottom": null,
            "display": null,
            "flex": null,
            "flex_flow": null,
            "grid_area": null,
            "grid_auto_columns": null,
            "grid_auto_flow": null,
            "grid_auto_rows": null,
            "grid_column": null,
            "grid_gap": null,
            "grid_row": null,
            "grid_template_areas": null,
            "grid_template_columns": null,
            "grid_template_rows": null,
            "height": null,
            "justify_content": null,
            "justify_items": null,
            "left": null,
            "margin": null,
            "max_height": null,
            "max_width": null,
            "min_height": null,
            "min_width": null,
            "object_fit": null,
            "object_position": null,
            "order": null,
            "overflow": null,
            "overflow_x": null,
            "overflow_y": null,
            "padding": null,
            "right": null,
            "top": null,
            "visibility": null,
            "width": null
          }
        },
        "c6ca72f2b0a94c92b016753619c226d7": {
          "model_module": "@jupyter-widgets/base",
          "model_name": "LayoutModel",
          "model_module_version": "1.2.0",
          "state": {
            "_model_module": "@jupyter-widgets/base",
            "_model_module_version": "1.2.0",
            "_model_name": "LayoutModel",
            "_view_count": null,
            "_view_module": "@jupyter-widgets/base",
            "_view_module_version": "1.2.0",
            "_view_name": "LayoutView",
            "align_content": null,
            "align_items": null,
            "align_self": null,
            "border": null,
            "bottom": null,
            "display": null,
            "flex": null,
            "flex_flow": null,
            "grid_area": null,
            "grid_auto_columns": null,
            "grid_auto_flow": null,
            "grid_auto_rows": null,
            "grid_column": null,
            "grid_gap": null,
            "grid_row": null,
            "grid_template_areas": null,
            "grid_template_columns": null,
            "grid_template_rows": null,
            "height": null,
            "justify_content": null,
            "justify_items": null,
            "left": null,
            "margin": null,
            "max_height": null,
            "max_width": null,
            "min_height": null,
            "min_width": null,
            "object_fit": null,
            "object_position": null,
            "order": null,
            "overflow": null,
            "overflow_x": null,
            "overflow_y": null,
            "padding": null,
            "right": null,
            "top": null,
            "visibility": null,
            "width": null
          }
        },
        "55f2f432b6c44302aec95a51da592b5b": {
          "model_module": "@jupyter-widgets/controls",
          "model_name": "DescriptionStyleModel",
          "model_module_version": "1.5.0",
          "state": {
            "_model_module": "@jupyter-widgets/controls",
            "_model_module_version": "1.5.0",
            "_model_name": "DescriptionStyleModel",
            "_view_count": null,
            "_view_module": "@jupyter-widgets/base",
            "_view_module_version": "1.2.0",
            "_view_name": "StyleView",
            "description_width": ""
          }
        },
        "7418299b7961488e9698610134862f32": {
          "model_module": "@jupyter-widgets/base",
          "model_name": "LayoutModel",
          "model_module_version": "1.2.0",
          "state": {
            "_model_module": "@jupyter-widgets/base",
            "_model_module_version": "1.2.0",
            "_model_name": "LayoutModel",
            "_view_count": null,
            "_view_module": "@jupyter-widgets/base",
            "_view_module_version": "1.2.0",
            "_view_name": "LayoutView",
            "align_content": null,
            "align_items": null,
            "align_self": null,
            "border": null,
            "bottom": null,
            "display": null,
            "flex": null,
            "flex_flow": null,
            "grid_area": null,
            "grid_auto_columns": null,
            "grid_auto_flow": null,
            "grid_auto_rows": null,
            "grid_column": null,
            "grid_gap": null,
            "grid_row": null,
            "grid_template_areas": null,
            "grid_template_columns": null,
            "grid_template_rows": null,
            "height": null,
            "justify_content": null,
            "justify_items": null,
            "left": null,
            "margin": null,
            "max_height": null,
            "max_width": null,
            "min_height": null,
            "min_width": null,
            "object_fit": null,
            "object_position": null,
            "order": null,
            "overflow": null,
            "overflow_x": null,
            "overflow_y": null,
            "padding": null,
            "right": null,
            "top": null,
            "visibility": null,
            "width": null
          }
        },
        "24351c9443c94468bfbef4ee5ccc0a77": {
          "model_module": "@jupyter-widgets/controls",
          "model_name": "ProgressStyleModel",
          "model_module_version": "1.5.0",
          "state": {
            "_model_module": "@jupyter-widgets/controls",
            "_model_module_version": "1.5.0",
            "_model_name": "ProgressStyleModel",
            "_view_count": null,
            "_view_module": "@jupyter-widgets/base",
            "_view_module_version": "1.2.0",
            "_view_name": "StyleView",
            "bar_color": null,
            "description_width": ""
          }
        },
        "7cea1c2a6ff346aa98e4af2dbb6e8acf": {
          "model_module": "@jupyter-widgets/base",
          "model_name": "LayoutModel",
          "model_module_version": "1.2.0",
          "state": {
            "_model_module": "@jupyter-widgets/base",
            "_model_module_version": "1.2.0",
            "_model_name": "LayoutModel",
            "_view_count": null,
            "_view_module": "@jupyter-widgets/base",
            "_view_module_version": "1.2.0",
            "_view_name": "LayoutView",
            "align_content": null,
            "align_items": null,
            "align_self": null,
            "border": null,
            "bottom": null,
            "display": null,
            "flex": null,
            "flex_flow": null,
            "grid_area": null,
            "grid_auto_columns": null,
            "grid_auto_flow": null,
            "grid_auto_rows": null,
            "grid_column": null,
            "grid_gap": null,
            "grid_row": null,
            "grid_template_areas": null,
            "grid_template_columns": null,
            "grid_template_rows": null,
            "height": null,
            "justify_content": null,
            "justify_items": null,
            "left": null,
            "margin": null,
            "max_height": null,
            "max_width": null,
            "min_height": null,
            "min_width": null,
            "object_fit": null,
            "object_position": null,
            "order": null,
            "overflow": null,
            "overflow_x": null,
            "overflow_y": null,
            "padding": null,
            "right": null,
            "top": null,
            "visibility": null,
            "width": null
          }
        },
        "2de81c7134f94a5da879f42166081c4c": {
          "model_module": "@jupyter-widgets/controls",
          "model_name": "DescriptionStyleModel",
          "model_module_version": "1.5.0",
          "state": {
            "_model_module": "@jupyter-widgets/controls",
            "_model_module_version": "1.5.0",
            "_model_name": "DescriptionStyleModel",
            "_view_count": null,
            "_view_module": "@jupyter-widgets/base",
            "_view_module_version": "1.2.0",
            "_view_name": "StyleView",
            "description_width": ""
          }
        }
      }
    }
  },
  "nbformat": 4,
  "nbformat_minor": 0
}