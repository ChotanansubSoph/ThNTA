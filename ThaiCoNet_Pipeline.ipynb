{
  "cells": [
    {
      "cell_type": "markdown",
      "metadata": {
        "id": "7hyP0ENtMBXe"
      },
      "source": [
        "# 🌐 ThaiCoNet : Thai Co-occurrence Network Analysis (Pipeline)"
      ]
    },
    {
      "cell_type": "markdown",
      "metadata": {
        "id": "YoM1WUocVTq4"
      },
      "source": [
        "### 💡 About this notebook"
      ]
    },
    {
      "cell_type": "markdown",
      "metadata": {
        "id": "fIQxNntvCfz0"
      },
      "source": [
        "**[Access Project Repository (Github)](https://github.com/ChotanansubSoph/ThNTA)**\n",
        "\n"
      ]
    },
    {
      "cell_type": "markdown",
      "metadata": {
        "id": "LHlGa5IW7XoQ"
      },
      "source": [
        "🧑🏻‍💻 **Notebook Contributor**\n",
        "\n",
        "\n",
        "*   Chotanansub Sophaken\n",
        "*   Kantapong Vongpanich\n",
        "\n",
        "**Department of Computer Eningeering, Engineering Faculty**\n",
        "\n",
        "*King Mongkut’s University of Technology Thonburi (KMUTT)*\n",
        "\n",
        "*Junior Science Talent Project and Siam Commercial Bank Scholarship (JSTP-SCB Scholarship)*\n",
        "\n",
        "---\n",
        "\n"
      ]
    },
    {
      "cell_type": "markdown",
      "metadata": {
        "id": "svSvi0jVCS4V"
      },
      "source": [
        "Approach reference:\n",
        "\n",
        "* *A. Takhom, D. Leenoi, C. Sophaken, P. Boonkwan, and T. Supnithi, “An Approach of Network Analysis Enhancing Knowledge Extraction in Thai Newspapers Contexts,” J. Intell. Informatics Smart Technol., vol. 6, no. October 2021, pp. 19–24, 2021 [Acess](https://jiist.aiat.or.th/assets/uploads/1635853027829tBupD1635602106085fdegH39.pdf)*\n",
        "\n",
        "* Sophaken, C., Vongpanich, K., Takhom, A., Boonkwan, P., & Supnithi, T. (2023). Unsupervised Detection of Domain Switching in Thai Multidisciplinary Online News. IIAI Letters on Informatics and Interdisciplinary Research, 3. [Access](https://iaiai.org/letters/index.php/liir/article/view/77/50)"
      ]
    },
    {
      "cell_type": "markdown",
      "metadata": {
        "id": "i24UbKCMUOYs"
      },
      "source": [
        "🎓 Acknowledgement\n",
        "* Dr. Akkharawoot TakhomDepartment of Electrical and Computer Engineering\n",
        "Thammasat University"
      ]
    },
    {
      "cell_type": "markdown",
      "metadata": {
        "id": "NrFZelkYVWIX"
      },
      "source": [
        "### ⚙️ Tools & Resorces Preparation"
      ]
    },
    {
      "cell_type": "markdown",
      "metadata": {
        "id": "vl76iryjU3Va"
      },
      "source": [
        "Library & Module Installation"
      ]
    },
    {
      "cell_type": "markdown",
      "metadata": {
        "id": "IuOPqC6eEh7a"
      },
      "source": [
        "\n",
        "\n",
        "* Run the code once.\n",
        "* If you encounter any errors during the initial execution it may be due to factors such as dependencies or system configurations. To address any encountered errors, simply restart the runtime or kernel. Afterward, run the code cell again to ensure a successful execution.\n",
        "\n"
      ]
    },
    {
      "cell_type": "code",
      "execution_count": 1,
      "metadata": {
        "id": "p1lzOz2OMtvl"
      },
      "outputs": [],
      "source": [
        "import subprocess\n",
        "\n",
        "def install_packages():\n",
        "    subprocess.check_call(['pip', 'install', '--upgrade', 'pip'])\n",
        "    subprocess.check_call(['pip', 'install', '--upgrade', 'setuptools', 'wheel'])\n",
        "    subprocess.check_call(['pip', 'install', 'tltk==1.6.8', '-q'])\n",
        "    subprocess.check_call(['pip', 'install', 'pythainlp==4.0.2', '-q'])\n",
        "    subprocess.check_call(['pip', 'install', 'pyvis==0.1.9', '-q'])\n",
        "    subprocess.check_call(['apt-get', 'install', '-y', 'graphviz', 'libgraphviz-dev', 'pkg-config', '-q'])\n",
        "    subprocess.check_call(['pip', 'install', 'pygraphviz==1.7', '-q'])\n",
        "\n",
        "install_packages()"
      ]
    },
    {
      "cell_type": "markdown",
      "metadata": {
        "id": "aw72-icaVEHZ"
      },
      "source": [
        "Library preparation"
      ]
    },
    {
      "cell_type": "code",
      "execution_count": 2,
      "metadata": {
        "id": "dFKNRUo4M6HP",
        "colab": {
          "base_uri": "https://localhost:8080/"
        },
        "outputId": "7d2d24c4-a438-4e43-f026-40839c4f4895"
      },
      "outputs": [
        {
          "output_type": "stream",
          "name": "stderr",
          "text": [
            "[nltk_data] Downloading package punkt to /root/nltk_data...\n",
            "[nltk_data]   Unzipping tokenizers/punkt.zip.\n"
          ]
        }
      ],
      "source": [
        "#Data manipulation\n",
        "import pandas as pd\n",
        "import numpy as np\n",
        "\n",
        "#NLP\n",
        "import nltk\n",
        "from nltk import FreqDist, bigrams\n",
        "from operator import itemgetter\n",
        "from nltk.tokenize import word_tokenize as term_tokenize\n",
        "nltk.download('punkt')\n",
        "import tltk\n",
        "from pythainlp import word_tokenize,  pos_tag\n",
        "from pythainlp.corpus.common import thai_stopwords as pythainlp_stopwords\n",
        "\n",
        "#Graph Visulazation\n",
        "import networkx as nx\n",
        "import matplotlib.pyplot as plt\n",
        "from pyvis.network import Network\n",
        "from IPython.display import display, HTML\n",
        "\n",
        "#Add-on\n",
        "from tqdm.notebook import tqdm_notebook as tqdm\n",
        "from operator import itemgetter\n",
        "from collections import Counter,defaultdict\n",
        "import re\n",
        "import sys\n",
        "import os\n",
        "import requests\n",
        "\n",
        "__is_ipython_kernel__ = lambda: True if 'ipykernel' in sys.modules and __name__ == \"__main__\" else False"
      ]
    },
    {
      "cell_type": "markdown",
      "metadata": {
        "id": "4bS_VdiSUxTl"
      },
      "source": [
        "Sample Resources prepararion"
      ]
    },
    {
      "cell_type": "code",
      "source": [
        "#sample data\n",
        "def download_data(url, file_name=None):\n",
        "    if file_name is None:\n",
        "        file_name = url.split('/')[-1]\n",
        "    response = requests.get(url)\n",
        "    with open(file_name, \"wb\") as file:\n",
        "        file.write(response.content)\n",
        "\n",
        "if __is_ipython_kernel__:\n",
        "    url = \"https://github.com/ChotanansubSoph/ThNTA/raw/main/resources/sample_data/thai_electronic_news_2022.csv\"\n",
        "    download_data(url=url)"
      ],
      "metadata": {
        "id": "OL3_JQ_JJZvM"
      },
      "execution_count": 3,
      "outputs": []
    },
    {
      "cell_type": "markdown",
      "metadata": {
        "id": "ZXC6zQeoVMPX"
      },
      "source": [
        "### Data Preprocessing"
      ]
    },
    {
      "cell_type": "code",
      "execution_count": 4,
      "metadata": {
        "id": "vrgp_bEE0THS"
      },
      "outputs": [],
      "source": [
        "########## String operation ##########\n",
        "def isEnglish(s):\n",
        "  return all(ord(char) < 128 for char in s)\n",
        "\n",
        "\n",
        "########## List Manipulation ##########\n",
        "def flatten_nested_list(nested_list):\n",
        "  flattened_list = [item for sublist in nested_list for item in sublist]\n",
        "  return flattened_list\n",
        "\n",
        "\n",
        "######### DataFrame Manipulation #######\n",
        "def convert_dataframe_to_paired_tuples(df):\n",
        "    return list(zip(df.iloc[:, 0].tolist(), df.iloc[:, 1].tolist()))"
      ]
    },
    {
      "cell_type": "code",
      "execution_count": 5,
      "metadata": {
        "id": "13JMUAbXMvM2"
      },
      "outputs": [],
      "source": [
        "########## Stopwords ##########\n",
        "def read_stopwords(file_path : str) ->list:\n",
        "  with open(file_path, 'r', encoding='utf-8') as file:\n",
        "      lines = file.readlines()\n",
        "  stopwords = [line.strip() for line in lines]\n",
        "  return stopwords\n",
        "\n",
        "########## Tokenization ##########\n",
        "\n",
        "def tltk_tokenize_pos(text): #Primaly Tokenizer\n",
        "  result = flatten_nested_list(tltk.nlp.pos_tag(text))\n",
        "  return result\n",
        "\n",
        "\n",
        "def pythainlp_tokenize_pos(text): #Secondary Tokenizer\n",
        "  wordList= word_tokenize(text, keep_whitespace=False)\n",
        "  posList = pos_tag(wordList,corpus='pud')\n",
        "  return posList\n",
        "\n",
        "\n",
        "def TNC_extract_tltk_pos_pairs(result): #Inactivated\n",
        "    word_pos_pairs = []\n",
        "    pattern = r'<w tran=\"(.*?)\" POS=\"(.*?)\">(.*?)</w>'\n",
        "    matches = re.findall(pattern, result)\n",
        "\n",
        "    for match in matches:\n",
        "        word_pos_pairs.append((match[2], match[1]))\n",
        "\n",
        "    return word_pos_pairs\n",
        "\n",
        "def TNC_tokenize_pos_ner_(text): #Inactivated\n",
        "  result = []\n",
        "  for partial_text in text.split(\" \"):\n",
        "    partial_text = partial_text.replace(\")\",\" \").replace(\"(\",\" \")\n",
        "    result += tltk.nlp.TNC_tag(partial_text,POS=\"Y\")\n",
        "  return tltk.nlp.ner(TNC_extract_tltk_pos_pairs(result))\n",
        "\n",
        "\n",
        "########## Term Frequency ##########\n",
        "def count_word_frequency(pairs_data):\n",
        "    words = [word for sublist in pairs_data for word in sublist]\n",
        "    tokens = term_tokenize(\" \".join(words))\n",
        "    freq_dist = FreqDist(tokens)\n",
        "    return freq_dist\n",
        "\n",
        "\n",
        "def count_word_pos_frequency(data):\n",
        "    flat_data = [item for sublist in data for item in sublist]\n",
        "    word_pos_freq = Counter(flat_data)\n",
        "    result = [(word, pos, freq) for (word, pos), freq in word_pos_freq.items()]\n",
        "    result.sort(key=lambda x: x[2], reverse=True)\n",
        "    return result"
      ]
    },
    {
      "cell_type": "markdown",
      "metadata": {
        "id": "DivqqP4z41S0"
      },
      "source": [
        "### Text preprocess"
      ]
    },
    {
      "cell_type": "code",
      "execution_count": 6,
      "metadata": {
        "id": "o_F--DzDYTPA"
      },
      "outputs": [],
      "source": [
        "def text_tokenize(text: str,tokenizer=\"pythainlp\") -> list:\n",
        "    term_pairs = list()\n",
        "    if tokenizer == \"tltk\":\n",
        "      term_pairs = tltk_tokenize_pos(text)\n",
        "\n",
        "    elif tokenizer == \"pythainlp\":\n",
        "      term_pairs = pythainlp_tokenize_pos(text)\n",
        "\n",
        "\n",
        "    return term_pairs\n",
        "\n",
        "\n",
        "def pos_filter(pos_pairs: list, stopwords: set, keep_pos=['NOUN','VERB']):\n",
        "  stopwords = []\n",
        "  regex = re.compile('[@_!#$%^&*()<>?/\\|}{~:.]')\n",
        "  filtered_pairs = [(term,pos) for term, pos in pos_pairs\n",
        "              if pos in keep_pos\n",
        "              and term not in stopwords\n",
        "              and len(term) > 1\n",
        "              and not isEnglish(term)\n",
        "              and regex.search(term) is None\n",
        "              and \"\\xa0\" not in term]\n",
        "\n",
        "  return filtered_pairs\n",
        "\n",
        "\n",
        "def feed_preprocess(docs: list, stopwords = None, tokenizer=\"pythainlp\", keep_pos=None) -> list:\n",
        "    preprocessed_docs = []\n",
        "    if stopwords is None:\n",
        "      stopwords = pythainlp_stopwords()\n",
        "\n",
        "    for text in tqdm(docs):\n",
        "        pos_pairs = text_tokenize(\n",
        "                      text=text,\n",
        "                      tokenizer=tokenizer,\n",
        "                    )\n",
        "        preprocessed_terms = pos_filter(pos_pairs=pos_pairs, stopwords=stopwords)\n",
        "        preprocessed_docs.append(preprocessed_terms)\n",
        "\n",
        "    return preprocessed_docs"
      ]
    },
    {
      "cell_type": "markdown",
      "metadata": {
        "id": "oVo47ASqSs3J"
      },
      "source": [
        "Tokenization & Term Filtering"
      ]
    },
    {
      "cell_type": "code",
      "execution_count": 7,
      "metadata": {
        "id": "UR-qwbCYSwEa"
      },
      "outputs": [],
      "source": [
        "if __is_ipython_kernel__:\n",
        "  news_df = pd.read_csv(\"thai_electronic_news_2022.csv\")\n",
        "  news_df"
      ]
    },
    {
      "cell_type": "code",
      "execution_count": 8,
      "metadata": {
        "id": "LvT9e4CBWKPf",
        "colab": {
          "base_uri": "https://localhost:8080/",
          "height": 49,
          "referenced_widgets": [
            "d10d70e3a9bf4f33adfcc9ca9081cd8e",
            "9a5e1428925b4ae1baecee2bb478d751",
            "056c0ac07dea4f97a6f8e1d89e5c0a10",
            "f37683a7675445febe2a2f1b98eaf0b2",
            "e11052477e214a49a6e437b747f8c4b4",
            "1e9f70443b1f4c4099fa6e2de79ba37d",
            "1dacda4d0b91461382cef3e2fb5b45e2",
            "8edc4197979a4fc592d6999fc8873dd5",
            "f89f8e10df044085afae2e0264c03c40",
            "160014145901486bb1e40d877eb33cd3",
            "4f0e22fdb0fa4ac683384f527cab0f03"
          ]
        },
        "outputId": "fc1da98c-3279-492d-a9b5-312d23646496"
      },
      "outputs": [
        {
          "output_type": "display_data",
          "data": {
            "text/plain": [
              "  0%|          | 0/8981 [00:00<?, ?it/s]"
            ],
            "application/vnd.jupyter.widget-view+json": {
              "version_major": 2,
              "version_minor": 0,
              "model_id": "d10d70e3a9bf4f33adfcc9ca9081cd8e"
            }
          },
          "metadata": {}
        }
      ],
      "source": [
        "if __is_ipython_kernel__:\n",
        "  tokenized_data = feed_preprocess(news_df[\"content\"],tokenizer=\"pythainlp\") #approximate time ~5 min"
      ]
    },
    {
      "cell_type": "code",
      "source": [
        "if __is_ipython_kernel__:\n",
        "  tokenized_data[0][:10] , tokenized_data[1][:10]"
      ],
      "metadata": {
        "id": "cMt_9gb_q8Fd"
      },
      "execution_count": 9,
      "outputs": []
    },
    {
      "cell_type": "code",
      "execution_count": 10,
      "metadata": {
        "id": "tbS7SwvTSN2S"
      },
      "outputs": [],
      "source": [
        "if __is_ipython_kernel__:\n",
        "  tokenized_freq = count_word_pos_frequency(tokenized_data)\n",
        "  tokenized_freq[:15]"
      ]
    },
    {
      "cell_type": "markdown",
      "metadata": {
        "id": "uzU38MX4Gi7B"
      },
      "source": [
        "generate bag of co-occurence terminology"
      ]
    },
    {
      "cell_type": "code",
      "execution_count": 11,
      "metadata": {
        "id": "PhaEdGxdAHHf"
      },
      "outputs": [],
      "source": [
        "def generate_bigram_freq(term_list)->list:\n",
        "    bigram_list = []\n",
        "\n",
        "    for word_list in term_list:\n",
        "        try:\n",
        "            bigrams_list = list(bigrams(word_list))\n",
        "            bigram_list.extend(bigrams_list)\n",
        "        except:\n",
        "            continue\n",
        "\n",
        "    frequency_dist = FreqDist(bigram_list)\n",
        "    bigram_freq = sorted(frequency_dist.items(), key=itemgetter(1), reverse=True)\n",
        "\n",
        "    return bigram_freq\n",
        "\n",
        "\n",
        "def generate_trigrams(data):\n",
        "  result = []\n",
        "  terms = flatten_nested_list(data)\n",
        "  for i in range(len(terms[:-2])):\n",
        "    triple = (terms[i],terms[i+1],terms[i+2])\n",
        "    result.append(triple)\n",
        "  return result\n",
        "\n",
        "\n",
        "def count_triple_frequency(triples):\n",
        "    triple_frequency = Counter(triples)\n",
        "    result = list(triple_frequency.items())\n",
        "    return  sorted(result, key=lambda x: x[1], reverse=True)"
      ]
    },
    {
      "cell_type": "code",
      "source": [
        "if __is_ipython_kernel__:\n",
        "  cooc_data = generate_trigrams(tokenized_data)\n",
        "  cooc_data[:10]"
      ],
      "metadata": {
        "id": "DAXbeKlSSW3Y"
      },
      "execution_count": 12,
      "outputs": []
    },
    {
      "cell_type": "code",
      "execution_count": 13,
      "metadata": {
        "id": "XFjSKJQgAN0t"
      },
      "outputs": [],
      "source": [
        "if __is_ipython_kernel__:\n",
        "  cooc_freqs = count_triple_frequency(cooc_data)\n",
        "  cooc_freqs[:10]"
      ]
    },
    {
      "cell_type": "code",
      "source": [
        "def filter_pos_triples(data,keeps = [('NOUN','VERB','NOUN')]):\n",
        "    filtered_triples = [ pair\n",
        "        for pair in data\n",
        "        if pair[0][0][1] == 'NOUN' and pair[0][1][1] == 'VERB' and pair[0][2][1] == 'NOUN'\n",
        "    ]\n",
        "    return filtered_triples"
      ],
      "metadata": {
        "id": "0vOkisK6_zoj"
      },
      "execution_count": 14,
      "outputs": []
    },
    {
      "cell_type": "code",
      "source": [
        "if __is_ipython_kernel__:\n",
        "  filtered_cooc = filter_pos_triples(cooc_freqs)\n",
        "  filtered_cooc[:20]"
      ],
      "metadata": {
        "id": "kd4Hmj_M_z6V"
      },
      "execution_count": 15,
      "outputs": []
    },
    {
      "cell_type": "code",
      "execution_count": 16,
      "metadata": {
        "id": "0D902xEqAeXS"
      },
      "outputs": [],
      "source": [
        "def bgs_filter_extreme(bgs_list, min_percent=0.05, max_percent=0.8):\n",
        "  result = list()\n",
        "  bgs_list = sorted(bgs_list, key=itemgetter(1), reverse=True)\n",
        "  most_freq = bgs_list[0][1]\n",
        "  max_freq = most_freq * max_percent\n",
        "  min_freq = most_freq * min_percent\n",
        "\n",
        "  result = [(pair, count) for pair, count in bgs_list if min_freq <= count <= max_freq and pair[0] != pair[1]]\n",
        "  return result\n"
      ]
    },
    {
      "cell_type": "markdown",
      "metadata": {
        "id": "qlNOc8j0CoRP"
      },
      "source": [
        "## Visualization"
      ]
    },
    {
      "cell_type": "code",
      "source": [
        "def visualize_cooccurrence(data, file_name=\"thaiconet_result.html\"):\n",
        "    # Phase 1: NetworkX\n",
        "    G = nx.Graph()\n",
        "\n",
        "    # Create a dictionary to store the degree of each node\n",
        "    node_degrees = {}\n",
        "\n",
        "    for triples, freq in data:\n",
        "        sbj = triples[0][0]\n",
        "        pred = triples[1][0]\n",
        "        obj = triples[2][0]\n",
        "\n",
        "        # Update the degree of term1\n",
        "        node_degrees[sbj] = node_degrees.get(sbj, 0) + 1\n",
        "\n",
        "        # Update the degree of term2\n",
        "        node_degrees[obj] = node_degrees.get(obj, 0) + 1\n",
        "\n",
        "        # Add nodes and set their size based on the degree\n",
        "        G.add_node(sbj, size=min(node_degrees[sbj] * 7, 80))\n",
        "        G.add_node(obj, size=min(node_degrees[obj] * 7, 80))\n",
        "\n",
        "        # Add edge\n",
        "        G.add_edge(sbj, obj, weight=freq, label=pred)\n",
        "\n",
        "    pos = nx.spring_layout(G)\n",
        "    sizes = [G.nodes[n]['size'] for n in G.nodes()]\n",
        "\n",
        "    # Phase 2: PyviZ\n",
        "    net = Network(height=\"800px\", width=\"100%\", notebook=True)\n",
        "\n",
        "    for node in G.nodes():\n",
        "        net.add_node(node, size=G.nodes[node]['size'])\n",
        "\n",
        "    for u, v, data in G.edges(data=True):\n",
        "        weight = data['weight']\n",
        "        label = data['label']\n",
        "        color = \"orange\" if weight > 45 else \"gray\"\n",
        "        net.add_edge(u, v, value=weight, color=color, label=label)\n",
        "\n",
        "    net.show(file_name)"
      ],
      "metadata": {
        "id": "KKBxoDswVFVH"
      },
      "execution_count": 17,
      "outputs": []
    },
    {
      "cell_type": "code",
      "execution_count": 18,
      "metadata": {
        "id": "YZvZAxbAFwPj",
        "colab": {
          "base_uri": "https://localhost:8080/",
          "height": 857
        },
        "outputId": "24137500-6d3c-4dd9-be52-3547dd46de2c"
      },
      "outputs": [
        {
          "output_type": "display_data",
          "data": {
            "text/plain": [
              "<IPython.core.display.HTML object>"
            ],
            "text/html": [
              "<html>\n",
              "<head>\n",
              "<link rel=\"stylesheet\" href=\"https://cdnjs.cloudflare.com/ajax/libs/vis/4.16.1/vis.css\" type=\"text/css\" />\n",
              "<script type=\"text/javascript\" src=\"https://cdnjs.cloudflare.com/ajax/libs/vis/4.16.1/vis-network.min.js\"> </script>\n",
              "<center>\n",
              "<h1></h1>\n",
              "</center>\n",
              "\n",
              "<!-- <link rel=\"stylesheet\" href=\"../node_modules/vis/dist/vis.min.css\" type=\"text/css\" />\n",
              "<script type=\"text/javascript\" src=\"../node_modules/vis/dist/vis.js\"> </script>-->\n",
              "\n",
              "<style type=\"text/css\">\n",
              "\n",
              "        #mynetwork {\n",
              "            width: 100%;\n",
              "            height: 800px;\n",
              "            background-color: #ffffff;\n",
              "            border: 1px solid lightgray;\n",
              "            position: relative;\n",
              "            float: left;\n",
              "        }\n",
              "\n",
              "        \n",
              "        #loadingBar {\n",
              "            position:absolute;\n",
              "            top:0px;\n",
              "            left:0px;\n",
              "            width: 100%;\n",
              "            height: 800px;\n",
              "            background-color:rgba(200,200,200,0.8);\n",
              "            -webkit-transition: all 0.5s ease;\n",
              "            -moz-transition: all 0.5s ease;\n",
              "            -ms-transition: all 0.5s ease;\n",
              "            -o-transition: all 0.5s ease;\n",
              "            transition: all 0.5s ease;\n",
              "            opacity:1;\n",
              "        }\n",
              "\n",
              "        #bar {\n",
              "            position:absolute;\n",
              "            top:0px;\n",
              "            left:0px;\n",
              "            width:20px;\n",
              "            height:20px;\n",
              "            margin:auto auto auto auto;\n",
              "            border-radius:11px;\n",
              "            border:2px solid rgba(30,30,30,0.05);\n",
              "            background: rgb(0, 173, 246); /* Old browsers */\n",
              "            box-shadow: 2px 0px 4px rgba(0,0,0,0.4);\n",
              "        }\n",
              "\n",
              "        #border {\n",
              "            position:absolute;\n",
              "            top:10px;\n",
              "            left:10px;\n",
              "            width:500px;\n",
              "            height:23px;\n",
              "            margin:auto auto auto auto;\n",
              "            box-shadow: 0px 0px 4px rgba(0,0,0,0.2);\n",
              "            border-radius:10px;\n",
              "        }\n",
              "\n",
              "        #text {\n",
              "            position:absolute;\n",
              "            top:8px;\n",
              "            left:530px;\n",
              "            width:30px;\n",
              "            height:50px;\n",
              "            margin:auto auto auto auto;\n",
              "            font-size:22px;\n",
              "            color: #000000;\n",
              "        }\n",
              "\n",
              "        div.outerBorder {\n",
              "            position:relative;\n",
              "            top:400px;\n",
              "            width:600px;\n",
              "            height:44px;\n",
              "            margin:auto auto auto auto;\n",
              "            border:8px solid rgba(0,0,0,0.1);\n",
              "            background: rgb(252,252,252); /* Old browsers */\n",
              "            background: -moz-linear-gradient(top,  rgba(252,252,252,1) 0%, rgba(237,237,237,1) 100%); /* FF3.6+ */\n",
              "            background: -webkit-gradient(linear, left top, left bottom, color-stop(0%,rgba(252,252,252,1)), color-stop(100%,rgba(237,237,237,1))); /* Chrome,Safari4+ */\n",
              "            background: -webkit-linear-gradient(top,  rgba(252,252,252,1) 0%,rgba(237,237,237,1) 100%); /* Chrome10+,Safari5.1+ */\n",
              "            background: -o-linear-gradient(top,  rgba(252,252,252,1) 0%,rgba(237,237,237,1) 100%); /* Opera 11.10+ */\n",
              "            background: -ms-linear-gradient(top,  rgba(252,252,252,1) 0%,rgba(237,237,237,1) 100%); /* IE10+ */\n",
              "            background: linear-gradient(to bottom,  rgba(252,252,252,1) 0%,rgba(237,237,237,1) 100%); /* W3C */\n",
              "            filter: progid:DXImageTransform.Microsoft.gradient( startColorstr='#fcfcfc', endColorstr='#ededed',GradientType=0 ); /* IE6-9 */\n",
              "            border-radius:72px;\n",
              "            box-shadow: 0px 0px 10px rgba(0,0,0,0.2);\n",
              "        }\n",
              "        \n",
              "\n",
              "        \n",
              "\n",
              "        \n",
              "</style>\n",
              "\n",
              "</head>\n",
              "\n",
              "<body>\n",
              "<div id = \"mynetwork\"></div>\n",
              "\n",
              "<div id=\"loadingBar\">\n",
              "    <div class=\"outerBorder\">\n",
              "        <div id=\"text\">0%</div>\n",
              "        <div id=\"border\">\n",
              "            <div id=\"bar\"></div>\n",
              "        </div>\n",
              "    </div>\n",
              "</div>\n",
              "\n",
              "\n",
              "<script type=\"text/javascript\">\n",
              "\n",
              "    // initialize global variables.\n",
              "    var edges;\n",
              "    var nodes;\n",
              "    var network; \n",
              "    var container;\n",
              "    var options, data;\n",
              "\n",
              "    \n",
              "    // This method is responsible for drawing the graph, returns the drawn network\n",
              "    function drawGraph() {\n",
              "        var container = document.getElementById('mynetwork');\n",
              "        \n",
              "        \n",
              "\n",
              "        // parsing and collecting nodes and edges from the python\n",
              "        nodes = new vis.DataSet([{\"id\": \"\\u0e2a\\u0e33\\u0e19\\u0e31\\u0e01\\u0e02\\u0e48\\u0e32\\u0e27\", \"label\": \"\\u0e2a\\u0e33\\u0e19\\u0e31\\u0e01\\u0e02\\u0e48\\u0e32\\u0e27\", \"shape\": \"dot\", \"size\": 21}, {\"id\": \"\\u0e2a\\u0e16\\u0e32\\u0e19\\u0e01\\u0e32\\u0e23\\u0e13\\u0e4c\", \"label\": \"\\u0e2a\\u0e16\\u0e32\\u0e19\\u0e01\\u0e32\\u0e23\\u0e13\\u0e4c\", \"shape\": \"dot\", \"size\": 21}, {\"id\": \"\\u0e2a\\u0e32\\u0e18\\u0e32\\u0e23\\u0e13\\u0e2a\\u0e38\\u0e02\", \"label\": \"\\u0e2a\\u0e32\\u0e18\\u0e32\\u0e23\\u0e13\\u0e2a\\u0e38\\u0e02\", \"shape\": \"dot\", \"size\": 7}, {\"id\": \"\\u0e2a\\u0e15\\u0e39\\u0e25\", \"label\": \"\\u0e2a\\u0e15\\u0e39\\u0e25\", \"shape\": \"dot\", \"size\": 7}, {\"id\": \"\\u0e42\\u0e14\\u0e2a\", \"label\": \"\\u0e42\\u0e14\\u0e2a\", \"shape\": \"dot\", \"size\": 7}, {\"id\": \"\\u0e0a\\u0e32\\u0e27\", \"label\": \"\\u0e0a\\u0e32\\u0e27\", \"shape\": \"dot\", \"size\": 7}, {\"id\": \"\\u0e1e\\u0e23\\u0e30\", \"label\": \"\\u0e1e\\u0e23\\u0e30\", \"shape\": \"dot\", \"size\": 7}, {\"id\": \"\\u0e1e\\u0e23\\u0e30\\u0e23\\u0e32\\u0e0a\\u0e17\\u0e32\\u0e19\", \"label\": \"\\u0e1e\\u0e23\\u0e30\\u0e23\\u0e32\\u0e0a\\u0e17\\u0e32\\u0e19\", \"shape\": \"dot\", \"size\": 7}, {\"id\": \"\\u0e1c\\u0e39\\u0e49\\u0e27\\u0e48\\u0e32\\u0e23\\u0e32\\u0e0a\\u0e01\\u0e32\\u0e23\\u0e08\\u0e31\\u0e07\\u0e2b\\u0e27\\u0e31\\u0e14\", \"label\": \"\\u0e1c\\u0e39\\u0e49\\u0e27\\u0e48\\u0e32\\u0e23\\u0e32\\u0e0a\\u0e01\\u0e32\\u0e23\\u0e08\\u0e31\\u0e07\\u0e2b\\u0e27\\u0e31\\u0e14\", \"shape\": \"dot\", \"size\": 21}, {\"id\": \"\\u0e07\\u0e32\\u0e19\", \"label\": \"\\u0e07\\u0e32\\u0e19\", \"shape\": \"dot\", \"size\": 14}, {\"id\": \"\\u0e01\\u0e32\\u0e23\", \"label\": \"\\u0e01\\u0e32\\u0e23\", \"shape\": \"dot\", \"size\": 70}, {\"id\": \"\\u0e2a\\u0e31\\u0e14\\u0e2a\\u0e48\\u0e27\\u0e19\", \"label\": \"\\u0e2a\\u0e31\\u0e14\\u0e2a\\u0e48\\u0e27\\u0e19\", \"shape\": \"dot\", \"size\": 7}, {\"id\": \"\\u0e20\\u0e39\\u0e21\\u0e34\\u0e20\\u0e32\\u0e04\", \"label\": \"\\u0e20\\u0e39\\u0e21\\u0e34\\u0e20\\u0e32\\u0e04\", \"shape\": \"dot\", \"size\": 7}, {\"id\": \"\\u0e23\\u0e32\\u0e22\", \"label\": \"\\u0e23\\u0e32\\u0e22\", \"shape\": \"dot\", \"size\": 77}, {\"id\": \"\\u0e2a\\u0e33\\u0e19\\u0e31\\u0e01\\u0e07\\u0e32\\u0e19\", \"label\": \"\\u0e2a\\u0e33\\u0e19\\u0e31\\u0e01\\u0e07\\u0e32\\u0e19\", \"shape\": \"dot\", \"size\": 28}, {\"id\": \"\\u0e01\\u0e35\\u0e2c\\u0e32\", \"label\": \"\\u0e01\\u0e35\\u0e2c\\u0e32\", \"shape\": \"dot\", \"size\": 7}, {\"id\": \"\\u0e40\\u0e02\\u0e15\", \"label\": \"\\u0e40\\u0e02\\u0e15\", \"shape\": \"dot\", \"size\": 7}, {\"id\": \"\\u0e02\\u0e13\\u0e30\\u0e19\\u0e35\\u0e49\", \"label\": \"\\u0e02\\u0e13\\u0e30\\u0e19\\u0e35\\u0e49\", \"shape\": \"dot\", \"size\": 7}, {\"id\": \"\\u0e2d\\u0e32\\u0e01\\u0e32\\u0e23\", \"label\": \"\\u0e2d\\u0e32\\u0e01\\u0e32\\u0e23\", \"shape\": \"dot\", \"size\": 21}, {\"id\": \"\\u0e2b\\u0e32\\u0e22\", \"label\": \"\\u0e2b\\u0e32\\u0e22\", \"shape\": \"dot\", \"size\": 14}, {\"id\": \"\\u0e1c\\u0e39\\u0e49\\u0e1b\\u0e48\\u0e27\\u0e22\", \"label\": \"\\u0e1c\\u0e39\\u0e49\\u0e1b\\u0e48\\u0e27\\u0e22\", \"shape\": \"dot\", \"size\": 21}, {\"id\": \"\\u0e40\\u0e0a\\u0e37\\u0e49\\u0e2d\", \"label\": \"\\u0e40\\u0e0a\\u0e37\\u0e49\\u0e2d\", \"shape\": \"dot\", \"size\": 14}, {\"id\": \"\\u0e2a\\u0e32\\u0e22\\u0e1e\\u0e31\\u0e19\\u0e18\\u0e38\\u0e4c\", \"label\": \"\\u0e2a\\u0e32\\u0e22\\u0e1e\\u0e31\\u0e19\\u0e18\\u0e38\\u0e4c\", \"shape\": \"dot\", \"size\": 7}, {\"id\": \"\\u0e1a\\u0e38\\u0e0d\", \"label\": \"\\u0e1a\\u0e38\\u0e0d\", \"shape\": \"dot\", \"size\": 7}, {\"id\": \"\\u0e0a\\u0e19\\u0e30\", \"label\": \"\\u0e0a\\u0e19\\u0e30\", \"shape\": \"dot\", \"size\": 7}, {\"id\": \"\\u0e1b\\u0e23\\u0e30\\u0e18\\u0e32\\u0e19\", \"label\": \"\\u0e1b\\u0e23\\u0e30\\u0e18\\u0e32\\u0e19\", \"shape\": \"dot\", \"size\": 7}, {\"id\": \"\\u0e42\\u0e04\\u0e23\\u0e07\\u0e01\\u0e32\\u0e23\", \"label\": \"\\u0e42\\u0e04\\u0e23\\u0e07\\u0e01\\u0e32\\u0e23\", \"shape\": \"dot\", \"size\": 14}, {\"id\": \"\\u0e1b\\u0e23\\u0e30\\u0e0a\\u0e32\\u0e0a\\u0e19\", \"label\": \"\\u0e1b\\u0e23\\u0e30\\u0e0a\\u0e32\\u0e0a\\u0e19\", \"shape\": \"dot\", \"size\": 28}, {\"id\": \"\\u0e2d\\u0e32\\u0e2a\\u0e32\", \"label\": \"\\u0e2d\\u0e32\\u0e2a\\u0e32\", \"shape\": \"dot\", \"size\": 14}, {\"id\": \"\\u0e01\\u0e23\\u0e30\\u0e17\\u0e23\\u0e27\\u0e07\\u0e01\\u0e32\\u0e23\\u0e2d\\u0e38\\u0e14\\u0e21\\u0e28\\u0e36\\u0e01\\u0e29\\u0e32 \\u0e27\\u0e34\\u0e17\\u0e22\\u0e32\\u0e28\\u0e32\\u0e2a\\u0e15\\u0e23\\u0e4c \\u0e27\\u0e34\\u0e08\\u0e31\\u0e22\\u0e41\\u0e25\\u0e30\\u0e19\\u0e27\\u0e31\\u0e15\\u0e01\\u0e23\\u0e23\\u0e21\", \"label\": \"\\u0e01\\u0e23\\u0e30\\u0e17\\u0e23\\u0e27\\u0e07\\u0e01\\u0e32\\u0e23\\u0e2d\\u0e38\\u0e14\\u0e21\\u0e28\\u0e36\\u0e01\\u0e29\\u0e32 \\u0e27\\u0e34\\u0e17\\u0e22\\u0e32\\u0e28\\u0e32\\u0e2a\\u0e15\\u0e23\\u0e4c \\u0e27\\u0e34\\u0e08\\u0e31\\u0e22\\u0e41\\u0e25\\u0e30\\u0e19\\u0e27\\u0e31\\u0e15\\u0e01\\u0e23\\u0e23\\u0e21\", \"shape\": \"dot\", \"size\": 7}, {\"id\": \"\\u0e02\\u0e49\\u0e2d\\u0e21\\u0e39\\u0e25\", \"label\": \"\\u0e02\\u0e49\\u0e2d\\u0e21\\u0e39\\u0e25\", \"shape\": \"dot\", \"size\": 7}, {\"id\": \"\\u0e1c\\u0e39\\u0e49\", \"label\": \"\\u0e1c\\u0e39\\u0e49\", \"shape\": \"dot\", \"size\": 70}, {\"id\": \"\\u0e1e\\u0e37\\u0e49\\u0e19\\u0e17\\u0e35\\u0e48\", \"label\": \"\\u0e1e\\u0e37\\u0e49\\u0e19\\u0e17\\u0e35\\u0e48\", \"shape\": \"dot\", \"size\": 63}, {\"id\": \"\\u0e40\\u0e02\\u0e49\\u0e32\\u0e02\\u0e48\\u0e32\\u0e22\", \"label\": \"\\u0e40\\u0e02\\u0e49\\u0e32\\u0e02\\u0e48\\u0e32\\u0e22\", \"shape\": \"dot\", \"size\": 7}, {\"id\": \"\\u0e23\\u0e31\\u0e0a\", \"label\": \"\\u0e23\\u0e31\\u0e0a\", \"shape\": \"dot\", \"size\": 7}, {\"id\": \"\\u0e1b\\u0e23\\u0e30\\u0e01\\u0e32\\u0e23\", \"label\": \"\\u0e1b\\u0e23\\u0e30\\u0e01\\u0e32\\u0e23\", \"shape\": \"dot\", \"size\": 7}, {\"id\": \"\\u0e1b\\u0e35\", \"label\": \"\\u0e1b\\u0e35\", \"shape\": \"dot\", \"size\": 14}, {\"id\": \"\\u0e28\\u0e39\\u0e19\\u0e22\\u0e4c\\u0e1b\\u0e0f\\u0e34\\u0e1a\\u0e31\\u0e15\\u0e34\\u0e01\\u0e32\\u0e23\", \"label\": \"\\u0e28\\u0e39\\u0e19\\u0e22\\u0e4c\\u0e1b\\u0e0f\\u0e34\\u0e1a\\u0e31\\u0e15\\u0e34\\u0e01\\u0e32\\u0e23\", \"shape\": \"dot\", \"size\": 7}, {\"id\": \"\\u0e42\\u0e23\\u0e04\", \"label\": \"\\u0e42\\u0e23\\u0e04\", \"shape\": \"dot\", \"size\": 14}, {\"id\": \"\\u0e23\\u0e32\\u0e0a\\u0e01\\u0e32\\u0e23\", \"label\": \"\\u0e23\\u0e32\\u0e0a\\u0e01\\u0e32\\u0e23\", \"shape\": \"dot\", \"size\": 7}, {\"id\": \"\\u0e27\\u0e31\\u0e04\\u0e0b\\u0e35\\u0e19\", \"label\": \"\\u0e27\\u0e31\\u0e04\\u0e0b\\u0e35\\u0e19\", \"shape\": \"dot\", \"size\": 21}, {\"id\": \"\\u0e2d\\u0e38\\u0e17\\u0e01\\u0e20\\u0e31\\u0e22\", \"label\": \"\\u0e2d\\u0e38\\u0e17\\u0e01\\u0e20\\u0e31\\u0e22\", \"shape\": \"dot\", \"size\": 7}, {\"id\": \"\\u0e14\\u0e34\\u0e19\\u0e41\\u0e14\\u0e19\", \"label\": \"\\u0e14\\u0e34\\u0e19\\u0e41\\u0e14\\u0e19\", \"shape\": \"dot\", \"size\": 7}, {\"id\": \"\\u0e23\\u0e32\\u0e22\\u0e44\\u0e14\\u0e49\", \"label\": \"\\u0e23\\u0e32\\u0e22\\u0e44\\u0e14\\u0e49\", \"shape\": \"dot\", \"size\": 28}, {\"id\": \"\\u0e0a\\u0e38\\u0e21\\u0e0a\\u0e19\", \"label\": \"\\u0e0a\\u0e38\\u0e21\\u0e0a\\u0e19\", \"shape\": \"dot\", \"size\": 7}, {\"id\": \"\\u0e17\\u0e33\\u0e43\\u0e2b\\u0e49\\u0e40\\u0e01\\u0e34\\u0e14\", \"label\": \"\\u0e17\\u0e33\\u0e43\\u0e2b\\u0e49\\u0e40\\u0e01\\u0e34\\u0e14\", \"shape\": \"dot\", \"size\": 7}, {\"id\": \"\\u0e09\\u0e31\\u0e1a\\u0e1e\\u0e25\\u0e31\\u0e19\", \"label\": \"\\u0e09\\u0e31\\u0e1a\\u0e1e\\u0e25\\u0e31\\u0e19\", \"shape\": \"dot\", \"size\": 7}, {\"id\": \"\\u0e2b\\u0e25\\u0e1a\\u0e2b\\u0e19\\u0e35\", \"label\": \"\\u0e2b\\u0e25\\u0e1a\\u0e2b\\u0e19\\u0e35\", \"shape\": \"dot\", \"size\": 7}, {\"id\": \"\\u0e40\\u0e21\\u0e37\\u0e2d\\u0e07\", \"label\": \"\\u0e40\\u0e21\\u0e37\\u0e2d\\u0e07\", \"shape\": \"dot\", \"size\": 21}, {\"id\": \"\\u0e23\\u0e2d\\u0e07\\u0e1c\\u0e39\\u0e49\\u0e2d\\u0e33\\u0e19\\u0e27\\u0e22\\u0e01\\u0e32\\u0e23\", \"label\": \"\\u0e23\\u0e2d\\u0e07\\u0e1c\\u0e39\\u0e49\\u0e2d\\u0e33\\u0e19\\u0e27\\u0e22\\u0e01\\u0e32\\u0e23\", \"shape\": \"dot\", \"size\": 7}, {\"id\": \"\\u0e20\\u0e32\\u0e22\\u0e43\\u0e19\", \"label\": \"\\u0e20\\u0e32\\u0e22\\u0e43\\u0e19\", \"shape\": \"dot\", \"size\": 7}, {\"id\": \"\\u0e23\\u0e32\\u0e22\\u0e08\\u0e48\\u0e32\\u0e22\", \"label\": \"\\u0e23\\u0e32\\u0e22\\u0e08\\u0e48\\u0e32\\u0e22\", \"shape\": \"dot\", \"size\": 7}, {\"id\": \"\\u0e1b\\u0e35\\u0e07\\u0e1a\\u0e1b\\u0e23\\u0e30\\u0e21\\u0e32\\u0e13\", \"label\": \"\\u0e1b\\u0e35\\u0e07\\u0e1a\\u0e1b\\u0e23\\u0e30\\u0e21\\u0e32\\u0e13\", \"shape\": \"dot\", \"size\": 7}, {\"id\": \"\\u0e02\\u0e49\\u0e32\\u0e27\", \"label\": \"\\u0e02\\u0e49\\u0e32\\u0e27\", \"shape\": \"dot\", \"size\": 7}, {\"id\": \"\\u0e2a\\u0e34\\u0e48\\u0e07\", \"label\": \"\\u0e2a\\u0e34\\u0e48\\u0e07\", \"shape\": \"dot\", \"size\": 7}, {\"id\": \"\\u0e0a\\u0e35\\u0e49\\u0e17\\u0e32\\u0e07\", \"label\": \"\\u0e0a\\u0e35\\u0e49\\u0e17\\u0e32\\u0e07\", \"shape\": \"dot\", \"size\": 7}, {\"id\": \"\\u0e1e\\u0e24\\u0e28\\u0e08\\u0e34\\u0e01\\u0e32\\u0e22\\u0e19\", \"label\": \"\\u0e1e\\u0e24\\u0e28\\u0e08\\u0e34\\u0e01\\u0e32\\u0e22\\u0e19\", \"shape\": \"dot\", \"size\": 7}, {\"id\": \"\\u0e27\\u0e25\\u0e31\\u0e22\", \"label\": \"\\u0e27\\u0e25\\u0e31\\u0e22\", \"shape\": \"dot\", \"size\": 7}, {\"id\": \"\\u0e23\\u0e32\\u0e0a\", \"label\": \"\\u0e23\\u0e32\\u0e0a\", \"shape\": \"dot\", \"size\": 14}, {\"id\": \"\\u0e25\\u0e33\\u0e1e\\u0e39\\u0e19\", \"label\": \"\\u0e25\\u0e33\\u0e1e\\u0e39\\u0e19\", \"shape\": \"dot\", \"size\": 7}, {\"id\": \"\\u0e08\\u0e31\\u0e07\\u0e2b\\u0e27\\u0e31\\u0e14\", \"label\": \"\\u0e08\\u0e31\\u0e07\\u0e2b\\u0e27\\u0e31\\u0e14\", \"shape\": \"dot\", \"size\": 21}, {\"id\": \"\\u0e15\\u0e23\\u0e31\\u0e07\", \"label\": \"\\u0e15\\u0e23\\u0e31\\u0e07\", \"shape\": \"dot\", \"size\": 7}, {\"id\": \"\\u0e1a\\u0e23\\u0e23\\u0e40\\u0e17\\u0e32\", \"label\": \"\\u0e1a\\u0e23\\u0e23\\u0e40\\u0e17\\u0e32\", \"shape\": \"dot\", \"size\": 7}, {\"id\": \"\\u0e27\\u0e07\\u0e28\\u0e4c\", \"label\": \"\\u0e27\\u0e07\\u0e28\\u0e4c\", \"shape\": \"dot\", \"size\": 7}, {\"id\": \"\\u0e1e\\u0e31\\u0e19\\u0e18\\u0e38\\u0e4c\", \"label\": \"\\u0e1e\\u0e31\\u0e19\\u0e18\\u0e38\\u0e4c\", \"shape\": \"dot\", \"size\": 7}, {\"id\": \"\\u0e21\\u0e32\\u0e15\\u0e23\\u0e01\\u0e32\\u0e23\", \"label\": \"\\u0e21\\u0e32\\u0e15\\u0e23\\u0e01\\u0e32\\u0e23\", \"shape\": \"dot\", \"size\": 7}, {\"id\": \"\\u0e19\\u0e32\\u0e22\", \"label\": \"\\u0e19\\u0e32\\u0e22\", \"shape\": \"dot\", \"size\": 28}, {\"id\": \"\\u0e40\\u0e01\\u0e35\\u0e22\\u0e23\\u0e15\\u0e34\", \"label\": \"\\u0e40\\u0e01\\u0e35\\u0e22\\u0e23\\u0e15\\u0e34\", \"shape\": \"dot\", \"size\": 14}, {\"id\": \"\\u0e23\\u0e30\\u0e22\\u0e30\", \"label\": \"\\u0e23\\u0e30\\u0e22\\u0e30\", \"shape\": \"dot\", \"size\": 7}, {\"id\": \"\\u0e40\\u0e15\\u0e35\\u0e22\\u0e07\", \"label\": \"\\u0e40\\u0e15\\u0e35\\u0e22\\u0e07\", \"shape\": \"dot\", \"size\": 7}, {\"id\": \"\\u0e1e\\u0e07\\u0e28\\u0e4c\", \"label\": \"\\u0e1e\\u0e07\\u0e28\\u0e4c\", \"shape\": \"dot\", \"size\": 7}, {\"id\": \"\\u0e15\\u0e34\", \"label\": \"\\u0e15\\u0e34\", \"shape\": \"dot\", \"size\": 7}, {\"id\": \"\\u0e2d\\u0e32\\u0e0a\\u0e35\\u0e1e\", \"label\": \"\\u0e2d\\u0e32\\u0e0a\\u0e35\\u0e1e\", \"shape\": \"dot\", \"size\": 7}, {\"id\": \"\\u0e21\\u0e2d\\u0e1a\\u0e2b\\u0e21\\u0e32\\u0e22\", \"label\": \"\\u0e21\\u0e2d\\u0e1a\\u0e2b\\u0e21\\u0e32\\u0e22\", \"shape\": \"dot\", \"size\": 7}, {\"id\": \"\\u0e19\\u0e49\\u0e33\\u0e2b\\u0e25\\u0e32\\u0e01\", \"label\": \"\\u0e19\\u0e49\\u0e33\\u0e2b\\u0e25\\u0e32\\u0e01\", \"shape\": \"dot\", \"size\": 7}, {\"id\": \"\\u0e40\\u0e01\\u0e29\\u0e15\\u0e23\", \"label\": \"\\u0e40\\u0e01\\u0e29\\u0e15\\u0e23\", \"shape\": \"dot\", \"size\": 7}, {\"id\": \"\\u0e15\\u0e25\\u0e32\\u0e14\", \"label\": \"\\u0e15\\u0e25\\u0e32\\u0e14\", \"shape\": \"dot\", \"size\": 7}, {\"id\": \"\\u0e42\\u0e04\", \"label\": \"\\u0e42\\u0e04\", \"shape\": \"dot\", \"size\": 7}, {\"id\": \"\\u0e04\\u0e33\", \"label\": \"\\u0e04\\u0e33\", \"shape\": \"dot\", \"size\": 7}, {\"id\": \"\\u0e41\\u0e01\\u0e49\\u0e27\", \"label\": \"\\u0e41\\u0e01\\u0e49\\u0e27\", \"shape\": \"dot\", \"size\": 7}, {\"id\": \"\\u0e40\\u0e0a\\u0e37\\u0e49\\u0e2d\\u0e44\\u0e27\\u0e23\\u0e31\\u0e2a\", \"label\": \"\\u0e40\\u0e0a\\u0e37\\u0e49\\u0e2d\\u0e44\\u0e27\\u0e23\\u0e31\\u0e2a\", \"shape\": \"dot\", \"size\": 7}, {\"id\": \"\\u0e28\\u0e39\\u0e19\\u0e22\\u0e4c\", \"label\": \"\\u0e28\\u0e39\\u0e19\\u0e22\\u0e4c\", \"shape\": \"dot\", \"size\": 14}, {\"id\": \"\\u0e2a\\u0e32\\u0e18\\u0e32\\u0e23\\u0e13\\u0e20\\u0e31\\u0e22\", \"label\": \"\\u0e2a\\u0e32\\u0e18\\u0e32\\u0e23\\u0e13\\u0e20\\u0e31\\u0e22\", \"shape\": \"dot\", \"size\": 14}, {\"id\": \"\\u0e1b\\u0e23\\u0e30\\u0e08\\u0e33\\u0e1b\\u0e35\", \"label\": \"\\u0e1b\\u0e23\\u0e30\\u0e08\\u0e33\\u0e1b\\u0e35\", \"shape\": \"dot\", \"size\": 7}, {\"id\": \"\\u0e19\\u0e32\\u0e22\\u0e41\\u0e1e\\u0e17\\u0e22\\u0e4c\", \"label\": \"\\u0e19\\u0e32\\u0e22\\u0e41\\u0e1e\\u0e17\\u0e22\\u0e4c\", \"shape\": \"dot\", \"size\": 7}, {\"id\": \"\\u0e01\\u0e32\\u0e19\\u0e15\\u0e4c\", \"label\": \"\\u0e01\\u0e32\\u0e19\\u0e15\\u0e4c\", \"shape\": \"dot\", \"size\": 7}, {\"id\": \"\\u0e1e\\u0e34\\u0e18\\u0e35\", \"label\": \"\\u0e1e\\u0e34\\u0e18\\u0e35\", \"shape\": \"dot\", \"size\": 14}, {\"id\": \"\\u0e1d\\u0e19\\u0e15\\u0e01\", \"label\": \"\\u0e1d\\u0e19\\u0e15\\u0e01\", \"shape\": \"dot\", \"size\": 7}, {\"id\": \"\\u0e04\\u0e19\", \"label\": \"\\u0e04\\u0e19\", \"shape\": \"dot\", \"size\": 7}, {\"id\": \"\\u0e18\\u0e23\\u0e23\\u0e21\", \"label\": \"\\u0e18\\u0e23\\u0e23\\u0e21\", \"shape\": \"dot\", \"size\": 7}, {\"id\": \"\\u0e1c\\u0e39\\u0e49\\u0e1a\\u0e31\\u0e0d\\u0e0a\\u0e32\\u0e01\\u0e32\\u0e23\", \"label\": \"\\u0e1c\\u0e39\\u0e49\\u0e1a\\u0e31\\u0e0d\\u0e0a\\u0e32\\u0e01\\u0e32\\u0e23\", \"shape\": \"dot\", \"size\": 7}, {\"id\": \"\\u0e17\\u0e2b\\u0e32\\u0e23\\u0e23\\u0e32\\u0e1a\", \"label\": \"\\u0e17\\u0e2b\\u0e32\\u0e23\\u0e23\\u0e32\\u0e1a\", \"shape\": \"dot\", \"size\": 7}, {\"id\": \"\\u0e1b\\u0e23\\u0e34\\u0e21\\u0e13\\u0e11\\u0e25\", \"label\": \"\\u0e1b\\u0e23\\u0e34\\u0e21\\u0e13\\u0e11\\u0e25\", \"shape\": \"dot\", \"size\": 7}, {\"id\": \"\\u0e23\\u0e16\", \"label\": \"\\u0e23\\u0e16\", \"shape\": \"dot\", \"size\": 7}, {\"id\": \"\\u0e1b\\u0e23\\u0e30\\u0e21\\u0e07\", \"label\": \"\\u0e1b\\u0e23\\u0e30\\u0e21\\u0e07\", \"shape\": \"dot\", \"size\": 7}, {\"id\": \"\\u0e40\\u0e04\\u0e23\\u0e37\\u0e48\\u0e2d\\u0e07\\u0e0a\\u0e48\\u0e27\\u0e22\\u0e2b\\u0e32\\u0e22\\u0e43\\u0e08\", \"label\": \"\\u0e40\\u0e04\\u0e23\\u0e37\\u0e48\\u0e2d\\u0e07\\u0e0a\\u0e48\\u0e27\\u0e22\\u0e2b\\u0e32\\u0e22\\u0e43\\u0e08\", \"shape\": \"dot\", \"size\": 7}, {\"id\": \"\\u0e25\\u0e07\\u0e21\\u0e32\", \"label\": \"\\u0e25\\u0e07\\u0e21\\u0e32\", \"shape\": \"dot\", \"size\": 7}, {\"id\": \"\\u0e04\\u0e31\\u0e19\", \"label\": \"\\u0e04\\u0e31\\u0e19\", \"shape\": \"dot\", \"size\": 7}, {\"id\": \"\\u0e19\\u0e49\\u0e33\", \"label\": \"\\u0e19\\u0e49\\u0e33\", \"shape\": \"dot\", \"size\": 21}, {\"id\": \"\\u0e42\\u0e04\\u0e27\\u0e34\\u0e14\", \"label\": \"\\u0e42\\u0e04\\u0e27\\u0e34\\u0e14\", \"shape\": \"dot\", \"size\": 7}, {\"id\": \"\\u0e40\\u0e1b\\u0e47\\u0e19\\u0e01\\u0e32\\u0e23\", \"label\": \"\\u0e40\\u0e1b\\u0e47\\u0e19\\u0e01\\u0e32\\u0e23\", \"shape\": \"dot\", \"size\": 7}, {\"id\": \"\\u0e40\\u0e28\\u0e23\\u0e29\\u0e10\\u0e01\\u0e34\\u0e08\", \"label\": \"\\u0e40\\u0e28\\u0e23\\u0e29\\u0e10\\u0e01\\u0e34\\u0e08\", \"shape\": \"dot\", \"size\": 7}, {\"id\": \"\\u0e19\\u0e34\\u0e17\\u0e23\\u0e23\\u0e28\\u0e01\\u0e32\\u0e23\", \"label\": \"\\u0e19\\u0e34\\u0e17\\u0e23\\u0e23\\u0e28\\u0e01\\u0e32\\u0e23\", \"shape\": \"dot\", \"size\": 7}, {\"id\": \"\\u0e08\\u0e34\\u0e15\", \"label\": \"\\u0e08\\u0e34\\u0e15\", \"shape\": \"dot\", \"size\": 7}, {\"id\": \"\\u0e40\\u0e1e\\u0e0a\\u0e23\\u0e1a\\u0e39\\u0e23\\u0e13\\u0e4c\", \"label\": \"\\u0e40\\u0e1e\\u0e0a\\u0e23\\u0e1a\\u0e39\\u0e23\\u0e13\\u0e4c\", \"shape\": \"dot\", \"size\": 7}, {\"id\": \"\\u0e2a\\u0e21\\u0e2b\\u0e27\\u0e31\\u0e07\", \"label\": \"\\u0e2a\\u0e21\\u0e2b\\u0e27\\u0e31\\u0e07\", \"shape\": \"dot\", \"size\": 7}, {\"id\": \"\\u0e42\\u0e1e\", \"label\": \"\\u0e42\\u0e1e\", \"shape\": \"dot\", \"size\": 7}, {\"id\": \"\\u0e2a\\u0e21\\u0e40\\u0e14\\u0e47\\u0e08\\u0e1e\\u0e23\\u0e30\\u0e40\\u0e17\\u0e1e\\u0e23\\u0e31\\u0e15\\u0e19\\u0e23\\u0e32\\u0e0a\\u0e2a\\u0e38\\u0e14\\u0e32\", \"label\": \"\\u0e2a\\u0e21\\u0e40\\u0e14\\u0e47\\u0e08\\u0e1e\\u0e23\\u0e30\\u0e40\\u0e17\\u0e1e\\u0e23\\u0e31\\u0e15\\u0e19\\u0e23\\u0e32\\u0e0a\\u0e2a\\u0e38\\u0e14\\u0e32\", \"shape\": \"dot\", \"size\": 7}, {\"id\": \"\\u0e1a\\u0e23\\u0e21\", \"label\": \"\\u0e1a\\u0e23\\u0e21\", \"shape\": \"dot\", \"size\": 7}, {\"id\": \"\\u0e23\\u0e32\\u0e22\\u0e07\\u0e32\\u0e19\", \"label\": \"\\u0e23\\u0e32\\u0e22\\u0e07\\u0e32\\u0e19\", \"shape\": \"dot\", \"size\": 7}, {\"id\": \"\\u0e0a\\u0e31\\u0e48\\u0e27\\u0e42\\u0e21\\u0e07\", \"label\": \"\\u0e0a\\u0e31\\u0e48\\u0e27\\u0e42\\u0e21\\u0e07\", \"shape\": \"dot\", \"size\": 7}, {\"id\": \"\\u0e1d\\u0e19\", \"label\": \"\\u0e1d\\u0e19\", \"shape\": \"dot\", \"size\": 14}, {\"id\": \"\\u0e17\\u0e35\\u0e48\", \"label\": \"\\u0e17\\u0e35\\u0e48\", \"shape\": \"dot\", \"size\": 7}, {\"id\": \"\\u0e1f\\u0e49\\u0e32\", \"label\": \"\\u0e1f\\u0e49\\u0e32\", \"shape\": \"dot\", \"size\": 7}, {\"id\": \"\\u0e42\\u0e08\\u0e23\", \"label\": \"\\u0e42\\u0e08\\u0e23\", \"shape\": \"dot\", \"size\": 7}, {\"id\": \"\\u0e40\\u0e17\\u0e04\\u0e42\\u0e19\\u0e42\\u0e25\\u0e22\\u0e35\", \"label\": \"\\u0e40\\u0e17\\u0e04\\u0e42\\u0e19\\u0e42\\u0e25\\u0e22\\u0e35\", \"shape\": \"dot\", \"size\": 7}, {\"id\": \"\\u0e40\\u0e1a\\u0e15\\u0e07\", \"label\": \"\\u0e40\\u0e1a\\u0e15\\u0e07\", \"shape\": \"dot\", \"size\": 7}, {\"id\": \"\\u0e22\\u0e30\\u0e25\\u0e32\", \"label\": \"\\u0e22\\u0e30\\u0e25\\u0e32\", \"shape\": \"dot\", \"size\": 7}, {\"id\": \"\\u0e1a\\u0e23\\u0e34\\u0e40\\u0e27\\u0e13\", \"label\": \"\\u0e1a\\u0e23\\u0e34\\u0e40\\u0e27\\u0e13\", \"shape\": \"dot\", \"size\": 7}, {\"id\": \"\\u0e2d\\u0e07\\u0e04\\u0e4c\\u0e01\\u0e23\\u0e1b\\u0e01\\u0e04\\u0e23\\u0e2d\\u0e07\\u0e2a\\u0e48\\u0e27\\u0e19\\u0e17\\u0e49\\u0e2d\\u0e07\\u0e16\\u0e34\\u0e48\\u0e19\", \"label\": \"\\u0e2d\\u0e07\\u0e04\\u0e4c\\u0e01\\u0e23\\u0e1b\\u0e01\\u0e04\\u0e23\\u0e2d\\u0e07\\u0e2a\\u0e48\\u0e27\\u0e19\\u0e17\\u0e49\\u0e2d\\u0e07\\u0e16\\u0e34\\u0e48\\u0e19\", \"shape\": \"dot\", \"size\": 7}, {\"id\": \"\\u0e1c\\u0e39\\u0e49\\u0e43\\u0e2b\\u0e0d\\u0e48\\u0e1a\\u0e49\\u0e32\\u0e19\", \"label\": \"\\u0e1c\\u0e39\\u0e49\\u0e43\\u0e2b\\u0e0d\\u0e48\\u0e1a\\u0e49\\u0e32\\u0e19\", \"shape\": \"dot\", \"size\": 7}]);\n",
              "        edges = new vis.DataSet([{\"color\": \"orange\", \"from\": \"\\u0e2a\\u0e33\\u0e19\\u0e31\\u0e01\\u0e02\\u0e48\\u0e32\\u0e27\", \"label\": \"\\u0e01\\u0e23\\u0e21\\u0e1b\\u0e23\\u0e30\\u0e0a\\u0e32\\u0e2a\\u0e31\\u0e21\\u0e1e\\u0e31\\u0e19\\u0e18\\u0e4c\", \"to\": \"\\u0e2a\\u0e16\\u0e32\\u0e19\\u0e01\\u0e32\\u0e23\\u0e13\\u0e4c\", \"value\": 62}, {\"color\": \"orange\", \"from\": \"\\u0e2a\\u0e33\\u0e19\\u0e31\\u0e01\\u0e02\\u0e48\\u0e32\\u0e27\", \"label\": \"\\u0e01\\u0e23\\u0e21\\u0e1b\\u0e23\\u0e30\\u0e0a\\u0e32\\u0e2a\\u0e31\\u0e21\\u0e1e\\u0e31\\u0e19\\u0e18\\u0e4c\", \"to\": \"\\u0e1c\\u0e39\\u0e49\\u0e27\\u0e48\\u0e32\\u0e23\\u0e32\\u0e0a\\u0e01\\u0e32\\u0e23\\u0e08\\u0e31\\u0e07\\u0e2b\\u0e27\\u0e31\\u0e14\", \"value\": 61}, {\"color\": \"orange\", \"from\": \"\\u0e2a\\u0e33\\u0e19\\u0e31\\u0e01\\u0e02\\u0e48\\u0e32\\u0e27\", \"label\": \"\\u0e01\\u0e23\\u0e21\\u0e1b\\u0e23\\u0e30\\u0e0a\\u0e32\\u0e2a\\u0e31\\u0e21\\u0e1e\\u0e31\\u0e19\\u0e18\\u0e4c\", \"to\": \"\\u0e1e\\u0e24\\u0e28\\u0e08\\u0e34\\u0e01\\u0e32\\u0e22\\u0e19\", \"value\": 52}, {\"color\": \"orange\", \"from\": \"\\u0e2a\\u0e16\\u0e32\\u0e19\\u0e01\\u0e32\\u0e23\\u0e13\\u0e4c\", \"label\": \"\\u0e19\\u0e49\\u0e33\\u0e17\\u0e48\\u0e27\\u0e21\", \"to\": \"\\u0e1e\\u0e37\\u0e49\\u0e19\\u0e17\\u0e35\\u0e48\", \"value\": 50}, {\"color\": \"gray\", \"from\": \"\\u0e2a\\u0e16\\u0e32\\u0e19\\u0e01\\u0e32\\u0e23\\u0e13\\u0e4c\", \"label\": \"\\u0e23\\u0e32\\u0e22\\u0e07\\u0e32\\u0e19\", \"to\": \"\\u0e19\\u0e49\\u0e33\", \"value\": 45}, {\"color\": \"orange\", \"from\": \"\\u0e2a\\u0e32\\u0e18\\u0e32\\u0e23\\u0e13\\u0e2a\\u0e38\\u0e02\", \"label\": \"\\u0e08\\u0e31\\u0e07\\u0e2b\\u0e27\\u0e31\\u0e14\", \"to\": \"\\u0e2a\\u0e15\\u0e39\\u0e25\", \"value\": 62}, {\"color\": \"orange\", \"from\": \"\\u0e42\\u0e14\\u0e2a\", \"label\": \"\\u0e21\\u0e35\", \"to\": \"\\u0e0a\\u0e32\\u0e27\", \"value\": 62}, {\"color\": \"orange\", \"from\": \"\\u0e1e\\u0e23\\u0e30\", \"label\": \"\\u0e01\\u0e23\\u0e38\\u0e13\\u0e32\", \"to\": \"\\u0e1e\\u0e23\\u0e30\\u0e23\\u0e32\\u0e0a\\u0e17\\u0e32\\u0e19\", \"value\": 62}, {\"color\": \"orange\", \"from\": \"\\u0e1c\\u0e39\\u0e49\\u0e27\\u0e48\\u0e32\\u0e23\\u0e32\\u0e0a\\u0e01\\u0e32\\u0e23\\u0e08\\u0e31\\u0e07\\u0e2b\\u0e27\\u0e31\\u0e14\", \"label\": \"\\u0e41\\u0e17\\u0e19\", \"to\": \"\\u0e23\\u0e32\\u0e0a\\u0e01\\u0e32\\u0e23\", \"value\": 55}, {\"color\": \"gray\", \"from\": \"\\u0e1c\\u0e39\\u0e49\\u0e27\\u0e48\\u0e32\\u0e23\\u0e32\\u0e0a\\u0e01\\u0e32\\u0e23\\u0e08\\u0e31\\u0e07\\u0e2b\\u0e27\\u0e31\\u0e14\", \"label\": \"\\u0e23\\u0e2d\\u0e07\", \"to\": \"\\u0e08\\u0e34\\u0e15\", \"value\": 44}, {\"color\": \"orange\", \"from\": \"\\u0e07\\u0e32\\u0e19\", \"label\": \"\\u0e21\\u0e35\", \"to\": \"\\u0e01\\u0e32\\u0e23\", \"value\": 61}, {\"color\": \"orange\", \"from\": \"\\u0e07\\u0e32\\u0e19\", \"label\": \"\\u0e2a\\u0e23\\u0e49\\u0e32\\u0e07\", \"to\": \"\\u0e23\\u0e32\\u0e22\\u0e44\\u0e14\\u0e49\", \"value\": 54}, {\"color\": \"orange\", \"from\": \"\\u0e01\\u0e32\\u0e23\", \"label\": \"\\u0e21\\u0e35\", \"to\": \"\\u0e1b\\u0e35\", \"value\": 55}, {\"color\": \"orange\", \"from\": \"\\u0e01\\u0e32\\u0e23\", \"label\": \"\\u0e15\\u0e34\\u0e14\\u0e40\\u0e0a\\u0e37\\u0e49\\u0e2d\", \"to\": \"\\u0e1c\\u0e39\\u0e49\", \"value\": 53}, {\"color\": \"gray\", \"from\": \"\\u0e01\\u0e32\\u0e23\", \"label\": \"\\u0e43\\u0e0a\\u0e49\", \"to\": \"\\u0e23\\u0e16\", \"value\": 45}, {\"color\": \"gray\", \"from\": \"\\u0e01\\u0e32\\u0e23\", \"label\": \"\\u0e17\\u0e33\", \"to\": \"\\u0e1b\\u0e23\\u0e30\\u0e21\\u0e07\", \"value\": 45}, {\"color\": \"gray\", \"from\": \"\\u0e01\\u0e32\\u0e23\", \"label\": \"\\u0e1b\\u0e23\\u0e30\\u0e01\\u0e2d\\u0e1a\", \"to\": \"\\u0e1e\\u0e34\\u0e18\\u0e35\", \"value\": 44}, {\"color\": \"gray\", \"from\": \"\\u0e01\\u0e32\\u0e23\", \"label\": \"\\u0e08\\u0e31\\u0e14\", \"to\": \"\\u0e19\\u0e34\\u0e17\\u0e23\\u0e23\\u0e28\\u0e01\\u0e32\\u0e23\", \"value\": 44}, {\"color\": \"gray\", \"from\": \"\\u0e01\\u0e32\\u0e23\", \"label\": \"\\u0e21\\u0e35\", \"to\": \"\\u0e08\\u0e31\\u0e07\\u0e2b\\u0e27\\u0e31\\u0e14\", \"value\": 42}, {\"color\": \"gray\", \"from\": \"\\u0e01\\u0e32\\u0e23\", \"label\": \"\\u0e23\\u0e31\\u0e1a\", \"to\": \"\\u0e27\\u0e31\\u0e04\\u0e0b\\u0e35\\u0e19\", \"value\": 42}, {\"color\": \"gray\", \"from\": \"\\u0e01\\u0e32\\u0e23\", \"label\": \"\\u0e43\\u0e0a\\u0e49\", \"to\": \"\\u0e40\\u0e17\\u0e04\\u0e42\\u0e19\\u0e42\\u0e25\\u0e22\\u0e35\", \"value\": 42}, {\"color\": \"orange\", \"from\": \"\\u0e2a\\u0e31\\u0e14\\u0e2a\\u0e48\\u0e27\\u0e19\", \"label\": \"\\u0e1b\\u0e23\\u0e30\\u0e0a\\u0e32\\u0e01\\u0e23\", \"to\": \"\\u0e20\\u0e39\\u0e21\\u0e34\\u0e20\\u0e32\\u0e04\", \"value\": 61}, {\"color\": \"orange\", \"from\": \"\\u0e23\\u0e32\\u0e22\", \"label\": \"\\u0e2a\\u0e30\\u0e2a\\u0e21\", \"to\": \"\\u0e23\\u0e32\\u0e22\", \"value\": 60}, {\"color\": \"orange\", \"from\": \"\\u0e23\\u0e32\\u0e22\", \"label\": \"\\u0e21\\u0e35\", \"to\": \"\\u0e2d\\u0e32\\u0e01\\u0e32\\u0e23\", \"value\": 60}, {\"color\": \"orange\", \"from\": \"\\u0e23\\u0e32\\u0e22\", \"label\": \"\\u0e2a\\u0e30\\u0e2a\\u0e21\", \"to\": \"\\u0e2b\\u0e32\\u0e22\", \"value\": 60}, {\"color\": \"orange\", \"from\": \"\\u0e23\\u0e32\\u0e22\", \"label\": \"\\u0e21\\u0e35\", \"to\": \"\\u0e1c\\u0e39\\u0e49\\u0e1b\\u0e48\\u0e27\\u0e22\", \"value\": 57}, {\"color\": \"orange\", \"from\": \"\\u0e23\\u0e32\\u0e22\", \"label\": \"\\u0e1e\\u0e1a\", \"to\": \"\\u0e1c\\u0e39\\u0e49\", \"value\": 50}, {\"color\": \"orange\", \"from\": \"\\u0e23\\u0e32\\u0e22\", \"label\": \"\\u0e1e\\u0e1a\", \"to\": \"\\u0e40\\u0e0a\\u0e37\\u0e49\\u0e2d\", \"value\": 46}, {\"color\": \"gray\", \"from\": \"\\u0e23\\u0e32\\u0e22\", \"label\": \"\\u0e43\\u0e0a\\u0e49\", \"to\": \"\\u0e40\\u0e04\\u0e23\\u0e37\\u0e48\\u0e2d\\u0e07\\u0e0a\\u0e48\\u0e27\\u0e22\\u0e2b\\u0e32\\u0e22\\u0e43\\u0e08\", \"value\": 45}, {\"color\": \"gray\", \"from\": \"\\u0e23\\u0e32\\u0e22\", \"label\": \"\\u0e23\\u0e2d\\u0e07\", \"to\": \"\\u0e25\\u0e07\\u0e21\\u0e32\", \"value\": 45}, {\"color\": \"gray\", \"from\": \"\\u0e23\\u0e32\\u0e22\", \"label\": \"\\u0e1e\\u0e1a\", \"to\": \"\\u0e40\\u0e21\\u0e37\\u0e2d\\u0e07\", \"value\": 43}, {\"color\": \"orange\", \"from\": \"\\u0e2a\\u0e33\\u0e19\\u0e31\\u0e01\\u0e07\\u0e32\\u0e19\", \"label\": \"\\u0e01\\u0e32\\u0e23\\u0e17\\u0e48\\u0e2d\\u0e07\\u0e40\\u0e17\\u0e35\\u0e48\\u0e22\\u0e27\", \"to\": \"\\u0e01\\u0e35\\u0e2c\\u0e32\", \"value\": 60}, {\"color\": \"orange\", \"from\": \"\\u0e2a\\u0e33\\u0e19\\u0e31\\u0e01\\u0e07\\u0e32\\u0e19\", \"label\": \"\\u0e02\\u0e19\\u0e2a\\u0e48\\u0e07\", \"to\": \"\\u0e08\\u0e31\\u0e07\\u0e2b\\u0e27\\u0e31\\u0e14\", \"value\": 46}, {\"color\": \"orange\", \"from\": \"\\u0e2a\\u0e33\\u0e19\\u0e31\\u0e01\\u0e07\\u0e32\\u0e19\", \"label\": \"\\u0e43\\u0e2b\\u0e49\", \"to\": \"\\u0e21\\u0e2d\\u0e1a\\u0e2b\\u0e21\\u0e32\\u0e22\", \"value\": 48}, {\"color\": \"orange\", \"from\": \"\\u0e40\\u0e02\\u0e15\", \"label\": \"\\u0e1b\\u0e01\\u0e04\\u0e23\\u0e2d\\u0e07\", \"to\": \"\\u0e02\\u0e13\\u0e30\\u0e19\\u0e35\\u0e49\", \"value\": 60}, {\"color\": \"orange\", \"from\": \"\\u0e2d\\u0e32\\u0e01\\u0e32\\u0e23\", \"label\": \"\\u0e21\\u0e35\", \"to\": \"\\u0e2d\\u0e32\\u0e01\\u0e32\\u0e23\", \"value\": 51}, {\"color\": \"orange\", \"from\": \"\\u0e1c\\u0e39\\u0e49\\u0e1b\\u0e48\\u0e27\\u0e22\", \"label\": \"\\u0e15\\u0e34\\u0e14\", \"to\": \"\\u0e40\\u0e15\\u0e35\\u0e22\\u0e07\", \"value\": 49}, {\"color\": \"gray\", \"from\": \"\\u0e1c\\u0e39\\u0e49\\u0e1b\\u0e48\\u0e27\\u0e22\", \"label\": \"\\u0e2a\\u0e31\\u0e21\\u0e1c\\u0e31\\u0e2a\", \"to\": \"\\u0e1c\\u0e39\\u0e49\", \"value\": 43}, {\"color\": \"orange\", \"from\": \"\\u0e40\\u0e0a\\u0e37\\u0e49\\u0e2d\", \"label\": \"\\u0e01\\u0e25\\u0e32\\u0e22\\u0e1e\\u0e31\\u0e19\\u0e18\\u0e38\\u0e4c\", \"to\": \"\\u0e2a\\u0e32\\u0e22\\u0e1e\\u0e31\\u0e19\\u0e18\\u0e38\\u0e4c\", \"value\": 57}, {\"color\": \"orange\", \"from\": \"\\u0e1a\\u0e38\\u0e0d\", \"label\": \"\\u0e04\\u0e07\", \"to\": \"\\u0e0a\\u0e19\\u0e30\", \"value\": 57}, {\"color\": \"orange\", \"from\": \"\\u0e1b\\u0e23\\u0e30\\u0e18\\u0e32\\u0e19\", \"label\": \"\\u0e40\\u0e1b\\u0e34\\u0e14\", \"to\": \"\\u0e42\\u0e04\\u0e23\\u0e07\\u0e01\\u0e32\\u0e23\", \"value\": 57}, {\"color\": \"orange\", \"from\": \"\\u0e42\\u0e04\\u0e23\\u0e07\\u0e01\\u0e32\\u0e23\", \"label\": \"\\u0e04\\u0e23\\u0e36\\u0e48\\u0e07\", \"to\": \"\\u0e23\\u0e30\\u0e22\\u0e30\", \"value\": 49}, {\"color\": \"orange\", \"from\": \"\\u0e1b\\u0e23\\u0e30\\u0e0a\\u0e32\\u0e0a\\u0e19\", \"label\": \"\\u0e08\\u0e34\\u0e15\", \"to\": \"\\u0e2d\\u0e32\\u0e2a\\u0e32\", \"value\": 57}, {\"color\": \"orange\", \"from\": \"\\u0e1b\\u0e23\\u0e30\\u0e0a\\u0e32\\u0e0a\\u0e19\", \"label\": \"\\u0e04\\u0e27\\u0e32\\u0e21\\u0e40\\u0e14\\u0e37\\u0e2d\\u0e14\\u0e23\\u0e49\\u0e2d\\u0e19\", \"to\": \"\\u0e1a\\u0e23\\u0e23\\u0e40\\u0e17\\u0e32\", \"value\": 51}, {\"color\": \"gray\", \"from\": \"\\u0e1b\\u0e23\\u0e30\\u0e0a\\u0e32\\u0e0a\\u0e19\", \"label\": \"\\u0e43\\u0e2b\\u0e49\", \"to\": \"\\u0e42\\u0e04\\u0e27\\u0e34\\u0e14\", \"value\": 44}, {\"color\": \"gray\", \"from\": \"\\u0e1b\\u0e23\\u0e30\\u0e0a\\u0e32\\u0e0a\\u0e19\", \"label\": \"\\u0e43\\u0e2b\\u0e49\", \"to\": \"\\u0e23\\u0e32\\u0e22\\u0e44\\u0e14\\u0e49\", \"value\": 44}, {\"color\": \"orange\", \"from\": \"\\u0e2d\\u0e32\\u0e2a\\u0e32\", \"label\": \"\\u0e23\\u0e31\\u0e01\\u0e29\\u0e32\", \"to\": \"\\u0e14\\u0e34\\u0e19\\u0e41\\u0e14\\u0e19\", \"value\": 54}, {\"color\": \"orange\", \"from\": \"\\u0e01\\u0e23\\u0e30\\u0e17\\u0e23\\u0e27\\u0e07\\u0e01\\u0e32\\u0e23\\u0e2d\\u0e38\\u0e14\\u0e21\\u0e28\\u0e36\\u0e01\\u0e29\\u0e32 \\u0e27\\u0e34\\u0e17\\u0e22\\u0e32\\u0e28\\u0e32\\u0e2a\\u0e15\\u0e23\\u0e4c \\u0e27\\u0e34\\u0e08\\u0e31\\u0e22\\u0e41\\u0e25\\u0e30\\u0e19\\u0e27\\u0e31\\u0e15\\u0e01\\u0e23\\u0e23\\u0e21\", \"label\": \"\\u0e40\\u0e1c\\u0e22\", \"to\": \"\\u0e02\\u0e49\\u0e2d\\u0e21\\u0e39\\u0e25\", \"value\": 57}, {\"color\": \"orange\", \"from\": \"\\u0e1c\\u0e39\\u0e49\", \"label\": \"\\u0e21\\u0e32\\u0e08\\u0e32\\u0e01\", \"to\": \"\\u0e1e\\u0e37\\u0e49\\u0e19\\u0e17\\u0e35\\u0e48\", \"value\": 57}, {\"color\": \"orange\", \"from\": \"\\u0e1c\\u0e39\\u0e49\", \"label\": \"\\u0e15\\u0e34\\u0e14\\u0e40\\u0e0a\\u0e37\\u0e49\\u0e2d\", \"to\": \"\\u0e40\\u0e02\\u0e49\\u0e32\\u0e02\\u0e48\\u0e32\\u0e22\", \"value\": 56}, {\"color\": \"orange\", \"from\": \"\\u0e1c\\u0e39\\u0e49\", \"label\": \"\\u0e44\\u0e14\\u0e49\\u0e23\\u0e31\\u0e1a\", \"to\": \"\\u0e27\\u0e31\\u0e04\\u0e0b\\u0e35\\u0e19\", \"value\": 55}, {\"color\": \"orange\", \"from\": \"\\u0e1c\\u0e39\\u0e49\", \"label\": \"\\u0e1b\\u0e25\\u0e39\\u0e01\", \"to\": \"\\u0e02\\u0e49\\u0e32\\u0e27\", \"value\": 53}, {\"color\": \"orange\", \"from\": \"\\u0e1c\\u0e39\\u0e49\", \"label\": \"\\u0e15\\u0e34\\u0e14\", \"to\": \"\\u0e40\\u0e0a\\u0e37\\u0e49\\u0e2d\\u0e44\\u0e27\\u0e23\\u0e31\\u0e2a\", \"value\": 47}, {\"color\": \"gray\", \"from\": \"\\u0e1c\\u0e39\\u0e49\", \"label\": \"\\u0e21\\u0e35\", \"to\": \"\\u0e04\\u0e19\", \"value\": 45}, {\"color\": \"gray\", \"from\": \"\\u0e1c\\u0e39\\u0e49\", \"label\": \"\\u0e1e\\u0e1a\", \"to\": \"\\u0e23\\u0e32\\u0e22\\u0e07\\u0e32\\u0e19\", \"value\": 43}, {\"color\": \"orange\", \"from\": \"\\u0e1e\\u0e37\\u0e49\\u0e19\\u0e17\\u0e35\\u0e48\", \"label\": \"\\u0e1b\\u0e23\\u0e30\\u0e2a\\u0e1a\", \"to\": \"\\u0e2d\\u0e38\\u0e17\\u0e01\\u0e20\\u0e31\\u0e22\", \"value\": 55}, {\"color\": \"orange\", \"from\": \"\\u0e1e\\u0e37\\u0e49\\u0e19\\u0e17\\u0e35\\u0e48\", \"label\": \"\\u0e08\\u0e31\\u0e07\\u0e2b\\u0e27\\u0e31\\u0e14\", \"to\": \"\\u0e25\\u0e33\\u0e1e\\u0e39\\u0e19\", \"value\": 51}, {\"color\": \"orange\", \"from\": \"\\u0e1e\\u0e37\\u0e49\\u0e19\\u0e17\\u0e35\\u0e48\", \"label\": \"\\u0e08\\u0e31\\u0e07\\u0e2b\\u0e27\\u0e31\\u0e14\", \"to\": \"\\u0e15\\u0e23\\u0e31\\u0e07\", \"value\": 51}, {\"color\": \"orange\", \"from\": \"\\u0e1e\\u0e37\\u0e49\\u0e19\\u0e17\\u0e35\\u0e48\", \"label\": \"\\u0e40\\u0e2a\\u0e35\\u0e48\\u0e22\\u0e07\", \"to\": \"\\u0e19\\u0e49\\u0e33\\u0e2b\\u0e25\\u0e32\\u0e01\", \"value\": 48}, {\"color\": \"orange\", \"from\": \"\\u0e1e\\u0e37\\u0e49\\u0e19\\u0e17\\u0e35\\u0e48\", \"label\": \"\\u0e21\\u0e35\", \"to\": \"\\u0e1d\\u0e19\\u0e15\\u0e01\", \"value\": 46}, {\"color\": \"gray\", \"from\": \"\\u0e1e\\u0e37\\u0e49\\u0e19\\u0e17\\u0e35\\u0e48\", \"label\": \"\\u0e01\\u0e23\\u0e38\\u0e07\\u0e40\\u0e17\\u0e1e\\u0e21\\u0e2b\\u0e32\\u0e19\\u0e04\\u0e23\", \"to\": \"\\u0e1b\\u0e23\\u0e34\\u0e21\\u0e13\\u0e11\\u0e25\", \"value\": 45}, {\"color\": \"gray\", \"from\": \"\\u0e1e\\u0e37\\u0e49\\u0e19\\u0e17\\u0e35\\u0e48\", \"label\": \"\\u0e04\\u0e07\\u0e2d\\u0e22\\u0e39\\u0e48\", \"to\": \"\\u0e19\\u0e49\\u0e33\", \"value\": 44}, {\"color\": \"orange\", \"from\": \"\\u0e23\\u0e31\\u0e0a\", \"label\": \"\\u0e01\\u0e34\\u0e08\", \"to\": \"\\u0e1b\\u0e23\\u0e30\\u0e01\\u0e32\\u0e23\", \"value\": 55}, {\"color\": \"orange\", \"from\": \"\\u0e1b\\u0e35\", \"label\": \"\\u0e01\\u0e34\\u0e19\", \"to\": \"\\u0e42\\u0e04\", \"value\": 48}, {\"color\": \"orange\", \"from\": \"\\u0e28\\u0e39\\u0e19\\u0e22\\u0e4c\\u0e1b\\u0e0f\\u0e34\\u0e1a\\u0e31\\u0e15\\u0e34\\u0e01\\u0e32\\u0e23\", \"label\": \"\\u0e04\\u0e27\\u0e1a\\u0e04\\u0e38\\u0e21\", \"to\": \"\\u0e42\\u0e23\\u0e04\", \"value\": 55}, {\"color\": \"orange\", \"from\": \"\\u0e42\\u0e23\\u0e04\", \"label\": \"\\u0e1b\\u0e49\\u0e2d\\u0e07\\u0e01\\u0e31\\u0e19\", \"to\": \"\\u0e27\\u0e31\\u0e04\\u0e0b\\u0e35\\u0e19\", \"value\": 47}, {\"color\": \"orange\", \"from\": \"\\u0e23\\u0e32\\u0e22\\u0e44\\u0e14\\u0e49\", \"label\": \"\\u0e43\\u0e2b\\u0e49\", \"to\": \"\\u0e0a\\u0e38\\u0e21\\u0e0a\\u0e19\", \"value\": 54}, {\"color\": \"orange\", \"from\": \"\\u0e23\\u0e32\\u0e22\\u0e44\\u0e14\\u0e49\", \"label\": \"\\u0e2a\\u0e23\\u0e49\\u0e32\\u0e07\", \"to\": \"\\u0e2d\\u0e32\\u0e0a\\u0e35\\u0e1e\", \"value\": 48}, {\"color\": \"orange\", \"from\": \"\\u0e17\\u0e33\\u0e43\\u0e2b\\u0e49\\u0e40\\u0e01\\u0e34\\u0e14\", \"label\": \"\\u0e19\\u0e49\\u0e33\\u0e17\\u0e48\\u0e27\\u0e21\", \"to\": \"\\u0e09\\u0e31\\u0e1a\\u0e1e\\u0e25\\u0e31\\u0e19\", \"value\": 54}, {\"color\": \"orange\", \"from\": \"\\u0e2b\\u0e25\\u0e1a\\u0e2b\\u0e19\\u0e35\", \"label\": \"\\u0e40\\u0e02\\u0e49\\u0e32\", \"to\": \"\\u0e40\\u0e21\\u0e37\\u0e2d\\u0e07\", \"value\": 53}, {\"color\": \"orange\", \"from\": \"\\u0e40\\u0e21\\u0e37\\u0e2d\\u0e07\", \"label\": \"\\u0e1b\\u0e34\\u0e14\", \"to\": \"\\u0e21\\u0e32\\u0e15\\u0e23\\u0e01\\u0e32\\u0e23\", \"value\": 51}, {\"color\": \"orange\", \"from\": \"\\u0e23\\u0e2d\\u0e07\\u0e1c\\u0e39\\u0e49\\u0e2d\\u0e33\\u0e19\\u0e27\\u0e22\\u0e01\\u0e32\\u0e23\", \"label\": \"\\u0e23\\u0e31\\u0e01\\u0e29\\u0e32\", \"to\": \"\\u0e20\\u0e32\\u0e22\\u0e43\\u0e19\", \"value\": 53}, {\"color\": \"orange\", \"from\": \"\\u0e23\\u0e32\\u0e22\\u0e08\\u0e48\\u0e32\\u0e22\", \"label\": \"\\u0e1b\\u0e23\\u0e30\\u0e08\\u0e33\", \"to\": \"\\u0e1b\\u0e35\\u0e07\\u0e1a\\u0e1b\\u0e23\\u0e30\\u0e21\\u0e32\\u0e13\", \"value\": 53}, {\"color\": \"orange\", \"from\": \"\\u0e2a\\u0e34\\u0e48\\u0e07\", \"label\": \"\\u0e1a\\u0e48\\u0e07\", \"to\": \"\\u0e0a\\u0e35\\u0e49\\u0e17\\u0e32\\u0e07\", \"value\": 52}, {\"color\": \"orange\", \"from\": \"\\u0e27\\u0e25\\u0e31\\u0e22\", \"label\": \"\\u0e2d\\u0e31\\u0e04\\u0e23\", \"to\": \"\\u0e23\\u0e32\\u0e0a\", \"value\": 52}, {\"color\": \"orange\", \"from\": \"\\u0e23\\u0e32\\u0e0a\", \"label\": \"\\u0e16\\u0e27\\u0e32\\u0e22\", \"to\": \"\\u0e1e\\u0e34\\u0e18\\u0e35\", \"value\": 46}, {\"color\": \"orange\", \"from\": \"\\u0e27\\u0e07\\u0e28\\u0e4c\", \"label\": \"\\u0e01\\u0e23\\u0e30\", \"to\": \"\\u0e1e\\u0e31\\u0e19\\u0e18\\u0e38\\u0e4c\", \"value\": 51}, {\"color\": \"gray\", \"from\": \"\\u0e19\\u0e32\\u0e22\", \"label\": \"\\u0e2a\\u0e21\", \"to\": \"\\u0e40\\u0e01\\u0e35\\u0e22\\u0e23\\u0e15\\u0e34\", \"value\": 43}, {\"color\": \"orange\", \"from\": \"\\u0e19\\u0e32\\u0e22\", \"label\": \"\\u0e21\\u0e35\", \"to\": \"\\u0e1b\\u0e23\\u0e30\\u0e08\\u0e33\\u0e1b\\u0e35\", \"value\": 46}, {\"color\": \"gray\", \"from\": \"\\u0e19\\u0e32\\u0e22\", \"label\": \"\\u0e21\\u0e35\", \"to\": \"\\u0e17\\u0e35\\u0e48\", \"value\": 42}, {\"color\": \"orange\", \"from\": \"\\u0e1e\\u0e07\\u0e28\\u0e4c\", \"label\": \"\\u0e01\\u0e34\", \"to\": \"\\u0e15\\u0e34\", \"value\": 49}, {\"color\": \"orange\", \"from\": \"\\u0e40\\u0e01\\u0e29\\u0e15\\u0e23\", \"label\": \"\\u0e40\\u0e0a\\u0e37\\u0e48\\u0e2d\\u0e21\\u0e42\\u0e22\\u0e07\", \"to\": \"\\u0e15\\u0e25\\u0e32\\u0e14\", \"value\": 48}, {\"color\": \"orange\", \"from\": \"\\u0e04\\u0e33\", \"label\": \"\\u0e40\\u0e02\\u0e37\\u0e48\\u0e2d\\u0e19\", \"to\": \"\\u0e41\\u0e01\\u0e49\\u0e27\", \"value\": 47}, {\"color\": \"orange\", \"from\": \"\\u0e28\\u0e39\\u0e19\\u0e22\\u0e4c\", \"label\": \"\\u0e1a\\u0e23\\u0e23\\u0e40\\u0e17\\u0e32\", \"to\": \"\\u0e2a\\u0e32\\u0e18\\u0e32\\u0e23\\u0e13\\u0e20\\u0e31\\u0e22\", \"value\": 47}, {\"color\": \"gray\", \"from\": \"\\u0e28\\u0e39\\u0e19\\u0e22\\u0e4c\", \"label\": \"\\u0e14\\u0e33\\u0e23\\u0e07\", \"to\": \"\\u0e18\\u0e23\\u0e23\\u0e21\", \"value\": 45}, {\"color\": \"gray\", \"from\": \"\\u0e2a\\u0e32\\u0e18\\u0e32\\u0e23\\u0e13\\u0e20\\u0e31\\u0e22\", \"label\": \"\\u0e08\\u0e31\\u0e07\\u0e2b\\u0e27\\u0e31\\u0e14\", \"to\": \"\\u0e40\\u0e1e\\u0e0a\\u0e23\\u0e1a\\u0e39\\u0e23\\u0e13\\u0e4c\", \"value\": 44}, {\"color\": \"orange\", \"from\": \"\\u0e19\\u0e32\\u0e22\\u0e41\\u0e1e\\u0e17\\u0e22\\u0e4c\", \"label\": \"\\u0e15\\u0e38\\u0e25\", \"to\": \"\\u0e01\\u0e32\\u0e19\\u0e15\\u0e4c\", \"value\": 46}, {\"color\": \"gray\", \"from\": \"\\u0e1c\\u0e39\\u0e49\\u0e1a\\u0e31\\u0e0d\\u0e0a\\u0e32\\u0e01\\u0e32\\u0e23\", \"label\": \"\\u0e01\\u0e2d\\u0e07\\u0e1e\\u0e25\", \"to\": \"\\u0e17\\u0e2b\\u0e32\\u0e23\\u0e23\\u0e32\\u0e1a\", \"value\": 45}, {\"color\": \"gray\", \"from\": \"\\u0e04\\u0e31\\u0e19\", \"label\": \"\\u0e01\\u0e31\\u0e49\\u0e19\", \"to\": \"\\u0e19\\u0e49\\u0e33\", \"value\": 45}, {\"color\": \"gray\", \"from\": \"\\u0e40\\u0e1b\\u0e47\\u0e19\\u0e01\\u0e32\\u0e23\", \"label\": \"\\u0e01\\u0e23\\u0e30\\u0e15\\u0e38\\u0e49\\u0e19\", \"to\": \"\\u0e40\\u0e28\\u0e23\\u0e29\\u0e10\\u0e01\\u0e34\\u0e08\", \"value\": 44}, {\"color\": \"gray\", \"from\": \"\\u0e2a\\u0e21\\u0e2b\\u0e27\\u0e31\\u0e07\", \"label\": \"\\u0e1e\\u0e48\\u0e27\\u0e07\", \"to\": \"\\u0e42\\u0e1e\", \"value\": 43}, {\"color\": \"gray\", \"from\": \"\\u0e2a\\u0e21\\u0e40\\u0e14\\u0e47\\u0e08\\u0e1e\\u0e23\\u0e30\\u0e40\\u0e17\\u0e1e\\u0e23\\u0e31\\u0e15\\u0e19\\u0e23\\u0e32\\u0e0a\\u0e2a\\u0e38\\u0e14\\u0e32\", \"label\": \"\\u0e2a\\u0e22\\u0e32\\u0e21\", \"to\": \"\\u0e1a\\u0e23\\u0e21\", \"value\": 43}, {\"color\": \"gray\", \"from\": \"\\u0e0a\\u0e31\\u0e48\\u0e27\\u0e42\\u0e21\\u0e07\", \"label\": \"\\u0e21\\u0e35\", \"to\": \"\\u0e1d\\u0e19\", \"value\": 43}, {\"color\": \"gray\", \"from\": \"\\u0e1d\\u0e19\", \"label\": \"\\u0e21\\u0e35\", \"to\": \"\\u0e1a\\u0e23\\u0e34\\u0e40\\u0e27\\u0e13\", \"value\": 42}, {\"color\": \"gray\", \"from\": \"\\u0e1f\\u0e49\\u0e32\", \"label\": \"\\u0e17\\u0e30\\u0e25\\u0e32\\u0e22\", \"to\": \"\\u0e42\\u0e08\\u0e23\", \"value\": 42}, {\"color\": \"gray\", \"from\": \"\\u0e40\\u0e1a\\u0e15\\u0e07\", \"label\": \"\\u0e08\\u0e31\\u0e07\\u0e2b\\u0e27\\u0e31\\u0e14\", \"to\": \"\\u0e22\\u0e30\\u0e25\\u0e32\", \"value\": 42}, {\"color\": \"gray\", \"from\": \"\\u0e2d\\u0e07\\u0e04\\u0e4c\\u0e01\\u0e23\\u0e1b\\u0e01\\u0e04\\u0e23\\u0e2d\\u0e07\\u0e2a\\u0e48\\u0e27\\u0e19\\u0e17\\u0e49\\u0e2d\\u0e07\\u0e16\\u0e34\\u0e48\\u0e19\", \"label\": \"\\u0e01\\u0e33\\u0e19\\u0e31\\u0e19\", \"to\": \"\\u0e1c\\u0e39\\u0e49\\u0e43\\u0e2b\\u0e0d\\u0e48\\u0e1a\\u0e49\\u0e32\\u0e19\", \"value\": 42}]);\n",
              "\n",
              "        // adding nodes and edges to the graph\n",
              "        data = {nodes: nodes, edges: edges};\n",
              "\n",
              "        var options = {\n",
              "    \"configure\": {\n",
              "        \"enabled\": false\n",
              "    },\n",
              "    \"edges\": {\n",
              "        \"color\": {\n",
              "            \"inherit\": true\n",
              "        },\n",
              "        \"smooth\": {\n",
              "            \"enabled\": false,\n",
              "            \"type\": \"continuous\"\n",
              "        }\n",
              "    },\n",
              "    \"interaction\": {\n",
              "        \"dragNodes\": true,\n",
              "        \"hideEdgesOnDrag\": false,\n",
              "        \"hideNodesOnDrag\": false\n",
              "    },\n",
              "    \"physics\": {\n",
              "        \"enabled\": true,\n",
              "        \"stabilization\": {\n",
              "            \"enabled\": true,\n",
              "            \"fit\": true,\n",
              "            \"iterations\": 1000,\n",
              "            \"onlyDynamicEdges\": false,\n",
              "            \"updateInterval\": 50\n",
              "        }\n",
              "    }\n",
              "};\n",
              "        \n",
              "        \n",
              "\n",
              "        \n",
              "\n",
              "        network = new vis.Network(container, data, options);\n",
              "\t \n",
              "        \n",
              "\n",
              "\n",
              "        \n",
              "        network.on(\"stabilizationProgress\", function(params) {\n",
              "      \t\tdocument.getElementById('loadingBar').removeAttribute(\"style\");\n",
              "\t        var maxWidth = 496;\n",
              "\t        var minWidth = 20;\n",
              "\t        var widthFactor = params.iterations/params.total;\n",
              "\t        var width = Math.max(minWidth,maxWidth * widthFactor);\n",
              "\n",
              "\t        document.getElementById('bar').style.width = width + 'px';\n",
              "\t        document.getElementById('text').innerHTML = Math.round(widthFactor*100) + '%';\n",
              "\t    });\n",
              "\t    network.once(\"stabilizationIterationsDone\", function() {\n",
              "\t        document.getElementById('text').innerHTML = '100%';\n",
              "\t        document.getElementById('bar').style.width = '496px';\n",
              "\t        document.getElementById('loadingBar').style.opacity = 0;\n",
              "\t        // really clean the dom element\n",
              "\t        setTimeout(function () {document.getElementById('loadingBar').style.display = 'none';}, 500);\n",
              "\t    });\n",
              "        \n",
              "\n",
              "        return network;\n",
              "\n",
              "    }\n",
              "\n",
              "    drawGraph();\n",
              "\n",
              "</script>\n",
              "</body>\n",
              "</html>"
            ]
          },
          "metadata": {}
        }
      ],
      "source": [
        "if __is_ipython_kernel__:\n",
        "  visualize_cooccurrence(filtered_cooc[100:200])\n",
        "  display(HTML(\"thaiconet_result.html\"))"
      ]
    },
    {
      "cell_type": "code",
      "source": [],
      "metadata": {
        "id": "MrPUSxReYmal"
      },
      "execution_count": 18,
      "outputs": []
    }
  ],
  "metadata": {
    "colab": {
      "provenance": []
    },
    "kernelspec": {
      "display_name": "Python 3",
      "name": "python3"
    },
    "language_info": {
      "name": "python"
    },
    "widgets": {
      "application/vnd.jupyter.widget-state+json": {
        "d10d70e3a9bf4f33adfcc9ca9081cd8e": {
          "model_module": "@jupyter-widgets/controls",
          "model_name": "HBoxModel",
          "model_module_version": "1.5.0",
          "state": {
            "_dom_classes": [],
            "_model_module": "@jupyter-widgets/controls",
            "_model_module_version": "1.5.0",
            "_model_name": "HBoxModel",
            "_view_count": null,
            "_view_module": "@jupyter-widgets/controls",
            "_view_module_version": "1.5.0",
            "_view_name": "HBoxView",
            "box_style": "",
            "children": [
              "IPY_MODEL_9a5e1428925b4ae1baecee2bb478d751",
              "IPY_MODEL_056c0ac07dea4f97a6f8e1d89e5c0a10",
              "IPY_MODEL_f37683a7675445febe2a2f1b98eaf0b2"
            ],
            "layout": "IPY_MODEL_e11052477e214a49a6e437b747f8c4b4"
          }
        },
        "9a5e1428925b4ae1baecee2bb478d751": {
          "model_module": "@jupyter-widgets/controls",
          "model_name": "HTMLModel",
          "model_module_version": "1.5.0",
          "state": {
            "_dom_classes": [],
            "_model_module": "@jupyter-widgets/controls",
            "_model_module_version": "1.5.0",
            "_model_name": "HTMLModel",
            "_view_count": null,
            "_view_module": "@jupyter-widgets/controls",
            "_view_module_version": "1.5.0",
            "_view_name": "HTMLView",
            "description": "",
            "description_tooltip": null,
            "layout": "IPY_MODEL_1e9f70443b1f4c4099fa6e2de79ba37d",
            "placeholder": "​",
            "style": "IPY_MODEL_1dacda4d0b91461382cef3e2fb5b45e2",
            "value": "100%"
          }
        },
        "056c0ac07dea4f97a6f8e1d89e5c0a10": {
          "model_module": "@jupyter-widgets/controls",
          "model_name": "FloatProgressModel",
          "model_module_version": "1.5.0",
          "state": {
            "_dom_classes": [],
            "_model_module": "@jupyter-widgets/controls",
            "_model_module_version": "1.5.0",
            "_model_name": "FloatProgressModel",
            "_view_count": null,
            "_view_module": "@jupyter-widgets/controls",
            "_view_module_version": "1.5.0",
            "_view_name": "ProgressView",
            "bar_style": "success",
            "description": "",
            "description_tooltip": null,
            "layout": "IPY_MODEL_8edc4197979a4fc592d6999fc8873dd5",
            "max": 8981,
            "min": 0,
            "orientation": "horizontal",
            "style": "IPY_MODEL_f89f8e10df044085afae2e0264c03c40",
            "value": 8981
          }
        },
        "f37683a7675445febe2a2f1b98eaf0b2": {
          "model_module": "@jupyter-widgets/controls",
          "model_name": "HTMLModel",
          "model_module_version": "1.5.0",
          "state": {
            "_dom_classes": [],
            "_model_module": "@jupyter-widgets/controls",
            "_model_module_version": "1.5.0",
            "_model_name": "HTMLModel",
            "_view_count": null,
            "_view_module": "@jupyter-widgets/controls",
            "_view_module_version": "1.5.0",
            "_view_name": "HTMLView",
            "description": "",
            "description_tooltip": null,
            "layout": "IPY_MODEL_160014145901486bb1e40d877eb33cd3",
            "placeholder": "​",
            "style": "IPY_MODEL_4f0e22fdb0fa4ac683384f527cab0f03",
            "value": " 8981/8981 [02:39&lt;00:00, 66.35it/s]"
          }
        },
        "e11052477e214a49a6e437b747f8c4b4": {
          "model_module": "@jupyter-widgets/base",
          "model_name": "LayoutModel",
          "model_module_version": "1.2.0",
          "state": {
            "_model_module": "@jupyter-widgets/base",
            "_model_module_version": "1.2.0",
            "_model_name": "LayoutModel",
            "_view_count": null,
            "_view_module": "@jupyter-widgets/base",
            "_view_module_version": "1.2.0",
            "_view_name": "LayoutView",
            "align_content": null,
            "align_items": null,
            "align_self": null,
            "border": null,
            "bottom": null,
            "display": null,
            "flex": null,
            "flex_flow": null,
            "grid_area": null,
            "grid_auto_columns": null,
            "grid_auto_flow": null,
            "grid_auto_rows": null,
            "grid_column": null,
            "grid_gap": null,
            "grid_row": null,
            "grid_template_areas": null,
            "grid_template_columns": null,
            "grid_template_rows": null,
            "height": null,
            "justify_content": null,
            "justify_items": null,
            "left": null,
            "margin": null,
            "max_height": null,
            "max_width": null,
            "min_height": null,
            "min_width": null,
            "object_fit": null,
            "object_position": null,
            "order": null,
            "overflow": null,
            "overflow_x": null,
            "overflow_y": null,
            "padding": null,
            "right": null,
            "top": null,
            "visibility": null,
            "width": null
          }
        },
        "1e9f70443b1f4c4099fa6e2de79ba37d": {
          "model_module": "@jupyter-widgets/base",
          "model_name": "LayoutModel",
          "model_module_version": "1.2.0",
          "state": {
            "_model_module": "@jupyter-widgets/base",
            "_model_module_version": "1.2.0",
            "_model_name": "LayoutModel",
            "_view_count": null,
            "_view_module": "@jupyter-widgets/base",
            "_view_module_version": "1.2.0",
            "_view_name": "LayoutView",
            "align_content": null,
            "align_items": null,
            "align_self": null,
            "border": null,
            "bottom": null,
            "display": null,
            "flex": null,
            "flex_flow": null,
            "grid_area": null,
            "grid_auto_columns": null,
            "grid_auto_flow": null,
            "grid_auto_rows": null,
            "grid_column": null,
            "grid_gap": null,
            "grid_row": null,
            "grid_template_areas": null,
            "grid_template_columns": null,
            "grid_template_rows": null,
            "height": null,
            "justify_content": null,
            "justify_items": null,
            "left": null,
            "margin": null,
            "max_height": null,
            "max_width": null,
            "min_height": null,
            "min_width": null,
            "object_fit": null,
            "object_position": null,
            "order": null,
            "overflow": null,
            "overflow_x": null,
            "overflow_y": null,
            "padding": null,
            "right": null,
            "top": null,
            "visibility": null,
            "width": null
          }
        },
        "1dacda4d0b91461382cef3e2fb5b45e2": {
          "model_module": "@jupyter-widgets/controls",
          "model_name": "DescriptionStyleModel",
          "model_module_version": "1.5.0",
          "state": {
            "_model_module": "@jupyter-widgets/controls",
            "_model_module_version": "1.5.0",
            "_model_name": "DescriptionStyleModel",
            "_view_count": null,
            "_view_module": "@jupyter-widgets/base",
            "_view_module_version": "1.2.0",
            "_view_name": "StyleView",
            "description_width": ""
          }
        },
        "8edc4197979a4fc592d6999fc8873dd5": {
          "model_module": "@jupyter-widgets/base",
          "model_name": "LayoutModel",
          "model_module_version": "1.2.0",
          "state": {
            "_model_module": "@jupyter-widgets/base",
            "_model_module_version": "1.2.0",
            "_model_name": "LayoutModel",
            "_view_count": null,
            "_view_module": "@jupyter-widgets/base",
            "_view_module_version": "1.2.0",
            "_view_name": "LayoutView",
            "align_content": null,
            "align_items": null,
            "align_self": null,
            "border": null,
            "bottom": null,
            "display": null,
            "flex": null,
            "flex_flow": null,
            "grid_area": null,
            "grid_auto_columns": null,
            "grid_auto_flow": null,
            "grid_auto_rows": null,
            "grid_column": null,
            "grid_gap": null,
            "grid_row": null,
            "grid_template_areas": null,
            "grid_template_columns": null,
            "grid_template_rows": null,
            "height": null,
            "justify_content": null,
            "justify_items": null,
            "left": null,
            "margin": null,
            "max_height": null,
            "max_width": null,
            "min_height": null,
            "min_width": null,
            "object_fit": null,
            "object_position": null,
            "order": null,
            "overflow": null,
            "overflow_x": null,
            "overflow_y": null,
            "padding": null,
            "right": null,
            "top": null,
            "visibility": null,
            "width": null
          }
        },
        "f89f8e10df044085afae2e0264c03c40": {
          "model_module": "@jupyter-widgets/controls",
          "model_name": "ProgressStyleModel",
          "model_module_version": "1.5.0",
          "state": {
            "_model_module": "@jupyter-widgets/controls",
            "_model_module_version": "1.5.0",
            "_model_name": "ProgressStyleModel",
            "_view_count": null,
            "_view_module": "@jupyter-widgets/base",
            "_view_module_version": "1.2.0",
            "_view_name": "StyleView",
            "bar_color": null,
            "description_width": ""
          }
        },
        "160014145901486bb1e40d877eb33cd3": {
          "model_module": "@jupyter-widgets/base",
          "model_name": "LayoutModel",
          "model_module_version": "1.2.0",
          "state": {
            "_model_module": "@jupyter-widgets/base",
            "_model_module_version": "1.2.0",
            "_model_name": "LayoutModel",
            "_view_count": null,
            "_view_module": "@jupyter-widgets/base",
            "_view_module_version": "1.2.0",
            "_view_name": "LayoutView",
            "align_content": null,
            "align_items": null,
            "align_self": null,
            "border": null,
            "bottom": null,
            "display": null,
            "flex": null,
            "flex_flow": null,
            "grid_area": null,
            "grid_auto_columns": null,
            "grid_auto_flow": null,
            "grid_auto_rows": null,
            "grid_column": null,
            "grid_gap": null,
            "grid_row": null,
            "grid_template_areas": null,
            "grid_template_columns": null,
            "grid_template_rows": null,
            "height": null,
            "justify_content": null,
            "justify_items": null,
            "left": null,
            "margin": null,
            "max_height": null,
            "max_width": null,
            "min_height": null,
            "min_width": null,
            "object_fit": null,
            "object_position": null,
            "order": null,
            "overflow": null,
            "overflow_x": null,
            "overflow_y": null,
            "padding": null,
            "right": null,
            "top": null,
            "visibility": null,
            "width": null
          }
        },
        "4f0e22fdb0fa4ac683384f527cab0f03": {
          "model_module": "@jupyter-widgets/controls",
          "model_name": "DescriptionStyleModel",
          "model_module_version": "1.5.0",
          "state": {
            "_model_module": "@jupyter-widgets/controls",
            "_model_module_version": "1.5.0",
            "_model_name": "DescriptionStyleModel",
            "_view_count": null,
            "_view_module": "@jupyter-widgets/base",
            "_view_module_version": "1.2.0",
            "_view_name": "StyleView",
            "description_width": ""
          }
        }
      }
    }
  },
  "nbformat": 4,
  "nbformat_minor": 0
}