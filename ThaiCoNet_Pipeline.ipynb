{
  "cells": [
    {
      "cell_type": "markdown",
      "metadata": {
        "id": "7hyP0ENtMBXe"
      },
      "source": [
        "# 🌐 ThaiCoNet : Thai Co-occurrence Network Analysis (Pipeline)"
      ]
    },
    {
      "cell_type": "markdown",
      "metadata": {
        "id": "YoM1WUocVTq4"
      },
      "source": [
        "### 💡 About this notebook"
      ]
    },
    {
      "cell_type": "markdown",
      "metadata": {
        "id": "fIQxNntvCfz0"
      },
      "source": [
        "**[Access Project Repository (Github)](https://github.com/ChotanansubSoph/ThNTA)**\n",
        "\n"
      ]
    },
    {
      "cell_type": "markdown",
      "metadata": {
        "id": "LHlGa5IW7XoQ"
      },
      "source": [
        "🧑🏻‍💻 **Notebook Contributor**\n",
        "\n",
        "\n",
        "*   Chotanansub Sophaken\n",
        "*   Kantapong Vongpanich\n",
        "\n",
        "**Department of Computer Eningeering, Engineering Faculty**\n",
        "\n",
        "*King Mongkut’s University of Technology Thonburi (KMUTT)*\n",
        "\n",
        "*Junior Science Talent Project and Siam Commercial Bank Scholarship (JSTP-SCB Scholarship)*\n",
        "\n",
        "---\n",
        "\n"
      ]
    },
    {
      "cell_type": "markdown",
      "metadata": {
        "id": "svSvi0jVCS4V"
      },
      "source": [
        "Approach reference:\n",
        "\n",
        "* *A. Takhom, D. Leenoi, C. Sophaken, P. Boonkwan, and T. Supnithi, “An Approach of Network Analysis Enhancing Knowledge Extraction in Thai Newspapers Contexts,” J. Intell. Informatics Smart Technol., vol. 6, no. October 2021, pp. 19–24, 2021 [Acess](https://jiist.aiat.or.th/assets/uploads/1635853027829tBupD1635602106085fdegH39.pdf)*\n",
        "\n",
        "* Sophaken, C., Vongpanich, K., Takhom, A., Boonkwan, P., & Supnithi, T. (2023). Unsupervised Detection of Domain Switching in Thai Multidisciplinary Online News. IIAI Letters on Informatics and Interdisciplinary Research, 3. [Access](https://iaiai.org/letters/index.php/liir/article/view/77/50)"
      ]
    },
    {
      "cell_type": "markdown",
      "metadata": {
        "id": "i24UbKCMUOYs"
      },
      "source": [
        "🎓 Acknowledgement\n",
        "* Dr. Akkharawoot TakhomDepartment of Electrical and Computer Engineering\n",
        "Thammasat University"
      ]
    },
    {
      "cell_type": "markdown",
      "metadata": {
        "id": "NrFZelkYVWIX"
      },
      "source": [
        "### ⚙️ Tools & Resorces Preparation"
      ]
    },
    {
      "cell_type": "markdown",
      "metadata": {
        "id": "vl76iryjU3Va"
      },
      "source": [
        "Library & Module Installation"
      ]
    },
    {
      "cell_type": "markdown",
      "metadata": {
        "id": "IuOPqC6eEh7a"
      },
      "source": [
        "\n",
        "\n",
        "* Run the code once.\n",
        "* If you encounter any errors during the initial execution it may be due to factors such as dependencies or system configurations. To address any encountered errors, simply restart the runtime or kernel. Afterward, run the code cell again to ensure a successful execution.\n",
        "\n"
      ]
    },
    {
      "cell_type": "code",
      "execution_count": 1,
      "metadata": {
        "id": "p1lzOz2OMtvl",
        "colab": {
          "base_uri": "https://localhost:8080/"
        },
        "outputId": "f667f800-8320-409c-8adb-2dd6a34115fc"
      },
      "outputs": [
        {
          "output_type": "stream",
          "name": "stdout",
          "text": [
            "[thaiconet] required packages installed\n"
          ]
        }
      ],
      "source": [
        "import subprocess\n",
        "\n",
        "def install_packages():\n",
        "    subprocess.check_call(['pip', 'install', '--upgrade', 'pip'])\n",
        "    try: subprocess.check_call(['pip', 'install', 'tltk==1.6', '-q'])\n",
        "    except: print(\"tltk installation error\")\n",
        "    subprocess.check_call(['pip', 'install', '--upgrade', 'setuptools', 'wheel'])\n",
        "    subprocess.check_call(['pip', 'install', 'deepcut==0.7.0.0', '-q'])\n",
        "    subprocess.check_call(['pip', 'install', 'pythainlp==4.0.2', '-q'])\n",
        "    subprocess.check_call(['pip', 'install', 'pyvis==0.1.9', '-q'])\n",
        "    subprocess.check_call(['apt-get', 'install', '-y', 'graphviz', 'libgraphviz-dev', 'pkg-config', '-q'])\n",
        "    subprocess.check_call(['pip', 'install', 'pygraphviz==1.7', '-q'])\n",
        "    print(\"[thaiconet] required packages installed\")\n",
        "\n",
        "install_packages()"
      ]
    },
    {
      "cell_type": "markdown",
      "metadata": {
        "id": "aw72-icaVEHZ"
      },
      "source": [
        "Library preparation"
      ]
    },
    {
      "cell_type": "code",
      "execution_count": 2,
      "metadata": {
        "colab": {
          "base_uri": "https://localhost:8080/"
        },
        "id": "dFKNRUo4M6HP",
        "outputId": "30671697-f3d6-4feb-89ba-49fe0662b574"
      },
      "outputs": [
        {
          "output_type": "stream",
          "name": "stderr",
          "text": [
            "[nltk_data] Downloading package punkt to /root/nltk_data...\n",
            "[nltk_data]   Unzipping tokenizers/punkt.zip.\n"
          ]
        }
      ],
      "source": [
        "#Data manipulation\n",
        "import pandas as pd\n",
        "import numpy as np\n",
        "\n",
        "#NLP\n",
        "import nltk\n",
        "from nltk import FreqDist, bigrams\n",
        "from operator import itemgetter\n",
        "from nltk.tokenize import word_tokenize as term_tokenize\n",
        "nltk.download('punkt')\n",
        "import tltk\n",
        "import deepcut\n",
        "from pythainlp import word_tokenize as pythainlp_word_tokenize\n",
        "from pythainlp import pos_tag as pythainlp_pos_tag\n",
        "from pythainlp.corpus.common import thai_stopwords as pythainlp_stopwords\n",
        "\n",
        "#Graph Visulazation\n",
        "import networkx as nx\n",
        "import matplotlib.pyplot as plt\n",
        "from pyvis.network import Network\n",
        "from IPython.display import display, HTML\n",
        "\n",
        "#Add-on\n",
        "from tqdm.notebook import tqdm_notebook as tqdm\n",
        "from operator import itemgetter\n",
        "from collections import Counter,defaultdict\n",
        "import re\n",
        "import sys\n",
        "import os\n",
        "import requests\n",
        "\n",
        "if __name__ == \"__main__\" and 'ipykernel' in sys.modules:\n",
        "  __is_ipython_kernel__ = True\n",
        "else:\n",
        "  __is_ipython_kernel__ = False"
      ]
    },
    {
      "cell_type": "markdown",
      "metadata": {
        "id": "4bS_VdiSUxTl"
      },
      "source": [
        "Sample Resources prepararion"
      ]
    },
    {
      "cell_type": "code",
      "execution_count": 3,
      "metadata": {
        "id": "OL3_JQ_JJZvM"
      },
      "outputs": [],
      "source": [
        "#sample data\n",
        "def download_data(url, file_name=None):\n",
        "    if file_name is None:\n",
        "        file_name = url.split('/')[-1]\n",
        "    response = requests.get(url)\n",
        "    with open(file_name, \"wb\") as file:\n",
        "        file.write(response.content)\n",
        "\n",
        "def notebook_download_sample_data():\n",
        "  if __is_ipython_kernel__:\n",
        "      url = \"https://github.com/ChotanansubSoph/ThNTA/raw/main/resources/sample_data/thai_electronic_news_2022.csv\"\n",
        "      download_data(url=url)\n",
        "\n",
        "notebook_download_sample_data()"
      ]
    },
    {
      "cell_type": "markdown",
      "metadata": {
        "id": "ZXC6zQeoVMPX"
      },
      "source": [
        "### Data Preprocessing"
      ]
    },
    {
      "cell_type": "code",
      "execution_count": 4,
      "metadata": {
        "id": "vrgp_bEE0THS"
      },
      "outputs": [],
      "source": [
        "########## String operation ##########\n",
        "def isEnglish(s):\n",
        "  return all(ord(char) < 128 for char in s)\n",
        "\n",
        "\n",
        "########## List Manipulation ##########\n",
        "def flatten_nested_list(nested_list):\n",
        "  flattened_list = [item for sublist in nested_list for item in sublist]\n",
        "  return flattened_list\n",
        "\n",
        "\n",
        "######### DataFrame Manipulation #######\n",
        "def convert_dataframe_to_paired_tuples(df):\n",
        "    return list(zip(df.iloc[:, 0].tolist(), df.iloc[:, 1].tolist()))"
      ]
    },
    {
      "cell_type": "code",
      "execution_count": 5,
      "metadata": {
        "id": "13JMUAbXMvM2"
      },
      "outputs": [],
      "source": [
        "########## Stopwords ##########\n",
        "def read_stopwords(file_path : str) ->list:\n",
        "  with open(file_path, 'r', encoding='utf-8') as file:\n",
        "      lines = file.readlines()\n",
        "  stopwords = [line.strip() for line in lines]\n",
        "  return stopwords\n",
        "\n",
        "########## Tokenization ##########\n",
        "\n",
        "def tltk_tokenize_pos(text): #Primaly Tokenizer\n",
        "  result = flatten_nested_list(tltk.nlp.pos_tag(text))\n",
        "  return result\n",
        "\n",
        "\n",
        "def pythainlp_tokenize_pos(text): #Secondary Tokenizer\n",
        "  wordList= pythainlp_word_tokenize(text, keep_whitespace=False)\n",
        "  posList = pythainlp_pos_tag(wordList)\n",
        "  return posList\n",
        "\n",
        "\n",
        "def TNC_extract_tltk_pos_pairs(result): #Inactivated\n",
        "    word_pos_pairs = []\n",
        "    pattern = r'<w tran=\"(.*?)\" POS=\"(.*?)\">(.*?)</w>'\n",
        "    matches = re.findall(pattern, result)\n",
        "\n",
        "    for match in matches:\n",
        "        word_pos_pairs.append((match[2], match[1]))\n",
        "\n",
        "    return word_pos_pairs\n",
        "\n",
        "def TNC_tokenize_pos_ner_(text): #Inactivated\n",
        "  result = []\n",
        "  for partial_text in text.split(\" \"):\n",
        "    partial_text = partial_text.replace(\")\",\" \").replace(\"(\",\" \")\n",
        "    result += tltk.nlp.TNC_tag(partial_text,POS=\"Y\")\n",
        "  return tltk.nlp.ner(TNC_extract_tltk_pos_pairs(result))\n",
        "\n",
        "\n",
        "########## Term Frequency ##########\n",
        "def count_word_frequency(pairs_data):\n",
        "    words = [word for sublist in pairs_data for word in sublist]\n",
        "    tokens = term_tokenize(\" \".join(words))\n",
        "    freq_dist = FreqDist(tokens)\n",
        "    return freq_dist\n",
        "\n",
        "\n",
        "def count_word_pos_frequency(data):\n",
        "    flat_data = [item for sublist in data for item in sublist]\n",
        "    word_pos_freq = Counter(flat_data)\n",
        "    result = [(word, pos, freq) for (word, pos), freq in word_pos_freq.items()]\n",
        "    result.sort(key=lambda x: x[2], reverse=True)\n",
        "    return result"
      ]
    },
    {
      "cell_type": "markdown",
      "metadata": {
        "id": "DivqqP4z41S0"
      },
      "source": [
        "### Text preprocess"
      ]
    },
    {
      "cell_type": "markdown",
      "metadata": {
        "id": "S2xED09ggfmL"
      },
      "source": [
        "Tokenization"
      ]
    },
    {
      "cell_type": "code",
      "execution_count": 6,
      "metadata": {
        "id": "h0nxLPWvgeKc"
      },
      "outputs": [],
      "source": [
        "def text_tokenize(text: str,tokenizer=\"pythainlp\") -> list:\n",
        "    term_list = list()\n",
        "    if tokenizer == \"tltk\" or tokenizer == \"tltk-colloc\":\n",
        "      term_list = tltk.nlp.word_segment(text).split(\"|\")\n",
        "    elif tokenizer == \"tltk-mm\" or tokenizer == \"tltk-ngram\":\n",
        "      term_list = tltk.nlp.word_segment(text, method=\"mm\").split(\"|\")\n",
        "    elif tokenizer == \"tltk-w2v\":\n",
        "      term_list = tltk.nlp.word_segment(text, method=\"w2v\").split(\"|\")\n",
        "\n",
        "    elif tokenizer == \"pythainlp\":\n",
        "      term_list = pythainlp_word_tokenize(text)\n",
        "\n",
        "    elif tokenizer == \"deepcut\":\n",
        "      term_list = deepcut.tokenize(text)\n",
        "\n",
        "    return term_list"
      ]
    },
    {
      "cell_type": "code",
      "execution_count": 7,
      "metadata": {
        "colab": {
          "base_uri": "https://localhost:8080/"
        },
        "id": "EAV5KgVNhKRn",
        "outputId": "97d546a5-fb02-4147-ba36-d58d673e6b93"
      },
      "outputs": [
        {
          "output_type": "stream",
          "name": "stdout",
          "text": [
            "tltk  ['ประกาศ', 'ให้', 'มี', 'การ', 'สวม', 'หน้ากาก', 'อนามัย', 'ตลอด', 'เวลา', '<s/>']\n",
            "tltk-mm  ['ประกาศ', 'ให้', 'มี', 'การ', 'สวม', 'หน้ากาก', 'อนามัย', 'ตลอด', 'เวลา', '<s/>']\n",
            "pythainlp  ['ประกาศ', 'ให้', 'มี', 'การ', 'สวมหน้ากาก', 'อนามัย', 'ตลอดเวลา']\n",
            "2/2 [==============================] - 1s 9ms/step\n",
            "deepcut  ['ประกาศ', 'ให้', 'มี', 'การ', 'สวม', 'หน้ากาก', 'อนามัย', 'ตลอด', 'เวลา']\n"
          ]
        }
      ],
      "source": [
        "def __test_tokenize__():\n",
        "  if __is_ipython_kernel__:\n",
        "    sample_text = \"ประกาศให้มีการสวมหน้ากากอนามัยตลอดเวลา\"\n",
        "    print(\"tltk \",text_tokenize(sample_text,\"tltk\"))\n",
        "    print(\"tltk-mm \",text_tokenize(sample_text,\"tltk-mm\"))\n",
        "    #print(\"tltk-w2v \",text_tokenize(sample_text,\"tltk-w2v\"))\n",
        "    print(\"pythainlp \",text_tokenize(sample_text,\"pythainlp\"))\n",
        "    print(\"deepcut \",text_tokenize(sample_text,\"deepcut\"))\n",
        "\n",
        "__test_tokenize__()"
      ]
    },
    {
      "cell_type": "markdown",
      "metadata": {
        "id": "CDtPwYSZgiw0"
      },
      "source": [
        "POS Tagging"
      ]
    },
    {
      "cell_type": "code",
      "execution_count": 8,
      "metadata": {
        "id": "R1NWkKgkgl0H"
      },
      "outputs": [],
      "source": [
        "def pos_tagging(term_list, pos_tagger):\n",
        "  term_pairs = list()\n",
        "  if pos_tagger == \"tltk\" or pos_tagger == \"tltk-pos-tagger\":\n",
        "    term_pairs =  tltk.pos_tag_wordlist(term_list)\n",
        "  elif pos_tagger == \"pythainlp\" or pos_tagger == \"pythainlp-pos-tagger\":\n",
        "    term_pairs = pythainlp_pos_tag(term_list)\n",
        "  elif pos_tagger == \"pythainlp-pud\":\n",
        "    term_pairs = pythainlp_pos_tag(term_list,corpus=\"pud\")\n",
        "\n",
        "  return term_pairs"
      ]
    },
    {
      "cell_type": "markdown",
      "metadata": {
        "id": "ZbUO2nsugoHP"
      },
      "source": [
        "Token Filtering"
      ]
    },
    {
      "cell_type": "code",
      "execution_count": 9,
      "metadata": {
        "id": "o_F--DzDYTPA"
      },
      "outputs": [],
      "source": [
        "def token_filter(pos_pairs: list, stopwords: set, keep_pos=[]):\n",
        "  stopwords = []\n",
        "  regex = re.compile('[@_!#$%^&*()<>?/\\|}{~:.]')\n",
        "\n",
        "  if len(keep_pos) > 0:\n",
        "    pos_condition = lambda pos: True if pos in keep_pos else False\n",
        "  else:\n",
        "    pos_condition = lambda pos:True\n",
        "\n",
        "  if keep_pos == []:\n",
        "    filtered_pairs = [(term,pos) for term, pos in pos_pairs\n",
        "                if pos_condition(pos)\n",
        "                and term not in stopwords\n",
        "                and len(term) > 1\n",
        "                and not isEnglish(term)\n",
        "                and regex.search(term) is None\n",
        "                and \"\\xa0\" not in term]\n",
        "\n",
        "  return filtered_pairs"
      ]
    },
    {
      "cell_type": "markdown",
      "metadata": {
        "id": "WKdtg9mNgy4z"
      },
      "source": [
        "Warp-up Token prepairation process"
      ]
    },
    {
      "cell_type": "code",
      "execution_count": 10,
      "metadata": {
        "id": "fBc-rFPVgyIz"
      },
      "outputs": [],
      "source": [
        "def feed_preprocess(docs: list, stopwords = None, tokenizer=\"deepcut\",pos_tagger = \"tltk\",keep_pos=['NOUN','VERB']) -> list:\n",
        "    preprocessed_docs = []\n",
        "\n",
        "    if stopwords is None:\n",
        "      stopwords = pythainlp_stopwords()\n",
        "\n",
        "\n",
        "    for text in tqdm(docs):\n",
        "\n",
        "        if tokenizer==\"pythainlp\" and pos_tagger==\"pythainlp\":\n",
        "          pos_pairs = pythainlp_tokenize_pos(text)\n",
        "\n",
        "        else:\n",
        "          #Tokenization\n",
        "          term_list = text_tokenize(\n",
        "                        text=text,\n",
        "                        tokenizer=tokenizer,\n",
        "                      )\n",
        "          #POS Tagger\n",
        "          pos_pairs = pos_tagging(term_list,pos_tagger)\n",
        "\n",
        "          #Token Filtering\n",
        "          preprocessed_terms = token_filter(pos_pairs = pos_pairs,\n",
        "                                          stopwords = stopwords,\n",
        "                                          keep_pos = keep_pos\n",
        "                                          )\n",
        "          preprocessed_docs.append(preprocessed_terms)\n",
        "\n",
        "\n",
        "    return preprocessed_docs"
      ]
    },
    {
      "cell_type": "markdown",
      "metadata": {
        "id": "oVo47ASqSs3J"
      },
      "source": [
        "Tokenization & Token Filtering Demonstration"
      ]
    },
    {
      "cell_type": "code",
      "execution_count": 14,
      "metadata": {
        "id": "UR-qwbCYSwEa",
        "colab": {
          "base_uri": "https://localhost:8080/",
          "height": 423
        },
        "outputId": "52a857d7-bcfd-4bcf-e45d-b5bade34ef51"
      },
      "outputs": [
        {
          "output_type": "display_data",
          "data": {
            "text/plain": [
              "       domain                                            content\n",
              "0     politic  กรมราชทัณฑ์ ชี้แจง ต่อข้อสงสัย กรณีการนำตัวนาย...\n",
              "1     politic  พลเอก ประยุทธ์ จันทร์โอชา นายกรัฐมนตรีและรัฐมน...\n",
              "2     politic  นางสาวคุ้มเกล้า ส่งสมบูรณ์ ทนายความศูนย์ทนายคว...\n",
              "3     politic  วันที่ (1 พฤษภาคม 2564) เวลา 11.00 น. นายสิธิช...\n",
              "4     politic  ด่านคัดกรองคนเข้าเมืองยะลา ยกระดับคุมเข้ม ป้อง...\n",
              "...       ...                                                ...\n",
              "8976  culture  สำนักงานวัฒนธรรมจังหวัดสตูล ลงพื้นที่จัดเก็บข้...\n",
              "8977  culture  จังหวัดศรีสะเกษ โดย พช.ห้วยทับทัน จัดกิจกรรมเอ...\n",
              "8978  culture  นายชีวันธร พิศพนาวัน จากโครงการ U2T ตำบลห้วยห้...\n",
              "8979  culture  วันนี้ (24 พ.ย. 64) ที่ หอประชุม 100 ปี โรงเรี...\n",
              "8980  culture  นางพวงคำ ทองทั่ว วัฒนธรรมจังหวัดยโสธร เปิดเผยว...\n",
              "\n",
              "[8981 rows x 2 columns]"
            ],
            "text/html": [
              "\n",
              "\n",
              "  <div id=\"df-e6df23c2-277e-4bc7-bb4c-9108702846e7\">\n",
              "    <div class=\"colab-df-container\">\n",
              "      <div>\n",
              "<style scoped>\n",
              "    .dataframe tbody tr th:only-of-type {\n",
              "        vertical-align: middle;\n",
              "    }\n",
              "\n",
              "    .dataframe tbody tr th {\n",
              "        vertical-align: top;\n",
              "    }\n",
              "\n",
              "    .dataframe thead th {\n",
              "        text-align: right;\n",
              "    }\n",
              "</style>\n",
              "<table border=\"1\" class=\"dataframe\">\n",
              "  <thead>\n",
              "    <tr style=\"text-align: right;\">\n",
              "      <th></th>\n",
              "      <th>domain</th>\n",
              "      <th>content</th>\n",
              "    </tr>\n",
              "  </thead>\n",
              "  <tbody>\n",
              "    <tr>\n",
              "      <th>0</th>\n",
              "      <td>politic</td>\n",
              "      <td>กรมราชทัณฑ์ ชี้แจง ต่อข้อสงสัย กรณีการนำตัวนาย...</td>\n",
              "    </tr>\n",
              "    <tr>\n",
              "      <th>1</th>\n",
              "      <td>politic</td>\n",
              "      <td>พลเอก ประยุทธ์ จันทร์โอชา นายกรัฐมนตรีและรัฐมน...</td>\n",
              "    </tr>\n",
              "    <tr>\n",
              "      <th>2</th>\n",
              "      <td>politic</td>\n",
              "      <td>นางสาวคุ้มเกล้า ส่งสมบูรณ์ ทนายความศูนย์ทนายคว...</td>\n",
              "    </tr>\n",
              "    <tr>\n",
              "      <th>3</th>\n",
              "      <td>politic</td>\n",
              "      <td>วันที่ (1 พฤษภาคม 2564) เวลา 11.00 น. นายสิธิช...</td>\n",
              "    </tr>\n",
              "    <tr>\n",
              "      <th>4</th>\n",
              "      <td>politic</td>\n",
              "      <td>ด่านคัดกรองคนเข้าเมืองยะลา ยกระดับคุมเข้ม ป้อง...</td>\n",
              "    </tr>\n",
              "    <tr>\n",
              "      <th>...</th>\n",
              "      <td>...</td>\n",
              "      <td>...</td>\n",
              "    </tr>\n",
              "    <tr>\n",
              "      <th>8976</th>\n",
              "      <td>culture</td>\n",
              "      <td>สำนักงานวัฒนธรรมจังหวัดสตูล ลงพื้นที่จัดเก็บข้...</td>\n",
              "    </tr>\n",
              "    <tr>\n",
              "      <th>8977</th>\n",
              "      <td>culture</td>\n",
              "      <td>จังหวัดศรีสะเกษ โดย พช.ห้วยทับทัน จัดกิจกรรมเอ...</td>\n",
              "    </tr>\n",
              "    <tr>\n",
              "      <th>8978</th>\n",
              "      <td>culture</td>\n",
              "      <td>นายชีวันธร พิศพนาวัน จากโครงการ U2T ตำบลห้วยห้...</td>\n",
              "    </tr>\n",
              "    <tr>\n",
              "      <th>8979</th>\n",
              "      <td>culture</td>\n",
              "      <td>วันนี้ (24 พ.ย. 64) ที่ หอประชุม 100 ปี โรงเรี...</td>\n",
              "    </tr>\n",
              "    <tr>\n",
              "      <th>8980</th>\n",
              "      <td>culture</td>\n",
              "      <td>นางพวงคำ ทองทั่ว วัฒนธรรมจังหวัดยโสธร เปิดเผยว...</td>\n",
              "    </tr>\n",
              "  </tbody>\n",
              "</table>\n",
              "<p>8981 rows × 2 columns</p>\n",
              "</div>\n",
              "      <button class=\"colab-df-convert\" onclick=\"convertToInteractive('df-e6df23c2-277e-4bc7-bb4c-9108702846e7')\"\n",
              "              title=\"Convert this dataframe to an interactive table.\"\n",
              "              style=\"display:none;\">\n",
              "\n",
              "  <svg xmlns=\"http://www.w3.org/2000/svg\" height=\"24px\"viewBox=\"0 0 24 24\"\n",
              "       width=\"24px\">\n",
              "    <path d=\"M0 0h24v24H0V0z\" fill=\"none\"/>\n",
              "    <path d=\"M18.56 5.44l.94 2.06.94-2.06 2.06-.94-2.06-.94-.94-2.06-.94 2.06-2.06.94zm-11 1L8.5 8.5l.94-2.06 2.06-.94-2.06-.94L8.5 2.5l-.94 2.06-2.06.94zm10 10l.94 2.06.94-2.06 2.06-.94-2.06-.94-.94-2.06-.94 2.06-2.06.94z\"/><path d=\"M17.41 7.96l-1.37-1.37c-.4-.4-.92-.59-1.43-.59-.52 0-1.04.2-1.43.59L10.3 9.45l-7.72 7.72c-.78.78-.78 2.05 0 2.83L4 21.41c.39.39.9.59 1.41.59.51 0 1.02-.2 1.41-.59l7.78-7.78 2.81-2.81c.8-.78.8-2.07 0-2.86zM5.41 20L4 18.59l7.72-7.72 1.47 1.35L5.41 20z\"/>\n",
              "  </svg>\n",
              "      </button>\n",
              "\n",
              "\n",
              "\n",
              "    <div id=\"df-2fbff0bf-307a-47f1-9d91-cc2e23e99db5\">\n",
              "      <button class=\"colab-df-quickchart\" onclick=\"quickchart('df-2fbff0bf-307a-47f1-9d91-cc2e23e99db5')\"\n",
              "              title=\"Suggest charts.\"\n",
              "              style=\"display:none;\">\n",
              "\n",
              "<svg xmlns=\"http://www.w3.org/2000/svg\" height=\"24px\"viewBox=\"0 0 24 24\"\n",
              "     width=\"24px\">\n",
              "    <g>\n",
              "        <path d=\"M19 3H5c-1.1 0-2 .9-2 2v14c0 1.1.9 2 2 2h14c1.1 0 2-.9 2-2V5c0-1.1-.9-2-2-2zM9 17H7v-7h2v7zm4 0h-2V7h2v10zm4 0h-2v-4h2v4z\"/>\n",
              "    </g>\n",
              "</svg>\n",
              "      </button>\n",
              "    </div>\n",
              "\n",
              "<style>\n",
              "  .colab-df-quickchart {\n",
              "    background-color: #E8F0FE;\n",
              "    border: none;\n",
              "    border-radius: 50%;\n",
              "    cursor: pointer;\n",
              "    display: none;\n",
              "    fill: #1967D2;\n",
              "    height: 32px;\n",
              "    padding: 0 0 0 0;\n",
              "    width: 32px;\n",
              "  }\n",
              "\n",
              "  .colab-df-quickchart:hover {\n",
              "    background-color: #E2EBFA;\n",
              "    box-shadow: 0px 1px 2px rgba(60, 64, 67, 0.3), 0px 1px 3px 1px rgba(60, 64, 67, 0.15);\n",
              "    fill: #174EA6;\n",
              "  }\n",
              "\n",
              "  [theme=dark] .colab-df-quickchart {\n",
              "    background-color: #3B4455;\n",
              "    fill: #D2E3FC;\n",
              "  }\n",
              "\n",
              "  [theme=dark] .colab-df-quickchart:hover {\n",
              "    background-color: #434B5C;\n",
              "    box-shadow: 0px 1px 3px 1px rgba(0, 0, 0, 0.15);\n",
              "    filter: drop-shadow(0px 1px 2px rgba(0, 0, 0, 0.3));\n",
              "    fill: #FFFFFF;\n",
              "  }\n",
              "</style>\n",
              "\n",
              "    <script>\n",
              "      async function quickchart(key) {\n",
              "        const containerElement = document.querySelector('#' + key);\n",
              "        const charts = await google.colab.kernel.invokeFunction(\n",
              "            'suggestCharts', [key], {});\n",
              "      }\n",
              "    </script>\n",
              "\n",
              "      <script>\n",
              "\n",
              "function displayQuickchartButton(domScope) {\n",
              "  let quickchartButtonEl =\n",
              "    domScope.querySelector('#df-2fbff0bf-307a-47f1-9d91-cc2e23e99db5 button.colab-df-quickchart');\n",
              "  quickchartButtonEl.style.display =\n",
              "    google.colab.kernel.accessAllowed ? 'block' : 'none';\n",
              "}\n",
              "\n",
              "        displayQuickchartButton(document);\n",
              "      </script>\n",
              "      <style>\n",
              "    .colab-df-container {\n",
              "      display:flex;\n",
              "      flex-wrap:wrap;\n",
              "      gap: 12px;\n",
              "    }\n",
              "\n",
              "    .colab-df-convert {\n",
              "      background-color: #E8F0FE;\n",
              "      border: none;\n",
              "      border-radius: 50%;\n",
              "      cursor: pointer;\n",
              "      display: none;\n",
              "      fill: #1967D2;\n",
              "      height: 32px;\n",
              "      padding: 0 0 0 0;\n",
              "      width: 32px;\n",
              "    }\n",
              "\n",
              "    .colab-df-convert:hover {\n",
              "      background-color: #E2EBFA;\n",
              "      box-shadow: 0px 1px 2px rgba(60, 64, 67, 0.3), 0px 1px 3px 1px rgba(60, 64, 67, 0.15);\n",
              "      fill: #174EA6;\n",
              "    }\n",
              "\n",
              "    [theme=dark] .colab-df-convert {\n",
              "      background-color: #3B4455;\n",
              "      fill: #D2E3FC;\n",
              "    }\n",
              "\n",
              "    [theme=dark] .colab-df-convert:hover {\n",
              "      background-color: #434B5C;\n",
              "      box-shadow: 0px 1px 3px 1px rgba(0, 0, 0, 0.15);\n",
              "      filter: drop-shadow(0px 1px 2px rgba(0, 0, 0, 0.3));\n",
              "      fill: #FFFFFF;\n",
              "    }\n",
              "  </style>\n",
              "\n",
              "      <script>\n",
              "        const buttonEl =\n",
              "          document.querySelector('#df-e6df23c2-277e-4bc7-bb4c-9108702846e7 button.colab-df-convert');\n",
              "        buttonEl.style.display =\n",
              "          google.colab.kernel.accessAllowed ? 'block' : 'none';\n",
              "\n",
              "        async function convertToInteractive(key) {\n",
              "          const element = document.querySelector('#df-e6df23c2-277e-4bc7-bb4c-9108702846e7');\n",
              "          const dataTable =\n",
              "            await google.colab.kernel.invokeFunction('convertToInteractive',\n",
              "                                                     [key], {});\n",
              "          if (!dataTable) return;\n",
              "\n",
              "          const docLinkHtml = 'Like what you see? Visit the ' +\n",
              "            '<a target=\"_blank\" href=https://colab.research.google.com/notebooks/data_table.ipynb>data table notebook</a>'\n",
              "            + ' to learn more about interactive tables.';\n",
              "          element.innerHTML = '';\n",
              "          dataTable['output_type'] = 'display_data';\n",
              "          await google.colab.output.renderOutput(dataTable, element);\n",
              "          const docLink = document.createElement('div');\n",
              "          docLink.innerHTML = docLinkHtml;\n",
              "          element.appendChild(docLink);\n",
              "        }\n",
              "      </script>\n",
              "    </div>\n",
              "  </div>\n"
            ]
          },
          "metadata": {}
        }
      ],
      "source": [
        "def __sample_load_data__():\n",
        "  if __is_ipython_kernel__:\n",
        "    global sample_data\n",
        "    sample_data = pd.read_csv(\"thai_electronic_news_2022.csv\")\n",
        "    display(sample_data)\n",
        "\n",
        "__sample_load_data__()"
      ]
    },
    {
      "cell_type": "code",
      "execution_count": 15,
      "metadata": {
        "colab": {
          "base_uri": "https://localhost:8080/",
          "height": 49,
          "referenced_widgets": [
            "ac8c661e381d4b1db375fd7ae787d33e",
            "743c08a9b7fb45528bc5a660a53e3e5c",
            "c2a39fb680d74ec3954b8d3c57167daa",
            "697fca9a2eb8499ca5b41e61312dd6df",
            "c307015d4c0945629eb4a7bea1c8cc62",
            "0fd3ccfbf7db42c599fa47ef05e8fd5c",
            "1e28d85558c5485bafb42967a214126c",
            "dccf792104dc45df924e88af7e2e3e0d",
            "e937347e76504fefa1dcd127efda124a",
            "066fbd12536d454c946d9223296047fc",
            "a5af741a2cf94104bdabeb137e294f9b"
          ]
        },
        "id": "LvT9e4CBWKPf",
        "outputId": "e947cd3f-30ac-4481-b9d8-1a42e2f3a561"
      },
      "outputs": [
        {
          "output_type": "display_data",
          "data": {
            "text/plain": [
              "  0%|          | 0/8981 [00:00<?, ?it/s]"
            ],
            "application/vnd.jupyter.widget-view+json": {
              "version_major": 2,
              "version_minor": 0,
              "model_id": "ac8c661e381d4b1db375fd7ae787d33e"
            }
          },
          "metadata": {}
        }
      ],
      "source": [
        "def __sample_feed_process__():\n",
        "  if __is_ipython_kernel__:\n",
        "    global sample_tokenized_data\n",
        "    sample_tokenized_data = feed_preprocess(docs=sample_data[\"content\"],\n",
        "                                    tokenizer=\"pythainlp\",\n",
        "                                    pos_tagger=\"tltk-pos-tagger\",\n",
        "                                    keep_pos=[])\n",
        "    #approximate time : pythainlp ~5 min / tltk ~ min\n",
        "__sample_feed_process__()"
      ]
    },
    {
      "cell_type": "code",
      "execution_count": null,
      "metadata": {
        "colab": {
          "background_save": true
        },
        "id": "Dw9q5SD0XBU-"
      },
      "outputs": [],
      "source": [
        "# import pickle\n",
        "# import time\n",
        "# from google.colab import files\n",
        "# with open('sample_tokenized_data__tltk.pickle', 'wb') as handle:\n",
        "#     pickle.dump(tokenized_data, handle)\n",
        "# print(\"dumping completed!\")\n",
        "# time.sleep(100)\n",
        "# files.download(\"sample_tokenized_data__tltk.pickle\")\n",
        "# print(\"download complete!\")"
      ]
    },
    {
      "cell_type": "code",
      "execution_count": 16,
      "metadata": {
        "colab": {
          "base_uri": "https://localhost:8080/",
          "height": 364
        },
        "id": "cMt_9gb_q8Fd",
        "outputId": "ea76e615-85c2-417f-aa2b-b821f32be90e"
      },
      "outputs": [
        {
          "output_type": "display_data",
          "data": {
            "text/plain": [
              "[('กรมราชทัณฑ์', 'NOUN'),\n",
              " ('ชี้แจง', 'VERB'),\n",
              " ('ต่อ', 'ADP'),\n",
              " ('ข้อสงสัย', 'NOUN'),\n",
              " ('กรณี', 'NOUN'),\n",
              " ('การนำ', 'NOUN'),\n",
              " ('ตัว', 'NOUN'),\n",
              " ('นาย', 'NOUN'),\n",
              " ('พริษฐ์', 'PROPN'),\n",
              " ('ชิ', 'VERB')]"
            ]
          },
          "metadata": {}
        },
        {
          "output_type": "display_data",
          "data": {
            "text/plain": [
              "[('พลเอก', 'NOUN'),\n",
              " ('ประยุทธ์', 'NOUN'),\n",
              " ('จันทร์', 'PROPN'),\n",
              " ('โอชา', 'NOUN'),\n",
              " ('นายกรัฐมนตรี', 'NOUN'),\n",
              " ('และ', 'CCONJ'),\n",
              " ('รัฐมนตรี', 'NOUN'),\n",
              " ('ว่าการ', 'VERB'),\n",
              " ('กระทรวงกลาโหม', 'NOUN'),\n",
              " ('มี', 'VERB')]"
            ]
          },
          "metadata": {}
        }
      ],
      "source": [
        "def __sample_show_tokenized_data__():\n",
        "  if __is_ipython_kernel__:\n",
        "    display(sample_tokenized_data[0][:10])\n",
        "    display(sample_tokenized_data[1][:10])\n",
        "\n",
        "__sample_show_tokenized_data__()"
      ]
    },
    {
      "cell_type": "code",
      "execution_count": 17,
      "metadata": {
        "colab": {
          "base_uri": "https://localhost:8080/",
          "height": 277
        },
        "id": "tbS7SwvTSN2S",
        "outputId": "389ab95b-4701-422b-e116-001b19f10c7b"
      },
      "outputs": [
        {
          "output_type": "display_data",
          "data": {
            "text/plain": [
              "[('และ', 'CCONJ', 63909),\n",
              " ('ใน', 'ADP', 45562),\n",
              " ('การ', 'NOUN', 40154),\n",
              " ('ที่', 'SCONJ', 34184),\n",
              " ('มี', 'VERB', 29901),\n",
              " ('จังหวัด', 'NOUN', 26955),\n",
              " ('ของ', 'ADP', 25631),\n",
              " ('เป็น', 'VERB', 20936),\n",
              " ('ให้', 'SCONJ', 17712),\n",
              " ('พื้นที่', 'NOUN', 14963),\n",
              " ('เพื่อ', 'SCONJ', 14291),\n",
              " ('ได้', 'AUX', 13515),\n",
              " ('จาก', 'ADP', 12788),\n",
              " ('โดย', 'SCONJ', 12157),\n",
              " ('อำเภอ', 'NOUN', 11726)]"
            ]
          },
          "metadata": {}
        }
      ],
      "source": [
        "def __sample_freq_detection__():\n",
        "  if __is_ipython_kernel__:\n",
        "    global sample_tokenized_freq\n",
        "    sample_tokenized_freq = count_word_pos_frequency(sample_tokenized_data)\n",
        "    display(sample_tokenized_freq[:15])\n",
        "\n",
        "__sample_freq_detection__()"
      ]
    },
    {
      "cell_type": "markdown",
      "metadata": {
        "id": "uzU38MX4Gi7B"
      },
      "source": [
        "generate bag of co-occurence terminology"
      ]
    },
    {
      "cell_type": "code",
      "execution_count": 19,
      "metadata": {
        "id": "PhaEdGxdAHHf"
      },
      "outputs": [],
      "source": [
        "def generate_bigram_freq(term_list)->list:\n",
        "    bigram_list = []\n",
        "\n",
        "    for word_list in term_list:\n",
        "        try:\n",
        "            bigrams_list = list(bigrams(word_list))\n",
        "            bigram_list.extend(bigrams_list)\n",
        "        except:\n",
        "            continue\n",
        "\n",
        "    frequency_dist = FreqDist(bigram_list)\n",
        "    bigram_freq = sorted(frequency_dist.items(), key=itemgetter(1), reverse=True)\n",
        "\n",
        "    return bigram_freq\n",
        "\n",
        "\n",
        "def generate_trigrams(data):\n",
        "  result = []\n",
        "  terms = flatten_nested_list(data)\n",
        "  for i in range(len(terms[:-2])):\n",
        "    triple = (terms[i],terms[i+1],terms[i+2])\n",
        "    result.append(triple)\n",
        "  return result\n",
        "\n",
        "\n",
        "def count_triple_frequency(triples):\n",
        "    triple_frequency = Counter(triples)\n",
        "    result = list(triple_frequency.items())\n",
        "    return  sorted(result, key=lambda x: x[1], reverse=True)"
      ]
    },
    {
      "cell_type": "code",
      "execution_count": 27,
      "metadata": {
        "colab": {
          "base_uri": "https://localhost:8080/",
          "height": 191
        },
        "id": "DAXbeKlSSW3Y",
        "outputId": "b77c2922-f1a5-4ab2-983c-bd8fbbc344c5"
      },
      "outputs": [
        {
          "output_type": "display_data",
          "data": {
            "text/plain": [
              "[(('กรมราชทัณฑ์', 'NOUN'), ('ชี้แจง', 'VERB'), ('ต่อ', 'ADP')),\n",
              " (('ชี้แจง', 'VERB'), ('ต่อ', 'ADP'), ('ข้อสงสัย', 'NOUN')),\n",
              " (('ต่อ', 'ADP'), ('ข้อสงสัย', 'NOUN'), ('กรณี', 'NOUN')),\n",
              " (('ข้อสงสัย', 'NOUN'), ('กรณี', 'NOUN'), ('การนำ', 'NOUN')),\n",
              " (('กรณี', 'NOUN'), ('การนำ', 'NOUN'), ('ตัว', 'NOUN')),\n",
              " (('การนำ', 'NOUN'), ('ตัว', 'NOUN'), ('นาย', 'NOUN')),\n",
              " (('ตัว', 'NOUN'), ('นาย', 'NOUN'), ('พริษฐ์', 'PROPN')),\n",
              " (('นาย', 'NOUN'), ('พริษฐ์', 'PROPN'), ('ชิ', 'VERB')),\n",
              " (('พริษฐ์', 'PROPN'), ('ชิ', 'VERB'), ('วา', 'NOUN')),\n",
              " (('ชิ', 'VERB'), ('วา', 'NOUN'), ('รักษ์', 'NOUN'))]"
            ]
          },
          "metadata": {}
        }
      ],
      "source": [
        "def __sample_gen_trigrams__():\n",
        "  if __is_ipython_kernel__:\n",
        "    global sample_cooc_data\n",
        "    sample_cooc_data = generate_trigrams(sample_tokenized_data)\n",
        "    display(sample_cooc_data[:10])\n",
        "\n",
        "__sample_gen_trigrams__()"
      ]
    },
    {
      "cell_type": "code",
      "execution_count": 33,
      "metadata": {
        "colab": {
          "base_uri": "https://localhost:8080/",
          "height": 191
        },
        "id": "XFjSKJQgAN0t",
        "outputId": "dbd4f280-5c81-410b-f08c-004f2419060d"
      },
      "outputs": [
        {
          "output_type": "display_data",
          "data": {
            "text/plain": [
              "[((('การ', 'NOUN'), ('แพร่ระบาด', 'VERB'), ('ของ', 'ADP')), 2381),\n",
              " ((('โค', 'NOUN'), ('โร', 'NOUN'), ('นา', 'NOUN')), 1325),\n",
              " ((('หน่วยงาน', 'NOUN'), ('ที่', 'SCONJ'), ('เกี่ยวข้อง', 'VERB')), 1195),\n",
              " ((('ใน', 'ADP'), ('พื้นที่', 'NOUN'), ('จังหวัด', 'NOUN')), 1194),\n",
              " ((('ไวรัส', 'NOUN'), ('โค', 'NOUN'), ('โร', 'NOUN')), 1096),\n",
              " ((('สถานการณ์', 'NOUN'), ('การ', 'NOUN'), ('แพร่ระบาด', 'VERB')), 1065),\n",
              " ((('โรคติดเชื้อ', 'NOUN'), ('ไวรัส', 'NOUN'), ('โค', 'NOUN')), 1064),\n",
              " ((('และ', 'CCONJ'), ('บรรเทา', 'VERB'), ('สาธารณภัย', 'NOUN')), 997),\n",
              " ((('ป้องกัน', 'VERB'), ('และ', 'CCONJ'), ('บรรเทา', 'VERB')), 909),\n",
              " ((('ของ', 'ADP'), ('โรคติดเชื้อ', 'NOUN'), ('ไวรัส', 'NOUN')), 894)]"
            ]
          },
          "metadata": {}
        }
      ],
      "source": [
        "def __sample_cooc_freqs_detection__():\n",
        "  if __is_ipython_kernel__:\n",
        "    global sample_cooc_freqs\n",
        "    sample_cooc_freqs = count_triple_frequency(sample_cooc_data)\n",
        "    display(sample_cooc_freqs[:10])\n",
        "\n",
        "__sample_cooc_freqs_detection__()"
      ]
    },
    {
      "cell_type": "code",
      "execution_count": 36,
      "metadata": {
        "id": "0vOkisK6_zoj"
      },
      "outputs": [],
      "source": [
        "def filter_pos_triples(data,keeps = ('NOUN','VERB','NOUN')):\n",
        "    filtered_triples = [ pair for pair in data\n",
        "        if pair[0][0][1] == keeps[0] and pair[0][1][1] == keeps[1] and pair[0][2][1] == keeps[2]\n",
        "    ]\n",
        "    return filtered_triples"
      ]
    },
    {
      "cell_type": "code",
      "execution_count": 37,
      "metadata": {
        "colab": {
          "base_uri": "https://localhost:8080/",
          "height": 364
        },
        "id": "kd4Hmj_M_z6V",
        "outputId": "56c6eaae-83cc-4ec2-a93e-8a9ee67cda76"
      },
      "outputs": [
        {
          "output_type": "display_data",
          "data": {
            "text/plain": [
              "[((('ผู้', 'NOUN'), ('ติดเชื้อ', 'VERB'), ('โควิด', 'NOUN')), 600),\n",
              " ((('ผู้', 'NOUN'), ('ติดเชื้อ', 'VERB'), ('ราย', 'NOUN')), 559),\n",
              " ((('สำนักงาน', 'NOUN'), ('ประชาสัมพันธ์', 'VERB'), ('จังหวัด', 'NOUN')), 438),\n",
              " ((('การ', 'NOUN'), ('ฉีดวัคซีน', 'VERB'), ('โควิด', 'NOUN')), 350),\n",
              " ((('การ', 'NOUN'), ('จัด', 'VERB'), ('การแข่งขัน', 'NOUN')), 340),\n",
              " ((('การ', 'NOUN'), ('แพร่ระบาด', 'VERB'), ('โรค', 'NOUN')), 280),\n",
              " ((('ศูนย์', 'NOUN'), ('บริหาร', 'VERB'), ('สถานการณ์', 'NOUN')), 253),\n",
              " ((('รัฐมนตรี', 'NOUN'), ('ว่าการ', 'VERB'), ('กระทรวง', 'NOUN')), 251),\n",
              " ((('การ', 'NOUN'), ('ระบาย', 'VERB'), ('น้ำ', 'NOUN')), 246),\n",
              " ((('กองทุน', 'NOUN'), ('พัฒนา', 'VERB'), ('เด็ก', 'NOUN')), 230),\n",
              " ((('ภูมิลำเนา', 'NOUN'), ('อยู่', 'VERB'), ('ตำบล', 'NOUN')), 212),\n",
              " ((('การ', 'NOUN'), ('ตรวจหา', 'VERB'), ('เชื้อ', 'NOUN')), 183),\n",
              " ((('การ', 'NOUN'), ('เตรียม', 'VERB'), ('ความพร้อม', 'NOUN')), 180),\n",
              " ((('รัฐมนตรี', 'NOUN'), ('ว่าการ', 'VERB'), ('กระทรวงกลาโหม', 'NOUN')), 176),\n",
              " ((('ผล', 'NOUN'), ('เป็น', 'VERB'), ('บวก', 'NOUN')), 165),\n",
              " ((('การบริหาร', 'NOUN'), ('จัดการ', 'VERB'), ('น้ำ', 'NOUN')), 162),\n",
              " ((('การ', 'NOUN'), ('ลง', 'VERB'), ('พื้นที่', 'NOUN')), 159),\n",
              " ((('กลุ่ม', 'NOUN'), ('สัมผัส', 'VERB'), ('ผู้ป่วย', 'NOUN')), 155),\n",
              " ((('โฆษก', 'NOUN'), ('ประจำ', 'VERB'), ('สำนักนายกรัฐมนตรี', 'NOUN')), 154),\n",
              " ((('การ', 'NOUN'), ('ให้', 'VERB'), ('ความช่วยเหลือ', 'NOUN')), 149)]"
            ]
          },
          "metadata": {}
        }
      ],
      "source": [
        "def __sample_filter_pos__():\n",
        "  if __is_ipython_kernel__:\n",
        "    global sample_filtered_cooc\n",
        "    sample_filtered_cooc = filter_pos_triples(sample_cooc_freqs)\n",
        "    display(sample_filtered_cooc[:20])\n",
        "\n",
        "__sample_filter_pos__()"
      ]
    },
    {
      "cell_type": "code",
      "execution_count": 38,
      "metadata": {
        "id": "0D902xEqAeXS"
      },
      "outputs": [],
      "source": [
        "def bgs_filter_extreme(bgs_list, min_percent=0.05, max_percent=0.8):\n",
        "  result = list()\n",
        "  bgs_list = sorted(bgs_list, key=itemgetter(1), reverse=True)\n",
        "  most_freq = bgs_list[0][1]\n",
        "  max_freq = most_freq * max_percent\n",
        "  min_freq = most_freq * min_percent\n",
        "\n",
        "  result = [(pair, count) for pair, count in bgs_list if min_freq <= count <= max_freq and pair[0] != pair[1]]\n",
        "  return result"
      ]
    },
    {
      "cell_type": "markdown",
      "metadata": {
        "id": "qlNOc8j0CoRP"
      },
      "source": [
        "## Visualization"
      ]
    },
    {
      "cell_type": "code",
      "execution_count": 39,
      "metadata": {
        "id": "KKBxoDswVFVH"
      },
      "outputs": [],
      "source": [
        "def visualize_cooccurrence(data, file_name=\"thaiconet_result.html\"):\n",
        "    # Phase 1: NetworkX\n",
        "    G = nx.Graph()\n",
        "\n",
        "    # Create a dictionary to store the degree of each node\n",
        "    node_degrees = {}\n",
        "\n",
        "    for triples, freq in data:\n",
        "        sbj = triples[0][0]\n",
        "        pred = triples[1][0]\n",
        "        obj = triples[2][0]\n",
        "\n",
        "        # Update the degree of term1\n",
        "        node_degrees[sbj] = node_degrees.get(sbj, 0) + 1\n",
        "\n",
        "        # Update the degree of term2\n",
        "        node_degrees[obj] = node_degrees.get(obj, 0) + 1\n",
        "\n",
        "        # Add nodes and set their size based on the degree\n",
        "        G.add_node(sbj, size=min(node_degrees[sbj] * 7, 80))\n",
        "        G.add_node(obj, size=min(node_degrees[obj] * 7, 80))\n",
        "\n",
        "        # Add edge\n",
        "        G.add_edge(sbj, obj, weight=freq, label=pred)\n",
        "\n",
        "    pos = nx.spring_layout(G)\n",
        "    sizes = [G.nodes[n]['size'] for n in G.nodes()]\n",
        "\n",
        "    # Phase 2: PyviZ\n",
        "    net = Network(height=\"800px\", width=\"100%\", notebook=True)\n",
        "\n",
        "    for node in G.nodes():\n",
        "        net.add_node(node, size=G.nodes[node]['size'])\n",
        "\n",
        "    for u, v, data in G.edges(data=True):\n",
        "        weight = data['weight']\n",
        "        label = data['label']\n",
        "        color = \"orange\" if weight > 45 else \"gray\"\n",
        "        net.add_edge(u, v, value=weight, color=color, label=label)\n",
        "\n",
        "    net.show(file_name)"
      ]
    },
    {
      "cell_type": "code",
      "execution_count": 40,
      "metadata": {
        "colab": {
          "base_uri": "https://localhost:8080/",
          "height": 857
        },
        "id": "YZvZAxbAFwPj",
        "outputId": "d339bc4b-6434-4e58-bcdf-ddd927fcbea1"
      },
      "outputs": [
        {
          "output_type": "display_data",
          "data": {
            "text/plain": [
              "<IPython.core.display.HTML object>"
            ],
            "text/html": [
              "<html>\n",
              "<head>\n",
              "<link rel=\"stylesheet\" href=\"https://cdnjs.cloudflare.com/ajax/libs/vis/4.16.1/vis.css\" type=\"text/css\" />\n",
              "<script type=\"text/javascript\" src=\"https://cdnjs.cloudflare.com/ajax/libs/vis/4.16.1/vis-network.min.js\"> </script>\n",
              "<center>\n",
              "<h1></h1>\n",
              "</center>\n",
              "\n",
              "<!-- <link rel=\"stylesheet\" href=\"../node_modules/vis/dist/vis.min.css\" type=\"text/css\" />\n",
              "<script type=\"text/javascript\" src=\"../node_modules/vis/dist/vis.js\"> </script>-->\n",
              "\n",
              "<style type=\"text/css\">\n",
              "\n",
              "        #mynetwork {\n",
              "            width: 100%;\n",
              "            height: 800px;\n",
              "            background-color: #ffffff;\n",
              "            border: 1px solid lightgray;\n",
              "            position: relative;\n",
              "            float: left;\n",
              "        }\n",
              "\n",
              "        \n",
              "        #loadingBar {\n",
              "            position:absolute;\n",
              "            top:0px;\n",
              "            left:0px;\n",
              "            width: 100%;\n",
              "            height: 800px;\n",
              "            background-color:rgba(200,200,200,0.8);\n",
              "            -webkit-transition: all 0.5s ease;\n",
              "            -moz-transition: all 0.5s ease;\n",
              "            -ms-transition: all 0.5s ease;\n",
              "            -o-transition: all 0.5s ease;\n",
              "            transition: all 0.5s ease;\n",
              "            opacity:1;\n",
              "        }\n",
              "\n",
              "        #bar {\n",
              "            position:absolute;\n",
              "            top:0px;\n",
              "            left:0px;\n",
              "            width:20px;\n",
              "            height:20px;\n",
              "            margin:auto auto auto auto;\n",
              "            border-radius:11px;\n",
              "            border:2px solid rgba(30,30,30,0.05);\n",
              "            background: rgb(0, 173, 246); /* Old browsers */\n",
              "            box-shadow: 2px 0px 4px rgba(0,0,0,0.4);\n",
              "        }\n",
              "\n",
              "        #border {\n",
              "            position:absolute;\n",
              "            top:10px;\n",
              "            left:10px;\n",
              "            width:500px;\n",
              "            height:23px;\n",
              "            margin:auto auto auto auto;\n",
              "            box-shadow: 0px 0px 4px rgba(0,0,0,0.2);\n",
              "            border-radius:10px;\n",
              "        }\n",
              "\n",
              "        #text {\n",
              "            position:absolute;\n",
              "            top:8px;\n",
              "            left:530px;\n",
              "            width:30px;\n",
              "            height:50px;\n",
              "            margin:auto auto auto auto;\n",
              "            font-size:22px;\n",
              "            color: #000000;\n",
              "        }\n",
              "\n",
              "        div.outerBorder {\n",
              "            position:relative;\n",
              "            top:400px;\n",
              "            width:600px;\n",
              "            height:44px;\n",
              "            margin:auto auto auto auto;\n",
              "            border:8px solid rgba(0,0,0,0.1);\n",
              "            background: rgb(252,252,252); /* Old browsers */\n",
              "            background: -moz-linear-gradient(top,  rgba(252,252,252,1) 0%, rgba(237,237,237,1) 100%); /* FF3.6+ */\n",
              "            background: -webkit-gradient(linear, left top, left bottom, color-stop(0%,rgba(252,252,252,1)), color-stop(100%,rgba(237,237,237,1))); /* Chrome,Safari4+ */\n",
              "            background: -webkit-linear-gradient(top,  rgba(252,252,252,1) 0%,rgba(237,237,237,1) 100%); /* Chrome10+,Safari5.1+ */\n",
              "            background: -o-linear-gradient(top,  rgba(252,252,252,1) 0%,rgba(237,237,237,1) 100%); /* Opera 11.10+ */\n",
              "            background: -ms-linear-gradient(top,  rgba(252,252,252,1) 0%,rgba(237,237,237,1) 100%); /* IE10+ */\n",
              "            background: linear-gradient(to bottom,  rgba(252,252,252,1) 0%,rgba(237,237,237,1) 100%); /* W3C */\n",
              "            filter: progid:DXImageTransform.Microsoft.gradient( startColorstr='#fcfcfc', endColorstr='#ededed',GradientType=0 ); /* IE6-9 */\n",
              "            border-radius:72px;\n",
              "            box-shadow: 0px 0px 10px rgba(0,0,0,0.2);\n",
              "        }\n",
              "        \n",
              "\n",
              "        \n",
              "\n",
              "        \n",
              "</style>\n",
              "\n",
              "</head>\n",
              "\n",
              "<body>\n",
              "<div id = \"mynetwork\"></div>\n",
              "\n",
              "<div id=\"loadingBar\">\n",
              "    <div class=\"outerBorder\">\n",
              "        <div id=\"text\">0%</div>\n",
              "        <div id=\"border\">\n",
              "            <div id=\"bar\"></div>\n",
              "        </div>\n",
              "    </div>\n",
              "</div>\n",
              "\n",
              "\n",
              "<script type=\"text/javascript\">\n",
              "\n",
              "    // initialize global variables.\n",
              "    var edges;\n",
              "    var nodes;\n",
              "    var network; \n",
              "    var container;\n",
              "    var options, data;\n",
              "\n",
              "    \n",
              "    // This method is responsible for drawing the graph, returns the drawn network\n",
              "    function drawGraph() {\n",
              "        var container = document.getElementById('mynetwork');\n",
              "        \n",
              "        \n",
              "\n",
              "        // parsing and collecting nodes and edges from the python\n",
              "        nodes = new vis.DataSet([{\"id\": \"\\u0e1c\\u0e39\\u0e49\", \"label\": \"\\u0e1c\\u0e39\\u0e49\", \"shape\": \"dot\", \"size\": 80}, {\"id\": \"\\u0e42\\u0e04\\u0e27\\u0e34\\u0e14\", \"label\": \"\\u0e42\\u0e04\\u0e27\\u0e34\\u0e14\", \"shape\": \"dot\", \"size\": 35}, {\"id\": \"\\u0e23\\u0e32\\u0e22\", \"label\": \"\\u0e23\\u0e32\\u0e22\", \"shape\": \"dot\", \"size\": 77}, {\"id\": \"\\u0e2a\\u0e33\\u0e19\\u0e31\\u0e01\\u0e07\\u0e32\\u0e19\", \"label\": \"\\u0e2a\\u0e33\\u0e19\\u0e31\\u0e01\\u0e07\\u0e32\\u0e19\", \"shape\": \"dot\", \"size\": 35}, {\"id\": \"\\u0e08\\u0e31\\u0e07\\u0e2b\\u0e27\\u0e31\\u0e14\", \"label\": \"\\u0e08\\u0e31\\u0e07\\u0e2b\\u0e27\\u0e31\\u0e14\", \"shape\": \"dot\", \"size\": 28}, {\"id\": \"\\u0e01\\u0e32\\u0e23\", \"label\": \"\\u0e01\\u0e32\\u0e23\", \"shape\": \"dot\", \"size\": 80}, {\"id\": \"\\u0e01\\u0e32\\u0e23\\u0e41\\u0e02\\u0e48\\u0e07\\u0e02\\u0e31\\u0e19\", \"label\": \"\\u0e01\\u0e32\\u0e23\\u0e41\\u0e02\\u0e48\\u0e07\\u0e02\\u0e31\\u0e19\", \"shape\": \"dot\", \"size\": 28}, {\"id\": \"\\u0e42\\u0e23\\u0e04\", \"label\": \"\\u0e42\\u0e23\\u0e04\", \"shape\": \"dot\", \"size\": 49}, {\"id\": \"\\u0e28\\u0e39\\u0e19\\u0e22\\u0e4c\", \"label\": \"\\u0e28\\u0e39\\u0e19\\u0e22\\u0e4c\", \"shape\": \"dot\", \"size\": 49}, {\"id\": \"\\u0e2a\\u0e16\\u0e32\\u0e19\\u0e01\\u0e32\\u0e23\\u0e13\\u0e4c\", \"label\": \"\\u0e2a\\u0e16\\u0e32\\u0e19\\u0e01\\u0e32\\u0e23\\u0e13\\u0e4c\", \"shape\": \"dot\", \"size\": 21}, {\"id\": \"\\u0e23\\u0e31\\u0e10\\u0e21\\u0e19\\u0e15\\u0e23\\u0e35\", \"label\": \"\\u0e23\\u0e31\\u0e10\\u0e21\\u0e19\\u0e15\\u0e23\\u0e35\", \"shape\": \"dot\", \"size\": 21}, {\"id\": \"\\u0e01\\u0e23\\u0e30\\u0e17\\u0e23\\u0e27\\u0e07\", \"label\": \"\\u0e01\\u0e23\\u0e30\\u0e17\\u0e23\\u0e27\\u0e07\", \"shape\": \"dot\", \"size\": 7}, {\"id\": \"\\u0e19\\u0e49\\u0e33\", \"label\": \"\\u0e19\\u0e49\\u0e33\", \"shape\": \"dot\", \"size\": 56}, {\"id\": \"\\u0e01\\u0e2d\\u0e07\\u0e17\\u0e38\\u0e19\", \"label\": \"\\u0e01\\u0e2d\\u0e07\\u0e17\\u0e38\\u0e19\", \"shape\": \"dot\", \"size\": 21}, {\"id\": \"\\u0e40\\u0e14\\u0e47\\u0e01\", \"label\": \"\\u0e40\\u0e14\\u0e47\\u0e01\", \"shape\": \"dot\", \"size\": 7}, {\"id\": \"\\u0e20\\u0e39\\u0e21\\u0e34\\u0e25\\u0e33\\u0e40\\u0e19\\u0e32\", \"label\": \"\\u0e20\\u0e39\\u0e21\\u0e34\\u0e25\\u0e33\\u0e40\\u0e19\\u0e32\", \"shape\": \"dot\", \"size\": 7}, {\"id\": \"\\u0e15\\u0e33\\u0e1a\\u0e25\", \"label\": \"\\u0e15\\u0e33\\u0e1a\\u0e25\", \"shape\": \"dot\", \"size\": 7}, {\"id\": \"\\u0e40\\u0e0a\\u0e37\\u0e49\\u0e2d\", \"label\": \"\\u0e40\\u0e0a\\u0e37\\u0e49\\u0e2d\", \"shape\": \"dot\", \"size\": 21}, {\"id\": \"\\u0e04\\u0e27\\u0e32\\u0e21\\u0e1e\\u0e23\\u0e49\\u0e2d\\u0e21\", \"label\": \"\\u0e04\\u0e27\\u0e32\\u0e21\\u0e1e\\u0e23\\u0e49\\u0e2d\\u0e21\", \"shape\": \"dot\", \"size\": 14}, {\"id\": \"\\u0e01\\u0e23\\u0e30\\u0e17\\u0e23\\u0e27\\u0e07\\u0e01\\u0e25\\u0e32\\u0e42\\u0e2b\\u0e21\", \"label\": \"\\u0e01\\u0e23\\u0e30\\u0e17\\u0e23\\u0e27\\u0e07\\u0e01\\u0e25\\u0e32\\u0e42\\u0e2b\\u0e21\", \"shape\": \"dot\", \"size\": 7}, {\"id\": \"\\u0e1c\\u0e25\", \"label\": \"\\u0e1c\\u0e25\", \"shape\": \"dot\", \"size\": 21}, {\"id\": \"\\u0e1a\\u0e27\\u0e01\", \"label\": \"\\u0e1a\\u0e27\\u0e01\", \"shape\": \"dot\", \"size\": 7}, {\"id\": \"\\u0e01\\u0e32\\u0e23\\u0e1a\\u0e23\\u0e34\\u0e2b\\u0e32\\u0e23\", \"label\": \"\\u0e01\\u0e32\\u0e23\\u0e1a\\u0e23\\u0e34\\u0e2b\\u0e32\\u0e23\", \"shape\": \"dot\", \"size\": 7}, {\"id\": \"\\u0e1e\\u0e37\\u0e49\\u0e19\\u0e17\\u0e35\\u0e48\", \"label\": \"\\u0e1e\\u0e37\\u0e49\\u0e19\\u0e17\\u0e35\\u0e48\", \"shape\": \"dot\", \"size\": 56}, {\"id\": \"\\u0e01\\u0e25\\u0e38\\u0e48\\u0e21\", \"label\": \"\\u0e01\\u0e25\\u0e38\\u0e48\\u0e21\", \"shape\": \"dot\", \"size\": 7}, {\"id\": \"\\u0e1c\\u0e39\\u0e49\\u0e1b\\u0e48\\u0e27\\u0e22\", \"label\": \"\\u0e1c\\u0e39\\u0e49\\u0e1b\\u0e48\\u0e27\\u0e22\", \"shape\": \"dot\", \"size\": 35}, {\"id\": \"\\u0e42\\u0e06\\u0e29\\u0e01\", \"label\": \"\\u0e42\\u0e06\\u0e29\\u0e01\", \"shape\": \"dot\", \"size\": 14}, {\"id\": \"\\u0e2a\\u0e33\\u0e19\\u0e31\\u0e01\\u0e19\\u0e32\\u0e22\\u0e01\\u0e23\\u0e31\\u0e10\\u0e21\\u0e19\\u0e15\\u0e23\\u0e35\", \"label\": \"\\u0e2a\\u0e33\\u0e19\\u0e31\\u0e01\\u0e19\\u0e32\\u0e22\\u0e01\\u0e23\\u0e31\\u0e10\\u0e21\\u0e19\\u0e15\\u0e23\\u0e35\", \"shape\": \"dot\", \"size\": 7}, {\"id\": \"\\u0e04\\u0e27\\u0e32\\u0e21\\u0e0a\\u0e48\\u0e27\\u0e22\\u0e40\\u0e2b\\u0e25\\u0e37\\u0e2d\", \"label\": \"\\u0e04\\u0e27\\u0e32\\u0e21\\u0e0a\\u0e48\\u0e27\\u0e22\\u0e40\\u0e2b\\u0e25\\u0e37\\u0e2d\", \"shape\": \"dot\", \"size\": 7}, {\"id\": \"\\u0e19\\u0e32\\u0e22\\u0e41\\u0e1e\\u0e17\\u0e22\\u0e4c\", \"label\": \"\\u0e19\\u0e32\\u0e22\\u0e41\\u0e1e\\u0e17\\u0e22\\u0e4c\", \"shape\": \"dot\", \"size\": 7}, {\"id\": \"\\u0e23\\u0e32\\u0e22\\u0e07\\u0e32\\u0e19\", \"label\": \"\\u0e23\\u0e32\\u0e22\\u0e07\\u0e32\\u0e19\", \"shape\": \"dot\", \"size\": 14}, {\"id\": \"\\u0e2a\\u0e34\\u0e19\\u0e04\\u0e49\\u0e32\", \"label\": \"\\u0e2a\\u0e34\\u0e19\\u0e04\\u0e49\\u0e32\", \"shape\": \"dot\", \"size\": 7}, {\"id\": \"\\u0e01\\u0e2d\\u0e07\\u0e2d\\u0e33\\u0e19\\u0e27\\u0e22\\u0e01\\u0e32\\u0e23\", \"label\": \"\\u0e01\\u0e2d\\u0e07\\u0e2d\\u0e33\\u0e19\\u0e27\\u0e22\\u0e01\\u0e32\\u0e23\", \"shape\": \"dot\", \"size\": 7}, {\"id\": \"\\u0e04\\u0e27\\u0e32\\u0e21\\u0e21\\u0e31\\u0e48\\u0e19\\u0e04\\u0e07\", \"label\": \"\\u0e04\\u0e27\\u0e32\\u0e21\\u0e21\\u0e31\\u0e48\\u0e19\\u0e04\\u0e07\", \"shape\": \"dot\", \"size\": 21}, {\"id\": \"\\u0e04\\u0e27\\u0e32\\u0e21\", \"label\": \"\\u0e04\\u0e27\\u0e32\\u0e21\", \"shape\": \"dot\", \"size\": 7}, {\"id\": \"\\u0e2a\\u0e34\\u0e23\\u0e34\\u0e21\\u0e07\\u0e04\\u0e25\", \"label\": \"\\u0e2a\\u0e34\\u0e23\\u0e34\\u0e21\\u0e07\\u0e04\\u0e25\", \"shape\": \"dot\", \"size\": 7}, {\"id\": \"\\u0e1c\\u0e39\\u0e49\\u0e1a\\u0e31\\u0e07\\u0e04\\u0e31\\u0e1a\\u0e01\\u0e32\\u0e23\", \"label\": \"\\u0e1c\\u0e39\\u0e49\\u0e1a\\u0e31\\u0e07\\u0e04\\u0e31\\u0e1a\\u0e01\\u0e32\\u0e23\", \"shape\": \"dot\", \"size\": 7}, {\"id\": \"\\u0e0a\\u0e38\\u0e21\\u0e0a\\u0e19\", \"label\": \"\\u0e0a\\u0e38\\u0e21\\u0e0a\\u0e19\", \"shape\": \"dot\", \"size\": 14}, {\"id\": \"\\u0e41\\u0e1c\\u0e19\", \"label\": \"\\u0e41\\u0e1c\\u0e19\", \"shape\": \"dot\", \"size\": 14}, {\"id\": \"\\u0e40\\u0e2b\\u0e15\\u0e38\", \"label\": \"\\u0e40\\u0e2b\\u0e15\\u0e38\", \"shape\": \"dot\", \"size\": 7}, {\"id\": \"\\u0e28\\u0e23\\u0e35\\u0e2a\\u0e30\\u0e40\\u0e01\\u0e29\", \"label\": \"\\u0e28\\u0e23\\u0e35\\u0e2a\\u0e30\\u0e40\\u0e01\\u0e29\", \"shape\": \"dot\", \"size\": 7}, {\"id\": \"\\u0e1b\\u0e23\\u0e30\\u0e18\\u0e32\\u0e19\", \"label\": \"\\u0e1b\\u0e23\\u0e30\\u0e18\\u0e32\\u0e19\", \"shape\": \"dot\", \"size\": 49}, {\"id\": \"\\u0e1b\\u0e35\", \"label\": \"\\u0e1b\\u0e35\", \"shape\": \"dot\", \"size\": 7}, {\"id\": \"\\u0e2b\\u0e21\\u0e39\\u0e48\", \"label\": \"\\u0e2b\\u0e21\\u0e39\\u0e48\", \"shape\": \"dot\", \"size\": 7}, {\"id\": \"\\u0e2b\\u0e19\\u0e48\\u0e27\\u0e22\\u0e40\\u0e09\\u0e1e\\u0e32\\u0e30\\u0e01\\u0e34\\u0e08\", \"label\": \"\\u0e2b\\u0e19\\u0e48\\u0e27\\u0e22\\u0e40\\u0e09\\u0e1e\\u0e32\\u0e30\\u0e01\\u0e34\\u0e08\", \"shape\": \"dot\", \"size\": 7}, {\"id\": \"\\u0e01\\u0e31\\u0e01\", \"label\": \"\\u0e01\\u0e31\\u0e01\", \"shape\": \"dot\", \"size\": 7}, {\"id\": \"\\u0e08\\u0e34\\u0e15\", \"label\": \"\\u0e08\\u0e34\\u0e15\", \"shape\": \"dot\", \"size\": 21}, {\"id\": \"\\u0e42\\u0e04\\u0e23\\u0e07\\u0e01\\u0e32\\u0e23\", \"label\": \"\\u0e42\\u0e04\\u0e23\\u0e07\\u0e01\\u0e32\\u0e23\", \"shape\": \"dot\", \"size\": 56}, {\"id\": \"\\u0e1c\\u0e25\\u0e01\\u0e23\\u0e30\\u0e17\\u0e1a\", \"label\": \"\\u0e1c\\u0e25\\u0e01\\u0e23\\u0e30\\u0e17\\u0e1a\", \"shape\": \"dot\", \"size\": 21}, {\"id\": \"\\u0e23\\u0e30\\u0e25\\u0e2d\\u0e01\", \"label\": \"\\u0e23\\u0e30\\u0e25\\u0e2d\\u0e01\", \"shape\": \"dot\", \"size\": 7}, {\"id\": \"\\u0e15\\u0e25\\u0e34\\u0e48\\u0e07\", \"label\": \"\\u0e15\\u0e25\\u0e34\\u0e48\\u0e07\", \"shape\": \"dot\", \"size\": 7}, {\"id\": \"\\u0e04\\u0e19\", \"label\": \"\\u0e04\\u0e19\", \"shape\": \"dot\", \"size\": 14}, {\"id\": \"\\u0e27\\u0e31\\u0e04\\u0e0b\\u0e35\\u0e19\", \"label\": \"\\u0e27\\u0e31\\u0e04\\u0e0b\\u0e35\\u0e19\", \"shape\": \"dot\", \"size\": 56}, {\"id\": \"\\u0e1e\\u0e34\\u0e18\\u0e35\", \"label\": \"\\u0e1e\\u0e34\\u0e18\\u0e35\", \"shape\": \"dot\", \"size\": 49}, {\"id\": \"\\u0e21\\u0e2b\\u0e32\\u0e23\\u0e32\\u0e0a\", \"label\": \"\\u0e21\\u0e2b\\u0e32\\u0e23\\u0e32\\u0e0a\", \"shape\": \"dot\", \"size\": 7}, {\"id\": \"\\u0e19\\u0e32\\u0e16\", \"label\": \"\\u0e19\\u0e32\\u0e16\", \"shape\": \"dot\", \"size\": 7}, {\"id\": \"\\u0e28\\u0e31\\u0e01\\u0e14\\u0e34\\u0e4c\", \"label\": \"\\u0e28\\u0e31\\u0e01\\u0e14\\u0e34\\u0e4c\", \"shape\": \"dot\", \"size\": 7}, {\"id\": \"\\u0e42\\u0e2a\\u0e20\\u0e32\", \"label\": \"\\u0e42\\u0e2a\\u0e20\\u0e32\", \"shape\": \"dot\", \"size\": 7}, {\"id\": \"\\u0e15\\u0e23\\u0e31\\u0e07\", \"label\": \"\\u0e15\\u0e23\\u0e31\\u0e07\", \"shape\": \"dot\", \"size\": 7}, {\"id\": \"\\u0e41\\u0e2b\\u0e48\\u0e07\\u0e0a\\u0e32\\u0e15\\u0e34\", \"label\": \"\\u0e41\\u0e2b\\u0e48\\u0e07\\u0e0a\\u0e32\\u0e15\\u0e34\", \"shape\": \"dot\", \"size\": 7}, {\"id\": \"\\u0e42\\u0e14\\u0e2a\", \"label\": \"\\u0e42\\u0e14\\u0e2a\", \"shape\": \"dot\", \"size\": 7}, {\"id\": \"\\u0e1b\\u0e23\\u0e30\\u0e40\\u0e17\\u0e28\", \"label\": \"\\u0e1b\\u0e23\\u0e30\\u0e40\\u0e17\\u0e28\", \"shape\": \"dot\", \"size\": 7}, {\"id\": \"\\u0e17\\u0e38\\u0e01\\u0e1b\\u0e35\", \"label\": \"\\u0e17\\u0e38\\u0e01\\u0e1b\\u0e35\", \"shape\": \"dot\", \"size\": 7}, {\"id\": \"\\u0e27\\u0e31\\u0e19\", \"label\": \"\\u0e27\\u0e31\\u0e19\", \"shape\": \"dot\", \"size\": 21}, {\"id\": \"\\u0e40\\u0e22\\u0e35\\u0e48\\u0e22\\u0e21\", \"label\": \"\\u0e40\\u0e22\\u0e35\\u0e48\\u0e22\\u0e21\", \"shape\": \"dot\", \"size\": 7}, {\"id\": \"\\u0e23\\u0e32\\u0e22\\u0e27\\u0e31\\u0e19\", \"label\": \"\\u0e23\\u0e32\\u0e22\\u0e27\\u0e31\\u0e19\", \"shape\": \"dot\", \"size\": 7}, {\"id\": \"\\u0e1a\\u0e17\\u0e1a\\u0e32\\u0e17\", \"label\": \"\\u0e1a\\u0e17\\u0e1a\\u0e32\\u0e17\", \"shape\": \"dot\", \"size\": 7}, {\"id\": \"\\u0e2d\\u0e38\\u0e1a\\u0e31\\u0e15\\u0e34\\u0e40\\u0e2b\\u0e15\\u0e38\", \"label\": \"\\u0e2d\\u0e38\\u0e1a\\u0e31\\u0e15\\u0e34\\u0e40\\u0e2b\\u0e15\\u0e38\", \"shape\": \"dot\", \"size\": 7}, {\"id\": \"\\u0e01\\u0e23\\u0e21\", \"label\": \"\\u0e01\\u0e23\\u0e21\", \"shape\": \"dot\", \"size\": 7}, {\"id\": \"\\u0e42\\u0e23\\u0e07\\u0e1e\\u0e22\\u0e32\\u0e1a\\u0e32\\u0e25\", \"label\": \"\\u0e42\\u0e23\\u0e07\\u0e1e\\u0e22\\u0e32\\u0e1a\\u0e32\\u0e25\", \"shape\": \"dot\", \"size\": 14}, {\"id\": \"\\u0e2a\\u0e38\\u0e02\\u0e20\\u0e32\\u0e1e\", \"label\": \"\\u0e2a\\u0e38\\u0e02\\u0e20\\u0e32\\u0e1e\", \"shape\": \"dot\", \"size\": 14}, {\"id\": \"\\u0e1b\\u0e23\\u0e30\\u0e0a\\u0e32\\u0e0a\\u0e19\", \"label\": \"\\u0e1b\\u0e23\\u0e30\\u0e0a\\u0e32\\u0e0a\\u0e19\", \"shape\": \"dot\", \"size\": 21}, {\"id\": \"\\u0e40\\u0e08\\u0e49\\u0e32\", \"label\": \"\\u0e40\\u0e08\\u0e49\\u0e32\", \"shape\": \"dot\", \"size\": 7}, {\"id\": \"\\u0e2b\\u0e31\\u0e27\", \"label\": \"\\u0e2b\\u0e31\\u0e27\", \"shape\": \"dot\", \"size\": 7}, {\"id\": \"\\u0e23\\u0e16\", \"label\": \"\\u0e23\\u0e16\", \"shape\": \"dot\", \"size\": 14}, {\"id\": \"\\u0e16\\u0e19\\u0e19\", \"label\": \"\\u0e16\\u0e19\\u0e19\", \"shape\": \"dot\", \"size\": 7}, {\"id\": \"\\u0e1b\\u0e49\\u0e32\\u0e22\", \"label\": \"\\u0e1b\\u0e49\\u0e32\\u0e22\", \"shape\": \"dot\", \"size\": 7}, {\"id\": \"\\u0e23\\u0e32\\u0e04\\u0e32\", \"label\": \"\\u0e23\\u0e32\\u0e04\\u0e32\", \"shape\": \"dot\", \"size\": 7}, {\"id\": \"\\u0e1c\\u0e39\\u0e49\\u0e2d\\u0e33\\u0e19\\u0e27\\u0e22\\u0e01\\u0e32\\u0e23\", \"label\": \"\\u0e1c\\u0e39\\u0e49\\u0e2d\\u0e33\\u0e19\\u0e27\\u0e22\\u0e01\\u0e32\\u0e23\", \"shape\": \"dot\", \"size\": 14}, {\"id\": \"\\u0e1e\\u0e23\\u0e30\\u0e1e\\u0e38\\u0e17\\u0e18\\u0e21\\u0e19\\u0e15\\u0e4c\", \"label\": \"\\u0e1e\\u0e23\\u0e30\\u0e1e\\u0e38\\u0e17\\u0e18\\u0e21\\u0e19\\u0e15\\u0e4c\", \"shape\": \"dot\", \"size\": 7}, {\"id\": \"\\u0e27\\u0e34\\u0e44\\u0e25\", \"label\": \"\\u0e27\\u0e34\\u0e44\\u0e25\", \"shape\": \"dot\", \"size\": 7}, {\"id\": \"\\u0e01\\u0e23\\u0e30\\u0e17\\u0e23\\u0e27\\u0e07\\u0e01\\u0e32\\u0e23\\u0e2d\\u0e38\\u0e14\\u0e21\\u0e28\\u0e36\\u0e01\\u0e29\\u0e32 \\u0e27\\u0e34\\u0e17\\u0e22\\u0e32\\u0e28\\u0e32\\u0e2a\\u0e15\\u0e23\\u0e4c \\u0e27\\u0e34\\u0e08\\u0e31\\u0e22\\u0e41\\u0e25\\u0e30\\u0e19\\u0e27\\u0e31\\u0e15\\u0e01\\u0e23\\u0e23\\u0e21\", \"label\": \"\\u0e01\\u0e23\\u0e30\\u0e17\\u0e23\\u0e27\\u0e07\\u0e01\\u0e32\\u0e23\\u0e2d\\u0e38\\u0e14\\u0e21\\u0e28\\u0e36\\u0e01\\u0e29\\u0e32 \\u0e27\\u0e34\\u0e17\\u0e22\\u0e32\\u0e28\\u0e32\\u0e2a\\u0e15\\u0e23\\u0e4c \\u0e27\\u0e34\\u0e08\\u0e31\\u0e22\\u0e41\\u0e25\\u0e30\\u0e19\\u0e27\\u0e31\\u0e15\\u0e01\\u0e23\\u0e23\\u0e21\", \"shape\": \"dot\", \"size\": 14}, {\"id\": \"\\u0e40\\u0e15\\u0e35\\u0e22\\u0e07\", \"label\": \"\\u0e40\\u0e15\\u0e35\\u0e22\\u0e07\", \"shape\": \"dot\", \"size\": 7}, {\"id\": \"\\u0e04\\u0e31\\u0e14\", \"label\": \"\\u0e04\\u0e31\\u0e14\", \"shape\": \"dot\", \"size\": 7}, {\"id\": \"\\u0e40\\u0e02\\u0e47\\u0e21\", \"label\": \"\\u0e40\\u0e02\\u0e47\\u0e21\", \"shape\": \"dot\", \"size\": 14}, {\"id\": \"\\u0e01\\u0e23\\u0e21\\u0e1b\\u0e23\\u0e30\\u0e0a\\u0e32\\u0e2a\\u0e31\\u0e21\\u0e1e\\u0e31\\u0e19\\u0e18\\u0e4c\", \"label\": \"\\u0e01\\u0e23\\u0e21\\u0e1b\\u0e23\\u0e30\\u0e0a\\u0e32\\u0e2a\\u0e31\\u0e21\\u0e1e\\u0e31\\u0e19\\u0e18\\u0e4c\", \"shape\": \"dot\", \"size\": 42}, {\"id\": \"\\u0e27\\u0e31\\u0e19\\u0e19\\u0e35\\u0e49\", \"label\": \"\\u0e27\\u0e31\\u0e19\\u0e19\\u0e35\\u0e49\", \"shape\": \"dot\", \"size\": 21}, {\"id\": \"\\u0e19\\u0e04\\u0e23\", \"label\": \"\\u0e19\\u0e04\\u0e23\", \"shape\": \"dot\", \"size\": 7}, {\"id\": \"\\u0e40\\u0e01\\u0e21\\u0e2a\\u0e4c\", \"label\": \"\\u0e40\\u0e01\\u0e21\\u0e2a\\u0e4c\", \"shape\": \"dot\", \"size\": 7}, {\"id\": \"\\u0e21\\u0e25\\u0e1e\\u0e34\\u0e29\\u0e17\\u0e32\\u0e07\\u0e2d\\u0e32\\u0e01\\u0e32\\u0e28\", \"label\": \"\\u0e21\\u0e25\\u0e1e\\u0e34\\u0e29\\u0e17\\u0e32\\u0e07\\u0e2d\\u0e32\\u0e01\\u0e32\\u0e28\", \"shape\": \"dot\", \"size\": 7}, {\"id\": \"\\u0e28\\u0e39\\u0e19\\u0e22\\u0e4c\\u0e2d\\u0e33\\u0e19\\u0e27\\u0e22\\u0e01\\u0e32\\u0e23\", \"label\": \"\\u0e28\\u0e39\\u0e19\\u0e22\\u0e4c\\u0e2d\\u0e33\\u0e19\\u0e27\\u0e22\\u0e01\\u0e32\\u0e23\", \"shape\": \"dot\", \"size\": 7}, {\"id\": \"\\u0e04\\u0e31\\u0e19\", \"label\": \"\\u0e04\\u0e31\\u0e19\", \"shape\": \"dot\", \"size\": 7}, {\"id\": \"\\u0e08\\u0e38\\u0e14\", \"label\": \"\\u0e08\\u0e38\\u0e14\", \"shape\": \"dot\", \"size\": 21}, {\"id\": \"\\u0e23\\u0e2d\\u0e07\\u0e1c\\u0e39\\u0e49\\u0e2d\\u0e33\\u0e19\\u0e27\\u0e22\\u0e01\\u0e32\\u0e23\", \"label\": \"\\u0e23\\u0e2d\\u0e07\\u0e1c\\u0e39\\u0e49\\u0e2d\\u0e33\\u0e19\\u0e27\\u0e22\\u0e01\\u0e32\\u0e23\", \"shape\": \"dot\", \"size\": 7}, {\"id\": \"\\u0e04\\u0e13\\u0e30\\u0e01\\u0e23\\u0e23\\u0e21\\u0e01\\u0e32\\u0e23\", \"label\": \"\\u0e04\\u0e13\\u0e30\\u0e01\\u0e23\\u0e23\\u0e21\\u0e01\\u0e32\\u0e23\", \"shape\": \"dot\", \"size\": 7}, {\"id\": \"\\u0e07\\u0e1a\\u0e1b\\u0e23\\u0e30\\u0e21\\u0e32\\u0e13\", \"label\": \"\\u0e07\\u0e1a\\u0e1b\\u0e23\\u0e30\\u0e21\\u0e32\\u0e13\", \"shape\": \"dot\", \"size\": 7}, {\"id\": \"\\u0e10\\u0e32\\u0e19\\u0e30\", \"label\": \"\\u0e10\\u0e32\\u0e19\\u0e30\", \"shape\": \"dot\", \"size\": 14}, {\"id\": \"\\u0e40\\u0e0a\\u0e37\\u0e49\\u0e2d\\u0e42\\u0e23\\u0e04\", \"label\": \"\\u0e40\\u0e0a\\u0e37\\u0e49\\u0e2d\\u0e42\\u0e23\\u0e04\", \"shape\": \"dot\", \"size\": 7}, {\"id\": \"\\u0e40\\u0e2a\\u0e35\\u0e22\\u0e0a\\u0e35\\u0e27\\u0e34\\u0e15\", \"label\": \"\\u0e40\\u0e2a\\u0e35\\u0e22\\u0e0a\\u0e35\\u0e27\\u0e34\\u0e15\", \"shape\": \"dot\", \"size\": 7}, {\"id\": \"\\u0e18\\u0e23\\u0e23\\u0e21\", \"label\": \"\\u0e18\\u0e23\\u0e23\\u0e21\", \"shape\": \"dot\", \"size\": 14}, {\"id\": \"\\u0e04\\u0e13\\u0e30\", \"label\": \"\\u0e04\\u0e13\\u0e30\", \"shape\": \"dot\", \"size\": 7}, {\"id\": \"\\u0e01\\u0e34\\u0e08\\u0e01\\u0e23\\u0e23\\u0e21\", \"label\": \"\\u0e01\\u0e34\\u0e08\\u0e01\\u0e23\\u0e23\\u0e21\", \"shape\": \"dot\", \"size\": 21}, {\"id\": \"\\u0e1e\\u0e32\\u0e2b\\u0e30\", \"label\": \"\\u0e1e\\u0e32\\u0e2b\\u0e30\", \"shape\": \"dot\", \"size\": 7}, {\"id\": \"\\u0e42\\u0e04\\u0e01\", \"label\": \"\\u0e42\\u0e04\\u0e01\", \"shape\": \"dot\", \"size\": 7}, {\"id\": \"\\u0e19\\u0e32\", \"label\": \"\\u0e19\\u0e32\", \"shape\": \"dot\", \"size\": 7}, {\"id\": \"\\u0e02\\u0e48\\u0e32\\u0e27\", \"label\": \"\\u0e02\\u0e48\\u0e32\\u0e27\", \"shape\": \"dot\", \"size\": 7}, {\"id\": \"\\u0e1c\\u0e39\\u0e49\\u0e40\\u0e2a\\u0e35\\u0e22\\u0e0a\\u0e35\\u0e27\\u0e34\\u0e15\", \"label\": \"\\u0e1c\\u0e39\\u0e49\\u0e40\\u0e2a\\u0e35\\u0e22\\u0e0a\\u0e35\\u0e27\\u0e34\\u0e15\", \"shape\": \"dot\", \"size\": 14}, {\"id\": \"\\u0e18\\u0e34\", \"label\": \"\\u0e18\\u0e34\", \"shape\": \"dot\", \"size\": 7}, {\"id\": \"\\u0e08\\u0e34\\u0e19\\u0e14\\u0e32\", \"label\": \"\\u0e08\\u0e34\\u0e19\\u0e14\\u0e32\", \"shape\": \"dot\", \"size\": 7}, {\"id\": \"\\u0e28\\u0e23\\u0e35\", \"label\": \"\\u0e28\\u0e23\\u0e35\", \"shape\": \"dot\", \"size\": 7}, {\"id\": \"\\u0e27\\u0e31\\u0e12\\u0e19\", \"label\": \"\\u0e27\\u0e31\\u0e12\\u0e19\", \"shape\": \"dot\", \"size\": 7}, {\"id\": \"\\u0e40\\u0e28\\u0e23\\u0e29\\u0e10\\u0e01\\u0e34\\u0e08\", \"label\": \"\\u0e40\\u0e28\\u0e23\\u0e29\\u0e10\\u0e01\\u0e34\\u0e08\", \"shape\": \"dot\", \"size\": 7}, {\"id\": \"\\u0e2a\\u0e22\\u0e32\\u0e21\", \"label\": \"\\u0e2a\\u0e22\\u0e32\\u0e21\", \"shape\": \"dot\", \"size\": 7}, {\"id\": \"\\u0e23\\u0e32\\u0e0a\", \"label\": \"\\u0e23\\u0e32\\u0e0a\", \"shape\": \"dot\", \"size\": 14}, {\"id\": \"\\u0e2d\\u0e19\\u0e32\\u0e21\\u0e31\\u0e22\", \"label\": \"\\u0e2d\\u0e19\\u0e32\\u0e21\\u0e31\\u0e22\", \"shape\": \"dot\", \"size\": 7}, {\"id\": \"\\u0e25\\u0e07\\u0e19\\u0e32\\u0e21\", \"label\": \"\\u0e25\\u0e07\\u0e19\\u0e32\\u0e21\", \"shape\": \"dot\", \"size\": 7}, {\"id\": \"\\u0e02\\u0e49\\u0e2d\\u0e15\\u0e01\\u0e25\\u0e07\", \"label\": \"\\u0e02\\u0e49\\u0e2d\\u0e15\\u0e01\\u0e25\\u0e07\", \"shape\": \"dot\", \"size\": 7}, {\"id\": \"\\u0e40\\u0e02\\u0e49\\u0e32\\u0e02\\u0e48\\u0e32\\u0e22\", \"label\": \"\\u0e40\\u0e02\\u0e49\\u0e32\\u0e02\\u0e48\\u0e32\\u0e22\", \"shape\": \"dot\", \"size\": 7}, {\"id\": \"\\u0e28\\u0e39\\u0e19\\u0e22\\u0e4c\\u0e1b\\u0e0f\\u0e34\\u0e1a\\u0e31\\u0e15\\u0e34\\u0e01\\u0e32\\u0e23\", \"label\": \"\\u0e28\\u0e39\\u0e19\\u0e22\\u0e4c\\u0e1b\\u0e0f\\u0e34\\u0e1a\\u0e31\\u0e15\\u0e34\\u0e01\\u0e32\\u0e23\", \"shape\": \"dot\", \"size\": 7}, {\"id\": \"\\u0e01\\u0e23\\u0e30\\u0e17\\u0e23\\u0e27\\u0e07\\u0e1e\\u0e32\\u0e13\\u0e34\\u0e0a\\u0e22\\u0e4c\", \"label\": \"\\u0e01\\u0e23\\u0e30\\u0e17\\u0e23\\u0e27\\u0e07\\u0e1e\\u0e32\\u0e13\\u0e34\\u0e0a\\u0e22\\u0e4c\", \"shape\": \"dot\", \"size\": 7}, {\"id\": \"\\u0e23\\u0e32\\u0e0a\\u0e01\\u0e32\\u0e23\", \"label\": \"\\u0e23\\u0e32\\u0e0a\\u0e01\\u0e32\\u0e23\", \"shape\": \"dot\", \"size\": 7}, {\"id\": \"\\u0e1c\\u0e39\\u0e49\\u0e27\\u0e48\\u0e32\\u0e23\\u0e32\\u0e0a\\u0e01\\u0e32\\u0e23\\u0e08\\u0e31\\u0e07\\u0e2b\\u0e27\\u0e31\\u0e14\", \"label\": \"\\u0e1c\\u0e39\\u0e49\\u0e27\\u0e48\\u0e32\\u0e23\\u0e32\\u0e0a\\u0e01\\u0e32\\u0e23\\u0e08\\u0e31\\u0e07\\u0e2b\\u0e27\\u0e31\\u0e14\", \"shape\": \"dot\", \"size\": 28}, {\"id\": \"\\u0e21\\u0e2b\\u0e32\\u0e27\\u0e34\\u0e17\\u0e22\\u0e32\\u0e25\\u0e31\\u0e22\", \"label\": \"\\u0e21\\u0e2b\\u0e32\\u0e27\\u0e34\\u0e17\\u0e22\\u0e32\\u0e25\\u0e31\\u0e22\", \"shape\": \"dot\", \"size\": 7}, {\"id\": \"\\u0e22\\u0e30\\u0e25\\u0e32\", \"label\": \"\\u0e22\\u0e30\\u0e25\\u0e32\", \"shape\": \"dot\", \"size\": 7}, {\"id\": \"\\u0e1e\\u0e25\", \"label\": \"\\u0e1e\\u0e25\", \"shape\": \"dot\", \"size\": 7}, {\"id\": \"\\u0e0a\\u0e31\\u0e19\\u0e29\\u0e32\", \"label\": \"\\u0e0a\\u0e31\\u0e19\\u0e29\\u0e32\", \"shape\": \"dot\", \"size\": 7}, {\"id\": \"\\u0e41\\u0e21\\u0e25\\u0e07\", \"label\": \"\\u0e41\\u0e21\\u0e25\\u0e07\", \"shape\": \"dot\", \"size\": 7}, {\"id\": \"\\u0e40\\u0e25\\u0e37\\u0e2d\\u0e14\", \"label\": \"\\u0e40\\u0e25\\u0e37\\u0e2d\\u0e14\", \"shape\": \"dot\", \"size\": 7}, {\"id\": \"\\u0e02\\u0e49\\u0e2d\\u0e21\\u0e39\\u0e25\", \"label\": \"\\u0e02\\u0e49\\u0e2d\\u0e21\\u0e39\\u0e25\", \"shape\": \"dot\", \"size\": 7}, {\"id\": \"\\u0e41\\u0e1b\\u0e25\\u0e07\", \"label\": \"\\u0e41\\u0e1b\\u0e25\\u0e07\", \"shape\": \"dot\", \"size\": 7}, {\"id\": \"\\u0e02\\u0e49\\u0e32\\u0e27\", \"label\": \"\\u0e02\\u0e49\\u0e32\\u0e27\", \"shape\": \"dot\", \"size\": 7}, {\"id\": \"\\u0e2d\\u0e33\\u0e40\\u0e20\\u0e2d\", \"label\": \"\\u0e2d\\u0e33\\u0e40\\u0e20\\u0e2d\", \"shape\": \"dot\", \"size\": 21}, {\"id\": \"\\u0e19\\u0e34\\u0e04\\u0e21\", \"label\": \"\\u0e19\\u0e34\\u0e04\\u0e21\", \"shape\": \"dot\", \"size\": 7}, {\"id\": \"\\u0e2a\\u0e31\\u0e15\\u0e27\\u0e4c\", \"label\": \"\\u0e2a\\u0e31\\u0e15\\u0e27\\u0e4c\", \"shape\": \"dot\", \"size\": 7}, {\"id\": \"\\u0e1a\\u0e32\\u0e17\", \"label\": \"\\u0e1a\\u0e32\\u0e17\", \"shape\": \"dot\", \"size\": 7}, {\"id\": \"\\u0e23\\u0e32\\u0e22\\u0e44\\u0e14\\u0e49\", \"label\": \"\\u0e23\\u0e32\\u0e22\\u0e44\\u0e14\\u0e49\", \"shape\": \"dot\", \"size\": 14}, {\"id\": \"\\u0e07\\u0e32\\u0e19\", \"label\": \"\\u0e07\\u0e32\\u0e19\", \"shape\": \"dot\", \"size\": 21}, {\"id\": \"\\u0e19\\u0e34\\u0e17\\u0e23\\u0e23\\u0e28\\u0e01\\u0e32\\u0e23\", \"label\": \"\\u0e19\\u0e34\\u0e17\\u0e23\\u0e23\\u0e28\\u0e01\\u0e32\\u0e23\", \"shape\": \"dot\", \"size\": 7}, {\"id\": \"\\u0e21\\u0e32\\u0e15\\u0e23\\u0e01\\u0e32\\u0e23\", \"label\": \"\\u0e21\\u0e32\\u0e15\\u0e23\\u0e01\\u0e32\\u0e23\", \"shape\": \"dot\", \"size\": 7}, {\"id\": \"\\u0e40\\u0e21\\u0e37\\u0e2d\\u0e07\", \"label\": \"\\u0e40\\u0e21\\u0e37\\u0e2d\\u0e07\", \"shape\": \"dot\", \"size\": 7}, {\"id\": \"\\u0e01\\u0e32\\u0e23\\u0e0a\\u0e25\\u0e1b\\u0e23\\u0e30\\u0e17\\u0e32\\u0e19\", \"label\": \"\\u0e01\\u0e32\\u0e23\\u0e0a\\u0e25\\u0e1b\\u0e23\\u0e30\\u0e17\\u0e32\\u0e19\", \"shape\": \"dot\", \"size\": 7}, {\"id\": \"\\u0e21\\u0e35\\u0e2a\\u0e48\\u0e27\\u0e19\", \"label\": \"\\u0e21\\u0e35\\u0e2a\\u0e48\\u0e27\\u0e19\", \"shape\": \"dot\", \"size\": 7}, {\"id\": \"\\u0e25\\u0e07\\u0e21\\u0e32\", \"label\": \"\\u0e25\\u0e07\\u0e21\\u0e32\", \"shape\": \"dot\", \"size\": 7}, {\"id\": \"\\u0e23\\u0e30\\u0e22\\u0e30\\u0e2b\\u0e48\\u0e32\\u0e07\", \"label\": \"\\u0e23\\u0e30\\u0e22\\u0e30\\u0e2b\\u0e48\\u0e32\\u0e07\", \"shape\": \"dot\", \"size\": 7}, {\"id\": \"\\u0e2a\\u0e32\\u0e18\\u0e32\\u0e23\\u0e13\\u0e20\\u0e31\\u0e22\", \"label\": \"\\u0e2a\\u0e32\\u0e18\\u0e32\\u0e23\\u0e13\\u0e20\\u0e31\\u0e22\", \"shape\": \"dot\", \"size\": 7}, {\"id\": \"\\u0e2d\\u0e33\\u0e19\\u0e32\\u0e08\", \"label\": \"\\u0e2d\\u0e33\\u0e19\\u0e32\\u0e08\", \"shape\": \"dot\", \"size\": 7}, {\"id\": \"\\u0e2d\\u0e38\\u0e17\\u0e01\\u0e20\\u0e31\\u0e22\", \"label\": \"\\u0e2d\\u0e38\\u0e17\\u0e01\\u0e20\\u0e31\\u0e22\", \"shape\": \"dot\", \"size\": 7}, {\"id\": \"\\u0e19\\u0e49\\u0e33\\u0e2b\\u0e25\\u0e32\\u0e01\", \"label\": \"\\u0e19\\u0e49\\u0e33\\u0e2b\\u0e25\\u0e32\\u0e01\", \"shape\": \"dot\", \"size\": 7}, {\"id\": \"\\u0e20\\u0e32\\u0e1e\", \"label\": \"\\u0e20\\u0e32\\u0e1e\", \"shape\": \"dot\", \"size\": 7}, {\"id\": \"\\u0e1d\\u0e32\\u0e22\", \"label\": \"\\u0e1d\\u0e32\\u0e22\", \"shape\": \"dot\", \"size\": 7}, {\"id\": \"\\u0e40\\u0e0a\\u0e37\\u0e49\\u0e2d\\u0e44\\u0e27\\u0e23\\u0e31\\u0e2a\", \"label\": \"\\u0e40\\u0e0a\\u0e37\\u0e49\\u0e2d\\u0e44\\u0e27\\u0e23\\u0e31\\u0e2a\", \"shape\": \"dot\", \"size\": 7}, {\"id\": \"\\u0e1b\\u0e23\\u0e30\\u0e40\\u0e1e\\u0e13\\u0e35\", \"label\": \"\\u0e1b\\u0e23\\u0e30\\u0e40\\u0e1e\\u0e13\\u0e35\", \"shape\": \"dot\", \"size\": 7}, {\"id\": \"\\u0e04\\u0e33\", \"label\": \"\\u0e04\\u0e33\", \"shape\": \"dot\", \"size\": 7}, {\"id\": \"\\u0e41\\u0e01\\u0e49\\u0e27\", \"label\": \"\\u0e41\\u0e01\\u0e49\\u0e27\", \"shape\": \"dot\", \"size\": 7}, {\"id\": \"\\u0e23\\u0e32\", \"label\": \"\\u0e23\\u0e32\", \"shape\": \"dot\", \"size\": 7}, {\"id\": \"\\u0e01\\u0e23\", \"label\": \"\\u0e01\\u0e23\", \"shape\": \"dot\", \"size\": 7}, {\"id\": \"\\u0e1b\\u0e23\\u0e30\\u0e21\\u0e07\", \"label\": \"\\u0e1b\\u0e23\\u0e30\\u0e21\\u0e07\", \"shape\": \"dot\", \"size\": 7}, {\"id\": \"\\u0e04\\u0e23\\u0e31\\u0e49\\u0e07\\u0e19\\u0e35\\u0e49\", \"label\": \"\\u0e04\\u0e23\\u0e31\\u0e49\\u0e07\\u0e19\\u0e35\\u0e49\", \"shape\": \"dot\", \"size\": 7}, {\"id\": \"\\u0e40\\u0e2b\\u0e25\\u0e35\\u0e22\\u0e19\", \"label\": \"\\u0e40\\u0e2b\\u0e25\\u0e35\\u0e22\\u0e19\", \"shape\": \"dot\", \"size\": 7}, {\"id\": \"\\u0e27\\u0e34\\u0e16\\u0e35\", \"label\": \"\\u0e27\\u0e34\\u0e16\\u0e35\", \"shape\": \"dot\", \"size\": 7}, {\"id\": \"\\u0e1e\\u0e25\\u0e40\\u0e23\\u0e37\\u0e2d\\u0e15\\u0e23\\u0e35\", \"label\": \"\\u0e1e\\u0e25\\u0e40\\u0e23\\u0e37\\u0e2d\\u0e15\\u0e23\\u0e35\", \"shape\": \"dot\", \"size\": 7}, {\"id\": \"\\u0e40\\u0e01\\u0e35\\u0e22\\u0e23\\u0e15\\u0e34\", \"label\": \"\\u0e40\\u0e01\\u0e35\\u0e22\\u0e23\\u0e15\\u0e34\", \"shape\": \"dot\", \"size\": 7}, {\"id\": \"\\u0e40\\u0e25\\u0e02\\u0e32\\u0e18\\u0e34\\u0e01\\u0e32\\u0e23\", \"label\": \"\\u0e40\\u0e25\\u0e02\\u0e32\\u0e18\\u0e34\\u0e01\\u0e32\\u0e23\", \"shape\": \"dot\", \"size\": 7}, {\"id\": \"\\u0e1f\\u0e49\\u0e32\", \"label\": \"\\u0e1f\\u0e49\\u0e32\", \"shape\": \"dot\", \"size\": 7}, {\"id\": \"\\u0e42\\u0e08\\u0e23\", \"label\": \"\\u0e42\\u0e08\\u0e23\", \"shape\": \"dot\", \"size\": 7}, {\"id\": \"\\u0e21\\u0e38\\u0e01\\u0e14\\u0e32\\u0e2b\\u0e32\\u0e23\", \"label\": \"\\u0e21\\u0e38\\u0e01\\u0e14\\u0e32\\u0e2b\\u0e32\\u0e23\", \"shape\": \"dot\", \"size\": 7}, {\"id\": \"\\u0e2a\\u0e21\\u0e15\\u0e31\\u0e27\", \"label\": \"\\u0e2a\\u0e21\\u0e15\\u0e31\\u0e27\", \"shape\": \"dot\", \"size\": 7}, {\"id\": \"\\u0e22\\u0e32\", \"label\": \"\\u0e22\\u0e32\", \"shape\": \"dot\", \"size\": 7}, {\"id\": \"\\u0e27\\u0e34\", \"label\": \"\\u0e27\\u0e34\", \"shape\": \"dot\", \"size\": 7}, {\"id\": \"\\u0e01\\u0e38\\u0e25\", \"label\": \"\\u0e01\\u0e38\\u0e25\", \"shape\": \"dot\", \"size\": 7}, {\"id\": \"\\u0e17\\u0e2d\\u0e14\\u0e1c\\u0e49\\u0e32\\u0e1b\\u0e48\\u0e32\", \"label\": \"\\u0e17\\u0e2d\\u0e14\\u0e1c\\u0e49\\u0e32\\u0e1b\\u0e48\\u0e32\", \"shape\": \"dot\", \"size\": 7}, {\"id\": \"\\u0e40\\u0e17\\u0e04\\u0e42\\u0e19\\u0e42\\u0e25\\u0e22\\u0e35\", \"label\": \"\\u0e40\\u0e17\\u0e04\\u0e42\\u0e19\\u0e42\\u0e25\\u0e22\\u0e35\", \"shape\": \"dot\", \"size\": 7}, {\"id\": \"\\u0e23\\u0e49\\u0e2d\\u0e22\\u0e40\\u0e2d\\u0e47\\u0e14\", \"label\": \"\\u0e23\\u0e49\\u0e2d\\u0e22\\u0e40\\u0e2d\\u0e47\\u0e14\", \"shape\": \"dot\", \"size\": 7}, {\"id\": \"\\u0e25\\u0e14\\u0e23\\u0e32\\u0e04\\u0e32\", \"label\": \"\\u0e25\\u0e14\\u0e23\\u0e32\\u0e04\\u0e32\", \"shape\": \"dot\", \"size\": 7}, {\"id\": \"\\u0e2a\\u0e38\\u0e27\\u0e23\\u0e23\\u0e13\", \"label\": \"\\u0e2a\\u0e38\\u0e27\\u0e23\\u0e23\\u0e13\", \"shape\": \"dot\", \"size\": 7}, {\"id\": \"\\u0e2a\\u0e21\\u0e40\\u0e14\\u0e47\\u0e08\\u0e1e\\u0e23\\u0e30\\u0e01\\u0e19\\u0e34\\u0e29\\u0e10\\u0e32\\u0e18\\u0e34\\u0e23\\u0e32\\u0e0a\\u0e40\\u0e08\\u0e49\\u0e32 \\u0e01\\u0e23\\u0e21\\u0e2a\\u0e21\\u0e40\\u0e14\\u0e47\\u0e08\\u0e1e\\u0e23\\u0e30\\u0e40\\u0e17\\u0e1e\\u0e23\\u0e31\\u0e15\\u0e19\\u0e23\\u0e32\\u0e0a\\u0e2a\\u0e38\\u0e14\\u0e32\\u0e2f \\u0e2a\\u0e22\\u0e32\\u0e21\\u0e1a\\u0e23\\u0e21\\u0e23\\u0e32\\u0e0a\\u0e01\\u0e38\\u0e21\\u0e32\\u0e23\\u0e35\", \"label\": \"\\u0e2a\\u0e21\\u0e40\\u0e14\\u0e47\\u0e08\\u0e1e\\u0e23\\u0e30\\u0e01\\u0e19\\u0e34\\u0e29\\u0e10\\u0e32\\u0e18\\u0e34\\u0e23\\u0e32\\u0e0a\\u0e40\\u0e08\\u0e49\\u0e32 \\u0e01\\u0e23\\u0e21\\u0e2a\\u0e21\\u0e40\\u0e14\\u0e47\\u0e08\\u0e1e\\u0e23\\u0e30\\u0e40\\u0e17\\u0e1e\\u0e23\\u0e31\\u0e15\\u0e19\\u0e23\\u0e32\\u0e0a\\u0e2a\\u0e38\\u0e14\\u0e32\\u0e2f \\u0e2a\\u0e22\\u0e32\\u0e21\\u0e1a\\u0e23\\u0e21\\u0e23\\u0e32\\u0e0a\\u0e01\\u0e38\\u0e21\\u0e32\\u0e23\\u0e35\", \"shape\": \"dot\", \"size\": 7}, {\"id\": \"\\u0e42\\u0e2d\\u0e01\\u0e32\\u0e2a\", \"label\": \"\\u0e42\\u0e2d\\u0e01\\u0e32\\u0e2a\", \"shape\": \"dot\", \"size\": 7}, {\"id\": \"\\u0e01\\u0e33\\u0e25\\u0e31\\u0e07\\u0e0b\\u0e37\\u0e49\\u0e2d\", \"label\": \"\\u0e01\\u0e33\\u0e25\\u0e31\\u0e07\\u0e0b\\u0e37\\u0e49\\u0e2d\", \"shape\": \"dot\", \"size\": 7}, {\"id\": \"\\u0e2a\\u0e31\\u0e07\\u0e04\\u0e21\", \"label\": \"\\u0e2a\\u0e31\\u0e07\\u0e04\\u0e21\", \"shape\": \"dot\", \"size\": 7}, {\"id\": \"\\u0e42\\u0e23\\u0e04\\u0e23\\u0e30\\u0e1a\\u0e32\\u0e14\", \"label\": \"\\u0e42\\u0e23\\u0e04\\u0e23\\u0e30\\u0e1a\\u0e32\\u0e14\", \"shape\": \"dot\", \"size\": 7}, {\"id\": \"\\u0e40\\u0e17\\u0e35\\u0e22\\u0e19\\u0e1e\\u0e23\\u0e23\\u0e29\\u0e32\", \"label\": \"\\u0e40\\u0e17\\u0e35\\u0e22\\u0e19\\u0e1e\\u0e23\\u0e23\\u0e29\\u0e32\", \"shape\": \"dot\", \"size\": 7}, {\"id\": \"\\u0e15\\u0e33\\u0e23\\u0e27\\u0e08\", \"label\": \"\\u0e15\\u0e33\\u0e23\\u0e27\\u0e08\", \"shape\": \"dot\", \"size\": 7}, {\"id\": \"\\u0e0a\\u0e32\\u0e22\\u0e41\\u0e14\\u0e19\", \"label\": \"\\u0e0a\\u0e32\\u0e22\\u0e41\\u0e14\\u0e19\", \"shape\": \"dot\", \"size\": 7}, {\"id\": \"\\u0e44\\u0e25\\u0e19\\u0e4c\", \"label\": \"\\u0e44\\u0e25\\u0e19\\u0e4c\", \"shape\": \"dot\", \"size\": 7}, {\"id\": \"\\u0e41\\u0e08\\u0e49\\u0e07\\u0e40\\u0e2b\\u0e15\\u0e38\", \"label\": \"\\u0e41\\u0e08\\u0e49\\u0e07\\u0e40\\u0e2b\\u0e15\\u0e38\", \"shape\": \"dot\", \"size\": 7}, {\"id\": \"\\u0e23\\u0e32\\u0e22\\u0e08\\u0e48\\u0e32\\u0e22\", \"label\": \"\\u0e23\\u0e32\\u0e22\\u0e08\\u0e48\\u0e32\\u0e22\", \"shape\": \"dot\", \"size\": 7}, {\"id\": \"\\u0e1b\\u0e35\\u0e07\\u0e1a\\u0e1b\\u0e23\\u0e30\\u0e21\\u0e32\\u0e13\", \"label\": \"\\u0e1b\\u0e35\\u0e07\\u0e1a\\u0e1b\\u0e23\\u0e30\\u0e21\\u0e32\\u0e13\", \"shape\": \"dot\", \"size\": 7}, {\"id\": \"\\u0e2d\\u0e32\\u0e01\\u0e32\\u0e23\", \"label\": \"\\u0e2d\\u0e32\\u0e01\\u0e32\\u0e23\", \"shape\": \"dot\", \"size\": 7}, {\"id\": \"\\u0e42\\u0e04\", \"label\": \"\\u0e42\\u0e04\", \"shape\": \"dot\", \"size\": 7}, {\"id\": \"\\u0e27\\u0e32\\u0e15\\u0e20\\u0e31\\u0e22\", \"label\": \"\\u0e27\\u0e32\\u0e15\\u0e20\\u0e31\\u0e22\", \"shape\": \"dot\", \"size\": 7}, {\"id\": \"\\u0e40\\u0e27\\u0e47\\u0e1a\\u0e44\\u0e0b\\u0e15\\u0e4c\", \"label\": \"\\u0e40\\u0e27\\u0e47\\u0e1a\\u0e44\\u0e0b\\u0e15\\u0e4c\", \"shape\": \"dot\", \"size\": 7}, {\"id\": \"\\u0e2d\\u0e32\\u0e0a\\u0e35\\u0e1e\", \"label\": \"\\u0e2d\\u0e32\\u0e0a\\u0e35\\u0e1e\", \"shape\": \"dot\", \"size\": 7}]);\n",
              "        edges = new vis.DataSet([{\"color\": \"orange\", \"from\": \"\\u0e1c\\u0e39\\u0e49\", \"label\": \"\\u0e15\\u0e34\\u0e14\\u0e40\\u0e0a\\u0e37\\u0e49\\u0e2d\", \"to\": \"\\u0e42\\u0e04\\u0e27\\u0e34\\u0e14\", \"value\": 600}, {\"color\": \"orange\", \"from\": \"\\u0e1c\\u0e39\\u0e49\", \"label\": \"\\u0e40\\u0e1b\\u0e47\\u0e19\", \"to\": \"\\u0e23\\u0e32\\u0e22\", \"value\": 99}, {\"color\": \"orange\", \"from\": \"\\u0e1c\\u0e39\\u0e49\", \"label\": \"\\u0e1e\\u0e1a\", \"to\": \"\\u0e23\\u0e32\\u0e22\\u0e07\\u0e32\\u0e19\", \"value\": 136}, {\"color\": \"orange\", \"from\": \"\\u0e1c\\u0e39\\u0e49\", \"label\": \"\\u0e1a\\u0e31\\u0e07\\u0e04\\u0e31\\u0e1a\", \"to\": \"\\u0e2b\\u0e19\\u0e48\\u0e27\\u0e22\\u0e40\\u0e09\\u0e1e\\u0e32\\u0e30\\u0e01\\u0e34\\u0e08\", \"value\": 118}, {\"color\": \"orange\", \"from\": \"\\u0e1c\\u0e39\\u0e49\", \"label\": \"\\u0e21\\u0e35\", \"to\": \"\\u0e08\\u0e34\\u0e15\", \"value\": 116}, {\"color\": \"orange\", \"from\": \"\\u0e1c\\u0e39\\u0e49\", \"label\": \"\\u0e44\\u0e14\\u0e49\\u0e23\\u0e31\\u0e1a\", \"to\": \"\\u0e1c\\u0e25\\u0e01\\u0e23\\u0e30\\u0e17\\u0e1a\", \"value\": 111}, {\"color\": \"orange\", \"from\": \"\\u0e1c\\u0e39\\u0e49\", \"label\": \"\\u0e15\\u0e34\\u0e14\\u0e40\\u0e0a\\u0e37\\u0e49\\u0e2d\", \"to\": \"\\u0e23\\u0e32\\u0e22\\u0e27\\u0e31\\u0e19\", \"value\": 85}, {\"color\": \"orange\", \"from\": \"\\u0e1c\\u0e39\\u0e49\", \"label\": \"\\u0e21\\u0e35\", \"to\": \"\\u0e27\\u0e31\\u0e19\\u0e19\\u0e35\\u0e49\", \"value\": 73}, {\"color\": \"orange\", \"from\": \"\\u0e1c\\u0e39\\u0e49\", \"label\": \"\\u0e44\\u0e14\\u0e49\\u0e23\\u0e31\\u0e1a\", \"to\": \"\\u0e27\\u0e31\\u0e04\\u0e0b\\u0e35\\u0e19\", \"value\": 73}, {\"color\": \"orange\", \"from\": \"\\u0e1c\\u0e39\\u0e49\", \"label\": \"\\u0e15\\u0e34\\u0e14\", \"to\": \"\\u0e40\\u0e0a\\u0e37\\u0e49\\u0e2d\\u0e42\\u0e23\\u0e04\", \"value\": 66}, {\"color\": \"orange\", \"from\": \"\\u0e1c\\u0e39\\u0e49\", \"label\": \"\\u0e15\\u0e34\\u0e14\\u0e40\\u0e0a\\u0e37\\u0e49\\u0e2d\", \"to\": \"\\u0e40\\u0e02\\u0e49\\u0e32\\u0e02\\u0e48\\u0e32\\u0e22\", \"value\": 56}, {\"color\": \"orange\", \"from\": \"\\u0e1c\\u0e39\\u0e49\", \"label\": \"\\u0e1b\\u0e25\\u0e39\\u0e01\", \"to\": \"\\u0e02\\u0e49\\u0e32\\u0e27\", \"value\": 53}, {\"color\": \"orange\", \"from\": \"\\u0e1c\\u0e39\\u0e49\", \"label\": \"\\u0e44\\u0e14\\u0e49\\u0e23\\u0e31\\u0e1a\", \"to\": \"\\u0e01\\u0e32\\u0e23\", \"value\": 50}, {\"color\": \"orange\", \"from\": \"\\u0e1c\\u0e39\\u0e49\", \"label\": \"\\u0e15\\u0e34\\u0e14\", \"to\": \"\\u0e40\\u0e0a\\u0e37\\u0e49\\u0e2d\\u0e44\\u0e27\\u0e23\\u0e31\\u0e2a\", \"value\": 46}, {\"color\": \"gray\", \"from\": \"\\u0e1c\\u0e39\\u0e49\", \"label\": \"\\u0e2a\\u0e31\\u0e21\\u0e1c\\u0e31\\u0e2a\", \"to\": \"\\u0e1c\\u0e39\\u0e49\\u0e1b\\u0e48\\u0e27\\u0e22\", \"value\": 40}, {\"color\": \"gray\", \"from\": \"\\u0e1c\\u0e39\\u0e49\", \"label\": \"\\u0e40\\u0e25\\u0e35\\u0e49\\u0e22\\u0e07\", \"to\": \"\\u0e42\\u0e04\", \"value\": 40}, {\"color\": \"gray\", \"from\": \"\\u0e1c\\u0e39\\u0e49\", \"label\": \"\\u0e1b\\u0e23\\u0e30\\u0e2a\\u0e1a\", \"to\": \"\\u0e27\\u0e32\\u0e15\\u0e20\\u0e31\\u0e22\", \"value\": 39}, {\"color\": \"orange\", \"from\": \"\\u0e42\\u0e04\\u0e27\\u0e34\\u0e14\", \"label\": \"\\u0e41\\u0e1e\\u0e23\\u0e48\\u0e23\\u0e30\\u0e1a\\u0e32\\u0e14\", \"to\": \"\\u0e01\\u0e32\\u0e23\", \"value\": 103}, {\"color\": \"orange\", \"from\": \"\\u0e42\\u0e04\\u0e27\\u0e34\\u0e14\", \"label\": \"\\u0e1b\\u0e49\\u0e2d\\u0e07\\u0e01\\u0e31\\u0e19\", \"to\": \"\\u0e27\\u0e31\\u0e04\\u0e0b\\u0e35\\u0e19\", \"value\": 65}, {\"color\": \"orange\", \"from\": \"\\u0e23\\u0e32\\u0e22\", \"label\": \"\\u0e2a\\u0e30\\u0e2a\\u0e21\", \"to\": \"\\u0e40\\u0e2a\\u0e35\\u0e22\\u0e0a\\u0e35\\u0e27\\u0e34\\u0e15\", \"value\": 65}, {\"color\": \"gray\", \"from\": \"\\u0e23\\u0e32\\u0e22\", \"label\": \"\\u0e2a\\u0e30\\u0e2a\\u0e21\", \"to\": \"\\u0e1c\\u0e39\\u0e49\\u0e40\\u0e2a\\u0e35\\u0e22\\u0e0a\\u0e35\\u0e27\\u0e34\\u0e15\", \"value\": 40}, {\"color\": \"orange\", \"from\": \"\\u0e23\\u0e32\\u0e22\", \"label\": \"\\u0e2a\\u0e30\\u0e2a\\u0e21\", \"to\": \"\\u0e23\\u0e32\\u0e22\", \"value\": 61}, {\"color\": \"orange\", \"from\": \"\\u0e23\\u0e32\\u0e22\", \"label\": \"\\u0e22\\u0e37\\u0e19\\u0e22\\u0e31\\u0e19\", \"to\": \"\\u0e1c\\u0e39\\u0e49\\u0e1b\\u0e48\\u0e27\\u0e22\", \"value\": 53}, {\"color\": \"orange\", \"from\": \"\\u0e23\\u0e32\\u0e22\", \"label\": \"\\u0e15\\u0e23\\u0e27\\u0e08\", \"to\": \"\\u0e01\\u0e32\\u0e23\", \"value\": 53}, {\"color\": \"orange\", \"from\": \"\\u0e23\\u0e32\\u0e22\", \"label\": \"\\u0e23\\u0e2d\\u0e07\", \"to\": \"\\u0e25\\u0e07\\u0e21\\u0e32\", \"value\": 49}, {\"color\": \"gray\", \"from\": \"\\u0e23\\u0e32\\u0e22\", \"label\": \"\\u0e21\\u0e35\", \"to\": \"\\u0e2d\\u0e32\\u0e01\\u0e32\\u0e23\", \"value\": 40}, {\"color\": \"orange\", \"from\": \"\\u0e2a\\u0e33\\u0e19\\u0e31\\u0e01\\u0e07\\u0e32\\u0e19\", \"label\": \"\\u0e02\\u0e19\\u0e2a\\u0e48\\u0e07\", \"to\": \"\\u0e08\\u0e31\\u0e07\\u0e2b\\u0e27\\u0e31\\u0e14\", \"value\": 47}, {\"color\": \"orange\", \"from\": \"\\u0e2a\\u0e33\\u0e19\\u0e31\\u0e01\\u0e07\\u0e32\\u0e19\", \"label\": \"\\u0e1e\\u0e31\\u0e12\\u0e19\\u0e32\", \"to\": \"\\u0e0a\\u0e38\\u0e21\\u0e0a\\u0e19\", \"value\": 125}, {\"color\": \"orange\", \"from\": \"\\u0e2a\\u0e33\\u0e19\\u0e31\\u0e01\\u0e07\\u0e32\\u0e19\", \"label\": \"\\u0e01\\u0e32\\u0e23\\u0e27\\u0e34\\u0e08\\u0e31\\u0e22\", \"to\": \"\\u0e41\\u0e2b\\u0e48\\u0e07\\u0e0a\\u0e32\\u0e15\\u0e34\", \"value\": 94}, {\"color\": \"gray\", \"from\": \"\\u0e2a\\u0e33\\u0e19\\u0e31\\u0e01\\u0e07\\u0e32\\u0e19\", \"label\": \"\\u0e1e\\u0e31\\u0e12\\u0e19\\u0e32\", \"to\": \"\\u0e2a\\u0e31\\u0e07\\u0e04\\u0e21\", \"value\": 41}, {\"color\": \"orange\", \"from\": \"\\u0e08\\u0e31\\u0e07\\u0e2b\\u0e27\\u0e31\\u0e14\", \"label\": \"\\u0e15\\u0e33\\u0e23\\u0e27\\u0e08\\u0e20\\u0e39\\u0e18\\u0e23\", \"to\": \"\\u0e1c\\u0e39\\u0e49\\u0e1a\\u0e31\\u0e07\\u0e04\\u0e31\\u0e1a\\u0e01\\u0e32\\u0e23\", \"value\": 125}, {\"color\": \"orange\", \"from\": \"\\u0e08\\u0e31\\u0e07\\u0e2b\\u0e27\\u0e31\\u0e14\", \"label\": \"\\u0e1a\\u0e23\\u0e34\\u0e2b\\u0e32\\u0e23\", \"to\": \"\\u0e28\\u0e39\\u0e19\\u0e22\\u0e4c\\u0e2d\\u0e33\\u0e19\\u0e27\\u0e22\\u0e01\\u0e32\\u0e23\", \"value\": 69}, {\"color\": \"orange\", \"from\": \"\\u0e01\\u0e32\\u0e23\", \"label\": \"\\u0e08\\u0e31\\u0e14\", \"to\": \"\\u0e01\\u0e32\\u0e23\\u0e41\\u0e02\\u0e48\\u0e07\\u0e02\\u0e31\\u0e19\", \"value\": 340}, {\"color\": \"gray\", \"from\": \"\\u0e01\\u0e32\\u0e23\", \"label\": \"\\u0e40\\u0e01\\u0e34\\u0e14\", \"to\": \"\\u0e42\\u0e23\\u0e04\", \"value\": 41}, {\"color\": \"gray\", \"from\": \"\\u0e01\\u0e32\\u0e23\", \"label\": \"\\u0e43\\u0e0a\\u0e49\", \"to\": \"\\u0e19\\u0e49\\u0e33\", \"value\": 40}, {\"color\": \"orange\", \"from\": \"\\u0e01\\u0e32\\u0e23\", \"label\": \"\\u0e41\\u0e1e\\u0e23\\u0e48\\u0e01\\u0e23\\u0e30\\u0e08\\u0e32\\u0e22\", \"to\": \"\\u0e40\\u0e0a\\u0e37\\u0e49\\u0e2d\", \"value\": 51}, {\"color\": \"orange\", \"from\": \"\\u0e01\\u0e32\\u0e23\", \"label\": \"\\u0e40\\u0e15\\u0e23\\u0e35\\u0e22\\u0e21\", \"to\": \"\\u0e04\\u0e27\\u0e32\\u0e21\\u0e1e\\u0e23\\u0e49\\u0e2d\\u0e21\", \"value\": 180}, {\"color\": \"orange\", \"from\": \"\\u0e01\\u0e32\\u0e23\", \"label\": \"\\u0e25\\u0e07\", \"to\": \"\\u0e1e\\u0e37\\u0e49\\u0e19\\u0e17\\u0e35\\u0e48\", \"value\": 159}, {\"color\": \"orange\", \"from\": \"\\u0e01\\u0e32\\u0e23\", \"label\": \"\\u0e43\\u0e2b\\u0e49\", \"to\": \"\\u0e04\\u0e27\\u0e32\\u0e21\\u0e0a\\u0e48\\u0e27\\u0e22\\u0e40\\u0e2b\\u0e25\\u0e37\\u0e2d\", \"value\": 149}, {\"color\": \"orange\", \"from\": \"\\u0e01\\u0e32\\u0e23\", \"label\": \"\\u0e0a\\u0e33\\u0e19\\u0e32\\u0e0d\", \"to\": \"\\u0e19\\u0e32\\u0e22\\u0e41\\u0e1e\\u0e17\\u0e22\\u0e4c\", \"value\": 138}, {\"color\": \"orange\", \"from\": \"\\u0e01\\u0e32\\u0e23\", \"label\": \"\\u0e08\\u0e33\\u0e2b\\u0e19\\u0e48\\u0e32\\u0e22\", \"to\": \"\\u0e2a\\u0e34\\u0e19\\u0e04\\u0e49\\u0e32\", \"value\": 133}, {\"color\": \"gray\", \"from\": \"\\u0e01\\u0e32\\u0e23\", \"label\": \"\\u0e08\\u0e31\\u0e14\", \"to\": \"\\u0e42\\u0e04\\u0e23\\u0e07\\u0e01\\u0e32\\u0e23\", \"value\": 43}, {\"color\": \"orange\", \"from\": \"\\u0e01\\u0e32\\u0e23\", \"label\": \"\\u0e23\\u0e30\\u0e1a\\u0e32\\u0e14\", \"to\": \"\\u0e23\\u0e30\\u0e25\\u0e2d\\u0e01\", \"value\": 110}, {\"color\": \"orange\", \"from\": \"\\u0e01\\u0e32\\u0e23\", \"label\": \"\\u0e40\\u0e1b\\u0e34\\u0e14\", \"to\": \"\\u0e1b\\u0e23\\u0e30\\u0e40\\u0e17\\u0e28\", \"value\": 91}, {\"color\": \"orange\", \"from\": \"\\u0e01\\u0e32\\u0e23\", \"label\": \"\\u0e40\\u0e01\\u0e34\\u0e14\", \"to\": \"\\u0e2d\\u0e38\\u0e1a\\u0e31\\u0e15\\u0e34\\u0e40\\u0e2b\\u0e15\\u0e38\", \"value\": 84}, {\"color\": \"orange\", \"from\": \"\\u0e01\\u0e32\\u0e23\", \"label\": \"\\u0e15\\u0e23\\u0e27\\u0e08\", \"to\": \"\\u0e04\\u0e31\\u0e14\", \"value\": 75}, {\"color\": \"orange\", \"from\": \"\\u0e01\\u0e32\\u0e23\", \"label\": \"\\u0e09\\u0e35\\u0e14\\u0e27\\u0e31\\u0e04\\u0e0b\\u0e35\\u0e19\", \"to\": \"\\u0e40\\u0e02\\u0e47\\u0e21\", \"value\": 75}, {\"color\": \"orange\", \"from\": \"\\u0e01\\u0e32\\u0e23\", \"label\": \"\\u0e1e\\u0e34\\u0e40\\u0e28\\u0e29\", \"to\": \"\\u0e42\\u0e23\\u0e07\\u0e1e\\u0e22\\u0e32\\u0e1a\\u0e32\\u0e25\", \"value\": 75}, {\"color\": \"orange\", \"from\": \"\\u0e01\\u0e32\\u0e23\", \"label\": \"\\u0e2a\\u0e19\\u0e31\\u0e1a\\u0e2a\\u0e19\\u0e38\\u0e19\", \"to\": \"\\u0e07\\u0e1a\\u0e1b\\u0e23\\u0e30\\u0e21\\u0e32\\u0e13\", \"value\": 66}, {\"color\": \"orange\", \"from\": \"\\u0e01\\u0e32\\u0e23\", \"label\": \"\\u0e14\\u0e39\\u0e41\\u0e25\", \"to\": \"\\u0e2a\\u0e38\\u0e02\\u0e20\\u0e32\\u0e1e\", \"value\": 65}, {\"color\": \"gray\", \"from\": \"\\u0e01\\u0e32\\u0e23\", \"label\": \"\\u0e1b\\u0e23\\u0e30\\u0e01\\u0e2d\\u0e1a\", \"to\": \"\\u0e1e\\u0e34\\u0e18\\u0e35\", \"value\": 44}, {\"color\": \"gray\", \"from\": \"\\u0e01\\u0e32\\u0e23\", \"label\": \"\\u0e23\\u0e31\\u0e1a\", \"to\": \"\\u0e27\\u0e31\\u0e04\\u0e0b\\u0e35\\u0e19\", \"value\": 39}, {\"color\": \"orange\", \"from\": \"\\u0e01\\u0e32\\u0e23\", \"label\": \"\\u0e15\\u0e31\\u0e49\\u0e07\", \"to\": \"\\u0e08\\u0e38\\u0e14\", \"value\": 61}, {\"color\": \"orange\", \"from\": \"\\u0e01\\u0e32\\u0e23\", \"label\": \"\\u0e14\\u0e33\\u0e40\\u0e19\\u0e34\\u0e19\", \"to\": \"\\u0e01\\u0e34\\u0e08\\u0e01\\u0e23\\u0e23\\u0e21\", \"value\": 59}, {\"color\": \"orange\", \"from\": \"\\u0e01\\u0e32\\u0e23\", \"label\": \"\\u0e02\\u0e31\\u0e1a\\u0e40\\u0e04\\u0e25\\u0e37\\u0e48\\u0e2d\\u0e19\", \"to\": \"\\u0e40\\u0e28\\u0e23\\u0e29\\u0e10\\u0e01\\u0e34\\u0e08\", \"value\": 58}, {\"color\": \"orange\", \"from\": \"\\u0e01\\u0e32\\u0e23\", \"label\": \"\\u0e2a\\u0e27\\u0e21\\u0e2b\\u0e19\\u0e49\\u0e32\\u0e01\\u0e32\\u0e01\", \"to\": \"\\u0e2d\\u0e19\\u0e32\\u0e21\\u0e31\\u0e22\", \"value\": 57}, {\"color\": \"orange\", \"from\": \"\\u0e01\\u0e32\\u0e23\", \"label\": \"\\u0e0a\\u0e48\\u0e27\\u0e22\\u0e40\\u0e2b\\u0e25\\u0e37\\u0e2d\", \"to\": \"\\u0e1b\\u0e23\\u0e30\\u0e0a\\u0e32\\u0e0a\\u0e19\", \"value\": 53}, {\"color\": \"orange\", \"from\": \"\\u0e01\\u0e32\\u0e23\", \"label\": \"\\u0e40\\u0e04\\u0e25\\u0e37\\u0e48\\u0e2d\\u0e19\\u0e22\\u0e49\\u0e32\\u0e22\", \"to\": \"\\u0e2a\\u0e31\\u0e15\\u0e27\\u0e4c\", \"value\": 53}, {\"color\": \"orange\", \"from\": \"\\u0e01\\u0e32\\u0e23\", \"label\": \"\\u0e08\\u0e31\\u0e14\", \"to\": \"\\u0e19\\u0e34\\u0e17\\u0e23\\u0e23\\u0e28\\u0e01\\u0e32\\u0e23\", \"value\": 51}, {\"color\": \"orange\", \"from\": \"\\u0e01\\u0e32\\u0e23\", \"label\": \"\\u0e23\\u0e48\\u0e27\\u0e21\\u0e43\\u0e19\", \"to\": \"\\u0e21\\u0e35\\u0e2a\\u0e48\\u0e27\\u0e19\", \"value\": 49}, {\"color\": \"orange\", \"from\": \"\\u0e01\\u0e32\\u0e23\", \"label\": \"\\u0e40\\u0e27\\u0e49\\u0e19\", \"to\": \"\\u0e23\\u0e30\\u0e22\\u0e30\\u0e2b\\u0e48\\u0e32\\u0e07\", \"value\": 47}, {\"color\": \"orange\", \"from\": \"\\u0e01\\u0e32\\u0e23\", \"label\": \"\\u0e08\\u0e31\\u0e14\\u0e07\\u0e32\\u0e19\", \"to\": \"\\u0e1b\\u0e23\\u0e30\\u0e40\\u0e1e\\u0e13\\u0e35\", \"value\": 46}, {\"color\": \"gray\", \"from\": \"\\u0e01\\u0e32\\u0e23\", \"label\": \"\\u0e43\\u0e0a\\u0e49\", \"to\": \"\\u0e23\\u0e16\", \"value\": 45}, {\"color\": \"gray\", \"from\": \"\\u0e01\\u0e32\\u0e23\", \"label\": \"\\u0e17\\u0e33\", \"to\": \"\\u0e1b\\u0e23\\u0e30\\u0e21\\u0e07\", \"value\": 45}, {\"color\": \"gray\", \"from\": \"\\u0e01\\u0e32\\u0e23\", \"label\": \"\\u0e02\\u0e31\\u0e1a\\u0e40\\u0e04\\u0e25\\u0e37\\u0e48\\u0e2d\\u0e19\", \"to\": \"\\u0e01\\u0e32\\u0e23\", \"value\": 41}, {\"color\": \"gray\", \"from\": \"\\u0e01\\u0e32\\u0e23\", \"label\": \"\\u0e08\\u0e31\\u0e14\\u0e07\\u0e32\\u0e19\", \"to\": \"\\u0e04\\u0e23\\u0e31\\u0e49\\u0e07\\u0e19\\u0e35\\u0e49\", \"value\": 45}, {\"color\": \"gray\", \"from\": \"\\u0e01\\u0e32\\u0e23\", \"label\": \"\\u0e08\\u0e31\\u0e14\\u0e17\\u0e33\", \"to\": \"\\u0e41\\u0e1c\\u0e19\", \"value\": 44}, {\"color\": \"gray\", \"from\": \"\\u0e01\\u0e32\\u0e23\", \"label\": \"\\u0e21\\u0e35\", \"to\": \"\\u0e07\\u0e32\\u0e19\", \"value\": 44}, {\"color\": \"gray\", \"from\": \"\\u0e01\\u0e32\\u0e23\", \"label\": \"\\u0e2a\\u0e30\", \"to\": \"\\u0e2a\\u0e21\\u0e15\\u0e31\\u0e27\", \"value\": 44}, {\"color\": \"gray\", \"from\": \"\\u0e01\\u0e32\\u0e23\", \"label\": \"\\u0e21\\u0e35\", \"to\": \"\\u0e27\\u0e31\\u0e19\\u0e19\\u0e35\\u0e49\", \"value\": 43}, {\"color\": \"gray\", \"from\": \"\\u0e01\\u0e32\\u0e23\", \"label\": \"\\u0e43\\u0e0a\\u0e49\", \"to\": \"\\u0e40\\u0e17\\u0e04\\u0e42\\u0e19\\u0e42\\u0e25\\u0e22\\u0e35\", \"value\": 42}, {\"color\": \"gray\", \"from\": \"\\u0e01\\u0e32\\u0e23\", \"label\": \"\\u0e08\\u0e31\\u0e14\\u0e15\\u0e31\\u0e49\\u0e07\", \"to\": \"\\u0e28\\u0e39\\u0e19\\u0e22\\u0e4c\", \"value\": 41}, {\"color\": \"orange\", \"from\": \"\\u0e01\\u0e32\\u0e23\\u0e41\\u0e02\\u0e48\\u0e07\\u0e02\\u0e31\\u0e19\", \"label\": \"\\u0e40\\u0e1b\\u0e34\\u0e14\", \"to\": \"\\u0e1e\\u0e34\\u0e18\\u0e35\", \"value\": 103}, {\"color\": \"orange\", \"from\": \"\\u0e01\\u0e32\\u0e23\\u0e41\\u0e02\\u0e48\\u0e07\\u0e02\\u0e31\\u0e19\", \"label\": \"\\u0e08\\u0e31\\u0e14\", \"to\": \"\\u0e04\\u0e13\\u0e30\\u0e01\\u0e23\\u0e23\\u0e21\\u0e01\\u0e32\\u0e23\", \"value\": 68}, {\"color\": \"orange\", \"from\": \"\\u0e01\\u0e32\\u0e23\\u0e41\\u0e02\\u0e48\\u0e07\\u0e02\\u0e31\\u0e19\", \"label\": \"\\u0e40\\u0e1b\\u0e34\\u0e14\", \"to\": \"\\u0e1b\\u0e23\\u0e30\\u0e18\\u0e32\\u0e19\", \"value\": 67}, {\"color\": \"orange\", \"from\": \"\\u0e42\\u0e23\\u0e04\", \"label\": \"\\u0e04\\u0e27\\u0e1a\\u0e04\\u0e38\\u0e21\", \"to\": \"\\u0e01\\u0e23\\u0e21\", \"value\": 83}, {\"color\": \"orange\", \"from\": \"\\u0e42\\u0e23\\u0e04\", \"label\": \"\\u0e19\\u0e33\", \"to\": \"\\u0e1e\\u0e32\\u0e2b\\u0e30\", \"value\": 64}, {\"color\": \"orange\", \"from\": \"\\u0e42\\u0e23\\u0e04\", \"label\": \"\\u0e04\\u0e27\\u0e1a\\u0e04\\u0e38\\u0e21\", \"to\": \"\\u0e28\\u0e39\\u0e19\\u0e22\\u0e4c\\u0e1b\\u0e0f\\u0e34\\u0e1a\\u0e31\\u0e15\\u0e34\\u0e01\\u0e32\\u0e23\", \"value\": 55}, {\"color\": \"orange\", \"from\": \"\\u0e42\\u0e23\\u0e04\", \"label\": \"\\u0e1b\\u0e49\\u0e2d\\u0e07\\u0e01\\u0e31\\u0e19\", \"to\": \"\\u0e27\\u0e31\\u0e04\\u0e0b\\u0e35\\u0e19\", \"value\": 51}, {\"color\": \"orange\", \"from\": \"\\u0e28\\u0e39\\u0e19\\u0e22\\u0e4c\", \"label\": \"\\u0e1a\\u0e23\\u0e34\\u0e2b\\u0e32\\u0e23\", \"to\": \"\\u0e2a\\u0e16\\u0e32\\u0e19\\u0e01\\u0e32\\u0e23\\u0e13\\u0e4c\", \"value\": 253}, {\"color\": \"orange\", \"from\": \"\\u0e28\\u0e39\\u0e19\\u0e22\\u0e4c\", \"label\": \"\\u0e41\\u0e22\\u0e01\", \"to\": \"\\u0e01\\u0e31\\u0e01\", \"value\": 117}, {\"color\": \"orange\", \"from\": \"\\u0e28\\u0e39\\u0e19\\u0e22\\u0e4c\", \"label\": \"\\u0e41\\u0e01\\u0e49\\u0e44\\u0e02\\u0e1b\\u0e31\\u0e0d\\u0e2b\\u0e32\", \"to\": \"\\u0e21\\u0e25\\u0e1e\\u0e34\\u0e29\\u0e17\\u0e32\\u0e07\\u0e2d\\u0e32\\u0e01\\u0e32\\u0e28\", \"value\": 73}, {\"color\": \"orange\", \"from\": \"\\u0e28\\u0e39\\u0e19\\u0e22\\u0e4c\", \"label\": \"\\u0e14\\u0e33\\u0e23\\u0e07\", \"to\": \"\\u0e18\\u0e23\\u0e23\\u0e21\", \"value\": 54}, {\"color\": \"orange\", \"from\": \"\\u0e28\\u0e39\\u0e19\\u0e22\\u0e4c\", \"label\": \"\\u0e1a\\u0e23\\u0e23\\u0e40\\u0e17\\u0e32\", \"to\": \"\\u0e2a\\u0e32\\u0e18\\u0e32\\u0e23\\u0e13\\u0e20\\u0e31\\u0e22\", \"value\": 47}, {\"color\": \"gray\", \"from\": \"\\u0e28\\u0e39\\u0e19\\u0e22\\u0e4c\", \"label\": \"\\u0e42\\u0e06\\u0e29\\u0e01\", \"to\": \"\\u0e10\\u0e32\\u0e19\\u0e30\", \"value\": 41}, {\"color\": \"orange\", \"from\": \"\\u0e2a\\u0e16\\u0e32\\u0e19\\u0e01\\u0e32\\u0e23\\u0e13\\u0e4c\", \"label\": \"\\u0e15\\u0e34\\u0e14\\u0e15\\u0e32\\u0e21\", \"to\": \"\\u0e1e\\u0e37\\u0e49\\u0e19\\u0e17\\u0e35\\u0e48\", \"value\": 61}, {\"color\": \"gray\", \"from\": \"\\u0e2a\\u0e16\\u0e32\\u0e19\\u0e01\\u0e32\\u0e23\\u0e13\\u0e4c\", \"label\": \"\\u0e23\\u0e31\\u0e1a\", \"to\": \"\\u0e04\\u0e27\\u0e32\\u0e21\\u0e1e\\u0e23\\u0e49\\u0e2d\\u0e21\", \"value\": 41}, {\"color\": \"orange\", \"from\": \"\\u0e23\\u0e31\\u0e10\\u0e21\\u0e19\\u0e15\\u0e23\\u0e35\", \"label\": \"\\u0e27\\u0e48\\u0e32\\u0e01\\u0e32\\u0e23\", \"to\": \"\\u0e01\\u0e23\\u0e30\\u0e17\\u0e23\\u0e27\\u0e07\", \"value\": 251}, {\"color\": \"orange\", \"from\": \"\\u0e23\\u0e31\\u0e10\\u0e21\\u0e19\\u0e15\\u0e23\\u0e35\", \"label\": \"\\u0e27\\u0e48\\u0e32\\u0e01\\u0e32\\u0e23\", \"to\": \"\\u0e01\\u0e23\\u0e30\\u0e17\\u0e23\\u0e27\\u0e07\\u0e01\\u0e25\\u0e32\\u0e42\\u0e2b\\u0e21\", \"value\": 176}, {\"color\": \"orange\", \"from\": \"\\u0e23\\u0e31\\u0e10\\u0e21\\u0e19\\u0e15\\u0e23\\u0e35\", \"label\": \"\\u0e27\\u0e48\\u0e32\\u0e01\\u0e32\\u0e23\", \"to\": \"\\u0e01\\u0e23\\u0e30\\u0e17\\u0e23\\u0e27\\u0e07\\u0e1e\\u0e32\\u0e13\\u0e34\\u0e0a\\u0e22\\u0e4c\", \"value\": 55}, {\"color\": \"orange\", \"from\": \"\\u0e19\\u0e49\\u0e33\", \"label\": \"\\u0e08\\u0e31\\u0e14\\u0e01\\u0e32\\u0e23\", \"to\": \"\\u0e01\\u0e32\\u0e23\\u0e1a\\u0e23\\u0e34\\u0e2b\\u0e32\\u0e23\", \"value\": 162}, {\"color\": \"orange\", \"from\": \"\\u0e19\\u0e49\\u0e33\", \"label\": \"\\u0e25\\u0e49\\u0e19\", \"to\": \"\\u0e15\\u0e25\\u0e34\\u0e48\\u0e07\", \"value\": 110}, {\"color\": \"orange\", \"from\": \"\\u0e19\\u0e49\\u0e33\", \"label\": \"\\u0e2a\\u0e48\\u0e07\", \"to\": \"\\u0e42\\u0e04\\u0e23\\u0e07\\u0e01\\u0e32\\u0e23\", \"value\": 75}, {\"color\": \"orange\", \"from\": \"\\u0e19\\u0e49\\u0e33\", \"label\": \"\\u0e01\\u0e31\\u0e49\\u0e19\", \"to\": \"\\u0e04\\u0e31\\u0e19\", \"value\": 69}, {\"color\": \"orange\", \"from\": \"\\u0e19\\u0e49\\u0e33\", \"label\": \"\\u0e0a\\u0e30\\u0e25\\u0e2d\", \"to\": \"\\u0e1d\\u0e32\\u0e22\", \"value\": 46}, {\"color\": \"orange\", \"from\": \"\\u0e01\\u0e2d\\u0e07\\u0e17\\u0e38\\u0e19\", \"label\": \"\\u0e1e\\u0e31\\u0e12\\u0e19\\u0e32\", \"to\": \"\\u0e40\\u0e14\\u0e47\\u0e01\", \"value\": 230}, {\"color\": \"orange\", \"from\": \"\\u0e01\\u0e2d\\u0e07\\u0e17\\u0e38\\u0e19\", \"label\": \"\\u0e1e\\u0e31\\u0e12\\u0e19\\u0e32\", \"to\": \"\\u0e1a\\u0e17\\u0e1a\\u0e32\\u0e17\", \"value\": 84}, {\"color\": \"gray\", \"from\": \"\\u0e01\\u0e2d\\u0e07\\u0e17\\u0e38\\u0e19\", \"label\": \"\\u0e2a\\u0e21\\u0e17\\u0e1a\", \"to\": \"\\u0e17\\u0e2d\\u0e14\\u0e1c\\u0e49\\u0e32\\u0e1b\\u0e48\\u0e32\", \"value\": 43}, {\"color\": \"orange\", \"from\": \"\\u0e20\\u0e39\\u0e21\\u0e34\\u0e25\\u0e33\\u0e40\\u0e19\\u0e32\", \"label\": \"\\u0e2d\\u0e22\\u0e39\\u0e48\", \"to\": \"\\u0e15\\u0e33\\u0e1a\\u0e25\", \"value\": 212}, {\"color\": \"orange\", \"from\": \"\\u0e40\\u0e0a\\u0e37\\u0e49\\u0e2d\", \"label\": \"\\u0e1e\\u0e1a\", \"to\": \"\\u0e1c\\u0e25\", \"value\": 139}, {\"color\": \"orange\", \"from\": \"\\u0e1c\\u0e25\", \"label\": \"\\u0e40\\u0e1b\\u0e47\\u0e19\", \"to\": \"\\u0e1a\\u0e27\\u0e01\", \"value\": 165}, {\"color\": \"gray\", \"from\": \"\\u0e1c\\u0e25\", \"label\": \"\\u0e1b\\u0e23\\u0e30\\u0e22\\u0e39\\u0e23\", \"to\": \"\\u0e40\\u0e25\\u0e02\\u0e32\\u0e18\\u0e34\\u0e01\\u0e32\\u0e23\", \"value\": 44}, {\"color\": \"orange\", \"from\": \"\\u0e1e\\u0e37\\u0e49\\u0e19\\u0e17\\u0e35\\u0e48\", \"label\": \"\\u0e15\\u0e23\\u0e27\\u0e08\", \"to\": \"\\u0e40\\u0e22\\u0e35\\u0e48\\u0e22\\u0e21\", \"value\": 85}, {\"color\": \"orange\", \"from\": \"\\u0e1e\\u0e37\\u0e49\\u0e19\\u0e17\\u0e35\\u0e48\", \"label\": \"\\u0e25\\u0e07\", \"to\": \"\\u0e04\\u0e13\\u0e30\", \"value\": 64}, {\"color\": \"orange\", \"from\": \"\\u0e1e\\u0e37\\u0e49\\u0e19\\u0e17\\u0e35\\u0e48\", \"label\": \"\\u0e44\\u0e14\\u0e49\\u0e23\\u0e31\\u0e1a\", \"to\": \"\\u0e1c\\u0e25\\u0e01\\u0e23\\u0e30\\u0e17\\u0e1a\", \"value\": 51}, {\"color\": \"orange\", \"from\": \"\\u0e1e\\u0e37\\u0e49\\u0e19\\u0e17\\u0e35\\u0e48\", \"label\": \"\\u0e1b\\u0e23\\u0e30\\u0e2a\\u0e1a\", \"to\": \"\\u0e2d\\u0e38\\u0e17\\u0e01\\u0e20\\u0e31\\u0e22\", \"value\": 47}, {\"color\": \"orange\", \"from\": \"\\u0e1e\\u0e37\\u0e49\\u0e19\\u0e17\\u0e35\\u0e48\", \"label\": \"\\u0e40\\u0e2a\\u0e35\\u0e48\\u0e22\\u0e07\", \"to\": \"\\u0e19\\u0e49\\u0e33\\u0e2b\\u0e25\\u0e32\\u0e01\", \"value\": 47}, {\"color\": \"gray\", \"from\": \"\\u0e1e\\u0e37\\u0e49\\u0e19\\u0e17\\u0e35\\u0e48\", \"label\": \"\\u0e40\\u0e2a\\u0e35\\u0e48\\u0e22\\u0e07\", \"to\": \"\\u0e42\\u0e23\\u0e04\\u0e23\\u0e30\\u0e1a\\u0e32\\u0e14\", \"value\": 41}, {\"color\": \"orange\", \"from\": \"\\u0e01\\u0e25\\u0e38\\u0e48\\u0e21\", \"label\": \"\\u0e2a\\u0e31\\u0e21\\u0e1c\\u0e31\\u0e2a\", \"to\": \"\\u0e1c\\u0e39\\u0e49\\u0e1b\\u0e48\\u0e27\\u0e22\", \"value\": 155}, {\"color\": \"orange\", \"from\": \"\\u0e1c\\u0e39\\u0e49\\u0e1b\\u0e48\\u0e27\\u0e22\", \"label\": \"\\u0e15\\u0e34\\u0e14\", \"to\": \"\\u0e40\\u0e15\\u0e35\\u0e22\\u0e07\", \"value\": 77}, {\"color\": \"orange\", \"from\": \"\\u0e1c\\u0e39\\u0e49\\u0e1b\\u0e48\\u0e27\\u0e22\", \"label\": \"\\u0e21\\u0e35\", \"to\": \"\\u0e27\\u0e31\\u0e19\\u0e19\\u0e35\\u0e49\", \"value\": 64}, {\"color\": \"orange\", \"from\": \"\\u0e42\\u0e06\\u0e29\\u0e01\", \"label\": \"\\u0e1b\\u0e23\\u0e30\\u0e08\\u0e33\", \"to\": \"\\u0e2a\\u0e33\\u0e19\\u0e31\\u0e01\\u0e19\\u0e32\\u0e22\\u0e01\\u0e23\\u0e31\\u0e10\\u0e21\\u0e19\\u0e15\\u0e23\\u0e35\", \"value\": 154}, {\"color\": \"orange\", \"from\": \"\\u0e42\\u0e06\\u0e29\\u0e01\", \"label\": \"\\u0e23\\u0e2d\\u0e07\", \"to\": \"\\u0e10\\u0e32\\u0e19\\u0e30\", \"value\": 66}, {\"color\": \"orange\", \"from\": \"\\u0e23\\u0e32\\u0e22\\u0e07\\u0e32\\u0e19\", \"label\": \"\\u0e2a\\u0e33\\u0e19\\u0e31\\u0e01\\u0e02\\u0e48\\u0e32\\u0e27\", \"to\": \"\\u0e01\\u0e23\\u0e21\\u0e1b\\u0e23\\u0e30\\u0e0a\\u0e32\\u0e2a\\u0e31\\u0e21\\u0e1e\\u0e31\\u0e19\\u0e18\\u0e4c\", \"value\": 52}, {\"color\": \"orange\", \"from\": \"\\u0e01\\u0e2d\\u0e07\\u0e2d\\u0e33\\u0e19\\u0e27\\u0e22\\u0e01\\u0e32\\u0e23\", \"label\": \"\\u0e23\\u0e31\\u0e01\\u0e29\\u0e32\", \"to\": \"\\u0e04\\u0e27\\u0e32\\u0e21\\u0e21\\u0e31\\u0e48\\u0e19\\u0e04\\u0e07\", \"value\": 127}, {\"color\": \"orange\", \"from\": \"\\u0e04\\u0e27\\u0e32\\u0e21\\u0e21\\u0e31\\u0e48\\u0e19\\u0e04\\u0e07\", \"label\": \"\\u0e23\\u0e31\\u0e01\\u0e29\\u0e32\", \"to\": \"\\u0e1c\\u0e39\\u0e49\\u0e2d\\u0e33\\u0e19\\u0e27\\u0e22\\u0e01\\u0e32\\u0e23\", \"value\": 80}, {\"color\": \"orange\", \"from\": \"\\u0e04\\u0e27\\u0e32\\u0e21\\u0e21\\u0e31\\u0e48\\u0e19\\u0e04\\u0e07\", \"label\": \"\\u0e23\\u0e31\\u0e01\\u0e29\\u0e32\", \"to\": \"\\u0e23\\u0e2d\\u0e07\\u0e1c\\u0e39\\u0e49\\u0e2d\\u0e33\\u0e19\\u0e27\\u0e22\\u0e01\\u0e32\\u0e23\", \"value\": 68}, {\"color\": \"orange\", \"from\": \"\\u0e04\\u0e27\\u0e32\\u0e21\", \"label\": \"\\u0e40\\u0e1b\\u0e47\\u0e19\", \"to\": \"\\u0e2a\\u0e34\\u0e23\\u0e34\\u0e21\\u0e07\\u0e04\\u0e25\", \"value\": 126}, {\"color\": \"gray\", \"from\": \"\\u0e0a\\u0e38\\u0e21\\u0e0a\\u0e19\", \"label\": \"\\u0e22\\u0e25\", \"to\": \"\\u0e27\\u0e34\\u0e16\\u0e35\", \"value\": 45}, {\"color\": \"orange\", \"from\": \"\\u0e41\\u0e1c\\u0e19\", \"label\": \"\\u0e40\\u0e1c\\u0e0a\\u0e34\\u0e0d\", \"to\": \"\\u0e40\\u0e2b\\u0e15\\u0e38\", \"value\": 121}, {\"color\": \"orange\", \"from\": \"\\u0e28\\u0e23\\u0e35\\u0e2a\\u0e30\\u0e40\\u0e01\\u0e29\", \"label\": \"\\u0e40\\u0e1b\\u0e47\\u0e19\", \"to\": \"\\u0e1b\\u0e23\\u0e30\\u0e18\\u0e32\\u0e19\", \"value\": 120}, {\"color\": \"orange\", \"from\": \"\\u0e1b\\u0e23\\u0e30\\u0e18\\u0e32\\u0e19\", \"label\": \"\\u0e40\\u0e1b\\u0e47\\u0e19\", \"to\": \"\\u0e15\\u0e23\\u0e31\\u0e07\", \"value\": 94}, {\"color\": \"orange\", \"from\": \"\\u0e1b\\u0e23\\u0e30\\u0e18\\u0e32\\u0e19\", \"label\": \"\\u0e40\\u0e1b\\u0e34\\u0e14\", \"to\": \"\\u0e01\\u0e34\\u0e08\\u0e01\\u0e23\\u0e23\\u0e21\", \"value\": 64}, {\"color\": \"orange\", \"from\": \"\\u0e1b\\u0e23\\u0e30\\u0e18\\u0e32\\u0e19\", \"label\": \"\\u0e40\\u0e1b\\u0e34\\u0e14\", \"to\": \"\\u0e42\\u0e04\\u0e23\\u0e07\\u0e01\\u0e32\\u0e23\", \"value\": 58}, {\"color\": \"gray\", \"from\": \"\\u0e1b\\u0e23\\u0e30\\u0e18\\u0e32\\u0e19\", \"label\": \"\\u0e40\\u0e1b\\u0e47\\u0e19\", \"to\": \"\\u0e21\\u0e38\\u0e01\\u0e14\\u0e32\\u0e2b\\u0e32\\u0e23\", \"value\": 44}, {\"color\": \"gray\", \"from\": \"\\u0e1b\\u0e23\\u0e30\\u0e18\\u0e32\\u0e19\", \"label\": \"\\u0e40\\u0e1b\\u0e47\\u0e19\", \"to\": \"\\u0e23\\u0e49\\u0e2d\\u0e22\\u0e40\\u0e2d\\u0e47\\u0e14\", \"value\": 42}, {\"color\": \"orange\", \"from\": \"\\u0e1b\\u0e35\", \"label\": \"\\u0e17\\u0e35\\u0e48\\u0e2d\\u0e22\\u0e39\\u0e48\", \"to\": \"\\u0e2b\\u0e21\\u0e39\\u0e48\", \"value\": 120}, {\"color\": \"orange\", \"from\": \"\\u0e08\\u0e34\\u0e15\", \"label\": \"\\u0e1b\\u0e23\\u0e30\\u0e08\\u0e33\", \"to\": \"\\u0e18\\u0e23\\u0e23\\u0e21\", \"value\": 65}, {\"color\": \"gray\", \"from\": \"\\u0e08\\u0e34\\u0e15\", \"label\": \"\\u0e23\\u0e2d\\u0e07\", \"to\": \"\\u0e1c\\u0e39\\u0e49\\u0e27\\u0e48\\u0e32\\u0e23\\u0e32\\u0e0a\\u0e01\\u0e32\\u0e23\\u0e08\\u0e31\\u0e07\\u0e2b\\u0e27\\u0e31\\u0e14\", \"value\": 44}, {\"color\": \"orange\", \"from\": \"\\u0e42\\u0e04\\u0e23\\u0e07\\u0e01\\u0e32\\u0e23\", \"label\": \"\\u0e22\\u0e01\\u0e23\\u0e30\\u0e14\\u0e31\\u0e1a\", \"to\": \"\\u0e41\\u0e1b\\u0e25\\u0e07\", \"value\": 54}, {\"color\": \"orange\", \"from\": \"\\u0e42\\u0e04\\u0e23\\u0e07\\u0e01\\u0e32\\u0e23\", \"label\": \"\\u0e1b\\u0e23\\u0e30\\u0e01\\u0e31\\u0e19\", \"to\": \"\\u0e23\\u0e32\\u0e22\\u0e44\\u0e14\\u0e49\", \"value\": 52}, {\"color\": \"gray\", \"from\": \"\\u0e42\\u0e04\\u0e23\\u0e07\\u0e01\\u0e32\\u0e23\", \"label\": \"\\u0e40\\u0e1e\\u0e34\\u0e48\\u0e21\", \"to\": \"\\u0e01\\u0e33\\u0e25\\u0e31\\u0e07\\u0e0b\\u0e37\\u0e49\\u0e2d\", \"value\": 41}, {\"color\": \"orange\", \"from\": \"\\u0e1c\\u0e25\\u0e01\\u0e23\\u0e30\\u0e17\\u0e1a\", \"label\": \"\\u0e44\\u0e14\\u0e49\\u0e23\\u0e31\\u0e1a\", \"to\": \"\\u0e1b\\u0e23\\u0e30\\u0e0a\\u0e32\\u0e0a\\u0e19\", \"value\": 82}, {\"color\": \"orange\", \"from\": \"\\u0e04\\u0e19\", \"label\": \"\\u0e44\\u0e14\\u0e49\\u0e23\\u0e31\\u0e1a\", \"to\": \"\\u0e27\\u0e31\\u0e04\\u0e0b\\u0e35\\u0e19\", \"value\": 109}, {\"color\": \"orange\", \"from\": \"\\u0e04\\u0e19\", \"label\": \"\\u0e2a\\u0e33\\u0e19\\u0e31\\u0e01\\u0e02\\u0e48\\u0e32\\u0e27\", \"to\": \"\\u0e01\\u0e23\\u0e21\\u0e1b\\u0e23\\u0e30\\u0e0a\\u0e32\\u0e2a\\u0e31\\u0e21\\u0e1e\\u0e31\\u0e19\\u0e18\\u0e4c\", \"value\": 73}, {\"color\": \"orange\", \"from\": \"\\u0e27\\u0e31\\u0e04\\u0e0b\\u0e35\\u0e19\", \"label\": \"\\u0e04\\u0e23\\u0e1a\", \"to\": \"\\u0e42\\u0e14\\u0e2a\", \"value\": 92}, {\"color\": \"orange\", \"from\": \"\\u0e27\\u0e31\\u0e04\\u0e0b\\u0e35\\u0e19\", \"label\": \"\\u0e04\\u0e23\\u0e1a\", \"to\": \"\\u0e40\\u0e02\\u0e47\\u0e21\", \"value\": 46}, {\"color\": \"orange\", \"from\": \"\\u0e1e\\u0e34\\u0e18\\u0e35\", \"label\": \"\\u0e40\\u0e08\\u0e23\\u0e34\\u0e0d\", \"to\": \"\\u0e1e\\u0e23\\u0e30\\u0e1e\\u0e38\\u0e17\\u0e18\\u0e21\\u0e19\\u0e15\\u0e4c\", \"value\": 80}, {\"color\": \"gray\", \"from\": \"\\u0e1e\\u0e34\\u0e18\\u0e35\", \"label\": \"\\u0e16\\u0e27\\u0e32\\u0e22\", \"to\": \"\\u0e23\\u0e32\\u0e0a\", \"value\": 45}, {\"color\": \"gray\", \"from\": \"\\u0e1e\\u0e34\\u0e18\\u0e35\", \"label\": \"\\u0e40\\u0e1b\\u0e34\\u0e14\", \"to\": \"\\u0e01\\u0e34\\u0e08\\u0e01\\u0e23\\u0e23\\u0e21\", \"value\": 42}, {\"color\": \"gray\", \"from\": \"\\u0e1e\\u0e34\\u0e18\\u0e35\", \"label\": \"\\u0e16\\u0e27\\u0e32\\u0e22\", \"to\": \"\\u0e40\\u0e17\\u0e35\\u0e22\\u0e19\\u0e1e\\u0e23\\u0e23\\u0e29\\u0e32\", \"value\": 41}, {\"color\": \"orange\", \"from\": \"\\u0e21\\u0e2b\\u0e32\\u0e23\\u0e32\\u0e0a\", \"label\": \"\\u0e1a\\u0e23\\u0e21\", \"to\": \"\\u0e19\\u0e32\\u0e16\", \"value\": 102}, {\"color\": \"orange\", \"from\": \"\\u0e28\\u0e31\\u0e01\\u0e14\\u0e34\\u0e4c\", \"label\": \"\\u0e40\\u0e08\\u0e23\\u0e34\\u0e0d\", \"to\": \"\\u0e42\\u0e2a\\u0e20\\u0e32\", \"value\": 95}, {\"color\": \"orange\", \"from\": \"\\u0e17\\u0e38\\u0e01\\u0e1b\\u0e35\", \"label\": \"\\u0e40\\u0e1b\\u0e47\\u0e19\", \"to\": \"\\u0e27\\u0e31\\u0e19\", \"value\": 89}, {\"color\": \"orange\", \"from\": \"\\u0e27\\u0e31\\u0e19\", \"label\": \"\\u0e04\\u0e25\\u0e49\\u0e32\\u0e22\", \"to\": \"\\u0e27\\u0e31\\u0e19\", \"value\": 58}, {\"color\": \"orange\", \"from\": \"\\u0e42\\u0e23\\u0e07\\u0e1e\\u0e22\\u0e32\\u0e1a\\u0e32\\u0e25\", \"label\": \"\\u0e2a\\u0e48\\u0e07\\u0e40\\u0e2a\\u0e23\\u0e34\\u0e21\", \"to\": \"\\u0e2a\\u0e38\\u0e02\\u0e20\\u0e32\\u0e1e\", \"value\": 82}, {\"color\": \"gray\", \"from\": \"\\u0e1b\\u0e23\\u0e30\\u0e0a\\u0e32\\u0e0a\\u0e19\", \"label\": \"\\u0e0a\\u0e48\\u0e27\\u0e22\", \"to\": \"\\u0e25\\u0e14\\u0e23\\u0e32\\u0e04\\u0e32\", \"value\": 42}, {\"color\": \"orange\", \"from\": \"\\u0e40\\u0e08\\u0e49\\u0e32\", \"label\": \"\\u0e2d\\u0e22\\u0e39\\u0e48\", \"to\": \"\\u0e2b\\u0e31\\u0e27\", \"value\": 82}, {\"color\": \"orange\", \"from\": \"\\u0e23\\u0e16\", \"label\": \"\\u0e43\\u0e0a\\u0e49\", \"to\": \"\\u0e16\\u0e19\\u0e19\", \"value\": 82}, {\"color\": \"orange\", \"from\": \"\\u0e1b\\u0e49\\u0e32\\u0e22\", \"label\": \"\\u0e41\\u0e2a\\u0e14\\u0e07\", \"to\": \"\\u0e23\\u0e32\\u0e04\\u0e32\", \"value\": 82}, {\"color\": \"orange\", \"from\": \"\\u0e1c\\u0e39\\u0e49\\u0e2d\\u0e33\\u0e19\\u0e27\\u0e22\\u0e01\\u0e32\\u0e23\", \"label\": \"\\u0e42\\u0e04\\u0e23\\u0e07\", \"to\": \"\\u0e01\\u0e32\\u0e23\\u0e0a\\u0e25\\u0e1b\\u0e23\\u0e30\\u0e17\\u0e32\\u0e19\", \"value\": 50}, {\"color\": \"orange\", \"from\": \"\\u0e27\\u0e34\\u0e44\\u0e25\", \"label\": \"\\u0e1b\\u0e25\\u0e31\\u0e14\", \"to\": \"\\u0e01\\u0e23\\u0e30\\u0e17\\u0e23\\u0e27\\u0e07\\u0e01\\u0e32\\u0e23\\u0e2d\\u0e38\\u0e14\\u0e21\\u0e28\\u0e36\\u0e01\\u0e29\\u0e32 \\u0e27\\u0e34\\u0e17\\u0e22\\u0e32\\u0e28\\u0e32\\u0e2a\\u0e15\\u0e23\\u0e4c \\u0e27\\u0e34\\u0e08\\u0e31\\u0e22\\u0e41\\u0e25\\u0e30\\u0e19\\u0e27\\u0e31\\u0e15\\u0e01\\u0e23\\u0e23\\u0e21\", \"value\": 80}, {\"color\": \"orange\", \"from\": \"\\u0e01\\u0e23\\u0e30\\u0e17\\u0e23\\u0e27\\u0e07\\u0e01\\u0e32\\u0e23\\u0e2d\\u0e38\\u0e14\\u0e21\\u0e28\\u0e36\\u0e01\\u0e29\\u0e32 \\u0e27\\u0e34\\u0e17\\u0e22\\u0e32\\u0e28\\u0e32\\u0e2a\\u0e15\\u0e23\\u0e4c \\u0e27\\u0e34\\u0e08\\u0e31\\u0e22\\u0e41\\u0e25\\u0e30\\u0e19\\u0e27\\u0e31\\u0e15\\u0e01\\u0e23\\u0e23\\u0e21\", \"label\": \"\\u0e40\\u0e1c\\u0e22\", \"to\": \"\\u0e02\\u0e49\\u0e2d\\u0e21\\u0e39\\u0e25\", \"value\": 54}, {\"color\": \"orange\", \"from\": \"\\u0e01\\u0e23\\u0e21\\u0e1b\\u0e23\\u0e30\\u0e0a\\u0e32\\u0e2a\\u0e31\\u0e21\\u0e1e\\u0e31\\u0e19\\u0e18\\u0e4c\", \"label\": \"\\u0e2a\\u0e33\\u0e19\\u0e31\\u0e01\\u0e02\\u0e48\\u0e32\\u0e27\", \"to\": \"\\u0e02\\u0e48\\u0e32\\u0e27\", \"value\": 62}, {\"color\": \"orange\", \"from\": \"\\u0e01\\u0e23\\u0e21\\u0e1b\\u0e23\\u0e30\\u0e0a\\u0e32\\u0e2a\\u0e31\\u0e21\\u0e1e\\u0e31\\u0e19\\u0e18\\u0e4c\", \"label\": \"\\u0e2a\\u0e33\\u0e19\\u0e31\\u0e01\\u0e02\\u0e48\\u0e32\\u0e27\", \"to\": \"\\u0e1a\\u0e32\\u0e17\", \"value\": 52}, {\"color\": \"orange\", \"from\": \"\\u0e01\\u0e23\\u0e21\\u0e1b\\u0e23\\u0e30\\u0e0a\\u0e32\\u0e2a\\u0e31\\u0e21\\u0e1e\\u0e31\\u0e19\\u0e18\\u0e4c\", \"label\": \"\\u0e2a\\u0e33\\u0e19\\u0e31\\u0e01\\u0e02\\u0e48\\u0e32\\u0e27\", \"to\": \"\\u0e20\\u0e32\\u0e1e\", \"value\": 46}, {\"color\": \"gray\", \"from\": \"\\u0e01\\u0e23\\u0e21\\u0e1b\\u0e23\\u0e30\\u0e0a\\u0e32\\u0e2a\\u0e31\\u0e21\\u0e1e\\u0e31\\u0e19\\u0e18\\u0e4c\", \"label\": \"\\u0e2a\\u0e33\\u0e19\\u0e31\\u0e01\\u0e02\\u0e48\\u0e32\\u0e27\", \"to\": \"\\u0e40\\u0e27\\u0e47\\u0e1a\\u0e44\\u0e0b\\u0e15\\u0e4c\", \"value\": 39}, {\"color\": \"orange\", \"from\": \"\\u0e19\\u0e04\\u0e23\", \"label\": \"\\u0e25\\u0e33\\u0e14\\u0e27\\u0e19\", \"to\": \"\\u0e40\\u0e01\\u0e21\\u0e2a\\u0e4c\", \"value\": 73}, {\"color\": \"orange\", \"from\": \"\\u0e08\\u0e38\\u0e14\", \"label\": \"\\u0e15\\u0e23\\u0e27\\u0e08\", \"to\": \"\\u0e08\\u0e38\\u0e14\", \"value\": 68}, {\"color\": \"orange\", \"from\": \"\\u0e42\\u0e04\\u0e01\", \"label\": \"\\u0e2b\\u0e19\\u0e2d\\u0e07\", \"to\": \"\\u0e19\\u0e32\", \"value\": 63}, {\"color\": \"orange\", \"from\": \"\\u0e18\\u0e34\", \"label\": \"\\u0e0a\\u0e31\\u0e22\", \"to\": \"\\u0e08\\u0e34\\u0e19\\u0e14\\u0e32\", \"value\": 61}, {\"color\": \"orange\", \"from\": \"\\u0e28\\u0e23\\u0e35\", \"label\": \"\\u0e2a\\u0e27\\u0e32\\u0e07\", \"to\": \"\\u0e27\\u0e31\\u0e12\\u0e19\", \"value\": 61}, {\"color\": \"orange\", \"from\": \"\\u0e2a\\u0e22\\u0e32\\u0e21\", \"label\": \"\\u0e1a\\u0e23\\u0e21\", \"to\": \"\\u0e23\\u0e32\\u0e0a\", \"value\": 58}, {\"color\": \"orange\", \"from\": \"\\u0e25\\u0e07\\u0e19\\u0e32\\u0e21\", \"label\": \"\\u0e1a\\u0e31\\u0e19\\u0e17\\u0e36\\u0e01\", \"to\": \"\\u0e02\\u0e49\\u0e2d\\u0e15\\u0e01\\u0e25\\u0e07\", \"value\": 57}, {\"color\": \"orange\", \"from\": \"\\u0e23\\u0e32\\u0e0a\\u0e01\\u0e32\\u0e23\", \"label\": \"\\u0e41\\u0e17\\u0e19\", \"to\": \"\\u0e1c\\u0e39\\u0e49\\u0e27\\u0e48\\u0e32\\u0e23\\u0e32\\u0e0a\\u0e01\\u0e32\\u0e23\\u0e08\\u0e31\\u0e07\\u0e2b\\u0e27\\u0e31\\u0e14\", \"value\": 55}, {\"color\": \"gray\", \"from\": \"\\u0e1c\\u0e39\\u0e49\\u0e27\\u0e48\\u0e32\\u0e23\\u0e32\\u0e0a\\u0e01\\u0e32\\u0e23\\u0e08\\u0e31\\u0e07\\u0e2b\\u0e27\\u0e31\\u0e14\", \"label\": \"\\u0e23\\u0e2d\\u0e07\", \"to\": \"\\u0e01\\u0e38\\u0e25\", \"value\": 43}, {\"color\": \"gray\", \"from\": \"\\u0e1c\\u0e39\\u0e49\\u0e27\\u0e48\\u0e32\\u0e23\\u0e32\\u0e0a\\u0e01\\u0e32\\u0e23\\u0e08\\u0e31\\u0e07\\u0e2b\\u0e27\\u0e31\\u0e14\", \"label\": \"\\u0e23\\u0e2d\\u0e07\", \"to\": \"\\u0e2a\\u0e38\\u0e27\\u0e23\\u0e23\\u0e13\", \"value\": 42}, {\"color\": \"orange\", \"from\": \"\\u0e21\\u0e2b\\u0e32\\u0e27\\u0e34\\u0e17\\u0e22\\u0e32\\u0e25\\u0e31\\u0e22\", \"label\": \"\\u0e23\\u0e32\\u0e0a\\u0e20\\u0e31\\u0e0f\", \"to\": \"\\u0e22\\u0e30\\u0e25\\u0e32\", \"value\": 55}, {\"color\": \"orange\", \"from\": \"\\u0e1e\\u0e25\", \"label\": \"\\u0e40\\u0e08\\u0e23\\u0e34\\u0e0d\", \"to\": \"\\u0e0a\\u0e31\\u0e19\\u0e29\\u0e32\", \"value\": 55}, {\"color\": \"orange\", \"from\": \"\\u0e41\\u0e21\\u0e25\\u0e07\", \"label\": \"\\u0e14\\u0e39\\u0e14\", \"to\": \"\\u0e40\\u0e25\\u0e37\\u0e2d\\u0e14\", \"value\": 55}, {\"color\": \"orange\", \"from\": \"\\u0e2d\\u0e33\\u0e40\\u0e20\\u0e2d\", \"label\": \"\\u0e1e\\u0e31\\u0e12\\u0e19\\u0e32\", \"to\": \"\\u0e19\\u0e34\\u0e04\\u0e21\", \"value\": 53}, {\"color\": \"orange\", \"from\": \"\\u0e2d\\u0e33\\u0e40\\u0e20\\u0e2d\", \"label\": \"\\u0e25\\u0e37\\u0e2d\", \"to\": \"\\u0e2d\\u0e33\\u0e19\\u0e32\\u0e08\", \"value\": 47}, {\"color\": \"gray\", \"from\": \"\\u0e2d\\u0e33\\u0e40\\u0e20\\u0e2d\", \"label\": \"\\u0e1b\\u0e30\", \"to\": \"\\u0e40\\u0e2b\\u0e25\\u0e35\\u0e22\\u0e19\", \"value\": 45}, {\"color\": \"orange\", \"from\": \"\\u0e23\\u0e32\\u0e22\\u0e44\\u0e14\\u0e49\", \"label\": \"\\u0e2a\\u0e23\\u0e49\\u0e32\\u0e07\", \"to\": \"\\u0e07\\u0e32\\u0e19\", \"value\": 51}, {\"color\": \"gray\", \"from\": \"\\u0e07\\u0e32\\u0e19\", \"label\": \"\\u0e2a\\u0e23\\u0e49\\u0e32\\u0e07\", \"to\": \"\\u0e2d\\u0e32\\u0e0a\\u0e35\\u0e1e\", \"value\": 39}, {\"color\": \"orange\", \"from\": \"\\u0e21\\u0e32\\u0e15\\u0e23\\u0e01\\u0e32\\u0e23\", \"label\": \"\\u0e1b\\u0e34\\u0e14\", \"to\": \"\\u0e40\\u0e21\\u0e37\\u0e2d\\u0e07\", \"value\": 51}, {\"color\": \"gray\", \"from\": \"\\u0e04\\u0e33\", \"label\": \"\\u0e40\\u0e02\\u0e37\\u0e48\\u0e2d\\u0e19\", \"to\": \"\\u0e41\\u0e01\\u0e49\\u0e27\", \"value\": 45}, {\"color\": \"gray\", \"from\": \"\\u0e23\\u0e32\", \"label\": \"\\u0e25\\u0e07\", \"to\": \"\\u0e01\\u0e23\", \"value\": 45}, {\"color\": \"gray\", \"from\": \"\\u0e1e\\u0e25\\u0e40\\u0e23\\u0e37\\u0e2d\\u0e15\\u0e23\\u0e35\", \"label\": \"\\u0e2a\\u0e21\", \"to\": \"\\u0e40\\u0e01\\u0e35\\u0e22\\u0e23\\u0e15\\u0e34\", \"value\": 44}, {\"color\": \"gray\", \"from\": \"\\u0e1f\\u0e49\\u0e32\", \"label\": \"\\u0e17\\u0e30\\u0e25\\u0e32\\u0e22\", \"to\": \"\\u0e42\\u0e08\\u0e23\", \"value\": 44}, {\"color\": \"gray\", \"from\": \"\\u0e22\\u0e32\", \"label\": \"\\u0e1f\\u0e32\", \"to\": \"\\u0e27\\u0e34\", \"value\": 43}, {\"color\": \"gray\", \"from\": \"\\u0e2a\\u0e21\\u0e40\\u0e14\\u0e47\\u0e08\\u0e1e\\u0e23\\u0e30\\u0e01\\u0e19\\u0e34\\u0e29\\u0e10\\u0e32\\u0e18\\u0e34\\u0e23\\u0e32\\u0e0a\\u0e40\\u0e08\\u0e49\\u0e32 \\u0e01\\u0e23\\u0e21\\u0e2a\\u0e21\\u0e40\\u0e14\\u0e47\\u0e08\\u0e1e\\u0e23\\u0e30\\u0e40\\u0e17\\u0e1e\\u0e23\\u0e31\\u0e15\\u0e19\\u0e23\\u0e32\\u0e0a\\u0e2a\\u0e38\\u0e14\\u0e32\\u0e2f \\u0e2a\\u0e22\\u0e32\\u0e21\\u0e1a\\u0e23\\u0e21\\u0e23\\u0e32\\u0e0a\\u0e01\\u0e38\\u0e21\\u0e32\\u0e23\\u0e35\", \"label\": \"\\u0e40\\u0e19\\u0e37\\u0e48\\u0e2d\\u0e07\\u0e43\\u0e19\", \"to\": \"\\u0e42\\u0e2d\\u0e01\\u0e32\\u0e2a\", \"value\": 42}, {\"color\": \"gray\", \"from\": \"\\u0e15\\u0e33\\u0e23\\u0e27\\u0e08\", \"label\": \"\\u0e15\\u0e23\\u0e30\\u0e40\\u0e27\\u0e19\", \"to\": \"\\u0e0a\\u0e32\\u0e22\\u0e41\\u0e14\\u0e19\", \"value\": 40}, {\"color\": \"gray\", \"from\": \"\\u0e44\\u0e25\\u0e19\\u0e4c\", \"label\": \"\\u0e23\\u0e31\\u0e1a\", \"to\": \"\\u0e41\\u0e08\\u0e49\\u0e07\\u0e40\\u0e2b\\u0e15\\u0e38\", \"value\": 40}, {\"color\": \"gray\", \"from\": \"\\u0e23\\u0e32\\u0e22\\u0e08\\u0e48\\u0e32\\u0e22\", \"label\": \"\\u0e1b\\u0e23\\u0e30\\u0e08\\u0e33\", \"to\": \"\\u0e1b\\u0e35\\u0e07\\u0e1a\\u0e1b\\u0e23\\u0e30\\u0e21\\u0e32\\u0e13\", \"value\": 40}]);\n",
              "\n",
              "        // adding nodes and edges to the graph\n",
              "        data = {nodes: nodes, edges: edges};\n",
              "\n",
              "        var options = {\n",
              "    \"configure\": {\n",
              "        \"enabled\": false\n",
              "    },\n",
              "    \"edges\": {\n",
              "        \"color\": {\n",
              "            \"inherit\": true\n",
              "        },\n",
              "        \"smooth\": {\n",
              "            \"enabled\": false,\n",
              "            \"type\": \"continuous\"\n",
              "        }\n",
              "    },\n",
              "    \"interaction\": {\n",
              "        \"dragNodes\": true,\n",
              "        \"hideEdgesOnDrag\": false,\n",
              "        \"hideNodesOnDrag\": false\n",
              "    },\n",
              "    \"physics\": {\n",
              "        \"enabled\": true,\n",
              "        \"stabilization\": {\n",
              "            \"enabled\": true,\n",
              "            \"fit\": true,\n",
              "            \"iterations\": 1000,\n",
              "            \"onlyDynamicEdges\": false,\n",
              "            \"updateInterval\": 50\n",
              "        }\n",
              "    }\n",
              "};\n",
              "        \n",
              "        \n",
              "\n",
              "        \n",
              "\n",
              "        network = new vis.Network(container, data, options);\n",
              "\t \n",
              "        \n",
              "\n",
              "\n",
              "        \n",
              "        network.on(\"stabilizationProgress\", function(params) {\n",
              "      \t\tdocument.getElementById('loadingBar').removeAttribute(\"style\");\n",
              "\t        var maxWidth = 496;\n",
              "\t        var minWidth = 20;\n",
              "\t        var widthFactor = params.iterations/params.total;\n",
              "\t        var width = Math.max(minWidth,maxWidth * widthFactor);\n",
              "\n",
              "\t        document.getElementById('bar').style.width = width + 'px';\n",
              "\t        document.getElementById('text').innerHTML = Math.round(widthFactor*100) + '%';\n",
              "\t    });\n",
              "\t    network.once(\"stabilizationIterationsDone\", function() {\n",
              "\t        document.getElementById('text').innerHTML = '100%';\n",
              "\t        document.getElementById('bar').style.width = '496px';\n",
              "\t        document.getElementById('loadingBar').style.opacity = 0;\n",
              "\t        // really clean the dom element\n",
              "\t        setTimeout(function () {document.getElementById('loadingBar').style.display = 'none';}, 500);\n",
              "\t    });\n",
              "        \n",
              "\n",
              "        return network;\n",
              "\n",
              "    }\n",
              "\n",
              "    drawGraph();\n",
              "\n",
              "</script>\n",
              "</body>\n",
              "</html>"
            ]
          },
          "metadata": {}
        }
      ],
      "source": [
        "def __sample__visualization__():\n",
        "  if __is_ipython_kernel__:\n",
        "    visualize_cooccurrence(sample_filtered_cooc[:200])\n",
        "    display(HTML(\"thaiconet_result.html\"))\n",
        "\n",
        "__sample__visualization__()"
      ]
    }
  ],
  "metadata": {
    "colab": {
      "provenance": []
    },
    "kernelspec": {
      "display_name": "Python 3",
      "name": "python3"
    },
    "language_info": {
      "name": "python"
    },
    "widgets": {
      "application/vnd.jupyter.widget-state+json": {
        "ac8c661e381d4b1db375fd7ae787d33e": {
          "model_module": "@jupyter-widgets/controls",
          "model_name": "HBoxModel",
          "model_module_version": "1.5.0",
          "state": {
            "_dom_classes": [],
            "_model_module": "@jupyter-widgets/controls",
            "_model_module_version": "1.5.0",
            "_model_name": "HBoxModel",
            "_view_count": null,
            "_view_module": "@jupyter-widgets/controls",
            "_view_module_version": "1.5.0",
            "_view_name": "HBoxView",
            "box_style": "",
            "children": [
              "IPY_MODEL_743c08a9b7fb45528bc5a660a53e3e5c",
              "IPY_MODEL_c2a39fb680d74ec3954b8d3c57167daa",
              "IPY_MODEL_697fca9a2eb8499ca5b41e61312dd6df"
            ],
            "layout": "IPY_MODEL_c307015d4c0945629eb4a7bea1c8cc62"
          }
        },
        "743c08a9b7fb45528bc5a660a53e3e5c": {
          "model_module": "@jupyter-widgets/controls",
          "model_name": "HTMLModel",
          "model_module_version": "1.5.0",
          "state": {
            "_dom_classes": [],
            "_model_module": "@jupyter-widgets/controls",
            "_model_module_version": "1.5.0",
            "_model_name": "HTMLModel",
            "_view_count": null,
            "_view_module": "@jupyter-widgets/controls",
            "_view_module_version": "1.5.0",
            "_view_name": "HTMLView",
            "description": "",
            "description_tooltip": null,
            "layout": "IPY_MODEL_0fd3ccfbf7db42c599fa47ef05e8fd5c",
            "placeholder": "​",
            "style": "IPY_MODEL_1e28d85558c5485bafb42967a214126c",
            "value": "100%"
          }
        },
        "c2a39fb680d74ec3954b8d3c57167daa": {
          "model_module": "@jupyter-widgets/controls",
          "model_name": "FloatProgressModel",
          "model_module_version": "1.5.0",
          "state": {
            "_dom_classes": [],
            "_model_module": "@jupyter-widgets/controls",
            "_model_module_version": "1.5.0",
            "_model_name": "FloatProgressModel",
            "_view_count": null,
            "_view_module": "@jupyter-widgets/controls",
            "_view_module_version": "1.5.0",
            "_view_name": "ProgressView",
            "bar_style": "success",
            "description": "",
            "description_tooltip": null,
            "layout": "IPY_MODEL_dccf792104dc45df924e88af7e2e3e0d",
            "max": 8981,
            "min": 0,
            "orientation": "horizontal",
            "style": "IPY_MODEL_e937347e76504fefa1dcd127efda124a",
            "value": 8981
          }
        },
        "697fca9a2eb8499ca5b41e61312dd6df": {
          "model_module": "@jupyter-widgets/controls",
          "model_name": "HTMLModel",
          "model_module_version": "1.5.0",
          "state": {
            "_dom_classes": [],
            "_model_module": "@jupyter-widgets/controls",
            "_model_module_version": "1.5.0",
            "_model_name": "HTMLModel",
            "_view_count": null,
            "_view_module": "@jupyter-widgets/controls",
            "_view_module_version": "1.5.0",
            "_view_name": "HTMLView",
            "description": "",
            "description_tooltip": null,
            "layout": "IPY_MODEL_066fbd12536d454c946d9223296047fc",
            "placeholder": "​",
            "style": "IPY_MODEL_a5af741a2cf94104bdabeb137e294f9b",
            "value": " 8981/8981 [04:21&lt;00:00, 39.39it/s]"
          }
        },
        "c307015d4c0945629eb4a7bea1c8cc62": {
          "model_module": "@jupyter-widgets/base",
          "model_name": "LayoutModel",
          "model_module_version": "1.2.0",
          "state": {
            "_model_module": "@jupyter-widgets/base",
            "_model_module_version": "1.2.0",
            "_model_name": "LayoutModel",
            "_view_count": null,
            "_view_module": "@jupyter-widgets/base",
            "_view_module_version": "1.2.0",
            "_view_name": "LayoutView",
            "align_content": null,
            "align_items": null,
            "align_self": null,
            "border": null,
            "bottom": null,
            "display": null,
            "flex": null,
            "flex_flow": null,
            "grid_area": null,
            "grid_auto_columns": null,
            "grid_auto_flow": null,
            "grid_auto_rows": null,
            "grid_column": null,
            "grid_gap": null,
            "grid_row": null,
            "grid_template_areas": null,
            "grid_template_columns": null,
            "grid_template_rows": null,
            "height": null,
            "justify_content": null,
            "justify_items": null,
            "left": null,
            "margin": null,
            "max_height": null,
            "max_width": null,
            "min_height": null,
            "min_width": null,
            "object_fit": null,
            "object_position": null,
            "order": null,
            "overflow": null,
            "overflow_x": null,
            "overflow_y": null,
            "padding": null,
            "right": null,
            "top": null,
            "visibility": null,
            "width": null
          }
        },
        "0fd3ccfbf7db42c599fa47ef05e8fd5c": {
          "model_module": "@jupyter-widgets/base",
          "model_name": "LayoutModel",
          "model_module_version": "1.2.0",
          "state": {
            "_model_module": "@jupyter-widgets/base",
            "_model_module_version": "1.2.0",
            "_model_name": "LayoutModel",
            "_view_count": null,
            "_view_module": "@jupyter-widgets/base",
            "_view_module_version": "1.2.0",
            "_view_name": "LayoutView",
            "align_content": null,
            "align_items": null,
            "align_self": null,
            "border": null,
            "bottom": null,
            "display": null,
            "flex": null,
            "flex_flow": null,
            "grid_area": null,
            "grid_auto_columns": null,
            "grid_auto_flow": null,
            "grid_auto_rows": null,
            "grid_column": null,
            "grid_gap": null,
            "grid_row": null,
            "grid_template_areas": null,
            "grid_template_columns": null,
            "grid_template_rows": null,
            "height": null,
            "justify_content": null,
            "justify_items": null,
            "left": null,
            "margin": null,
            "max_height": null,
            "max_width": null,
            "min_height": null,
            "min_width": null,
            "object_fit": null,
            "object_position": null,
            "order": null,
            "overflow": null,
            "overflow_x": null,
            "overflow_y": null,
            "padding": null,
            "right": null,
            "top": null,
            "visibility": null,
            "width": null
          }
        },
        "1e28d85558c5485bafb42967a214126c": {
          "model_module": "@jupyter-widgets/controls",
          "model_name": "DescriptionStyleModel",
          "model_module_version": "1.5.0",
          "state": {
            "_model_module": "@jupyter-widgets/controls",
            "_model_module_version": "1.5.0",
            "_model_name": "DescriptionStyleModel",
            "_view_count": null,
            "_view_module": "@jupyter-widgets/base",
            "_view_module_version": "1.2.0",
            "_view_name": "StyleView",
            "description_width": ""
          }
        },
        "dccf792104dc45df924e88af7e2e3e0d": {
          "model_module": "@jupyter-widgets/base",
          "model_name": "LayoutModel",
          "model_module_version": "1.2.0",
          "state": {
            "_model_module": "@jupyter-widgets/base",
            "_model_module_version": "1.2.0",
            "_model_name": "LayoutModel",
            "_view_count": null,
            "_view_module": "@jupyter-widgets/base",
            "_view_module_version": "1.2.0",
            "_view_name": "LayoutView",
            "align_content": null,
            "align_items": null,
            "align_self": null,
            "border": null,
            "bottom": null,
            "display": null,
            "flex": null,
            "flex_flow": null,
            "grid_area": null,
            "grid_auto_columns": null,
            "grid_auto_flow": null,
            "grid_auto_rows": null,
            "grid_column": null,
            "grid_gap": null,
            "grid_row": null,
            "grid_template_areas": null,
            "grid_template_columns": null,
            "grid_template_rows": null,
            "height": null,
            "justify_content": null,
            "justify_items": null,
            "left": null,
            "margin": null,
            "max_height": null,
            "max_width": null,
            "min_height": null,
            "min_width": null,
            "object_fit": null,
            "object_position": null,
            "order": null,
            "overflow": null,
            "overflow_x": null,
            "overflow_y": null,
            "padding": null,
            "right": null,
            "top": null,
            "visibility": null,
            "width": null
          }
        },
        "e937347e76504fefa1dcd127efda124a": {
          "model_module": "@jupyter-widgets/controls",
          "model_name": "ProgressStyleModel",
          "model_module_version": "1.5.0",
          "state": {
            "_model_module": "@jupyter-widgets/controls",
            "_model_module_version": "1.5.0",
            "_model_name": "ProgressStyleModel",
            "_view_count": null,
            "_view_module": "@jupyter-widgets/base",
            "_view_module_version": "1.2.0",
            "_view_name": "StyleView",
            "bar_color": null,
            "description_width": ""
          }
        },
        "066fbd12536d454c946d9223296047fc": {
          "model_module": "@jupyter-widgets/base",
          "model_name": "LayoutModel",
          "model_module_version": "1.2.0",
          "state": {
            "_model_module": "@jupyter-widgets/base",
            "_model_module_version": "1.2.0",
            "_model_name": "LayoutModel",
            "_view_count": null,
            "_view_module": "@jupyter-widgets/base",
            "_view_module_version": "1.2.0",
            "_view_name": "LayoutView",
            "align_content": null,
            "align_items": null,
            "align_self": null,
            "border": null,
            "bottom": null,
            "display": null,
            "flex": null,
            "flex_flow": null,
            "grid_area": null,
            "grid_auto_columns": null,
            "grid_auto_flow": null,
            "grid_auto_rows": null,
            "grid_column": null,
            "grid_gap": null,
            "grid_row": null,
            "grid_template_areas": null,
            "grid_template_columns": null,
            "grid_template_rows": null,
            "height": null,
            "justify_content": null,
            "justify_items": null,
            "left": null,
            "margin": null,
            "max_height": null,
            "max_width": null,
            "min_height": null,
            "min_width": null,
            "object_fit": null,
            "object_position": null,
            "order": null,
            "overflow": null,
            "overflow_x": null,
            "overflow_y": null,
            "padding": null,
            "right": null,
            "top": null,
            "visibility": null,
            "width": null
          }
        },
        "a5af741a2cf94104bdabeb137e294f9b": {
          "model_module": "@jupyter-widgets/controls",
          "model_name": "DescriptionStyleModel",
          "model_module_version": "1.5.0",
          "state": {
            "_model_module": "@jupyter-widgets/controls",
            "_model_module_version": "1.5.0",
            "_model_name": "DescriptionStyleModel",
            "_view_count": null,
            "_view_module": "@jupyter-widgets/base",
            "_view_module_version": "1.2.0",
            "_view_name": "StyleView",
            "description_width": ""
          }
        }
      }
    }
  },
  "nbformat": 4,
  "nbformat_minor": 0
}